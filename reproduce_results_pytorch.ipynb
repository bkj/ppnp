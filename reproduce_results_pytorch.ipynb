{
 "cells": [
  {
   "cell_type": "code",
   "execution_count": 2,
   "metadata": {},
   "outputs": [],
   "source": [
    "import logging\n",
    "import argparse\n",
    "import os\n",
    "import numpy as np\n",
    "\n",
    "from ppnp.pytorch import PPNP\n",
    "from ppnp.pytorch.training import train_model\n",
    "from ppnp.pytorch.earlystopping import stopping_args\n",
    "from ppnp.pytorch.propagation import PPRExact, PPRPowerIteration\n",
    "from ppnp.data.io import load_dataset"
   ]
  },
  {
   "cell_type": "code",
   "execution_count": 3,
   "metadata": {},
   "outputs": [],
   "source": [
    "logging.basicConfig(\n",
    "        format='%(asctime)s: %(message)s',\n",
    "        datefmt='%Y-%m-%d %H:%M:%S',\n",
    "        level=logging.INFO + 2)"
   ]
  },
  {
   "cell_type": "markdown",
   "metadata": {},
   "source": [
    "# Load dataset"
   ]
  },
  {
   "cell_type": "code",
   "execution_count": 4,
   "metadata": {},
   "outputs": [
    {
     "data": {
      "text/plain": [
       "<Undirected, unweighted and connected SparseGraph with 15962 edges (no self-loops). Data: adj_matrix (2810x2810), attr_matrix (2810x2879), labels (2810), node_names (2810), attr_names (2879), class_names (7)>"
      ]
     },
     "execution_count": 4,
     "metadata": {},
     "output_type": "execute_result"
    }
   ],
   "source": [
    "graph_name = 'cora_ml'\n",
    "graph = load_dataset(graph_name)\n",
    "graph.standardize(select_lcc=True)"
   ]
  },
  {
   "cell_type": "markdown",
   "metadata": {},
   "source": [
    "# Set up data splits"
   ]
  },
  {
   "cell_type": "markdown",
   "metadata": {},
   "source": [
    "First of all we need to decide whether to use the test or validation set. Be mindful that we can only look at the test set exactly _once_ and then can't change any hyperparameters oder model details, no matter what. Everything else would cause overfitting."
   ]
  },
  {
   "cell_type": "code",
   "execution_count": 5,
   "metadata": {},
   "outputs": [],
   "source": [
    "test = True"
   ]
  },
  {
   "cell_type": "markdown",
   "metadata": {},
   "source": [
    "These are the seeds for the dataset splits used in the paper for test/validation."
   ]
  },
  {
   "cell_type": "code",
   "execution_count": 6,
   "metadata": {},
   "outputs": [],
   "source": [
    "test_seeds = [\n",
    "        2144199730,  794209841, 2985733717, 2282690970, 1901557222,\n",
    "        2009332812, 2266730407,  635625077, 3538425002,  960893189,\n",
    "        497096336, 3940842554, 3594628340,  948012117, 3305901371,\n",
    "        3644534211, 2297033685, 4092258879, 2590091101, 1694925034]\n",
    "val_seeds = [\n",
    "        2413340114, 3258769933, 1789234713, 2222151463, 2813247115,\n",
    "        1920426428, 4272044734, 2092442742, 841404887, 2188879532,\n",
    "        646784207, 1633698412, 2256863076,  374355442,  289680769,\n",
    "        4281139389, 4263036964,  900418539,  119332950, 1628837138]\n",
    "\n",
    "if test:\n",
    "    seeds = test_seeds\n",
    "else:\n",
    "    seeds = val_seeds"
   ]
  },
  {
   "cell_type": "markdown",
   "metadata": {},
   "source": [
    "Now we can choose the remaining settings for the training/early stopping/validation(test) split. These are the ones chosen in the paper"
   ]
  },
  {
   "cell_type": "code",
   "execution_count": 7,
   "metadata": {},
   "outputs": [],
   "source": [
    "if graph_name == 'microsoft_academic':\n",
    "    nknown = 5000\n",
    "else:\n",
    "    nknown = 1500\n",
    "    \n",
    "idx_split_args = {'ntrain_per_class': 20, 'nstopping': 500, 'nknown': nknown}"
   ]
  },
  {
   "cell_type": "markdown",
   "metadata": {},
   "source": [
    "# Set up propagation\n",
    "\n",
    "Next we need to set up the proper pmropagation scheme. In the paper we've introduced the exact PPR propagation used in PPNP and the PPR power iteration propagation used in APPNP.\n",
    "\n",
    "We use the hyperparameters from the paper."
   ]
  },
  {
   "cell_type": "code",
   "execution_count": 8,
   "metadata": {},
   "outputs": [],
   "source": [
    "if graph_name == 'microsoft_academic':\n",
    "    alpha = 0.2\n",
    "else:\n",
    "    alpha = 0.1\n",
    "\n",
    "prop_ppnp = PPRExact(graph.adj_matrix, alpha=alpha)\n",
    "prop_appnp = PPRPowerIteration(graph.adj_matrix, alpha=alpha, niter=10)"
   ]
  },
  {
   "cell_type": "markdown",
   "metadata": {},
   "source": [
    "# Choose model hyperparameters\n",
    "\n",
    "Now we choose the hyperparameters. These are the ones used in the paper for all datasets.\n",
    "\n",
    "Note that we choose the propagation for APPNP."
   ]
  },
  {
   "cell_type": "code",
   "execution_count": 9,
   "metadata": {},
   "outputs": [],
   "source": [
    "reg_lambda    = 5e-3\n",
    "learning_rate = 0.01\n",
    "\n",
    "tf_model_args = {\n",
    "    'hiddenunits': [64],\n",
    "    'reg_lambda': reg_lambda,\n",
    "    'learning_rate': learning_rate,\n",
    "    'keep_prob': 0.5,\n",
    "    'propagation': prop_appnp}\n",
    "\n",
    "pytorch_model_args = {\n",
    "    'hiddenunits': [64],\n",
    "    'drop_prob': 0.5,\n",
    "    'propagation': prop_appnp\n",
    "}\n",
    "\n"
   ]
  },
  {
   "cell_type": "markdown",
   "metadata": {},
   "source": [
    "# Train model\n",
    "\n",
    "First we set the remaining settings for training."
   ]
  },
  {
   "cell_type": "code",
   "execution_count": 10,
   "metadata": {},
   "outputs": [],
   "source": [
    "niter_per_seed = 5\n",
    "save_result = False\n",
    "print_interval = 100"
   ]
  },
  {
   "cell_type": "markdown",
   "metadata": {},
   "source": [
    "We use 20 different seeds for splitting and 5 iterations (different random initializations) per split, so we train 100 times altogether. This will take a while."
   ]
  },
  {
   "cell_type": "code",
   "execution_count": 20,
   "metadata": {},
   "outputs": [
    {
     "name": "stderr",
     "output_type": "stream",
     "text": [
      "2019-11-13 15:10:49: Iteration 1 of 100\n",
      "                     ------------------\n"
     ]
    },
    {
     "name": "stdout",
     "output_type": "stream",
     "text": [
      "{'epoch': 0, 'train_loss': 1.9992010593414307, 'train_acc': 0.14285714285714285, 'stop_loss': 1.958577036857605, 'stop_acc': 0.462}\n",
      "{'epoch': 100, 'train_loss': 1.6320810317993164, 'train_acc': 0.7285714285714285, 'stop_loss': 1.8021395206451416, 'stop_acc': 0.634}\n",
      "{'epoch': 200, 'train_loss': 1.2943041324615479, 'train_acc': 0.9214285714285714, 'stop_loss': 1.5530493259429932, 'stop_acc': 0.772}\n",
      "{'epoch': 300, 'train_loss': 1.079572319984436, 'train_acc': 0.9714285714285714, 'stop_loss': 1.3974164724349976, 'stop_acc': 0.79}\n",
      "{'epoch': 400, 'train_loss': 0.9509291648864746, 'train_acc': 0.9642857142857143, 'stop_loss': 1.2893569469451904, 'stop_acc': 0.794}\n",
      "{'epoch': 500, 'train_loss': 0.8628926277160645, 'train_acc': 0.9857142857142858, 'stop_loss': 1.229329228401184, 'stop_acc': 0.794}\n",
      "{'epoch': 600, 'train_loss': 0.7725332975387573, 'train_acc': 0.9785714285714285, 'stop_loss': 1.1681612730026245, 'stop_acc': 0.798}\n",
      "{'epoch': 700, 'train_loss': 0.6923733353614807, 'train_acc': 0.9928571428571429, 'stop_loss': 1.1274793148040771, 'stop_acc': 0.802}\n",
      "{'epoch': 800, 'train_loss': 0.6780211925506592, 'train_acc': 0.9928571428571429, 'stop_loss': 1.0789363384246826, 'stop_acc': 0.802}\n",
      "{'epoch': 900, 'train_loss': 0.6295711994171143, 'train_acc': 0.9857142857142858, 'stop_loss': 1.046868920326233, 'stop_acc': 0.804}\n",
      "{'epoch': 1000, 'train_loss': 0.5908129215240479, 'train_acc': 0.9857142857142858, 'stop_loss': 1.0257714986801147, 'stop_acc': 0.792}\n",
      "{'epoch': 1100, 'train_loss': 0.5699880719184875, 'train_acc': 0.9857142857142858, 'stop_loss': 1.0680017471313477, 'stop_acc': 0.776}\n",
      "{'epoch': 1200, 'train_loss': 0.5389014482498169, 'train_acc': 1.0, 'stop_loss': 0.9851654171943665, 'stop_acc': 0.806}\n",
      "{'epoch': 1300, 'train_loss': 0.5186856389045715, 'train_acc': 0.9857142857142858, 'stop_loss': 0.9556052684783936, 'stop_acc': 0.806}\n",
      "{'epoch': 1400, 'train_loss': 0.4823923110961914, 'train_acc': 1.0, 'stop_loss': 0.958306074142456, 'stop_acc': 0.798}\n",
      "{'epoch': 1500, 'train_loss': 0.4773728847503662, 'train_acc': 1.0, 'stop_loss': 0.9840577840805054, 'stop_acc': 0.786}\n"
     ]
    },
    {
     "name": "stderr",
     "output_type": "stream",
     "text": [
      "2019-11-13 15:11:21: Iteration 2 of 100\n",
      "                     ------------------\n"
     ]
    },
    {
     "name": "stdout",
     "output_type": "stream",
     "text": [
      "{'epoch': 1600, 'train_loss': 0.4465727210044861, 'train_acc': 0.9928571428571429, 'stop_loss': 0.9352177381515503, 'stop_acc': 0.8}\n",
      "{'epoch': 0, 'train_loss': 1.9993115663528442, 'train_acc': 0.14285714285714285, 'stop_loss': 1.9587469100952148, 'stop_acc': 0.424}\n",
      "{'epoch': 100, 'train_loss': 1.6304686069488525, 'train_acc': 0.8142857142857143, 'stop_loss': 1.8586913347244263, 'stop_acc': 0.584}\n",
      "{'epoch': 200, 'train_loss': 1.2777702808380127, 'train_acc': 0.8785714285714286, 'stop_loss': 1.5925848484039307, 'stop_acc': 0.724}\n",
      "{'epoch': 300, 'train_loss': 1.0680866241455078, 'train_acc': 0.9571428571428572, 'stop_loss': 1.4300408363342285, 'stop_acc': 0.774}\n",
      "{'epoch': 400, 'train_loss': 0.9369469881057739, 'train_acc': 0.9785714285714285, 'stop_loss': 1.3177504539489746, 'stop_acc': 0.79}\n",
      "{'epoch': 500, 'train_loss': 0.8177980780601501, 'train_acc': 0.9928571428571429, 'stop_loss': 1.2337255477905273, 'stop_acc': 0.788}\n",
      "{'epoch': 600, 'train_loss': 0.7827154397964478, 'train_acc': 0.9928571428571429, 'stop_loss': 1.16984224319458, 'stop_acc': 0.796}\n",
      "{'epoch': 700, 'train_loss': 0.7376362085342407, 'train_acc': 0.9785714285714285, 'stop_loss': 1.1169300079345703, 'stop_acc': 0.804}\n",
      "{'epoch': 800, 'train_loss': 0.650293231010437, 'train_acc': 1.0, 'stop_loss': 1.0831420421600342, 'stop_acc': 0.804}\n",
      "{'epoch': 900, 'train_loss': 0.6214442253112793, 'train_acc': 0.9928571428571429, 'stop_loss': 1.0569695234298706, 'stop_acc': 0.796}\n",
      "{'epoch': 1000, 'train_loss': 0.570781946182251, 'train_acc': 1.0, 'stop_loss': 1.0317271947860718, 'stop_acc': 0.8}\n",
      "{'epoch': 1100, 'train_loss': 0.5589358806610107, 'train_acc': 1.0, 'stop_loss': 1.026219129562378, 'stop_acc': 0.804}\n",
      "{'epoch': 1200, 'train_loss': 0.5327774286270142, 'train_acc': 1.0, 'stop_loss': 0.9962719678878784, 'stop_acc': 0.804}\n",
      "{'epoch': 1300, 'train_loss': 0.5065647959709167, 'train_acc': 0.9928571428571429, 'stop_loss': 1.0101902484893799, 'stop_acc': 0.794}\n",
      "{'epoch': 1400, 'train_loss': 0.4937455654144287, 'train_acc': 0.9857142857142858, 'stop_loss': 0.9521228671073914, 'stop_acc': 0.808}\n",
      "{'epoch': 1500, 'train_loss': 0.47120869159698486, 'train_acc': 1.0, 'stop_loss': 0.9212648868560791, 'stop_acc': 0.796}\n",
      "{'epoch': 1600, 'train_loss': 0.4345082938671112, 'train_acc': 1.0, 'stop_loss': 0.8933278918266296, 'stop_acc': 0.816}\n"
     ]
    },
    {
     "name": "stderr",
     "output_type": "stream",
     "text": [
      "2019-11-13 15:11:52: Iteration 3 of 100\n",
      "                     ------------------\n"
     ]
    },
    {
     "name": "stdout",
     "output_type": "stream",
     "text": [
      "{'epoch': 0, 'train_loss': 1.9993504285812378, 'train_acc': 0.17857142857142858, 'stop_loss': 1.9585596323013306, 'stop_acc': 0.546}\n",
      "{'epoch': 100, 'train_loss': 1.6357204914093018, 'train_acc': 0.7928571428571428, 'stop_loss': 1.8214393854141235, 'stop_acc': 0.592}\n",
      "{'epoch': 200, 'train_loss': 1.271273136138916, 'train_acc': 0.9357142857142857, 'stop_loss': 1.556151270866394, 'stop_acc': 0.764}\n",
      "{'epoch': 300, 'train_loss': 1.0643879175186157, 'train_acc': 0.9571428571428572, 'stop_loss': 1.3991663455963135, 'stop_acc': 0.782}\n",
      "{'epoch': 400, 'train_loss': 0.9458786249160767, 'train_acc': 0.9785714285714285, 'stop_loss': 1.3026632070541382, 'stop_acc': 0.798}\n",
      "{'epoch': 500, 'train_loss': 0.8197939395904541, 'train_acc': 0.9928571428571429, 'stop_loss': 1.212275505065918, 'stop_acc': 0.796}\n",
      "{'epoch': 600, 'train_loss': 0.779737114906311, 'train_acc': 0.9928571428571429, 'stop_loss': 1.17548406124115, 'stop_acc': 0.79}\n",
      "{'epoch': 700, 'train_loss': 0.7281312942504883, 'train_acc': 0.9928571428571429, 'stop_loss': 1.1201038360595703, 'stop_acc': 0.792}\n",
      "{'epoch': 800, 'train_loss': 0.6681886911392212, 'train_acc': 0.9928571428571429, 'stop_loss': 1.1026313304901123, 'stop_acc': 0.8}\n",
      "{'epoch': 900, 'train_loss': 0.6340866088867188, 'train_acc': 0.9928571428571429, 'stop_loss': 1.0600857734680176, 'stop_acc': 0.788}\n",
      "{'epoch': 1000, 'train_loss': 0.5966388583183289, 'train_acc': 1.0, 'stop_loss': 1.0196654796600342, 'stop_acc': 0.796}\n",
      "{'epoch': 1100, 'train_loss': 0.5648704767227173, 'train_acc': 0.9928571428571429, 'stop_loss': 1.0384262800216675, 'stop_acc': 0.796}\n",
      "{'epoch': 1200, 'train_loss': 0.5187315344810486, 'train_acc': 1.0, 'stop_loss': 0.9989656209945679, 'stop_acc': 0.79}\n",
      "{'epoch': 1300, 'train_loss': 0.4936700463294983, 'train_acc': 0.9928571428571429, 'stop_loss': 0.9789153337478638, 'stop_acc': 0.792}\n",
      "{'epoch': 1400, 'train_loss': 0.49914461374282837, 'train_acc': 0.9928571428571429, 'stop_loss': 0.9448537826538086, 'stop_acc': 0.81}\n",
      "{'epoch': 1500, 'train_loss': 0.470022976398468, 'train_acc': 1.0, 'stop_loss': 0.9330188035964966, 'stop_acc': 0.802}\n",
      "{'epoch': 1600, 'train_loss': 0.4373326897621155, 'train_acc': 1.0, 'stop_loss': 0.9100981950759888, 'stop_acc': 0.79}\n",
      "{'epoch': 1700, 'train_loss': 0.4202171564102173, 'train_acc': 0.9928571428571429, 'stop_loss': 0.9050074815750122, 'stop_acc': 0.794}\n"
     ]
    },
    {
     "name": "stderr",
     "output_type": "stream",
     "text": [
      "2019-11-13 15:12:25: Iteration 4 of 100\n",
      "                     ------------------\n"
     ]
    },
    {
     "name": "stdout",
     "output_type": "stream",
     "text": [
      "{'epoch': 0, 'train_loss': 1.9993083477020264, 'train_acc': 0.14285714285714285, 'stop_loss': 1.9586570262908936, 'stop_acc': 0.354}\n",
      "{'epoch': 100, 'train_loss': 1.6563951969146729, 'train_acc': 0.7571428571428571, 'stop_loss': 1.8493854999542236, 'stop_acc': 0.578}\n",
      "{'epoch': 200, 'train_loss': 1.2822011709213257, 'train_acc': 0.9428571428571428, 'stop_loss': 1.5888383388519287, 'stop_acc': 0.748}\n",
      "{'epoch': 300, 'train_loss': 1.0739487409591675, 'train_acc': 0.9642857142857143, 'stop_loss': 1.4222159385681152, 'stop_acc': 0.778}\n",
      "{'epoch': 400, 'train_loss': 0.956104040145874, 'train_acc': 0.9642857142857143, 'stop_loss': 1.3066269159317017, 'stop_acc': 0.79}\n",
      "{'epoch': 500, 'train_loss': 0.858323335647583, 'train_acc': 0.9928571428571429, 'stop_loss': 1.2445166110992432, 'stop_acc': 0.79}\n",
      "{'epoch': 600, 'train_loss': 0.7763614654541016, 'train_acc': 0.9857142857142858, 'stop_loss': 1.166857361793518, 'stop_acc': 0.794}\n",
      "{'epoch': 700, 'train_loss': 0.7205216884613037, 'train_acc': 0.9857142857142858, 'stop_loss': 1.1346993446350098, 'stop_acc': 0.788}\n",
      "{'epoch': 800, 'train_loss': 0.6593780517578125, 'train_acc': 1.0, 'stop_loss': 1.0848033428192139, 'stop_acc': 0.814}\n",
      "{'epoch': 900, 'train_loss': 0.6338903903961182, 'train_acc': 0.9857142857142858, 'stop_loss': 1.0623637437820435, 'stop_acc': 0.802}\n",
      "{'epoch': 1000, 'train_loss': 0.5876295566558838, 'train_acc': 1.0, 'stop_loss': 1.030172348022461, 'stop_acc': 0.796}\n",
      "{'epoch': 1100, 'train_loss': 0.5638489127159119, 'train_acc': 1.0, 'stop_loss': 0.9976462125778198, 'stop_acc': 0.804}\n",
      "{'epoch': 1200, 'train_loss': 0.5412705540657043, 'train_acc': 0.9928571428571429, 'stop_loss': 0.9766545295715332, 'stop_acc': 0.816}\n",
      "{'epoch': 1300, 'train_loss': 0.5035529136657715, 'train_acc': 0.9928571428571429, 'stop_loss': 0.9591898322105408, 'stop_acc': 0.816}\n",
      "{'epoch': 1400, 'train_loss': 0.4886903762817383, 'train_acc': 0.9857142857142858, 'stop_loss': 0.9272909164428711, 'stop_acc': 0.81}\n",
      "{'epoch': 1500, 'train_loss': 0.4772968888282776, 'train_acc': 1.0, 'stop_loss': 0.9226163029670715, 'stop_acc': 0.83}\n",
      "{'epoch': 1600, 'train_loss': 0.47146740555763245, 'train_acc': 0.9928571428571429, 'stop_loss': 0.9424535036087036, 'stop_acc': 0.8}\n"
     ]
    },
    {
     "name": "stderr",
     "output_type": "stream",
     "text": [
      "2019-11-13 15:12:56: Iteration 5 of 100\n",
      "                     ------------------\n"
     ]
    },
    {
     "name": "stdout",
     "output_type": "stream",
     "text": [
      "{'epoch': 0, 'train_loss': 1.9991323947906494, 'train_acc': 0.22142857142857142, 'stop_loss': 1.9587548971176147, 'stop_acc': 0.428}\n",
      "{'epoch': 100, 'train_loss': 1.6496995687484741, 'train_acc': 0.7785714285714286, 'stop_loss': 1.8355072736740112, 'stop_acc': 0.62}\n",
      "{'epoch': 200, 'train_loss': 1.27802312374115, 'train_acc': 0.95, 'stop_loss': 1.5677355527877808, 'stop_acc': 0.762}\n",
      "{'epoch': 300, 'train_loss': 1.0669167041778564, 'train_acc': 0.9571428571428572, 'stop_loss': 1.4002944231033325, 'stop_acc': 0.78}\n",
      "{'epoch': 400, 'train_loss': 0.916838526725769, 'train_acc': 0.9642857142857143, 'stop_loss': 1.2780386209487915, 'stop_acc': 0.8}\n",
      "{'epoch': 500, 'train_loss': 0.8321477174758911, 'train_acc': 0.9928571428571429, 'stop_loss': 1.2290047407150269, 'stop_acc': 0.788}\n",
      "{'epoch': 600, 'train_loss': 0.7530959844589233, 'train_acc': 0.9928571428571429, 'stop_loss': 1.1833770275115967, 'stop_acc': 0.792}\n",
      "{'epoch': 700, 'train_loss': 0.7115325331687927, 'train_acc': 0.9928571428571429, 'stop_loss': 1.1278258562088013, 'stop_acc': 0.796}\n",
      "{'epoch': 800, 'train_loss': 0.6606799364089966, 'train_acc': 0.9928571428571429, 'stop_loss': 1.0670605897903442, 'stop_acc': 0.804}\n",
      "{'epoch': 900, 'train_loss': 0.6005328297615051, 'train_acc': 1.0, 'stop_loss': 1.053432822227478, 'stop_acc': 0.792}\n",
      "{'epoch': 1000, 'train_loss': 0.6025111675262451, 'train_acc': 1.0, 'stop_loss': 1.0094627141952515, 'stop_acc': 0.804}\n",
      "{'epoch': 1100, 'train_loss': 0.5703722238540649, 'train_acc': 0.9928571428571429, 'stop_loss': 0.9852509498596191, 'stop_acc': 0.818}\n",
      "{'epoch': 1200, 'train_loss': 0.5276554822921753, 'train_acc': 1.0, 'stop_loss': 1.0611886978149414, 'stop_acc': 0.778}\n",
      "{'epoch': 1300, 'train_loss': 0.5140318274497986, 'train_acc': 0.9928571428571429, 'stop_loss': 1.0086205005645752, 'stop_acc': 0.79}\n",
      "{'epoch': 1400, 'train_loss': 0.46958112716674805, 'train_acc': 1.0, 'stop_loss': 0.9601468443870544, 'stop_acc': 0.806}\n",
      "{'epoch': 1500, 'train_loss': 0.47820794582366943, 'train_acc': 0.9928571428571429, 'stop_loss': 0.9358672499656677, 'stop_acc': 0.8}\n",
      "{'epoch': 1600, 'train_loss': 0.45854711532592773, 'train_acc': 1.0, 'stop_loss': 0.9015823602676392, 'stop_acc': 0.818}\n"
     ]
    },
    {
     "name": "stderr",
     "output_type": "stream",
     "text": [
      "2019-11-13 15:13:31: Iteration 6 of 100\n",
      "                     ------------------\n"
     ]
    },
    {
     "name": "stdout",
     "output_type": "stream",
     "text": [
      "{'epoch': 0, 'train_loss': 1.9991300106048584, 'train_acc': 0.1357142857142857, 'stop_loss': 1.958627700805664, 'stop_acc': 0.552}\n",
      "{'epoch': 100, 'train_loss': 1.6797280311584473, 'train_acc': 0.8428571428571429, 'stop_loss': 1.8063753843307495, 'stop_acc': 0.74}\n",
      "{'epoch': 200, 'train_loss': 1.325469970703125, 'train_acc': 0.9357142857142857, 'stop_loss': 1.529311180114746, 'stop_acc': 0.8}\n",
      "{'epoch': 300, 'train_loss': 1.1381138563156128, 'train_acc': 0.9642857142857143, 'stop_loss': 1.3728783130645752, 'stop_acc': 0.804}\n",
      "{'epoch': 400, 'train_loss': 1.0013117790222168, 'train_acc': 0.9714285714285714, 'stop_loss': 1.2512052059173584, 'stop_acc': 0.818}\n",
      "{'epoch': 500, 'train_loss': 0.896966278553009, 'train_acc': 0.95, 'stop_loss': 1.1709892749786377, 'stop_acc': 0.808}\n",
      "{'epoch': 600, 'train_loss': 0.7885252237319946, 'train_acc': 0.9928571428571429, 'stop_loss': 1.1296885013580322, 'stop_acc': 0.818}\n",
      "{'epoch': 700, 'train_loss': 0.7620348334312439, 'train_acc': 0.9571428571428572, 'stop_loss': 1.0949339866638184, 'stop_acc': 0.82}\n",
      "{'epoch': 800, 'train_loss': 0.7178201675415039, 'train_acc': 0.9714285714285714, 'stop_loss': 1.0474939346313477, 'stop_acc': 0.818}\n",
      "{'epoch': 900, 'train_loss': 0.6612696647644043, 'train_acc': 0.9857142857142858, 'stop_loss': 1.002495527267456, 'stop_acc': 0.82}\n",
      "{'epoch': 1000, 'train_loss': 0.6207321882247925, 'train_acc': 0.9928571428571429, 'stop_loss': 0.97635817527771, 'stop_acc': 0.822}\n",
      "{'epoch': 1100, 'train_loss': 0.6152607798576355, 'train_acc': 0.9785714285714285, 'stop_loss': 0.9648958444595337, 'stop_acc': 0.82}\n",
      "{'epoch': 1200, 'train_loss': 0.555783748626709, 'train_acc': 0.9928571428571429, 'stop_loss': 0.9579314589500427, 'stop_acc': 0.816}\n",
      "{'epoch': 1300, 'train_loss': 0.5577747821807861, 'train_acc': 0.9642857142857143, 'stop_loss': 0.9487969875335693, 'stop_acc': 0.802}\n",
      "{'epoch': 1400, 'train_loss': 0.5280439257621765, 'train_acc': 0.9928571428571429, 'stop_loss': 0.9474075436592102, 'stop_acc': 0.798}\n",
      "{'epoch': 1500, 'train_loss': 0.5165996551513672, 'train_acc': 0.9928571428571429, 'stop_loss': 0.9209812879562378, 'stop_acc': 0.8}\n",
      "{'epoch': 1600, 'train_loss': 0.5164207816123962, 'train_acc': 0.9928571428571429, 'stop_loss': 0.9316242933273315, 'stop_acc': 0.802}\n"
     ]
    },
    {
     "name": "stderr",
     "output_type": "stream",
     "text": [
      "2019-11-13 15:14:06: Iteration 7 of 100\n",
      "                     ------------------\n"
     ]
    },
    {
     "name": "stdout",
     "output_type": "stream",
     "text": [
      "{'epoch': 0, 'train_loss': 1.9992762804031372, 'train_acc': 0.15714285714285714, 'stop_loss': 1.958648681640625, 'stop_acc': 0.4}\n",
      "{'epoch': 100, 'train_loss': 1.6691738367080688, 'train_acc': 0.9071428571428571, 'stop_loss': 1.8045389652252197, 'stop_acc': 0.766}\n",
      "{'epoch': 200, 'train_loss': 1.3143079280853271, 'train_acc': 0.95, 'stop_loss': 1.5338249206542969, 'stop_acc': 0.798}\n",
      "{'epoch': 300, 'train_loss': 1.1491361856460571, 'train_acc': 0.9428571428571428, 'stop_loss': 1.3684464693069458, 'stop_acc': 0.81}\n",
      "{'epoch': 400, 'train_loss': 0.9692515134811401, 'train_acc': 0.95, 'stop_loss': 1.2712419033050537, 'stop_acc': 0.802}\n",
      "{'epoch': 500, 'train_loss': 0.8912800550460815, 'train_acc': 0.9428571428571428, 'stop_loss': 1.177327275276184, 'stop_acc': 0.812}\n",
      "{'epoch': 600, 'train_loss': 0.823126494884491, 'train_acc': 0.9857142857142858, 'stop_loss': 1.1494958400726318, 'stop_acc': 0.802}\n",
      "{'epoch': 700, 'train_loss': 0.762234628200531, 'train_acc': 0.9857142857142858, 'stop_loss': 1.0947377681732178, 'stop_acc': 0.806}\n",
      "{'epoch': 800, 'train_loss': 0.7143616080284119, 'train_acc': 0.9714285714285714, 'stop_loss': 1.0617567300796509, 'stop_acc': 0.806}\n",
      "{'epoch': 900, 'train_loss': 0.653599739074707, 'train_acc': 0.9785714285714285, 'stop_loss': 1.012998342514038, 'stop_acc': 0.81}\n",
      "{'epoch': 1000, 'train_loss': 0.6402720212936401, 'train_acc': 0.9857142857142858, 'stop_loss': 0.9999492168426514, 'stop_acc': 0.804}\n",
      "{'epoch': 1100, 'train_loss': 0.5765360593795776, 'train_acc': 0.9928571428571429, 'stop_loss': 0.9871748685836792, 'stop_acc': 0.804}\n",
      "{'epoch': 1200, 'train_loss': 0.5636265873908997, 'train_acc': 0.9785714285714285, 'stop_loss': 0.9890722036361694, 'stop_acc': 0.794}\n",
      "{'epoch': 1300, 'train_loss': 0.5549380779266357, 'train_acc': 0.9714285714285714, 'stop_loss': 0.9641544222831726, 'stop_acc': 0.8}\n"
     ]
    },
    {
     "name": "stderr",
     "output_type": "stream",
     "text": [
      "2019-11-13 15:14:31: Iteration 8 of 100\n",
      "                     ------------------\n"
     ]
    },
    {
     "name": "stdout",
     "output_type": "stream",
     "text": [
      "{'epoch': 0, 'train_loss': 1.999316692352295, 'train_acc': 0.16428571428571428, 'stop_loss': 1.9585829973220825, 'stop_acc': 0.498}\n",
      "{'epoch': 100, 'train_loss': 1.6740484237670898, 'train_acc': 0.85, 'stop_loss': 1.8046624660491943, 'stop_acc': 0.718}\n",
      "{'epoch': 200, 'train_loss': 1.323071002960205, 'train_acc': 0.9357142857142857, 'stop_loss': 1.530276894569397, 'stop_acc': 0.806}\n",
      "{'epoch': 300, 'train_loss': 1.159519076347351, 'train_acc': 0.9428571428571428, 'stop_loss': 1.3672698736190796, 'stop_acc': 0.808}\n",
      "{'epoch': 400, 'train_loss': 0.9795997142791748, 'train_acc': 0.9714285714285714, 'stop_loss': 1.269239068031311, 'stop_acc': 0.798}\n",
      "{'epoch': 500, 'train_loss': 0.913366436958313, 'train_acc': 0.9642857142857143, 'stop_loss': 1.1894960403442383, 'stop_acc': 0.82}\n",
      "{'epoch': 600, 'train_loss': 0.8331220746040344, 'train_acc': 0.9642857142857143, 'stop_loss': 1.1281147003173828, 'stop_acc': 0.81}\n",
      "{'epoch': 700, 'train_loss': 0.7636327743530273, 'train_acc': 0.9857142857142858, 'stop_loss': 1.106404185295105, 'stop_acc': 0.8}\n",
      "{'epoch': 800, 'train_loss': 0.723391592502594, 'train_acc': 0.9785714285714285, 'stop_loss': 1.0630182027816772, 'stop_acc': 0.8}\n",
      "{'epoch': 900, 'train_loss': 0.6702398061752319, 'train_acc': 0.9714285714285714, 'stop_loss': 1.0244786739349365, 'stop_acc': 0.81}\n",
      "{'epoch': 1000, 'train_loss': 0.6240031719207764, 'train_acc': 0.9785714285714285, 'stop_loss': 1.016350269317627, 'stop_acc': 0.804}\n",
      "{'epoch': 1100, 'train_loss': 0.6191977858543396, 'train_acc': 0.9928571428571429, 'stop_loss': 1.0047239065170288, 'stop_acc': 0.792}\n",
      "{'epoch': 1200, 'train_loss': 0.5894984006881714, 'train_acc': 0.9857142857142858, 'stop_loss': 0.9479389190673828, 'stop_acc': 0.81}\n"
     ]
    },
    {
     "name": "stderr",
     "output_type": "stream",
     "text": [
      "2019-11-13 15:14:54: Iteration 9 of 100\n",
      "                     ------------------\n"
     ]
    },
    {
     "name": "stdout",
     "output_type": "stream",
     "text": [
      "{'epoch': 0, 'train_loss': 1.9993623495101929, 'train_acc': 0.12857142857142856, 'stop_loss': 1.9586081504821777, 'stop_acc': 0.51}\n",
      "{'epoch': 100, 'train_loss': 1.6638152599334717, 'train_acc': 0.8642857142857143, 'stop_loss': 1.8110814094543457, 'stop_acc': 0.768}\n",
      "{'epoch': 200, 'train_loss': 1.3236626386642456, 'train_acc': 0.95, 'stop_loss': 1.529678463935852, 'stop_acc': 0.804}\n",
      "{'epoch': 300, 'train_loss': 1.105283260345459, 'train_acc': 0.9642857142857143, 'stop_loss': 1.3619111776351929, 'stop_acc': 0.808}\n",
      "{'epoch': 400, 'train_loss': 0.9950926899909973, 'train_acc': 0.9571428571428572, 'stop_loss': 1.2522494792938232, 'stop_acc': 0.81}\n",
      "{'epoch': 500, 'train_loss': 0.8693814277648926, 'train_acc': 0.9571428571428572, 'stop_loss': 1.189874529838562, 'stop_acc': 0.814}\n",
      "{'epoch': 600, 'train_loss': 0.7892132997512817, 'train_acc': 0.9857142857142858, 'stop_loss': 1.1230010986328125, 'stop_acc': 0.822}\n",
      "{'epoch': 700, 'train_loss': 0.738930344581604, 'train_acc': 0.9714285714285714, 'stop_loss': 1.0867503881454468, 'stop_acc': 0.804}\n",
      "{'epoch': 800, 'train_loss': 0.6990819573402405, 'train_acc': 0.9714285714285714, 'stop_loss': 1.0524916648864746, 'stop_acc': 0.802}\n",
      "{'epoch': 900, 'train_loss': 0.6890701055526733, 'train_acc': 0.9785714285714285, 'stop_loss': 1.0435104370117188, 'stop_acc': 0.806}\n",
      "{'epoch': 1000, 'train_loss': 0.635859489440918, 'train_acc': 0.9857142857142858, 'stop_loss': 0.9929657578468323, 'stop_acc': 0.804}\n",
      "{'epoch': 1100, 'train_loss': 0.5985747575759888, 'train_acc': 0.9928571428571429, 'stop_loss': 1.0138776302337646, 'stop_acc': 0.792}\n",
      "{'epoch': 1200, 'train_loss': 0.5698769092559814, 'train_acc': 0.9928571428571429, 'stop_loss': 0.9684450626373291, 'stop_acc': 0.806}\n",
      "{'epoch': 1300, 'train_loss': 0.5462112426757812, 'train_acc': 0.9928571428571429, 'stop_loss': 0.9401578903198242, 'stop_acc': 0.808}\n",
      "{'epoch': 1400, 'train_loss': 0.5270640850067139, 'train_acc': 0.9928571428571429, 'stop_loss': 0.9334017038345337, 'stop_acc': 0.806}\n"
     ]
    },
    {
     "name": "stderr",
     "output_type": "stream",
     "text": [
      "2019-11-13 15:15:22: Iteration 10 of 100\n",
      "                     -------------------\n"
     ]
    },
    {
     "name": "stdout",
     "output_type": "stream",
     "text": [
      "{'epoch': 0, 'train_loss': 1.9991605281829834, 'train_acc': 0.1357142857142857, 'stop_loss': 1.9585843086242676, 'stop_acc': 0.688}\n",
      "{'epoch': 100, 'train_loss': 1.6612088680267334, 'train_acc': 0.8928571428571429, 'stop_loss': 1.7805392742156982, 'stop_acc': 0.798}\n",
      "{'epoch': 200, 'train_loss': 1.3274102210998535, 'train_acc': 0.9285714285714286, 'stop_loss': 1.506451964378357, 'stop_acc': 0.816}\n",
      "{'epoch': 300, 'train_loss': 1.1211103200912476, 'train_acc': 0.95, 'stop_loss': 1.3454415798187256, 'stop_acc': 0.82}\n",
      "{'epoch': 400, 'train_loss': 0.9764329195022583, 'train_acc': 0.9571428571428572, 'stop_loss': 1.2398097515106201, 'stop_acc': 0.822}\n",
      "{'epoch': 500, 'train_loss': 0.8814208507537842, 'train_acc': 0.9785714285714285, 'stop_loss': 1.1747212409973145, 'stop_acc': 0.814}\n",
      "{'epoch': 600, 'train_loss': 0.8235509395599365, 'train_acc': 0.9857142857142858, 'stop_loss': 1.119229793548584, 'stop_acc': 0.816}\n",
      "{'epoch': 700, 'train_loss': 0.7732183933258057, 'train_acc': 0.9714285714285714, 'stop_loss': 1.0736682415008545, 'stop_acc': 0.814}\n",
      "{'epoch': 800, 'train_loss': 0.6900123357772827, 'train_acc': 0.9714285714285714, 'stop_loss': 1.0555616617202759, 'stop_acc': 0.808}\n",
      "{'epoch': 900, 'train_loss': 0.6651344895362854, 'train_acc': 0.9785714285714285, 'stop_loss': 1.0148409605026245, 'stop_acc': 0.812}\n",
      "{'epoch': 1000, 'train_loss': 0.6365158557891846, 'train_acc': 0.9857142857142858, 'stop_loss': 1.0206751823425293, 'stop_acc': 0.796}\n",
      "{'epoch': 1100, 'train_loss': 0.6171414852142334, 'train_acc': 0.9785714285714285, 'stop_loss': 0.9695729613304138, 'stop_acc': 0.806}\n",
      "{'epoch': 1200, 'train_loss': 0.5894479751586914, 'train_acc': 0.9785714285714285, 'stop_loss': 0.9625163078308105, 'stop_acc': 0.81}\n",
      "{'epoch': 1300, 'train_loss': 0.5629774332046509, 'train_acc': 0.9714285714285714, 'stop_loss': 0.9505153894424438, 'stop_acc': 0.8}\n"
     ]
    },
    {
     "name": "stderr",
     "output_type": "stream",
     "text": [
      "2019-11-13 15:15:48: Iteration 11 of 100\n",
      "                     -------------------\n"
     ]
    },
    {
     "name": "stdout",
     "output_type": "stream",
     "text": [
      "{'epoch': 0, 'train_loss': 1.9993367195129395, 'train_acc': 0.14285714285714285, 'stop_loss': 1.9586694240570068, 'stop_acc': 0.306}\n",
      "{'epoch': 100, 'train_loss': 1.6480827331542969, 'train_acc': 0.8428571428571429, 'stop_loss': 1.7979419231414795, 'stop_acc': 0.718}\n",
      "{'epoch': 200, 'train_loss': 1.2701492309570312, 'train_acc': 0.95, 'stop_loss': 1.5228980779647827, 'stop_acc': 0.77}\n",
      "{'epoch': 300, 'train_loss': 1.0759122371673584, 'train_acc': 0.9571428571428572, 'stop_loss': 1.369780421257019, 'stop_acc': 0.78}\n",
      "{'epoch': 400, 'train_loss': 0.9306766986846924, 'train_acc': 0.9857142857142858, 'stop_loss': 1.2535476684570312, 'stop_acc': 0.794}\n",
      "{'epoch': 500, 'train_loss': 0.8415924310684204, 'train_acc': 0.9571428571428572, 'stop_loss': 1.1822587251663208, 'stop_acc': 0.798}\n",
      "{'epoch': 600, 'train_loss': 0.7749109268188477, 'train_acc': 0.9857142857142858, 'stop_loss': 1.1109310388565063, 'stop_acc': 0.802}\n",
      "{'epoch': 700, 'train_loss': 0.6753604412078857, 'train_acc': 0.9785714285714285, 'stop_loss': 1.0719115734100342, 'stop_acc': 0.796}\n",
      "{'epoch': 800, 'train_loss': 0.6606349349021912, 'train_acc': 0.9928571428571429, 'stop_loss': 1.0359551906585693, 'stop_acc': 0.814}\n",
      "{'epoch': 900, 'train_loss': 0.6253894567489624, 'train_acc': 0.9928571428571429, 'stop_loss': 1.0115022659301758, 'stop_acc': 0.81}\n",
      "{'epoch': 1000, 'train_loss': 0.6101472973823547, 'train_acc': 0.9714285714285714, 'stop_loss': 0.9782513380050659, 'stop_acc': 0.812}\n",
      "{'epoch': 1100, 'train_loss': 0.5649271011352539, 'train_acc': 0.9928571428571429, 'stop_loss': 0.9414510130882263, 'stop_acc': 0.824}\n",
      "{'epoch': 1200, 'train_loss': 0.5407544374465942, 'train_acc': 1.0, 'stop_loss': 0.934099555015564, 'stop_acc': 0.824}\n",
      "{'epoch': 1300, 'train_loss': 0.5056917667388916, 'train_acc': 1.0, 'stop_loss': 0.9048300981521606, 'stop_acc': 0.804}\n",
      "{'epoch': 1400, 'train_loss': 0.48369699716567993, 'train_acc': 0.9928571428571429, 'stop_loss': 0.9125430583953857, 'stop_acc': 0.814}\n",
      "{'epoch': 1500, 'train_loss': 0.45600056648254395, 'train_acc': 1.0, 'stop_loss': 0.8935110569000244, 'stop_acc': 0.82}\n",
      "{'epoch': 1600, 'train_loss': 0.46852773427963257, 'train_acc': 1.0, 'stop_loss': 0.8641922473907471, 'stop_acc': 0.818}\n",
      "{'epoch': 1700, 'train_loss': 0.432620108127594, 'train_acc': 0.9857142857142858, 'stop_loss': 0.8683984279632568, 'stop_acc': 0.798}\n",
      "{'epoch': 1800, 'train_loss': 0.41473421454429626, 'train_acc': 0.9928571428571429, 'stop_loss': 0.8594486713409424, 'stop_acc': 0.81}\n",
      "{'epoch': 1900, 'train_loss': 0.41990742087364197, 'train_acc': 0.9928571428571429, 'stop_loss': 0.8420655727386475, 'stop_acc': 0.816}\n",
      "{'epoch': 2000, 'train_loss': 0.3973662257194519, 'train_acc': 1.0, 'stop_loss': 0.819940447807312, 'stop_acc': 0.838}\n",
      "{'epoch': 2100, 'train_loss': 0.3846493065357208, 'train_acc': 1.0, 'stop_loss': 0.8166103363037109, 'stop_acc': 0.826}\n"
     ]
    },
    {
     "name": "stderr",
     "output_type": "stream",
     "text": [
      "2019-11-13 15:16:29: Iteration 12 of 100\n",
      "                     -------------------\n"
     ]
    },
    {
     "name": "stdout",
     "output_type": "stream",
     "text": [
      "{'epoch': 0, 'train_loss': 1.9992519617080688, 'train_acc': 0.15, 'stop_loss': 1.958582878112793, 'stop_acc': 0.572}\n",
      "{'epoch': 100, 'train_loss': 1.6523857116699219, 'train_acc': 0.85, 'stop_loss': 1.7861921787261963, 'stop_acc': 0.74}\n",
      "{'epoch': 200, 'train_loss': 1.2615723609924316, 'train_acc': 0.9428571428571428, 'stop_loss': 1.514570951461792, 'stop_acc': 0.784}\n",
      "{'epoch': 300, 'train_loss': 1.0645554065704346, 'train_acc': 0.9571428571428572, 'stop_loss': 1.3483874797821045, 'stop_acc': 0.792}\n",
      "{'epoch': 400, 'train_loss': 0.9322390556335449, 'train_acc': 0.9571428571428572, 'stop_loss': 1.250659465789795, 'stop_acc': 0.788}\n",
      "{'epoch': 500, 'train_loss': 0.8209414482116699, 'train_acc': 1.0, 'stop_loss': 1.1826366186141968, 'stop_acc': 0.794}\n",
      "{'epoch': 600, 'train_loss': 0.7418700456619263, 'train_acc': 1.0, 'stop_loss': 1.1186320781707764, 'stop_acc': 0.82}\n",
      "{'epoch': 700, 'train_loss': 0.6645849943161011, 'train_acc': 1.0, 'stop_loss': 1.0721120834350586, 'stop_acc': 0.794}\n",
      "{'epoch': 800, 'train_loss': 0.6552333831787109, 'train_acc': 0.9857142857142858, 'stop_loss': 1.0398175716400146, 'stop_acc': 0.824}\n",
      "{'epoch': 900, 'train_loss': 0.612443208694458, 'train_acc': 0.9857142857142858, 'stop_loss': 1.0184401273727417, 'stop_acc': 0.82}\n",
      "{'epoch': 1000, 'train_loss': 0.5771523714065552, 'train_acc': 0.9928571428571429, 'stop_loss': 0.9795343279838562, 'stop_acc': 0.806}\n",
      "{'epoch': 1100, 'train_loss': 0.5493289232254028, 'train_acc': 1.0, 'stop_loss': 0.9610071182250977, 'stop_acc': 0.808}\n",
      "{'epoch': 1200, 'train_loss': 0.5469659566879272, 'train_acc': 1.0, 'stop_loss': 0.9276384115219116, 'stop_acc': 0.828}\n",
      "{'epoch': 1300, 'train_loss': 0.5019162893295288, 'train_acc': 0.9857142857142858, 'stop_loss': 0.9391204118728638, 'stop_acc': 0.804}\n",
      "{'epoch': 1400, 'train_loss': 0.49648886919021606, 'train_acc': 0.9928571428571429, 'stop_loss': 0.9020296335220337, 'stop_acc': 0.812}\n",
      "{'epoch': 1500, 'train_loss': 0.4557807147502899, 'train_acc': 0.9928571428571429, 'stop_loss': 0.8884366750717163, 'stop_acc': 0.81}\n",
      "{'epoch': 1600, 'train_loss': 0.44291675090789795, 'train_acc': 1.0, 'stop_loss': 0.8724462985992432, 'stop_acc': 0.828}\n",
      "{'epoch': 1700, 'train_loss': 0.43843430280685425, 'train_acc': 0.9857142857142858, 'stop_loss': 0.8931551575660706, 'stop_acc': 0.808}\n",
      "{'epoch': 1800, 'train_loss': 0.44096359610557556, 'train_acc': 0.9928571428571429, 'stop_loss': 0.8634953498840332, 'stop_acc': 0.804}\n",
      "{'epoch': 1900, 'train_loss': 0.4006795287132263, 'train_acc': 1.0, 'stop_loss': 0.8475445508956909, 'stop_acc': 0.82}\n",
      "{'epoch': 2000, 'train_loss': 0.4051986336708069, 'train_acc': 1.0, 'stop_loss': 0.8481674790382385, 'stop_acc': 0.818}\n"
     ]
    },
    {
     "name": "stderr",
     "output_type": "stream",
     "text": [
      "2019-11-13 15:17:07: Iteration 13 of 100\n",
      "                     -------------------\n"
     ]
    },
    {
     "name": "stdout",
     "output_type": "stream",
     "text": [
      "{'epoch': 0, 'train_loss': 1.999273419380188, 'train_acc': 0.07857142857142857, 'stop_loss': 1.958604097366333, 'stop_acc': 0.524}\n",
      "{'epoch': 100, 'train_loss': 1.6486886739730835, 'train_acc': 0.8571428571428571, 'stop_loss': 1.7647106647491455, 'stop_acc': 0.736}\n",
      "{'epoch': 200, 'train_loss': 1.2775466442108154, 'train_acc': 0.9214285714285714, 'stop_loss': 1.5008175373077393, 'stop_acc': 0.78}\n",
      "{'epoch': 300, 'train_loss': 1.066380262374878, 'train_acc': 0.9428571428571428, 'stop_loss': 1.3509202003479004, 'stop_acc': 0.78}\n",
      "{'epoch': 400, 'train_loss': 0.9490495324134827, 'train_acc': 0.9642857142857143, 'stop_loss': 1.2477686405181885, 'stop_acc': 0.79}\n",
      "{'epoch': 500, 'train_loss': 0.8374992609024048, 'train_acc': 0.9785714285714285, 'stop_loss': 1.171762466430664, 'stop_acc': 0.792}\n",
      "{'epoch': 600, 'train_loss': 0.7629534006118774, 'train_acc': 0.9714285714285714, 'stop_loss': 1.138985514640808, 'stop_acc': 0.8}\n",
      "{'epoch': 700, 'train_loss': 0.6857521533966064, 'train_acc': 0.9928571428571429, 'stop_loss': 1.0776946544647217, 'stop_acc': 0.806}\n",
      "{'epoch': 800, 'train_loss': 0.6552606821060181, 'train_acc': 0.9928571428571429, 'stop_loss': 1.0334690809249878, 'stop_acc': 0.794}\n",
      "{'epoch': 900, 'train_loss': 0.6353444457054138, 'train_acc': 0.9928571428571429, 'stop_loss': 1.0130510330200195, 'stop_acc': 0.806}\n",
      "{'epoch': 1000, 'train_loss': 0.5851716995239258, 'train_acc': 1.0, 'stop_loss': 0.9795622229576111, 'stop_acc': 0.818}\n",
      "{'epoch': 1100, 'train_loss': 0.5576368570327759, 'train_acc': 0.9857142857142858, 'stop_loss': 0.9444595575332642, 'stop_acc': 0.82}\n",
      "{'epoch': 1200, 'train_loss': 0.5502549409866333, 'train_acc': 0.9928571428571429, 'stop_loss': 0.936813473701477, 'stop_acc': 0.814}\n",
      "{'epoch': 1300, 'train_loss': 0.4764688313007355, 'train_acc': 1.0, 'stop_loss': 0.9400432109832764, 'stop_acc': 0.812}\n",
      "{'epoch': 1400, 'train_loss': 0.4873731732368469, 'train_acc': 1.0, 'stop_loss': 0.9368202686309814, 'stop_acc': 0.806}\n",
      "{'epoch': 1500, 'train_loss': 0.47485846281051636, 'train_acc': 0.9928571428571429, 'stop_loss': 0.8875759840011597, 'stop_acc': 0.802}\n",
      "{'epoch': 1600, 'train_loss': 0.4519350528717041, 'train_acc': 1.0, 'stop_loss': 0.8967524766921997, 'stop_acc': 0.794}\n",
      "{'epoch': 1700, 'train_loss': 0.44788962602615356, 'train_acc': 0.9857142857142858, 'stop_loss': 0.8593152761459351, 'stop_acc': 0.81}\n"
     ]
    },
    {
     "name": "stderr",
     "output_type": "stream",
     "text": [
      "2019-11-13 15:17:40: Iteration 14 of 100\n",
      "                     -------------------\n"
     ]
    },
    {
     "name": "stdout",
     "output_type": "stream",
     "text": [
      "{'epoch': 0, 'train_loss': 1.9991508722305298, 'train_acc': 0.15, 'stop_loss': 1.958513617515564, 'stop_acc': 0.416}\n",
      "{'epoch': 100, 'train_loss': 1.6570758819580078, 'train_acc': 0.8214285714285714, 'stop_loss': 1.7687132358551025, 'stop_acc': 0.746}\n",
      "{'epoch': 200, 'train_loss': 1.3175621032714844, 'train_acc': 0.9214285714285714, 'stop_loss': 1.5087389945983887, 'stop_acc': 0.788}\n",
      "{'epoch': 300, 'train_loss': 1.055699348449707, 'train_acc': 0.9357142857142857, 'stop_loss': 1.3485521078109741, 'stop_acc': 0.79}\n",
      "{'epoch': 400, 'train_loss': 0.9321563839912415, 'train_acc': 0.9785714285714285, 'stop_loss': 1.2319014072418213, 'stop_acc': 0.786}\n",
      "{'epoch': 500, 'train_loss': 0.8401635885238647, 'train_acc': 0.9714285714285714, 'stop_loss': 1.1748528480529785, 'stop_acc': 0.804}\n",
      "{'epoch': 600, 'train_loss': 0.7484798431396484, 'train_acc': 0.9857142857142858, 'stop_loss': 1.1085811853408813, 'stop_acc': 0.806}\n",
      "{'epoch': 700, 'train_loss': 0.692852258682251, 'train_acc': 0.9928571428571429, 'stop_loss': 1.0863018035888672, 'stop_acc': 0.808}\n",
      "{'epoch': 800, 'train_loss': 0.6423734426498413, 'train_acc': 0.9928571428571429, 'stop_loss': 1.0142674446105957, 'stop_acc': 0.812}\n",
      "{'epoch': 900, 'train_loss': 0.595129132270813, 'train_acc': 1.0, 'stop_loss': 0.9851258397102356, 'stop_acc': 0.814}\n",
      "{'epoch': 1000, 'train_loss': 0.5714648962020874, 'train_acc': 1.0, 'stop_loss': 0.965114951133728, 'stop_acc': 0.814}\n",
      "{'epoch': 1100, 'train_loss': 0.5537694692611694, 'train_acc': 1.0, 'stop_loss': 0.9486178755760193, 'stop_acc': 0.812}\n",
      "{'epoch': 1200, 'train_loss': 0.545743465423584, 'train_acc': 0.9857142857142858, 'stop_loss': 0.937288224697113, 'stop_acc': 0.812}\n",
      "{'epoch': 1300, 'train_loss': 0.4807073473930359, 'train_acc': 0.9928571428571429, 'stop_loss': 0.9148781299591064, 'stop_acc': 0.818}\n",
      "{'epoch': 1400, 'train_loss': 0.48035871982574463, 'train_acc': 1.0, 'stop_loss': 0.923245370388031, 'stop_acc': 0.798}\n",
      "{'epoch': 1500, 'train_loss': 0.45382899045944214, 'train_acc': 1.0, 'stop_loss': 0.8744772672653198, 'stop_acc': 0.818}\n",
      "{'epoch': 1600, 'train_loss': 0.4591946005821228, 'train_acc': 0.9857142857142858, 'stop_loss': 0.876061201095581, 'stop_acc': 0.81}\n",
      "{'epoch': 1700, 'train_loss': 0.43881934881210327, 'train_acc': 1.0, 'stop_loss': 0.8570063710212708, 'stop_acc': 0.822}\n"
     ]
    },
    {
     "name": "stderr",
     "output_type": "stream",
     "text": [
      "2019-11-13 15:18:13: Iteration 15 of 100\n",
      "                     -------------------\n"
     ]
    },
    {
     "name": "stdout",
     "output_type": "stream",
     "text": [
      "{'epoch': 0, 'train_loss': 1.999394178390503, 'train_acc': 0.15714285714285714, 'stop_loss': 1.9586821794509888, 'stop_acc': 0.324}\n",
      "{'epoch': 100, 'train_loss': 1.6569151878356934, 'train_acc': 0.8357142857142857, 'stop_loss': 1.7918484210968018, 'stop_acc': 0.732}\n",
      "{'epoch': 200, 'train_loss': 1.292818307876587, 'train_acc': 0.9571428571428572, 'stop_loss': 1.52191162109375, 'stop_acc': 0.778}\n",
      "{'epoch': 300, 'train_loss': 1.07223641872406, 'train_acc': 0.9571428571428572, 'stop_loss': 1.3605051040649414, 'stop_acc': 0.784}\n",
      "{'epoch': 400, 'train_loss': 0.9432076215744019, 'train_acc': 0.9714285714285714, 'stop_loss': 1.2648935317993164, 'stop_acc': 0.774}\n",
      "{'epoch': 500, 'train_loss': 0.8315389156341553, 'train_acc': 0.9857142857142858, 'stop_loss': 1.1808969974517822, 'stop_acc': 0.792}\n",
      "{'epoch': 600, 'train_loss': 0.7928768396377563, 'train_acc': 0.9785714285714285, 'stop_loss': 1.1269354820251465, 'stop_acc': 0.798}\n",
      "{'epoch': 700, 'train_loss': 0.7186018228530884, 'train_acc': 1.0, 'stop_loss': 1.095179557800293, 'stop_acc': 0.798}\n",
      "{'epoch': 800, 'train_loss': 0.6622940897941589, 'train_acc': 0.9928571428571429, 'stop_loss': 1.0309576988220215, 'stop_acc': 0.792}\n",
      "{'epoch': 900, 'train_loss': 0.6325623393058777, 'train_acc': 0.9785714285714285, 'stop_loss': 0.9956527948379517, 'stop_acc': 0.816}\n",
      "{'epoch': 1000, 'train_loss': 0.587384045124054, 'train_acc': 0.9928571428571429, 'stop_loss': 0.9952671527862549, 'stop_acc': 0.816}\n",
      "{'epoch': 1100, 'train_loss': 0.5501886010169983, 'train_acc': 1.0, 'stop_loss': 0.9669332504272461, 'stop_acc': 0.812}\n",
      "{'epoch': 1200, 'train_loss': 0.5251367092132568, 'train_acc': 0.9928571428571429, 'stop_loss': 0.9589889049530029, 'stop_acc': 0.824}\n",
      "{'epoch': 1300, 'train_loss': 0.5095995664596558, 'train_acc': 0.9857142857142858, 'stop_loss': 0.9203379154205322, 'stop_acc': 0.822}\n",
      "{'epoch': 1400, 'train_loss': 0.4968456029891968, 'train_acc': 1.0, 'stop_loss': 0.9067838191986084, 'stop_acc': 0.804}\n",
      "{'epoch': 1500, 'train_loss': 0.457942396402359, 'train_acc': 0.9928571428571429, 'stop_loss': 0.8769025802612305, 'stop_acc': 0.814}\n",
      "{'epoch': 1600, 'train_loss': 0.4508601427078247, 'train_acc': 0.9928571428571429, 'stop_loss': 0.8703193664550781, 'stop_acc': 0.822}\n",
      "{'epoch': 1700, 'train_loss': 0.45780396461486816, 'train_acc': 1.0, 'stop_loss': 0.877799391746521, 'stop_acc': 0.81}\n",
      "{'epoch': 1800, 'train_loss': 0.4327908456325531, 'train_acc': 1.0, 'stop_loss': 0.8448477387428284, 'stop_acc': 0.818}\n",
      "{'epoch': 1900, 'train_loss': 0.3810838460922241, 'train_acc': 1.0, 'stop_loss': 0.8391806483268738, 'stop_acc': 0.826}\n",
      "{'epoch': 2000, 'train_loss': 0.41622763872146606, 'train_acc': 0.9928571428571429, 'stop_loss': 0.8376349210739136, 'stop_acc': 0.81}\n",
      "{'epoch': 2100, 'train_loss': 0.38460513949394226, 'train_acc': 1.0, 'stop_loss': 0.8400065302848816, 'stop_acc': 0.818}\n",
      "{'epoch': 2200, 'train_loss': 0.3779861330986023, 'train_acc': 1.0, 'stop_loss': 0.8339038491249084, 'stop_acc': 0.814}\n",
      "{'epoch': 2300, 'train_loss': 0.3623867630958557, 'train_acc': 1.0, 'stop_loss': 0.8104802966117859, 'stop_acc': 0.816}\n",
      "{'epoch': 2400, 'train_loss': 0.37090426683425903, 'train_acc': 1.0, 'stop_loss': 0.8297070264816284, 'stop_acc': 0.828}\n"
     ]
    },
    {
     "name": "stderr",
     "output_type": "stream",
     "text": [
      "2019-11-13 15:18:59: Iteration 16 of 100\n",
      "                     -------------------\n"
     ]
    },
    {
     "name": "stdout",
     "output_type": "stream",
     "text": [
      "{'epoch': 0, 'train_loss': 1.999260425567627, 'train_acc': 0.16428571428571428, 'stop_loss': 1.9587291479110718, 'stop_acc': 0.292}\n",
      "{'epoch': 100, 'train_loss': 1.6772100925445557, 'train_acc': 0.8428571428571429, 'stop_loss': 1.8495190143585205, 'stop_acc': 0.678}\n",
      "{'epoch': 200, 'train_loss': 1.2902569770812988, 'train_acc': 0.9428571428571428, 'stop_loss': 1.5726585388183594, 'stop_acc': 0.79}\n",
      "{'epoch': 300, 'train_loss': 1.0559735298156738, 'train_acc': 0.9714285714285714, 'stop_loss': 1.3886232376098633, 'stop_acc': 0.804}\n",
      "{'epoch': 400, 'train_loss': 0.9347811937332153, 'train_acc': 0.9785714285714285, 'stop_loss': 1.2735074758529663, 'stop_acc': 0.808}\n",
      "{'epoch': 500, 'train_loss': 0.8513643741607666, 'train_acc': 0.9642857142857143, 'stop_loss': 1.1826984882354736, 'stop_acc': 0.818}\n",
      "{'epoch': 600, 'train_loss': 0.781024694442749, 'train_acc': 0.9785714285714285, 'stop_loss': 1.1251769065856934, 'stop_acc': 0.83}\n",
      "{'epoch': 700, 'train_loss': 0.6966402530670166, 'train_acc': 0.9928571428571429, 'stop_loss': 1.0794039964675903, 'stop_acc': 0.824}\n",
      "{'epoch': 800, 'train_loss': 0.6744629144668579, 'train_acc': 0.9857142857142858, 'stop_loss': 1.037471055984497, 'stop_acc': 0.834}\n",
      "{'epoch': 900, 'train_loss': 0.6444708108901978, 'train_acc': 0.9785714285714285, 'stop_loss': 1.0073554515838623, 'stop_acc': 0.83}\n",
      "{'epoch': 1000, 'train_loss': 0.587938666343689, 'train_acc': 0.9857142857142858, 'stop_loss': 0.9684003591537476, 'stop_acc': 0.836}\n",
      "{'epoch': 1100, 'train_loss': 0.5724427700042725, 'train_acc': 0.9928571428571429, 'stop_loss': 0.9565788507461548, 'stop_acc': 0.838}\n",
      "{'epoch': 1200, 'train_loss': 0.5196040272712708, 'train_acc': 0.9928571428571429, 'stop_loss': 0.9284960627555847, 'stop_acc': 0.832}\n",
      "{'epoch': 1300, 'train_loss': 0.5014380216598511, 'train_acc': 0.9857142857142858, 'stop_loss': 0.9251283407211304, 'stop_acc': 0.818}\n",
      "{'epoch': 1400, 'train_loss': 0.5149474740028381, 'train_acc': 0.9857142857142858, 'stop_loss': 0.8839433193206787, 'stop_acc': 0.848}\n",
      "{'epoch': 1500, 'train_loss': 0.47915446758270264, 'train_acc': 0.9928571428571429, 'stop_loss': 0.8813883066177368, 'stop_acc': 0.838}\n",
      "{'epoch': 1600, 'train_loss': 0.47061794996261597, 'train_acc': 0.9928571428571429, 'stop_loss': 0.8782775402069092, 'stop_acc': 0.814}\n",
      "{'epoch': 1700, 'train_loss': 0.4622005224227905, 'train_acc': 0.9928571428571429, 'stop_loss': 0.8754653930664062, 'stop_acc': 0.83}\n",
      "{'epoch': 1800, 'train_loss': 0.42530494928359985, 'train_acc': 1.0, 'stop_loss': 0.8407894372940063, 'stop_acc': 0.808}\n",
      "{'epoch': 1900, 'train_loss': 0.4173915386199951, 'train_acc': 0.9928571428571429, 'stop_loss': 0.8700383901596069, 'stop_acc': 0.824}\n",
      "{'epoch': 2000, 'train_loss': 0.39736393094062805, 'train_acc': 0.9928571428571429, 'stop_loss': 0.8303257822990417, 'stop_acc': 0.824}\n"
     ]
    },
    {
     "name": "stderr",
     "output_type": "stream",
     "text": [
      "2019-11-13 15:19:39: Iteration 17 of 100\n",
      "                     -------------------\n"
     ]
    },
    {
     "name": "stdout",
     "output_type": "stream",
     "text": [
      "{'epoch': 0, 'train_loss': 1.9993298053741455, 'train_acc': 0.1357142857142857, 'stop_loss': 1.9586961269378662, 'stop_acc': 0.212}\n",
      "{'epoch': 100, 'train_loss': 1.6657999753952026, 'train_acc': 0.7785714285714286, 'stop_loss': 1.8689444065093994, 'stop_acc': 0.558}\n",
      "{'epoch': 200, 'train_loss': 1.3140596151351929, 'train_acc': 0.95, 'stop_loss': 1.5889647006988525, 'stop_acc': 0.756}\n",
      "{'epoch': 300, 'train_loss': 1.062687873840332, 'train_acc': 0.9642857142857143, 'stop_loss': 1.3948338031768799, 'stop_acc': 0.798}\n",
      "{'epoch': 400, 'train_loss': 0.9549397230148315, 'train_acc': 0.9714285714285714, 'stop_loss': 1.2754266262054443, 'stop_acc': 0.81}\n",
      "{'epoch': 500, 'train_loss': 0.8678954839706421, 'train_acc': 0.9785714285714285, 'stop_loss': 1.1819074153900146, 'stop_acc': 0.836}\n",
      "{'epoch': 600, 'train_loss': 0.7924229502677917, 'train_acc': 0.9785714285714285, 'stop_loss': 1.1291720867156982, 'stop_acc': 0.82}\n",
      "{'epoch': 700, 'train_loss': 0.7102994918823242, 'train_acc': 0.9785714285714285, 'stop_loss': 1.0772154331207275, 'stop_acc': 0.826}\n",
      "{'epoch': 800, 'train_loss': 0.6816130876541138, 'train_acc': 0.9571428571428572, 'stop_loss': 1.041774034500122, 'stop_acc': 0.812}\n",
      "{'epoch': 900, 'train_loss': 0.627044677734375, 'train_acc': 0.9857142857142858, 'stop_loss': 0.9986467957496643, 'stop_acc': 0.826}\n",
      "{'epoch': 1000, 'train_loss': 0.5857514142990112, 'train_acc': 0.9857142857142858, 'stop_loss': 0.9689792394638062, 'stop_acc': 0.824}\n",
      "{'epoch': 1100, 'train_loss': 0.5628395080566406, 'train_acc': 0.9928571428571429, 'stop_loss': 0.9336116313934326, 'stop_acc': 0.842}\n",
      "{'epoch': 1200, 'train_loss': 0.5336519479751587, 'train_acc': 0.9928571428571429, 'stop_loss': 0.906002938747406, 'stop_acc': 0.836}\n"
     ]
    },
    {
     "name": "stderr",
     "output_type": "stream",
     "text": [
      "2019-11-13 15:20:06: Iteration 18 of 100\n",
      "                     -------------------\n"
     ]
    },
    {
     "name": "stdout",
     "output_type": "stream",
     "text": [
      "{'epoch': 0, 'train_loss': 1.9992198944091797, 'train_acc': 0.12857142857142856, 'stop_loss': 1.958730697631836, 'stop_acc': 0.466}\n",
      "{'epoch': 100, 'train_loss': 1.6562919616699219, 'train_acc': 0.8357142857142857, 'stop_loss': 1.8420695066452026, 'stop_acc': 0.67}\n",
      "{'epoch': 200, 'train_loss': 1.3003344535827637, 'train_acc': 0.9428571428571428, 'stop_loss': 1.5511012077331543, 'stop_acc': 0.772}\n",
      "{'epoch': 300, 'train_loss': 1.0571651458740234, 'train_acc': 0.9642857142857143, 'stop_loss': 1.3749070167541504, 'stop_acc': 0.802}\n",
      "{'epoch': 400, 'train_loss': 0.9256618022918701, 'train_acc': 0.9785714285714285, 'stop_loss': 1.2613886594772339, 'stop_acc': 0.816}\n",
      "{'epoch': 500, 'train_loss': 0.8731107711791992, 'train_acc': 0.9642857142857143, 'stop_loss': 1.1796748638153076, 'stop_acc': 0.818}\n",
      "{'epoch': 600, 'train_loss': 0.7488464713096619, 'train_acc': 0.9785714285714285, 'stop_loss': 1.1150693893432617, 'stop_acc': 0.818}\n",
      "{'epoch': 700, 'train_loss': 0.6800293922424316, 'train_acc': 0.9785714285714285, 'stop_loss': 1.0714977979660034, 'stop_acc': 0.824}\n",
      "{'epoch': 800, 'train_loss': 0.6591508388519287, 'train_acc': 0.9928571428571429, 'stop_loss': 1.0341730117797852, 'stop_acc': 0.83}\n",
      "{'epoch': 900, 'train_loss': 0.6283220052719116, 'train_acc': 0.9857142857142858, 'stop_loss': 0.9953646063804626, 'stop_acc': 0.834}\n",
      "{'epoch': 1000, 'train_loss': 0.5829978585243225, 'train_acc': 0.9857142857142858, 'stop_loss': 0.9700706005096436, 'stop_acc': 0.814}\n",
      "{'epoch': 1100, 'train_loss': 0.5552705526351929, 'train_acc': 0.9928571428571429, 'stop_loss': 0.9508132934570312, 'stop_acc': 0.828}\n",
      "{'epoch': 1200, 'train_loss': 0.5396479368209839, 'train_acc': 0.9857142857142858, 'stop_loss': 0.9168334007263184, 'stop_acc': 0.82}\n",
      "{'epoch': 1300, 'train_loss': 0.5175038576126099, 'train_acc': 0.9785714285714285, 'stop_loss': 0.9203152060508728, 'stop_acc': 0.82}\n",
      "{'epoch': 1400, 'train_loss': 0.48278164863586426, 'train_acc': 0.9857142857142858, 'stop_loss': 0.9114881753921509, 'stop_acc': 0.808}\n",
      "{'epoch': 1500, 'train_loss': 0.4543570876121521, 'train_acc': 0.9857142857142858, 'stop_loss': 0.873292088508606, 'stop_acc': 0.828}\n",
      "{'epoch': 1600, 'train_loss': 0.45865118503570557, 'train_acc': 1.0, 'stop_loss': 0.9031254053115845, 'stop_acc': 0.816}\n",
      "{'epoch': 1700, 'train_loss': 0.43742823600769043, 'train_acc': 0.9857142857142858, 'stop_loss': 0.8552296757698059, 'stop_acc': 0.836}\n",
      "{'epoch': 1800, 'train_loss': 0.4244503378868103, 'train_acc': 0.9928571428571429, 'stop_loss': 0.8404768705368042, 'stop_acc': 0.828}\n",
      "{'epoch': 1900, 'train_loss': 0.39616650342941284, 'train_acc': 0.9928571428571429, 'stop_loss': 0.8238842487335205, 'stop_acc': 0.832}\n",
      "{'epoch': 2000, 'train_loss': 0.3911934494972229, 'train_acc': 1.0, 'stop_loss': 0.8177524209022522, 'stop_acc': 0.83}\n",
      "{'epoch': 2100, 'train_loss': 0.38173162937164307, 'train_acc': 0.9928571428571429, 'stop_loss': 0.8308702707290649, 'stop_acc': 0.82}\n",
      "{'epoch': 2200, 'train_loss': 0.372083455324173, 'train_acc': 1.0, 'stop_loss': 0.8156272172927856, 'stop_acc': 0.828}\n",
      "{'epoch': 2300, 'train_loss': 0.3650811016559601, 'train_acc': 0.9857142857142858, 'stop_loss': 0.7948193550109863, 'stop_acc': 0.836}\n",
      "{'epoch': 2400, 'train_loss': 0.36489713191986084, 'train_acc': 0.9928571428571429, 'stop_loss': 0.7700673341751099, 'stop_acc': 0.86}\n",
      "{'epoch': 2500, 'train_loss': 0.353513240814209, 'train_acc': 0.9928571428571429, 'stop_loss': 0.7628456354141235, 'stop_acc': 0.822}\n"
     ]
    },
    {
     "name": "stderr",
     "output_type": "stream",
     "text": [
      "2019-11-13 15:20:55: Iteration 19 of 100\n",
      "                     -------------------\n"
     ]
    },
    {
     "name": "stdout",
     "output_type": "stream",
     "text": [
      "{'epoch': 0, 'train_loss': 1.9990339279174805, 'train_acc': 0.15714285714285714, 'stop_loss': 1.9587490558624268, 'stop_acc': 0.354}\n",
      "{'epoch': 100, 'train_loss': 1.6735135316848755, 'train_acc': 0.7714285714285715, 'stop_loss': 1.8751537799835205, 'stop_acc': 0.574}\n",
      "{'epoch': 200, 'train_loss': 1.3183809518814087, 'train_acc': 0.9214285714285714, 'stop_loss': 1.58743155002594, 'stop_acc': 0.748}\n",
      "{'epoch': 300, 'train_loss': 1.077072262763977, 'train_acc': 0.95, 'stop_loss': 1.3920888900756836, 'stop_acc': 0.792}\n",
      "{'epoch': 400, 'train_loss': 0.9273577928543091, 'train_acc': 0.9714285714285714, 'stop_loss': 1.2636921405792236, 'stop_acc': 0.818}\n",
      "{'epoch': 500, 'train_loss': 0.8250048160552979, 'train_acc': 0.9785714285714285, 'stop_loss': 1.168278694152832, 'stop_acc': 0.826}\n",
      "{'epoch': 600, 'train_loss': 0.7543565034866333, 'train_acc': 0.9785714285714285, 'stop_loss': 1.1246181726455688, 'stop_acc': 0.822}\n",
      "{'epoch': 700, 'train_loss': 0.6962742805480957, 'train_acc': 0.9928571428571429, 'stop_loss': 1.0559548139572144, 'stop_acc': 0.836}\n",
      "{'epoch': 800, 'train_loss': 0.6611132621765137, 'train_acc': 0.9857142857142858, 'stop_loss': 1.0284435749053955, 'stop_acc': 0.826}\n",
      "{'epoch': 900, 'train_loss': 0.6131033897399902, 'train_acc': 0.9857142857142858, 'stop_loss': 0.9983091354370117, 'stop_acc': 0.826}\n",
      "{'epoch': 1000, 'train_loss': 0.5656920671463013, 'train_acc': 0.9857142857142858, 'stop_loss': 0.9454119205474854, 'stop_acc': 0.832}\n",
      "{'epoch': 1100, 'train_loss': 0.5507247447967529, 'train_acc': 0.9928571428571429, 'stop_loss': 0.9520583152770996, 'stop_acc': 0.828}\n",
      "{'epoch': 1200, 'train_loss': 0.5111130475997925, 'train_acc': 0.9857142857142858, 'stop_loss': 0.9036127328872681, 'stop_acc': 0.838}\n",
      "{'epoch': 1300, 'train_loss': 0.5030447840690613, 'train_acc': 0.9857142857142858, 'stop_loss': 0.8866560459136963, 'stop_acc': 0.824}\n",
      "{'epoch': 1400, 'train_loss': 0.4903807044029236, 'train_acc': 0.9857142857142858, 'stop_loss': 0.9092909097671509, 'stop_acc': 0.822}\n",
      "{'epoch': 1500, 'train_loss': 0.48144155740737915, 'train_acc': 0.9857142857142858, 'stop_loss': 0.8566576242446899, 'stop_acc': 0.832}\n",
      "{'epoch': 1600, 'train_loss': 0.43994224071502686, 'train_acc': 0.9785714285714285, 'stop_loss': 0.8247091770172119, 'stop_acc': 0.836}\n",
      "{'epoch': 1700, 'train_loss': 0.4141772389411926, 'train_acc': 0.9928571428571429, 'stop_loss': 0.8478106260299683, 'stop_acc': 0.838}\n",
      "{'epoch': 1800, 'train_loss': 0.4085952639579773, 'train_acc': 0.9857142857142858, 'stop_loss': 0.8646966814994812, 'stop_acc': 0.82}\n",
      "{'epoch': 1900, 'train_loss': 0.4169836640357971, 'train_acc': 0.9928571428571429, 'stop_loss': 0.848438560962677, 'stop_acc': 0.812}\n",
      "{'epoch': 2000, 'train_loss': 0.40588828921318054, 'train_acc': 1.0, 'stop_loss': 0.8173385858535767, 'stop_acc': 0.826}\n",
      "{'epoch': 2100, 'train_loss': 0.3872857391834259, 'train_acc': 1.0, 'stop_loss': 0.7901363372802734, 'stop_acc': 0.832}\n"
     ]
    },
    {
     "name": "stderr",
     "output_type": "stream",
     "text": [
      "2019-11-13 15:21:37: Iteration 20 of 100\n",
      "                     -------------------\n"
     ]
    },
    {
     "name": "stdout",
     "output_type": "stream",
     "text": [
      "{'epoch': 2200, 'train_loss': 0.3546665906906128, 'train_acc': 1.0, 'stop_loss': 0.781972348690033, 'stop_acc': 0.816}\n",
      "{'epoch': 0, 'train_loss': 1.9992667436599731, 'train_acc': 0.10714285714285714, 'stop_loss': 1.9588834047317505, 'stop_acc': 0.232}\n",
      "{'epoch': 100, 'train_loss': 1.6655384302139282, 'train_acc': 0.85, 'stop_loss': 1.8671764135360718, 'stop_acc': 0.604}\n",
      "{'epoch': 200, 'train_loss': 1.318727731704712, 'train_acc': 0.9285714285714286, 'stop_loss': 1.5831019878387451, 'stop_acc': 0.774}\n",
      "{'epoch': 300, 'train_loss': 1.0892043113708496, 'train_acc': 0.9571428571428572, 'stop_loss': 1.3965269327163696, 'stop_acc': 0.802}\n",
      "{'epoch': 400, 'train_loss': 0.9391262531280518, 'train_acc': 0.9642857142857143, 'stop_loss': 1.2721314430236816, 'stop_acc': 0.82}\n",
      "{'epoch': 500, 'train_loss': 0.8558105230331421, 'train_acc': 0.9642857142857143, 'stop_loss': 1.2006632089614868, 'stop_acc': 0.812}\n",
      "{'epoch': 600, 'train_loss': 0.7600334882736206, 'train_acc': 0.9714285714285714, 'stop_loss': 1.1455579996109009, 'stop_acc': 0.816}\n",
      "{'epoch': 700, 'train_loss': 0.710695743560791, 'train_acc': 0.9857142857142858, 'stop_loss': 1.088334083557129, 'stop_acc': 0.82}\n",
      "{'epoch': 800, 'train_loss': 0.6770323514938354, 'train_acc': 0.9714285714285714, 'stop_loss': 1.0318632125854492, 'stop_acc': 0.824}\n",
      "{'epoch': 900, 'train_loss': 0.6085835695266724, 'train_acc': 0.9857142857142858, 'stop_loss': 1.0005364418029785, 'stop_acc': 0.828}\n",
      "{'epoch': 1000, 'train_loss': 0.5841126441955566, 'train_acc': 0.9928571428571429, 'stop_loss': 0.9693877696990967, 'stop_acc': 0.824}\n",
      "{'epoch': 1100, 'train_loss': 0.5885945558547974, 'train_acc': 0.9857142857142858, 'stop_loss': 0.9400321245193481, 'stop_acc': 0.824}\n",
      "{'epoch': 1200, 'train_loss': 0.5281182527542114, 'train_acc': 0.9857142857142858, 'stop_loss': 0.9286019206047058, 'stop_acc': 0.826}\n",
      "{'epoch': 1300, 'train_loss': 0.5318965911865234, 'train_acc': 0.9857142857142858, 'stop_loss': 0.9116698503494263, 'stop_acc': 0.818}\n",
      "{'epoch': 1400, 'train_loss': 0.49373093247413635, 'train_acc': 0.9785714285714285, 'stop_loss': 0.8889386653900146, 'stop_acc': 0.826}\n",
      "{'epoch': 1500, 'train_loss': 0.4568166136741638, 'train_acc': 0.9928571428571429, 'stop_loss': 0.8727899789810181, 'stop_acc': 0.834}\n",
      "{'epoch': 1600, 'train_loss': 0.4738554358482361, 'train_acc': 0.9785714285714285, 'stop_loss': 0.8687707185745239, 'stop_acc': 0.832}\n",
      "{'epoch': 1700, 'train_loss': 0.44336992502212524, 'train_acc': 0.9928571428571429, 'stop_loss': 0.8353687524795532, 'stop_acc': 0.836}\n",
      "{'epoch': 1800, 'train_loss': 0.42570334672927856, 'train_acc': 1.0, 'stop_loss': 0.8248394727706909, 'stop_acc': 0.83}\n",
      "{'epoch': 1900, 'train_loss': 0.420409619808197, 'train_acc': 1.0, 'stop_loss': 0.8445481657981873, 'stop_acc': 0.818}\n",
      "{'epoch': 2000, 'train_loss': 0.39127862453460693, 'train_acc': 1.0, 'stop_loss': 0.8376981019973755, 'stop_acc': 0.808}\n"
     ]
    },
    {
     "name": "stderr",
     "output_type": "stream",
     "text": [
      "2019-11-13 15:22:16: Iteration 21 of 100\n",
      "                     -------------------\n"
     ]
    },
    {
     "name": "stdout",
     "output_type": "stream",
     "text": [
      "{'epoch': 0, 'train_loss': 1.9992226362228394, 'train_acc': 0.12857142857142856, 'stop_loss': 1.958622932434082, 'stop_acc': 0.536}\n",
      "{'epoch': 100, 'train_loss': 1.6498833894729614, 'train_acc': 0.8357142857142857, 'stop_loss': 1.8126347064971924, 'stop_acc': 0.634}\n",
      "{'epoch': 200, 'train_loss': 1.2972317934036255, 'train_acc': 0.9285714285714286, 'stop_loss': 1.5260144472122192, 'stop_acc': 0.794}\n",
      "{'epoch': 300, 'train_loss': 1.075695276260376, 'train_acc': 0.95, 'stop_loss': 1.3440622091293335, 'stop_acc': 0.844}\n",
      "{'epoch': 400, 'train_loss': 0.9507072567939758, 'train_acc': 0.9714285714285714, 'stop_loss': 1.2230409383773804, 'stop_acc': 0.856}\n",
      "{'epoch': 500, 'train_loss': 0.8552617430686951, 'train_acc': 0.9714285714285714, 'stop_loss': 1.1511776447296143, 'stop_acc': 0.844}\n",
      "{'epoch': 600, 'train_loss': 0.7788964509963989, 'train_acc': 0.9785714285714285, 'stop_loss': 1.0709985494613647, 'stop_acc': 0.86}\n",
      "{'epoch': 700, 'train_loss': 0.7414054870605469, 'train_acc': 0.9714285714285714, 'stop_loss': 1.0366172790527344, 'stop_acc': 0.85}\n",
      "{'epoch': 800, 'train_loss': 0.7215346097946167, 'train_acc': 0.9642857142857143, 'stop_loss': 0.9905880689620972, 'stop_acc': 0.868}\n",
      "{'epoch': 900, 'train_loss': 0.6519342064857483, 'train_acc': 0.9714285714285714, 'stop_loss': 0.9426275491714478, 'stop_acc': 0.856}\n",
      "{'epoch': 1000, 'train_loss': 0.6190065741539001, 'train_acc': 0.9785714285714285, 'stop_loss': 0.9182083606719971, 'stop_acc': 0.852}\n",
      "{'epoch': 1100, 'train_loss': 0.5740433931350708, 'train_acc': 0.9857142857142858, 'stop_loss': 0.8821253180503845, 'stop_acc': 0.864}\n",
      "{'epoch': 1200, 'train_loss': 0.5410621166229248, 'train_acc': 0.9928571428571429, 'stop_loss': 0.8992685079574585, 'stop_acc': 0.842}\n",
      "{'epoch': 1300, 'train_loss': 0.5303577184677124, 'train_acc': 0.9928571428571429, 'stop_loss': 0.8552911281585693, 'stop_acc': 0.854}\n",
      "{'epoch': 1400, 'train_loss': 0.5226442813873291, 'train_acc': 0.9857142857142858, 'stop_loss': 0.833739161491394, 'stop_acc': 0.868}\n",
      "{'epoch': 1500, 'train_loss': 0.4651348888874054, 'train_acc': 1.0, 'stop_loss': 0.8414080142974854, 'stop_acc': 0.846}\n",
      "{'epoch': 1600, 'train_loss': 0.46985936164855957, 'train_acc': 1.0, 'stop_loss': 0.8288974761962891, 'stop_acc': 0.848}\n",
      "{'epoch': 1700, 'train_loss': 0.4597660005092621, 'train_acc': 1.0, 'stop_loss': 0.7906390428543091, 'stop_acc': 0.864}\n",
      "{'epoch': 1800, 'train_loss': 0.435566246509552, 'train_acc': 0.9928571428571429, 'stop_loss': 0.752131998538971, 'stop_acc': 0.86}\n",
      "{'epoch': 1900, 'train_loss': 0.4175524115562439, 'train_acc': 1.0, 'stop_loss': 0.7723350524902344, 'stop_acc': 0.86}\n",
      "{'epoch': 2000, 'train_loss': 0.4181014895439148, 'train_acc': 0.9928571428571429, 'stop_loss': 0.7755417227745056, 'stop_acc': 0.85}\n",
      "{'epoch': 2100, 'train_loss': 0.40328267216682434, 'train_acc': 1.0, 'stop_loss': 0.7269185781478882, 'stop_acc': 0.86}\n",
      "{'epoch': 2200, 'train_loss': 0.3865010142326355, 'train_acc': 1.0, 'stop_loss': 0.7758734226226807, 'stop_acc': 0.852}\n",
      "{'epoch': 2300, 'train_loss': 0.411873459815979, 'train_acc': 1.0, 'stop_loss': 0.7155169248580933, 'stop_acc': 0.868}\n",
      "{'epoch': 2400, 'train_loss': 0.376280277967453, 'train_acc': 1.0, 'stop_loss': 0.729831874370575, 'stop_acc': 0.852}\n",
      "{'epoch': 2500, 'train_loss': 0.38686639070510864, 'train_acc': 1.0, 'stop_loss': 0.737360954284668, 'stop_acc': 0.848}\n",
      "{'epoch': 2600, 'train_loss': 0.3599507510662079, 'train_acc': 1.0, 'stop_loss': 0.764316201210022, 'stop_acc': 0.844}\n",
      "{'epoch': 2700, 'train_loss': 0.3513351082801819, 'train_acc': 0.9928571428571429, 'stop_loss': 0.6766582727432251, 'stop_acc': 0.866}\n",
      "{'epoch': 2800, 'train_loss': 0.34650200605392456, 'train_acc': 1.0, 'stop_loss': 0.6990176439285278, 'stop_acc': 0.858}\n",
      "{'epoch': 2900, 'train_loss': 0.33734774589538574, 'train_acc': 1.0, 'stop_loss': 0.6906319856643677, 'stop_acc': 0.868}\n"
     ]
    },
    {
     "name": "stderr",
     "output_type": "stream",
     "text": [
      "2019-11-13 15:23:11: Iteration 22 of 100\n",
      "                     -------------------\n"
     ]
    },
    {
     "name": "stdout",
     "output_type": "stream",
     "text": [
      "{'epoch': 0, 'train_loss': 1.9991012811660767, 'train_acc': 0.14285714285714285, 'stop_loss': 1.9587347507476807, 'stop_acc': 0.408}\n",
      "{'epoch': 100, 'train_loss': 1.64102041721344, 'train_acc': 0.85, 'stop_loss': 1.824296236038208, 'stop_acc': 0.636}\n",
      "{'epoch': 200, 'train_loss': 1.2801129817962646, 'train_acc': 0.9357142857142857, 'stop_loss': 1.5327765941619873, 'stop_acc': 0.808}\n",
      "{'epoch': 300, 'train_loss': 1.0757694244384766, 'train_acc': 0.9428571428571428, 'stop_loss': 1.3433094024658203, 'stop_acc': 0.84}\n",
      "{'epoch': 400, 'train_loss': 0.9425450563430786, 'train_acc': 0.9785714285714285, 'stop_loss': 1.222745656967163, 'stop_acc': 0.846}\n",
      "{'epoch': 500, 'train_loss': 0.8664988279342651, 'train_acc': 0.9785714285714285, 'stop_loss': 1.1582294702529907, 'stop_acc': 0.852}\n",
      "{'epoch': 600, 'train_loss': 0.7660295963287354, 'train_acc': 0.9857142857142858, 'stop_loss': 1.0762507915496826, 'stop_acc': 0.862}\n",
      "{'epoch': 700, 'train_loss': 0.7227818965911865, 'train_acc': 0.9857142857142858, 'stop_loss': 1.019744634628296, 'stop_acc': 0.862}\n",
      "{'epoch': 800, 'train_loss': 0.6655155420303345, 'train_acc': 0.9857142857142858, 'stop_loss': 0.9881366491317749, 'stop_acc': 0.862}\n",
      "{'epoch': 900, 'train_loss': 0.646465003490448, 'train_acc': 0.9857142857142858, 'stop_loss': 0.9732125997543335, 'stop_acc': 0.852}\n",
      "{'epoch': 1000, 'train_loss': 0.5878634452819824, 'train_acc': 0.9857142857142858, 'stop_loss': 0.9470938444137573, 'stop_acc': 0.85}\n",
      "{'epoch': 1100, 'train_loss': 0.5830085277557373, 'train_acc': 0.9785714285714285, 'stop_loss': 0.8900851011276245, 'stop_acc': 0.864}\n",
      "{'epoch': 1200, 'train_loss': 0.5716559886932373, 'train_acc': 1.0, 'stop_loss': 0.8572410345077515, 'stop_acc': 0.862}\n",
      "{'epoch': 1300, 'train_loss': 0.5371897220611572, 'train_acc': 0.9857142857142858, 'stop_loss': 0.8522584438323975, 'stop_acc': 0.862}\n"
     ]
    },
    {
     "name": "stderr",
     "output_type": "stream",
     "text": [
      "2019-11-13 15:23:37: Iteration 23 of 100\n",
      "                     -------------------\n"
     ]
    },
    {
     "name": "stdout",
     "output_type": "stream",
     "text": [
      "{'epoch': 0, 'train_loss': 1.9992679357528687, 'train_acc': 0.1357142857142857, 'stop_loss': 1.9586611986160278, 'stop_acc': 0.46}\n",
      "{'epoch': 100, 'train_loss': 1.6697893142700195, 'train_acc': 0.7857142857142857, 'stop_loss': 1.8384267091751099, 'stop_acc': 0.602}\n",
      "{'epoch': 200, 'train_loss': 1.3174190521240234, 'train_acc': 0.9214285714285714, 'stop_loss': 1.5427833795547485, 'stop_acc': 0.8}\n",
      "{'epoch': 300, 'train_loss': 1.0829545259475708, 'train_acc': 0.9285714285714286, 'stop_loss': 1.356886863708496, 'stop_acc': 0.83}\n",
      "{'epoch': 400, 'train_loss': 0.933425784111023, 'train_acc': 0.9642857142857143, 'stop_loss': 1.2311986684799194, 'stop_acc': 0.85}\n",
      "{'epoch': 500, 'train_loss': 0.8716105222702026, 'train_acc': 0.9714285714285714, 'stop_loss': 1.1465808153152466, 'stop_acc': 0.856}\n",
      "{'epoch': 600, 'train_loss': 0.7773617506027222, 'train_acc': 0.9785714285714285, 'stop_loss': 1.0830600261688232, 'stop_acc': 0.856}\n",
      "{'epoch': 700, 'train_loss': 0.7144588232040405, 'train_acc': 0.9785714285714285, 'stop_loss': 1.0351345539093018, 'stop_acc': 0.854}\n",
      "{'epoch': 800, 'train_loss': 0.6933355927467346, 'train_acc': 0.9928571428571429, 'stop_loss': 0.9935519099235535, 'stop_acc': 0.848}\n",
      "{'epoch': 900, 'train_loss': 0.6215289235115051, 'train_acc': 0.9857142857142858, 'stop_loss': 0.960638165473938, 'stop_acc': 0.862}\n",
      "{'epoch': 1000, 'train_loss': 0.6041377782821655, 'train_acc': 0.9714285714285714, 'stop_loss': 0.9227167367935181, 'stop_acc': 0.858}\n",
      "{'epoch': 1100, 'train_loss': 0.5703633427619934, 'train_acc': 0.9928571428571429, 'stop_loss': 0.9054048657417297, 'stop_acc': 0.866}\n",
      "{'epoch': 1200, 'train_loss': 0.5504986047744751, 'train_acc': 0.9857142857142858, 'stop_loss': 0.8793219327926636, 'stop_acc': 0.86}\n",
      "{'epoch': 1300, 'train_loss': 0.5255594253540039, 'train_acc': 0.9928571428571429, 'stop_loss': 0.8571309447288513, 'stop_acc': 0.86}\n",
      "{'epoch': 1400, 'train_loss': 0.5185160040855408, 'train_acc': 0.9785714285714285, 'stop_loss': 0.8783437013626099, 'stop_acc': 0.85}\n",
      "{'epoch': 1500, 'train_loss': 0.5019060969352722, 'train_acc': 0.9857142857142858, 'stop_loss': 0.8457397222518921, 'stop_acc': 0.862}\n",
      "{'epoch': 1600, 'train_loss': 0.481012761592865, 'train_acc': 0.9785714285714285, 'stop_loss': 0.8008233308792114, 'stop_acc': 0.87}\n",
      "{'epoch': 1700, 'train_loss': 0.4674031138420105, 'train_acc': 1.0, 'stop_loss': 0.8234800100326538, 'stop_acc': 0.858}\n",
      "{'epoch': 1800, 'train_loss': 0.4446360766887665, 'train_acc': 0.9928571428571429, 'stop_loss': 0.7936630249023438, 'stop_acc': 0.86}\n",
      "{'epoch': 1900, 'train_loss': 0.42864662408828735, 'train_acc': 0.9928571428571429, 'stop_loss': 0.7544657588005066, 'stop_acc': 0.862}\n",
      "{'epoch': 2000, 'train_loss': 0.4397609829902649, 'train_acc': 1.0, 'stop_loss': 0.755000114440918, 'stop_acc': 0.868}\n",
      "{'epoch': 2100, 'train_loss': 0.4094320833683014, 'train_acc': 0.9928571428571429, 'stop_loss': 0.7774581909179688, 'stop_acc': 0.866}\n",
      "{'epoch': 2200, 'train_loss': 0.3897317051887512, 'train_acc': 1.0, 'stop_loss': 0.7388184666633606, 'stop_acc': 0.868}\n",
      "{'epoch': 2300, 'train_loss': 0.371809720993042, 'train_acc': 1.0, 'stop_loss': 0.7257964015007019, 'stop_acc': 0.866}\n",
      "{'epoch': 2400, 'train_loss': 0.38963744044303894, 'train_acc': 0.9857142857142858, 'stop_loss': 0.7795786261558533, 'stop_acc': 0.838}\n"
     ]
    },
    {
     "name": "stderr",
     "output_type": "stream",
     "text": [
      "2019-11-13 15:24:23: Iteration 24 of 100\n",
      "                     -------------------\n"
     ]
    },
    {
     "name": "stdout",
     "output_type": "stream",
     "text": [
      "{'epoch': 0, 'train_loss': 1.999112606048584, 'train_acc': 0.16428571428571428, 'stop_loss': 1.9586610794067383, 'stop_acc': 0.25}\n",
      "{'epoch': 100, 'train_loss': 1.6636970043182373, 'train_acc': 0.8142857142857143, 'stop_loss': 1.8344953060150146, 'stop_acc': 0.638}\n",
      "{'epoch': 200, 'train_loss': 1.3117989301681519, 'train_acc': 0.9, 'stop_loss': 1.5439233779907227, 'stop_acc': 0.806}\n",
      "{'epoch': 300, 'train_loss': 1.0714805126190186, 'train_acc': 0.9642857142857143, 'stop_loss': 1.3600490093231201, 'stop_acc': 0.83}\n",
      "{'epoch': 400, 'train_loss': 0.9859709739685059, 'train_acc': 0.9571428571428572, 'stop_loss': 1.2429653406143188, 'stop_acc': 0.85}\n",
      "{'epoch': 500, 'train_loss': 0.8365862965583801, 'train_acc': 0.9857142857142858, 'stop_loss': 1.1537972688674927, 'stop_acc': 0.858}\n",
      "{'epoch': 600, 'train_loss': 0.7694311141967773, 'train_acc': 0.9857142857142858, 'stop_loss': 1.1036434173583984, 'stop_acc': 0.846}\n",
      "{'epoch': 700, 'train_loss': 0.7279636263847351, 'train_acc': 0.9785714285714285, 'stop_loss': 1.0318126678466797, 'stop_acc': 0.854}\n",
      "{'epoch': 800, 'train_loss': 0.6768356561660767, 'train_acc': 0.9714285714285714, 'stop_loss': 0.9901374578475952, 'stop_acc': 0.854}\n",
      "{'epoch': 900, 'train_loss': 0.6141343712806702, 'train_acc': 0.9714285714285714, 'stop_loss': 0.9733370542526245, 'stop_acc': 0.854}\n",
      "{'epoch': 1000, 'train_loss': 0.6228951215744019, 'train_acc': 0.9857142857142858, 'stop_loss': 0.9626882076263428, 'stop_acc': 0.854}\n",
      "{'epoch': 1100, 'train_loss': 0.6094784736633301, 'train_acc': 0.9714285714285714, 'stop_loss': 0.9080787897109985, 'stop_acc': 0.848}\n",
      "{'epoch': 1200, 'train_loss': 0.5364855527877808, 'train_acc': 0.9857142857142858, 'stop_loss': 0.9103437662124634, 'stop_acc': 0.848}\n",
      "{'epoch': 1300, 'train_loss': 0.5335272550582886, 'train_acc': 0.9928571428571429, 'stop_loss': 0.885928750038147, 'stop_acc': 0.86}\n",
      "{'epoch': 1400, 'train_loss': 0.5202062726020813, 'train_acc': 0.9785714285714285, 'stop_loss': 0.8507103323936462, 'stop_acc': 0.858}\n",
      "{'epoch': 1500, 'train_loss': 0.4837096333503723, 'train_acc': 0.9928571428571429, 'stop_loss': 0.8248554468154907, 'stop_acc': 0.866}\n",
      "{'epoch': 1600, 'train_loss': 0.48860836029052734, 'train_acc': 1.0, 'stop_loss': 0.7847028374671936, 'stop_acc': 0.864}\n",
      "{'epoch': 1700, 'train_loss': 0.45712047815322876, 'train_acc': 1.0, 'stop_loss': 0.8163999319076538, 'stop_acc': 0.856}\n",
      "{'epoch': 1800, 'train_loss': 0.4367449879646301, 'train_acc': 0.9785714285714285, 'stop_loss': 0.782281756401062, 'stop_acc': 0.856}\n",
      "{'epoch': 1900, 'train_loss': 0.40778660774230957, 'train_acc': 0.9928571428571429, 'stop_loss': 0.8095309734344482, 'stop_acc': 0.85}\n"
     ]
    },
    {
     "name": "stderr",
     "output_type": "stream",
     "text": [
      "2019-11-13 15:25:00: Iteration 25 of 100\n",
      "                     -------------------\n"
     ]
    },
    {
     "name": "stdout",
     "output_type": "stream",
     "text": [
      "{'epoch': 0, 'train_loss': 1.9992715120315552, 'train_acc': 0.1357142857142857, 'stop_loss': 1.9586716890335083, 'stop_acc': 0.312}\n",
      "{'epoch': 100, 'train_loss': 1.6535673141479492, 'train_acc': 0.8357142857142857, 'stop_loss': 1.8248900175094604, 'stop_acc': 0.642}\n",
      "{'epoch': 200, 'train_loss': 1.3246731758117676, 'train_acc': 0.9071428571428571, 'stop_loss': 1.5452483892440796, 'stop_acc': 0.8}\n",
      "{'epoch': 300, 'train_loss': 1.109157919883728, 'train_acc': 0.95, 'stop_loss': 1.3546829223632812, 'stop_acc': 0.844}\n",
      "{'epoch': 400, 'train_loss': 0.9450454711914062, 'train_acc': 0.9642857142857143, 'stop_loss': 1.2414519786834717, 'stop_acc': 0.85}\n",
      "{'epoch': 500, 'train_loss': 0.8649609088897705, 'train_acc': 0.9714285714285714, 'stop_loss': 1.1551105976104736, 'stop_acc': 0.854}\n",
      "{'epoch': 600, 'train_loss': 0.7829310894012451, 'train_acc': 0.9785714285714285, 'stop_loss': 1.0703619718551636, 'stop_acc': 0.848}\n",
      "{'epoch': 700, 'train_loss': 0.7391315698623657, 'train_acc': 0.9714285714285714, 'stop_loss': 1.0341339111328125, 'stop_acc': 0.854}\n",
      "{'epoch': 800, 'train_loss': 0.6850157976150513, 'train_acc': 0.9928571428571429, 'stop_loss': 0.9986861944198608, 'stop_acc': 0.852}\n",
      "{'epoch': 900, 'train_loss': 0.6304823160171509, 'train_acc': 0.9785714285714285, 'stop_loss': 0.948153018951416, 'stop_acc': 0.852}\n",
      "{'epoch': 1000, 'train_loss': 0.6273677349090576, 'train_acc': 0.9785714285714285, 'stop_loss': 0.956304132938385, 'stop_acc': 0.838}\n",
      "{'epoch': 1100, 'train_loss': 0.5883304476737976, 'train_acc': 0.9785714285714285, 'stop_loss': 0.8913012742996216, 'stop_acc': 0.86}\n",
      "{'epoch': 1200, 'train_loss': 0.5644447207450867, 'train_acc': 0.9785714285714285, 'stop_loss': 0.8885740041732788, 'stop_acc': 0.85}\n",
      "{'epoch': 1300, 'train_loss': 0.5050660967826843, 'train_acc': 0.9928571428571429, 'stop_loss': 0.8647552728652954, 'stop_acc': 0.85}\n",
      "{'epoch': 1400, 'train_loss': 0.5200203061103821, 'train_acc': 0.9928571428571429, 'stop_loss': 0.8441263437271118, 'stop_acc': 0.854}\n",
      "{'epoch': 1500, 'train_loss': 0.4984322786331177, 'train_acc': 0.9857142857142858, 'stop_loss': 0.8517800569534302, 'stop_acc': 0.85}\n",
      "{'epoch': 1600, 'train_loss': 0.4876386225223541, 'train_acc': 0.9857142857142858, 'stop_loss': 0.8019967079162598, 'stop_acc': 0.86}\n",
      "{'epoch': 1700, 'train_loss': 0.4626768231391907, 'train_acc': 0.9928571428571429, 'stop_loss': 0.7885045409202576, 'stop_acc': 0.868}\n",
      "{'epoch': 1800, 'train_loss': 0.47585952281951904, 'train_acc': 0.9857142857142858, 'stop_loss': 0.7690126895904541, 'stop_acc': 0.866}\n",
      "{'epoch': 1900, 'train_loss': 0.43733203411102295, 'train_acc': 0.9785714285714285, 'stop_loss': 0.7578169107437134, 'stop_acc': 0.856}\n"
     ]
    },
    {
     "name": "stderr",
     "output_type": "stream",
     "text": [
      "2019-11-13 15:25:42: Iteration 26 of 100\n",
      "                     -------------------\n"
     ]
    },
    {
     "name": "stdout",
     "output_type": "stream",
     "text": [
      "{'epoch': 0, 'train_loss': 1.9989700317382812, 'train_acc': 0.22857142857142856, 'stop_loss': 1.9586955308914185, 'stop_acc': 0.482}\n",
      "{'epoch': 100, 'train_loss': 1.6725361347198486, 'train_acc': 0.8857142857142857, 'stop_loss': 1.8403866291046143, 'stop_acc': 0.748}\n",
      "{'epoch': 200, 'train_loss': 1.2597076892852783, 'train_acc': 0.9428571428571428, 'stop_loss': 1.5647509098052979, 'stop_acc': 0.816}\n",
      "{'epoch': 300, 'train_loss': 1.0679850578308105, 'train_acc': 0.95, 'stop_loss': 1.4032855033874512, 'stop_acc': 0.82}\n",
      "{'epoch': 400, 'train_loss': 0.9429986476898193, 'train_acc': 0.9571428571428572, 'stop_loss': 1.2850394248962402, 'stop_acc': 0.814}\n",
      "{'epoch': 500, 'train_loss': 0.8133370876312256, 'train_acc': 0.9785714285714285, 'stop_loss': 1.2111270427703857, 'stop_acc': 0.82}\n",
      "{'epoch': 600, 'train_loss': 0.7833950519561768, 'train_acc': 0.9785714285714285, 'stop_loss': 1.1449916362762451, 'stop_acc': 0.822}\n",
      "{'epoch': 700, 'train_loss': 0.7097674608230591, 'train_acc': 0.9785714285714285, 'stop_loss': 1.1255106925964355, 'stop_acc': 0.822}\n",
      "{'epoch': 800, 'train_loss': 0.6475858688354492, 'train_acc': 0.9857142857142858, 'stop_loss': 1.0790903568267822, 'stop_acc': 0.81}\n",
      "{'epoch': 900, 'train_loss': 0.6154717206954956, 'train_acc': 0.9857142857142858, 'stop_loss': 1.0304487943649292, 'stop_acc': 0.816}\n",
      "{'epoch': 1000, 'train_loss': 0.5903359651565552, 'train_acc': 0.9857142857142858, 'stop_loss': 1.00525963306427, 'stop_acc': 0.822}\n",
      "{'epoch': 1100, 'train_loss': 0.5692188739776611, 'train_acc': 0.9857142857142858, 'stop_loss': 0.9833110570907593, 'stop_acc': 0.818}\n",
      "{'epoch': 1200, 'train_loss': 0.535271167755127, 'train_acc': 0.9857142857142858, 'stop_loss': 0.9823940396308899, 'stop_acc': 0.81}\n",
      "{'epoch': 1300, 'train_loss': 0.5099175572395325, 'train_acc': 0.9928571428571429, 'stop_loss': 0.9518889784812927, 'stop_acc': 0.824}\n",
      "{'epoch': 1400, 'train_loss': 0.48150813579559326, 'train_acc': 0.9928571428571429, 'stop_loss': 0.936923086643219, 'stop_acc': 0.816}\n",
      "{'epoch': 1500, 'train_loss': 0.4849506616592407, 'train_acc': 0.9928571428571429, 'stop_loss': 0.9337282180786133, 'stop_acc': 0.798}\n",
      "{'epoch': 1600, 'train_loss': 0.4657352566719055, 'train_acc': 0.9928571428571429, 'stop_loss': 0.8921502828598022, 'stop_acc': 0.822}\n",
      "{'epoch': 1700, 'train_loss': 0.4248409867286682, 'train_acc': 1.0, 'stop_loss': 0.9130141735076904, 'stop_acc': 0.804}\n",
      "{'epoch': 1800, 'train_loss': 0.43530774116516113, 'train_acc': 0.9928571428571429, 'stop_loss': 0.8802429437637329, 'stop_acc': 0.824}\n",
      "{'epoch': 1900, 'train_loss': 0.4241327941417694, 'train_acc': 0.9928571428571429, 'stop_loss': 0.8604932427406311, 'stop_acc': 0.824}\n",
      "{'epoch': 2000, 'train_loss': 0.41956448554992676, 'train_acc': 0.9857142857142858, 'stop_loss': 0.9058516025543213, 'stop_acc': 0.792}\n",
      "{'epoch': 2100, 'train_loss': 0.39176395535469055, 'train_acc': 1.0, 'stop_loss': 0.8466148972511292, 'stop_acc': 0.818}\n"
     ]
    },
    {
     "name": "stderr",
     "output_type": "stream",
     "text": [
      "2019-11-13 15:26:23: Iteration 27 of 100\n",
      "                     -------------------\n"
     ]
    },
    {
     "name": "stdout",
     "output_type": "stream",
     "text": [
      "{'epoch': 0, 'train_loss': 1.9992618560791016, 'train_acc': 0.14285714285714285, 'stop_loss': 1.958693504333496, 'stop_acc': 0.5}\n",
      "{'epoch': 100, 'train_loss': 1.6533548831939697, 'train_acc': 0.8714285714285714, 'stop_loss': 1.8175078630447388, 'stop_acc': 0.718}\n",
      "{'epoch': 200, 'train_loss': 1.2511224746704102, 'train_acc': 0.95, 'stop_loss': 1.551180362701416, 'stop_acc': 0.788}\n",
      "{'epoch': 300, 'train_loss': 1.0465501546859741, 'train_acc': 0.9642857142857143, 'stop_loss': 1.382605791091919, 'stop_acc': 0.816}\n",
      "{'epoch': 400, 'train_loss': 0.9276907444000244, 'train_acc': 0.9714285714285714, 'stop_loss': 1.2768754959106445, 'stop_acc': 0.82}\n",
      "{'epoch': 500, 'train_loss': 0.8286194801330566, 'train_acc': 0.9642857142857143, 'stop_loss': 1.207216739654541, 'stop_acc': 0.81}\n",
      "{'epoch': 600, 'train_loss': 0.7897557616233826, 'train_acc': 0.9785714285714285, 'stop_loss': 1.1487741470336914, 'stop_acc': 0.814}\n",
      "{'epoch': 700, 'train_loss': 0.6974928379058838, 'train_acc': 0.9857142857142858, 'stop_loss': 1.0981556177139282, 'stop_acc': 0.826}\n",
      "{'epoch': 800, 'train_loss': 0.663670539855957, 'train_acc': 0.9857142857142858, 'stop_loss': 1.055406093597412, 'stop_acc': 0.818}\n",
      "{'epoch': 900, 'train_loss': 0.6424826383590698, 'train_acc': 0.9857142857142858, 'stop_loss': 1.032660961151123, 'stop_acc': 0.816}\n",
      "{'epoch': 1000, 'train_loss': 0.5956358909606934, 'train_acc': 0.9785714285714285, 'stop_loss': 1.0118963718414307, 'stop_acc': 0.82}\n",
      "{'epoch': 1100, 'train_loss': 0.5659598112106323, 'train_acc': 0.9857142857142858, 'stop_loss': 0.9743239879608154, 'stop_acc': 0.826}\n",
      "{'epoch': 1200, 'train_loss': 0.5390826463699341, 'train_acc': 1.0, 'stop_loss': 0.9484853148460388, 'stop_acc': 0.832}\n",
      "{'epoch': 1300, 'train_loss': 0.5199499726295471, 'train_acc': 0.9857142857142858, 'stop_loss': 0.9461939334869385, 'stop_acc': 0.82}\n",
      "{'epoch': 1400, 'train_loss': 0.4990108013153076, 'train_acc': 0.9857142857142858, 'stop_loss': 0.9009122848510742, 'stop_acc': 0.824}\n",
      "{'epoch': 1500, 'train_loss': 0.49069738388061523, 'train_acc': 0.9857142857142858, 'stop_loss': 0.9051710367202759, 'stop_acc': 0.816}\n",
      "{'epoch': 1600, 'train_loss': 0.4537637233734131, 'train_acc': 0.9857142857142858, 'stop_loss': 0.8927644491195679, 'stop_acc': 0.826}\n",
      "{'epoch': 1700, 'train_loss': 0.4496424198150635, 'train_acc': 0.9857142857142858, 'stop_loss': 0.8908350467681885, 'stop_acc': 0.812}\n",
      "{'epoch': 1800, 'train_loss': 0.4396260976791382, 'train_acc': 0.9928571428571429, 'stop_loss': 0.8700944185256958, 'stop_acc': 0.822}\n",
      "{'epoch': 1900, 'train_loss': 0.42390817403793335, 'train_acc': 0.9857142857142858, 'stop_loss': 0.8626817464828491, 'stop_acc': 0.812}\n",
      "{'epoch': 2000, 'train_loss': 0.4097139239311218, 'train_acc': 0.9928571428571429, 'stop_loss': 0.8375781774520874, 'stop_acc': 0.82}\n",
      "{'epoch': 2100, 'train_loss': 0.39388424158096313, 'train_acc': 0.9928571428571429, 'stop_loss': 0.8385418653488159, 'stop_acc': 0.818}\n",
      "{'epoch': 2200, 'train_loss': 0.3843252658843994, 'train_acc': 0.9928571428571429, 'stop_loss': 0.8602843284606934, 'stop_acc': 0.812}\n",
      "{'epoch': 2300, 'train_loss': 0.36973702907562256, 'train_acc': 1.0, 'stop_loss': 0.864812433719635, 'stop_acc': 0.808}\n"
     ]
    },
    {
     "name": "stderr",
     "output_type": "stream",
     "text": [
      "2019-11-13 15:27:07: Iteration 28 of 100\n",
      "                     -------------------\n"
     ]
    },
    {
     "name": "stdout",
     "output_type": "stream",
     "text": [
      "{'epoch': 0, 'train_loss': 1.9992775917053223, 'train_acc': 0.18571428571428572, 'stop_loss': 1.9587167501449585, 'stop_acc': 0.294}\n",
      "{'epoch': 100, 'train_loss': 1.661500096321106, 'train_acc': 0.8571428571428571, 'stop_loss': 1.8431928157806396, 'stop_acc': 0.688}\n",
      "{'epoch': 200, 'train_loss': 1.3025126457214355, 'train_acc': 0.9214285714285714, 'stop_loss': 1.5711709260940552, 'stop_acc': 0.792}\n",
      "{'epoch': 300, 'train_loss': 1.0859801769256592, 'train_acc': 0.9357142857142857, 'stop_loss': 1.3940603733062744, 'stop_acc': 0.812}\n",
      "{'epoch': 400, 'train_loss': 0.9453531503677368, 'train_acc': 0.9785714285714285, 'stop_loss': 1.2844164371490479, 'stop_acc': 0.814}\n",
      "{'epoch': 500, 'train_loss': 0.8331990242004395, 'train_acc': 0.9714285714285714, 'stop_loss': 1.2212731838226318, 'stop_acc': 0.804}\n",
      "{'epoch': 600, 'train_loss': 0.7608871459960938, 'train_acc': 0.9928571428571429, 'stop_loss': 1.154575228691101, 'stop_acc': 0.82}\n",
      "{'epoch': 700, 'train_loss': 0.713955283164978, 'train_acc': 0.9857142857142858, 'stop_loss': 1.1207528114318848, 'stop_acc': 0.808}\n",
      "{'epoch': 800, 'train_loss': 0.6587269306182861, 'train_acc': 0.9928571428571429, 'stop_loss': 1.0630244016647339, 'stop_acc': 0.824}\n",
      "{'epoch': 900, 'train_loss': 0.6394379138946533, 'train_acc': 0.9928571428571429, 'stop_loss': 1.0449016094207764, 'stop_acc': 0.816}\n",
      "{'epoch': 1000, 'train_loss': 0.5723181962966919, 'train_acc': 1.0, 'stop_loss': 0.9888296127319336, 'stop_acc': 0.83}\n",
      "{'epoch': 1100, 'train_loss': 0.5609996318817139, 'train_acc': 0.9857142857142858, 'stop_loss': 0.9758229851722717, 'stop_acc': 0.828}\n",
      "{'epoch': 1200, 'train_loss': 0.5246869325637817, 'train_acc': 0.9928571428571429, 'stop_loss': 0.9833900928497314, 'stop_acc': 0.806}\n",
      "{'epoch': 1300, 'train_loss': 0.49053680896759033, 'train_acc': 0.9928571428571429, 'stop_loss': 0.918560266494751, 'stop_acc': 0.834}\n",
      "{'epoch': 1400, 'train_loss': 0.5055462121963501, 'train_acc': 0.9928571428571429, 'stop_loss': 0.909774899482727, 'stop_acc': 0.822}\n",
      "{'epoch': 1500, 'train_loss': 0.4829055666923523, 'train_acc': 0.9928571428571429, 'stop_loss': 0.923611044883728, 'stop_acc': 0.816}\n",
      "{'epoch': 1600, 'train_loss': 0.45353785157203674, 'train_acc': 0.9928571428571429, 'stop_loss': 0.896801233291626, 'stop_acc': 0.822}\n"
     ]
    },
    {
     "name": "stderr",
     "output_type": "stream",
     "text": [
      "2019-11-13 15:27:39: Iteration 29 of 100\n",
      "                     -------------------\n"
     ]
    },
    {
     "name": "stdout",
     "output_type": "stream",
     "text": [
      "{'epoch': 0, 'train_loss': 1.9992140531539917, 'train_acc': 0.15714285714285714, 'stop_loss': 1.958680510520935, 'stop_acc': 0.45}\n",
      "{'epoch': 100, 'train_loss': 1.6621593236923218, 'train_acc': 0.8857142857142857, 'stop_loss': 1.8249690532684326, 'stop_acc': 0.744}\n",
      "{'epoch': 200, 'train_loss': 1.272674322128296, 'train_acc': 0.9285714285714286, 'stop_loss': 1.5566720962524414, 'stop_acc': 0.802}\n",
      "{'epoch': 300, 'train_loss': 1.093186855316162, 'train_acc': 0.9642857142857143, 'stop_loss': 1.3832356929779053, 'stop_acc': 0.814}\n",
      "{'epoch': 400, 'train_loss': 0.9464852213859558, 'train_acc': 0.9785714285714285, 'stop_loss': 1.2765069007873535, 'stop_acc': 0.824}\n",
      "{'epoch': 500, 'train_loss': 0.8282099962234497, 'train_acc': 0.9571428571428572, 'stop_loss': 1.1985660791397095, 'stop_acc': 0.82}\n",
      "{'epoch': 600, 'train_loss': 0.8004150390625, 'train_acc': 0.9785714285714285, 'stop_loss': 1.1619749069213867, 'stop_acc': 0.814}\n",
      "{'epoch': 700, 'train_loss': 0.6814376711845398, 'train_acc': 0.9928571428571429, 'stop_loss': 1.1179308891296387, 'stop_acc': 0.804}\n",
      "{'epoch': 800, 'train_loss': 0.6474815607070923, 'train_acc': 0.9857142857142858, 'stop_loss': 1.0653417110443115, 'stop_acc': 0.82}\n",
      "{'epoch': 900, 'train_loss': 0.6279343366622925, 'train_acc': 0.9928571428571429, 'stop_loss': 1.0228228569030762, 'stop_acc': 0.832}\n",
      "{'epoch': 1000, 'train_loss': 0.6055805683135986, 'train_acc': 0.9928571428571429, 'stop_loss': 0.9840506315231323, 'stop_acc': 0.832}\n",
      "{'epoch': 1100, 'train_loss': 0.5666368007659912, 'train_acc': 0.9928571428571429, 'stop_loss': 0.98117995262146, 'stop_acc': 0.824}\n",
      "{'epoch': 1200, 'train_loss': 0.5212885737419128, 'train_acc': 1.0, 'stop_loss': 0.9658991098403931, 'stop_acc': 0.816}\n",
      "{'epoch': 1300, 'train_loss': 0.5294139981269836, 'train_acc': 0.9857142857142858, 'stop_loss': 0.966197669506073, 'stop_acc': 0.81}\n"
     ]
    },
    {
     "name": "stderr",
     "output_type": "stream",
     "text": [
      "2019-11-13 15:28:07: Iteration 30 of 100\n",
      "                     -------------------\n"
     ]
    },
    {
     "name": "stdout",
     "output_type": "stream",
     "text": [
      "{'epoch': 0, 'train_loss': 1.999204397201538, 'train_acc': 0.14285714285714285, 'stop_loss': 1.958634376525879, 'stop_acc': 0.574}\n",
      "{'epoch': 100, 'train_loss': 1.6467911005020142, 'train_acc': 0.9, 'stop_loss': 1.8154447078704834, 'stop_acc': 0.734}\n",
      "{'epoch': 200, 'train_loss': 1.2809842824935913, 'train_acc': 0.9142857142857143, 'stop_loss': 1.546389102935791, 'stop_acc': 0.81}\n",
      "{'epoch': 300, 'train_loss': 1.0815002918243408, 'train_acc': 0.9571428571428572, 'stop_loss': 1.386426568031311, 'stop_acc': 0.808}\n",
      "{'epoch': 400, 'train_loss': 0.9458240270614624, 'train_acc': 0.9714285714285714, 'stop_loss': 1.2829103469848633, 'stop_acc': 0.814}\n",
      "{'epoch': 500, 'train_loss': 0.836492657661438, 'train_acc': 0.9785714285714285, 'stop_loss': 1.2147364616394043, 'stop_acc': 0.808}\n",
      "{'epoch': 600, 'train_loss': 0.7749626040458679, 'train_acc': 0.9857142857142858, 'stop_loss': 1.1555310487747192, 'stop_acc': 0.824}\n",
      "{'epoch': 700, 'train_loss': 0.709469735622406, 'train_acc': 0.9785714285714285, 'stop_loss': 1.1099412441253662, 'stop_acc': 0.81}\n",
      "{'epoch': 800, 'train_loss': 0.6671143770217896, 'train_acc': 0.9785714285714285, 'stop_loss': 1.0509424209594727, 'stop_acc': 0.824}\n",
      "{'epoch': 900, 'train_loss': 0.6282340288162231, 'train_acc': 0.9928571428571429, 'stop_loss': 1.0394971370697021, 'stop_acc': 0.816}\n",
      "{'epoch': 1000, 'train_loss': 0.5893841981887817, 'train_acc': 1.0, 'stop_loss': 1.0517029762268066, 'stop_acc': 0.792}\n",
      "{'epoch': 1100, 'train_loss': 0.5753360390663147, 'train_acc': 0.9857142857142858, 'stop_loss': 0.982458233833313, 'stop_acc': 0.818}\n",
      "{'epoch': 1200, 'train_loss': 0.5277014374732971, 'train_acc': 0.9928571428571429, 'stop_loss': 0.956406831741333, 'stop_acc': 0.82}\n",
      "{'epoch': 1300, 'train_loss': 0.4955601692199707, 'train_acc': 0.9928571428571429, 'stop_loss': 0.9311169385910034, 'stop_acc': 0.824}\n",
      "{'epoch': 1400, 'train_loss': 0.4887872636318207, 'train_acc': 1.0, 'stop_loss': 0.9432010650634766, 'stop_acc': 0.818}\n",
      "{'epoch': 1500, 'train_loss': 0.4724176526069641, 'train_acc': 1.0, 'stop_loss': 0.9054344892501831, 'stop_acc': 0.828}\n",
      "{'epoch': 1600, 'train_loss': 0.4658840298652649, 'train_acc': 1.0, 'stop_loss': 0.918401837348938, 'stop_acc': 0.804}\n",
      "{'epoch': 1700, 'train_loss': 0.4331997036933899, 'train_acc': 0.9928571428571429, 'stop_loss': 0.8822650909423828, 'stop_acc': 0.82}\n",
      "{'epoch': 1800, 'train_loss': 0.45367634296417236, 'train_acc': 1.0, 'stop_loss': 0.8882017135620117, 'stop_acc': 0.818}\n",
      "{'epoch': 1900, 'train_loss': 0.405353844165802, 'train_acc': 0.9928571428571429, 'stop_loss': 0.8772274851799011, 'stop_acc': 0.81}\n",
      "{'epoch': 2000, 'train_loss': 0.4071887135505676, 'train_acc': 1.0, 'stop_loss': 0.8651423454284668, 'stop_acc': 0.826}\n",
      "{'epoch': 2100, 'train_loss': 0.4215015172958374, 'train_acc': 0.9928571428571429, 'stop_loss': 0.9007445573806763, 'stop_acc': 0.792}\n"
     ]
    },
    {
     "name": "stderr",
     "output_type": "stream",
     "text": [
      "2019-11-13 15:28:48: Iteration 31 of 100\n",
      "                     -------------------\n"
     ]
    },
    {
     "name": "stdout",
     "output_type": "stream",
     "text": [
      "{'epoch': 0, 'train_loss': 1.9993572235107422, 'train_acc': 0.12857142857142856, 'stop_loss': 1.9588013887405396, 'stop_acc': 0.414}\n",
      "{'epoch': 100, 'train_loss': 1.6108667850494385, 'train_acc': 0.8714285714285714, 'stop_loss': 1.822000503540039, 'stop_acc': 0.74}\n",
      "{'epoch': 200, 'train_loss': 1.2232635021209717, 'train_acc': 0.9357142857142857, 'stop_loss': 1.5694910287857056, 'stop_acc': 0.782}\n",
      "{'epoch': 300, 'train_loss': 1.0323460102081299, 'train_acc': 0.9785714285714285, 'stop_loss': 1.4337307214736938, 'stop_acc': 0.778}\n",
      "{'epoch': 400, 'train_loss': 0.9016941785812378, 'train_acc': 0.9714285714285714, 'stop_loss': 1.3247483968734741, 'stop_acc': 0.788}\n",
      "{'epoch': 500, 'train_loss': 0.804290771484375, 'train_acc': 0.9857142857142858, 'stop_loss': 1.253988265991211, 'stop_acc': 0.796}\n",
      "{'epoch': 600, 'train_loss': 0.7337698936462402, 'train_acc': 0.9785714285714285, 'stop_loss': 1.190969467163086, 'stop_acc': 0.794}\n",
      "{'epoch': 700, 'train_loss': 0.6859129071235657, 'train_acc': 1.0, 'stop_loss': 1.1594611406326294, 'stop_acc': 0.794}\n",
      "{'epoch': 800, 'train_loss': 0.6404231786727905, 'train_acc': 1.0, 'stop_loss': 1.123162031173706, 'stop_acc': 0.8}\n",
      "{'epoch': 900, 'train_loss': 0.591310977935791, 'train_acc': 0.9928571428571429, 'stop_loss': 1.1089450120925903, 'stop_acc': 0.792}\n",
      "{'epoch': 1000, 'train_loss': 0.5692769885063171, 'train_acc': 0.9928571428571429, 'stop_loss': 1.0462851524353027, 'stop_acc': 0.8}\n",
      "{'epoch': 1100, 'train_loss': 0.5272473692893982, 'train_acc': 1.0, 'stop_loss': 1.04024338722229, 'stop_acc': 0.804}\n",
      "{'epoch': 1200, 'train_loss': 0.5123880505561829, 'train_acc': 1.0, 'stop_loss': 1.0584558248519897, 'stop_acc': 0.788}\n",
      "{'epoch': 1300, 'train_loss': 0.48645204305648804, 'train_acc': 1.0, 'stop_loss': 1.0036273002624512, 'stop_acc': 0.808}\n",
      "{'epoch': 1400, 'train_loss': 0.4701225757598877, 'train_acc': 0.9928571428571429, 'stop_loss': 0.9635436534881592, 'stop_acc': 0.8}\n",
      "{'epoch': 1500, 'train_loss': 0.4586859941482544, 'train_acc': 1.0, 'stop_loss': 0.9640373587608337, 'stop_acc': 0.804}\n"
     ]
    },
    {
     "name": "stderr",
     "output_type": "stream",
     "text": [
      "2019-11-13 15:29:17: Iteration 32 of 100\n",
      "                     -------------------\n"
     ]
    },
    {
     "name": "stdout",
     "output_type": "stream",
     "text": [
      "{'epoch': 0, 'train_loss': 1.9993765354156494, 'train_acc': 0.15, 'stop_loss': 1.95866060256958, 'stop_acc': 0.57}\n",
      "{'epoch': 100, 'train_loss': 1.6031891107559204, 'train_acc': 0.8928571428571429, 'stop_loss': 1.8028922080993652, 'stop_acc': 0.794}\n",
      "{'epoch': 200, 'train_loss': 1.2180216312408447, 'train_acc': 0.9357142857142857, 'stop_loss': 1.5470352172851562, 'stop_acc': 0.794}\n",
      "{'epoch': 300, 'train_loss': 1.0031163692474365, 'train_acc': 0.9785714285714285, 'stop_loss': 1.4077060222625732, 'stop_acc': 0.804}\n",
      "{'epoch': 400, 'train_loss': 0.8637184500694275, 'train_acc': 1.0, 'stop_loss': 1.299718976020813, 'stop_acc': 0.806}\n",
      "{'epoch': 500, 'train_loss': 0.7877471446990967, 'train_acc': 0.9785714285714285, 'stop_loss': 1.2387207746505737, 'stop_acc': 0.806}\n",
      "{'epoch': 600, 'train_loss': 0.7292963266372681, 'train_acc': 0.9928571428571429, 'stop_loss': 1.1820563077926636, 'stop_acc': 0.804}\n",
      "{'epoch': 700, 'train_loss': 0.6943145990371704, 'train_acc': 0.9857142857142858, 'stop_loss': 1.1462993621826172, 'stop_acc': 0.796}\n",
      "{'epoch': 800, 'train_loss': 0.6037187576293945, 'train_acc': 1.0, 'stop_loss': 1.1227169036865234, 'stop_acc': 0.794}\n",
      "{'epoch': 900, 'train_loss': 0.5809094309806824, 'train_acc': 1.0, 'stop_loss': 1.0553715229034424, 'stop_acc': 0.814}\n",
      "{'epoch': 1000, 'train_loss': 0.5726683139801025, 'train_acc': 1.0, 'stop_loss': 1.0589345693588257, 'stop_acc': 0.798}\n",
      "{'epoch': 1100, 'train_loss': 0.5310693979263306, 'train_acc': 1.0, 'stop_loss': 1.035780668258667, 'stop_acc': 0.81}\n",
      "{'epoch': 1200, 'train_loss': 0.4927135705947876, 'train_acc': 0.9928571428571429, 'stop_loss': 0.9935088157653809, 'stop_acc': 0.8}\n"
     ]
    },
    {
     "name": "stderr",
     "output_type": "stream",
     "text": [
      "2019-11-13 15:29:41: Iteration 33 of 100\n",
      "                     -------------------\n"
     ]
    },
    {
     "name": "stdout",
     "output_type": "stream",
     "text": [
      "{'epoch': 0, 'train_loss': 1.9993135929107666, 'train_acc': 0.12857142857142856, 'stop_loss': 1.9587575197219849, 'stop_acc': 0.52}\n",
      "{'epoch': 100, 'train_loss': 1.6101877689361572, 'train_acc': 0.9, 'stop_loss': 1.8055071830749512, 'stop_acc': 0.774}\n",
      "{'epoch': 200, 'train_loss': 1.2289273738861084, 'train_acc': 0.9428571428571428, 'stop_loss': 1.5595202445983887, 'stop_acc': 0.794}\n",
      "{'epoch': 300, 'train_loss': 1.0081193447113037, 'train_acc': 0.9571428571428572, 'stop_loss': 1.3967289924621582, 'stop_acc': 0.802}\n",
      "{'epoch': 400, 'train_loss': 0.8991605043411255, 'train_acc': 0.9642857142857143, 'stop_loss': 1.30977463722229, 'stop_acc': 0.8}\n",
      "{'epoch': 500, 'train_loss': 0.8055824041366577, 'train_acc': 0.9857142857142858, 'stop_loss': 1.228468656539917, 'stop_acc': 0.802}\n",
      "{'epoch': 600, 'train_loss': 0.7372636795043945, 'train_acc': 0.9857142857142858, 'stop_loss': 1.2024024724960327, 'stop_acc': 0.794}\n",
      "{'epoch': 700, 'train_loss': 0.6807613372802734, 'train_acc': 1.0, 'stop_loss': 1.1300427913665771, 'stop_acc': 0.8}\n",
      "{'epoch': 800, 'train_loss': 0.631453275680542, 'train_acc': 0.9785714285714285, 'stop_loss': 1.111396074295044, 'stop_acc': 0.804}\n",
      "{'epoch': 900, 'train_loss': 0.5734869241714478, 'train_acc': 1.0, 'stop_loss': 1.0938481092453003, 'stop_acc': 0.798}\n",
      "{'epoch': 1000, 'train_loss': 0.5743474960327148, 'train_acc': 0.9928571428571429, 'stop_loss': 1.0524311065673828, 'stop_acc': 0.798}\n",
      "{'epoch': 1100, 'train_loss': 0.5238693952560425, 'train_acc': 1.0, 'stop_loss': 1.0123952627182007, 'stop_acc': 0.802}\n",
      "{'epoch': 1200, 'train_loss': 0.5084008574485779, 'train_acc': 0.9928571428571429, 'stop_loss': 1.0493104457855225, 'stop_acc': 0.782}\n"
     ]
    },
    {
     "name": "stderr",
     "output_type": "stream",
     "text": [
      "2019-11-13 15:30:04: Iteration 34 of 100\n",
      "                     -------------------\n"
     ]
    },
    {
     "name": "stdout",
     "output_type": "stream",
     "text": [
      "{'epoch': 0, 'train_loss': 1.9991778135299683, 'train_acc': 0.11428571428571428, 'stop_loss': 1.9587267637252808, 'stop_acc': 0.574}\n",
      "{'epoch': 100, 'train_loss': 1.5985338687896729, 'train_acc': 0.9142857142857143, 'stop_loss': 1.8131780624389648, 'stop_acc': 0.736}\n",
      "{'epoch': 200, 'train_loss': 1.2389440536499023, 'train_acc': 0.9428571428571428, 'stop_loss': 1.5637493133544922, 'stop_acc': 0.79}\n",
      "{'epoch': 300, 'train_loss': 1.0211678743362427, 'train_acc': 0.9571428571428572, 'stop_loss': 1.4168123006820679, 'stop_acc': 0.786}\n",
      "{'epoch': 400, 'train_loss': 0.8839426636695862, 'train_acc': 0.9785714285714285, 'stop_loss': 1.31383216381073, 'stop_acc': 0.816}\n",
      "{'epoch': 500, 'train_loss': 0.7944258451461792, 'train_acc': 0.9857142857142858, 'stop_loss': 1.2406530380249023, 'stop_acc': 0.802}\n",
      "{'epoch': 600, 'train_loss': 0.7189114689826965, 'train_acc': 1.0, 'stop_loss': 1.1941086053848267, 'stop_acc': 0.792}\n",
      "{'epoch': 700, 'train_loss': 0.6683019399642944, 'train_acc': 0.9928571428571429, 'stop_loss': 1.1423288583755493, 'stop_acc': 0.808}\n",
      "{'epoch': 800, 'train_loss': 0.6135589480400085, 'train_acc': 0.9928571428571429, 'stop_loss': 1.114932894706726, 'stop_acc': 0.806}\n",
      "{'epoch': 900, 'train_loss': 0.5789325833320618, 'train_acc': 1.0, 'stop_loss': 1.0817900896072388, 'stop_acc': 0.806}\n",
      "{'epoch': 1000, 'train_loss': 0.5434098839759827, 'train_acc': 0.9928571428571429, 'stop_loss': 1.0479512214660645, 'stop_acc': 0.812}\n",
      "{'epoch': 1100, 'train_loss': 0.5312981009483337, 'train_acc': 1.0, 'stop_loss': 1.0523306131362915, 'stop_acc': 0.792}\n",
      "{'epoch': 1200, 'train_loss': 0.508402943611145, 'train_acc': 1.0, 'stop_loss': 0.990911602973938, 'stop_acc': 0.804}\n",
      "{'epoch': 1300, 'train_loss': 0.4848965108394623, 'train_acc': 1.0, 'stop_loss': 0.9814050197601318, 'stop_acc': 0.806}\n",
      "{'epoch': 1400, 'train_loss': 0.4656198024749756, 'train_acc': 0.9928571428571429, 'stop_loss': 0.9799751043319702, 'stop_acc': 0.796}\n",
      "{'epoch': 1500, 'train_loss': 0.458121120929718, 'train_acc': 0.9857142857142858, 'stop_loss': 0.949813723564148, 'stop_acc': 0.796}\n",
      "{'epoch': 1600, 'train_loss': 0.43182572722435, 'train_acc': 1.0, 'stop_loss': 0.9944720268249512, 'stop_acc': 0.8}\n",
      "{'epoch': 1700, 'train_loss': 0.4119056165218353, 'train_acc': 1.0, 'stop_loss': 0.9631912708282471, 'stop_acc': 0.796}\n",
      "{'epoch': 1800, 'train_loss': 0.4056079387664795, 'train_acc': 1.0, 'stop_loss': 0.9954029321670532, 'stop_acc': 0.772}\n",
      "{'epoch': 1900, 'train_loss': 0.39294981956481934, 'train_acc': 1.0, 'stop_loss': 0.9108963012695312, 'stop_acc': 0.798}\n",
      "{'epoch': 2000, 'train_loss': 0.361142635345459, 'train_acc': 1.0, 'stop_loss': 0.9243804216384888, 'stop_acc': 0.798}\n",
      "{'epoch': 2100, 'train_loss': 0.36302152276039124, 'train_acc': 1.0, 'stop_loss': 0.8778302669525146, 'stop_acc': 0.808}\n",
      "{'epoch': 2200, 'train_loss': 0.36759141087532043, 'train_acc': 1.0, 'stop_loss': 0.8674876689910889, 'stop_acc': 0.802}\n"
     ]
    },
    {
     "name": "stderr",
     "output_type": "stream",
     "text": [
      "2019-11-13 15:30:46: Iteration 35 of 100\n",
      "                     -------------------\n"
     ]
    },
    {
     "name": "stdout",
     "output_type": "stream",
     "text": [
      "{'epoch': 0, 'train_loss': 1.999308466911316, 'train_acc': 0.15, 'stop_loss': 1.9586836099624634, 'stop_acc': 0.442}\n",
      "{'epoch': 100, 'train_loss': 1.6093924045562744, 'train_acc': 0.9142857142857143, 'stop_loss': 1.8025474548339844, 'stop_acc': 0.784}\n",
      "{'epoch': 200, 'train_loss': 1.2106329202651978, 'train_acc': 0.9428571428571428, 'stop_loss': 1.5476188659667969, 'stop_acc': 0.8}\n",
      "{'epoch': 300, 'train_loss': 1.0382018089294434, 'train_acc': 0.9642857142857143, 'stop_loss': 1.411286473274231, 'stop_acc': 0.79}\n",
      "{'epoch': 400, 'train_loss': 0.9043394923210144, 'train_acc': 0.9785714285714285, 'stop_loss': 1.3035372495651245, 'stop_acc': 0.808}\n",
      "{'epoch': 500, 'train_loss': 0.7861926555633545, 'train_acc': 0.9785714285714285, 'stop_loss': 1.2554781436920166, 'stop_acc': 0.798}\n",
      "{'epoch': 600, 'train_loss': 0.7296267747879028, 'train_acc': 0.9857142857142858, 'stop_loss': 1.1817631721496582, 'stop_acc': 0.796}\n",
      "{'epoch': 700, 'train_loss': 0.642320990562439, 'train_acc': 1.0, 'stop_loss': 1.1330366134643555, 'stop_acc': 0.794}\n",
      "{'epoch': 800, 'train_loss': 0.6289591789245605, 'train_acc': 1.0, 'stop_loss': 1.0964632034301758, 'stop_acc': 0.81}\n",
      "{'epoch': 900, 'train_loss': 0.5935297608375549, 'train_acc': 1.0, 'stop_loss': 1.073070764541626, 'stop_acc': 0.792}\n",
      "{'epoch': 1000, 'train_loss': 0.5765496492385864, 'train_acc': 1.0, 'stop_loss': 1.0611684322357178, 'stop_acc': 0.796}\n",
      "{'epoch': 1100, 'train_loss': 0.5225710868835449, 'train_acc': 1.0, 'stop_loss': 1.0007473230361938, 'stop_acc': 0.81}\n",
      "{'epoch': 1200, 'train_loss': 0.5026715993881226, 'train_acc': 1.0, 'stop_loss': 1.015405535697937, 'stop_acc': 0.798}\n",
      "{'epoch': 1300, 'train_loss': 0.46612635254859924, 'train_acc': 1.0, 'stop_loss': 1.0208762884140015, 'stop_acc': 0.79}\n",
      "{'epoch': 1400, 'train_loss': 0.442923903465271, 'train_acc': 1.0, 'stop_loss': 0.9817832112312317, 'stop_acc': 0.79}\n",
      "{'epoch': 1500, 'train_loss': 0.4667131304740906, 'train_acc': 1.0, 'stop_loss': 0.9451617002487183, 'stop_acc': 0.802}\n",
      "{'epoch': 1600, 'train_loss': 0.40917372703552246, 'train_acc': 1.0, 'stop_loss': 0.9511306285858154, 'stop_acc': 0.806}\n",
      "{'epoch': 1700, 'train_loss': 0.41980308294296265, 'train_acc': 1.0, 'stop_loss': 0.9360202550888062, 'stop_acc': 0.8}\n",
      "{'epoch': 1800, 'train_loss': 0.41069748997688293, 'train_acc': 0.9928571428571429, 'stop_loss': 0.9392111301422119, 'stop_acc': 0.808}\n"
     ]
    },
    {
     "name": "stderr",
     "output_type": "stream",
     "text": [
      "2019-11-13 15:31:22: Iteration 36 of 100\n",
      "                     -------------------\n"
     ]
    },
    {
     "name": "stdout",
     "output_type": "stream",
     "text": [
      "{'epoch': 0, 'train_loss': 1.9991711378097534, 'train_acc': 0.15714285714285714, 'stop_loss': 1.958601713180542, 'stop_acc': 0.492}\n",
      "{'epoch': 100, 'train_loss': 1.6640913486480713, 'train_acc': 0.8071428571428572, 'stop_loss': 1.8166425228118896, 'stop_acc': 0.64}\n",
      "{'epoch': 200, 'train_loss': 1.2966060638427734, 'train_acc': 0.9, 'stop_loss': 1.5414189100265503, 'stop_acc': 0.764}\n",
      "{'epoch': 300, 'train_loss': 1.0883868932724, 'train_acc': 0.95, 'stop_loss': 1.3750202655792236, 'stop_acc': 0.786}\n",
      "{'epoch': 400, 'train_loss': 0.9544369578361511, 'train_acc': 0.9714285714285714, 'stop_loss': 1.262776494026184, 'stop_acc': 0.804}\n",
      "{'epoch': 500, 'train_loss': 0.8765287399291992, 'train_acc': 0.9785714285714285, 'stop_loss': 1.2072702646255493, 'stop_acc': 0.8}\n",
      "{'epoch': 600, 'train_loss': 0.789520263671875, 'train_acc': 0.9785714285714285, 'stop_loss': 1.1363197565078735, 'stop_acc': 0.804}\n",
      "{'epoch': 700, 'train_loss': 0.7154892683029175, 'train_acc': 0.9928571428571429, 'stop_loss': 1.084091067314148, 'stop_acc': 0.816}\n",
      "{'epoch': 800, 'train_loss': 0.6963914632797241, 'train_acc': 0.9857142857142858, 'stop_loss': 1.063534140586853, 'stop_acc': 0.802}\n",
      "{'epoch': 900, 'train_loss': 0.633659839630127, 'train_acc': 0.9928571428571429, 'stop_loss': 0.9923546314239502, 'stop_acc': 0.818}\n",
      "{'epoch': 1000, 'train_loss': 0.5877268314361572, 'train_acc': 0.9928571428571429, 'stop_loss': 1.0290018320083618, 'stop_acc': 0.8}\n",
      "{'epoch': 1100, 'train_loss': 0.5883486866950989, 'train_acc': 0.9928571428571429, 'stop_loss': 0.9601743817329407, 'stop_acc': 0.82}\n",
      "{'epoch': 1200, 'train_loss': 0.541124701499939, 'train_acc': 0.9928571428571429, 'stop_loss': 0.9422513246536255, 'stop_acc': 0.816}\n",
      "{'epoch': 1300, 'train_loss': 0.527665376663208, 'train_acc': 1.0, 'stop_loss': 0.9310683012008667, 'stop_acc': 0.816}\n",
      "{'epoch': 1400, 'train_loss': 0.4958038926124573, 'train_acc': 1.0, 'stop_loss': 0.9363803863525391, 'stop_acc': 0.812}\n",
      "{'epoch': 1500, 'train_loss': 0.4914817214012146, 'train_acc': 1.0, 'stop_loss': 0.8898762464523315, 'stop_acc': 0.814}\n",
      "{'epoch': 1600, 'train_loss': 0.48767995834350586, 'train_acc': 0.9857142857142858, 'stop_loss': 0.8929091095924377, 'stop_acc': 0.81}\n"
     ]
    },
    {
     "name": "stderr",
     "output_type": "stream",
     "text": [
      "2019-11-13 15:31:52: Iteration 37 of 100\n",
      "                     -------------------\n"
     ]
    },
    {
     "name": "stdout",
     "output_type": "stream",
     "text": [
      "{'epoch': 0, 'train_loss': 1.9991093873977661, 'train_acc': 0.17142857142857143, 'stop_loss': 1.958695650100708, 'stop_acc': 0.466}\n",
      "{'epoch': 100, 'train_loss': 1.6835795640945435, 'train_acc': 0.7571428571428571, 'stop_loss': 1.8163381814956665, 'stop_acc': 0.612}\n",
      "{'epoch': 200, 'train_loss': 1.3293161392211914, 'train_acc': 0.8857142857142857, 'stop_loss': 1.5329904556274414, 'stop_acc': 0.774}\n",
      "{'epoch': 300, 'train_loss': 1.0876164436340332, 'train_acc': 0.9428571428571428, 'stop_loss': 1.3705434799194336, 'stop_acc': 0.788}\n",
      "{'epoch': 400, 'train_loss': 0.9635269641876221, 'train_acc': 0.9785714285714285, 'stop_loss': 1.2591255903244019, 'stop_acc': 0.812}\n",
      "{'epoch': 500, 'train_loss': 0.8769928812980652, 'train_acc': 0.9714285714285714, 'stop_loss': 1.1941654682159424, 'stop_acc': 0.812}\n",
      "{'epoch': 600, 'train_loss': 0.7760775089263916, 'train_acc': 0.9571428571428572, 'stop_loss': 1.1612244844436646, 'stop_acc': 0.802}\n",
      "{'epoch': 700, 'train_loss': 0.7408088445663452, 'train_acc': 0.9785714285714285, 'stop_loss': 1.099701166152954, 'stop_acc': 0.806}\n",
      "{'epoch': 800, 'train_loss': 0.6757020354270935, 'train_acc': 0.9857142857142858, 'stop_loss': 1.041010856628418, 'stop_acc': 0.814}\n",
      "{'epoch': 900, 'train_loss': 0.6370954513549805, 'train_acc': 1.0, 'stop_loss': 1.0194146633148193, 'stop_acc': 0.818}\n",
      "{'epoch': 1000, 'train_loss': 0.6096630096435547, 'train_acc': 0.9928571428571429, 'stop_loss': 0.9877732992172241, 'stop_acc': 0.816}\n",
      "{'epoch': 1100, 'train_loss': 0.5844069123268127, 'train_acc': 1.0, 'stop_loss': 0.9669811725616455, 'stop_acc': 0.82}\n",
      "{'epoch': 1200, 'train_loss': 0.5418615341186523, 'train_acc': 1.0, 'stop_loss': 0.9520412683486938, 'stop_acc': 0.824}\n",
      "{'epoch': 1300, 'train_loss': 0.5306879281997681, 'train_acc': 0.9857142857142858, 'stop_loss': 0.9716827869415283, 'stop_acc': 0.804}\n"
     ]
    },
    {
     "name": "stderr",
     "output_type": "stream",
     "text": [
      "2019-11-13 15:32:17: Iteration 38 of 100\n",
      "                     -------------------\n"
     ]
    },
    {
     "name": "stdout",
     "output_type": "stream",
     "text": [
      "{'epoch': 0, 'train_loss': 1.9993540048599243, 'train_acc': 0.15, 'stop_loss': 1.9586225748062134, 'stop_acc': 0.578}\n",
      "{'epoch': 100, 'train_loss': 1.66230309009552, 'train_acc': 0.7714285714285715, 'stop_loss': 1.8021302223205566, 'stop_acc': 0.622}\n",
      "{'epoch': 200, 'train_loss': 1.3169275522232056, 'train_acc': 0.9071428571428571, 'stop_loss': 1.5343767404556274, 'stop_acc': 0.76}\n",
      "{'epoch': 300, 'train_loss': 1.1050785779953003, 'train_acc': 0.9571428571428572, 'stop_loss': 1.3826937675476074, 'stop_acc': 0.788}\n",
      "{'epoch': 400, 'train_loss': 0.9790750741958618, 'train_acc': 0.9714285714285714, 'stop_loss': 1.2792108058929443, 'stop_acc': 0.798}\n",
      "{'epoch': 500, 'train_loss': 0.8573986887931824, 'train_acc': 0.9642857142857143, 'stop_loss': 1.2084490060806274, 'stop_acc': 0.796}\n",
      "{'epoch': 600, 'train_loss': 0.7992112636566162, 'train_acc': 0.9928571428571429, 'stop_loss': 1.127854347229004, 'stop_acc': 0.8}\n",
      "{'epoch': 700, 'train_loss': 0.709791898727417, 'train_acc': 0.9857142857142858, 'stop_loss': 1.0983421802520752, 'stop_acc': 0.798}\n",
      "{'epoch': 800, 'train_loss': 0.700429379940033, 'train_acc': 0.9714285714285714, 'stop_loss': 1.0349736213684082, 'stop_acc': 0.822}\n",
      "{'epoch': 900, 'train_loss': 0.6366198062896729, 'train_acc': 1.0, 'stop_loss': 1.0080523490905762, 'stop_acc': 0.814}\n",
      "{'epoch': 1000, 'train_loss': 0.6246894598007202, 'train_acc': 0.9857142857142858, 'stop_loss': 1.0182476043701172, 'stop_acc': 0.81}\n",
      "{'epoch': 1100, 'train_loss': 0.5998865962028503, 'train_acc': 0.9857142857142858, 'stop_loss': 0.9432978630065918, 'stop_acc': 0.82}\n",
      "{'epoch': 1200, 'train_loss': 0.5699796676635742, 'train_acc': 0.9857142857142858, 'stop_loss': 0.9323686957359314, 'stop_acc': 0.82}\n",
      "{'epoch': 1300, 'train_loss': 0.5236252546310425, 'train_acc': 1.0, 'stop_loss': 0.911957859992981, 'stop_acc': 0.83}\n",
      "{'epoch': 1400, 'train_loss': 0.5100165009498596, 'train_acc': 0.9857142857142858, 'stop_loss': 0.893808901309967, 'stop_acc': 0.822}\n",
      "{'epoch': 1500, 'train_loss': 0.49068042635917664, 'train_acc': 0.9928571428571429, 'stop_loss': 0.9123818874359131, 'stop_acc': 0.814}\n",
      "{'epoch': 1600, 'train_loss': 0.46125319600105286, 'train_acc': 0.9857142857142858, 'stop_loss': 0.8827057480812073, 'stop_acc': 0.814}\n"
     ]
    },
    {
     "name": "stderr",
     "output_type": "stream",
     "text": [
      "2019-11-13 15:32:48: Iteration 39 of 100\n",
      "                     -------------------\n"
     ]
    },
    {
     "name": "stdout",
     "output_type": "stream",
     "text": [
      "{'epoch': 0, 'train_loss': 1.999212384223938, 'train_acc': 0.09285714285714286, 'stop_loss': 1.958602786064148, 'stop_acc': 0.71}\n",
      "{'epoch': 100, 'train_loss': 1.6565706729888916, 'train_acc': 0.8285714285714286, 'stop_loss': 1.8089170455932617, 'stop_acc': 0.676}\n",
      "{'epoch': 200, 'train_loss': 1.2843785285949707, 'train_acc': 0.9, 'stop_loss': 1.5301532745361328, 'stop_acc': 0.776}\n",
      "{'epoch': 300, 'train_loss': 1.099480152130127, 'train_acc': 0.9642857142857143, 'stop_loss': 1.3708866834640503, 'stop_acc': 0.798}\n",
      "{'epoch': 400, 'train_loss': 0.9509764909744263, 'train_acc': 0.9928571428571429, 'stop_loss': 1.264018177986145, 'stop_acc': 0.808}\n",
      "{'epoch': 500, 'train_loss': 0.8408107757568359, 'train_acc': 0.9928571428571429, 'stop_loss': 1.1993672847747803, 'stop_acc': 0.804}\n",
      "{'epoch': 600, 'train_loss': 0.7925834655761719, 'train_acc': 0.9785714285714285, 'stop_loss': 1.1143357753753662, 'stop_acc': 0.82}\n",
      "{'epoch': 700, 'train_loss': 0.7171794176101685, 'train_acc': 1.0, 'stop_loss': 1.0756865739822388, 'stop_acc': 0.826}\n",
      "{'epoch': 800, 'train_loss': 0.6919836401939392, 'train_acc': 0.9857142857142858, 'stop_loss': 1.0627676248550415, 'stop_acc': 0.816}\n",
      "{'epoch': 900, 'train_loss': 0.6315286159515381, 'train_acc': 1.0, 'stop_loss': 1.013112187385559, 'stop_acc': 0.82}\n",
      "{'epoch': 1000, 'train_loss': 0.6080822944641113, 'train_acc': 1.0, 'stop_loss': 1.027293086051941, 'stop_acc': 0.8}\n"
     ]
    },
    {
     "name": "stderr",
     "output_type": "stream",
     "text": [
      "2019-11-13 15:33:08: Iteration 40 of 100\n",
      "                     -------------------\n"
     ]
    },
    {
     "name": "stdout",
     "output_type": "stream",
     "text": [
      "{'epoch': 1100, 'train_loss': 0.5791987776756287, 'train_acc': 0.9785714285714285, 'stop_loss': 0.9786308407783508, 'stop_acc': 0.822}\n",
      "{'epoch': 0, 'train_loss': 1.9992564916610718, 'train_acc': 0.10714285714285714, 'stop_loss': 1.9586211442947388, 'stop_acc': 0.604}\n",
      "{'epoch': 100, 'train_loss': 1.6594886779785156, 'train_acc': 0.7857142857142857, 'stop_loss': 1.814429759979248, 'stop_acc': 0.646}\n",
      "{'epoch': 200, 'train_loss': 1.313564419746399, 'train_acc': 0.9214285714285714, 'stop_loss': 1.5361087322235107, 'stop_acc': 0.78}\n",
      "{'epoch': 300, 'train_loss': 1.1150736808776855, 'train_acc': 0.9214285714285714, 'stop_loss': 1.3777742385864258, 'stop_acc': 0.794}\n",
      "{'epoch': 400, 'train_loss': 0.9628434777259827, 'train_acc': 0.9857142857142858, 'stop_loss': 1.2631536722183228, 'stop_acc': 0.81}\n",
      "{'epoch': 500, 'train_loss': 0.8593548536300659, 'train_acc': 0.9928571428571429, 'stop_loss': 1.1859211921691895, 'stop_acc': 0.814}\n",
      "{'epoch': 600, 'train_loss': 0.7698434591293335, 'train_acc': 0.9857142857142858, 'stop_loss': 1.1143527030944824, 'stop_acc': 0.818}\n",
      "{'epoch': 700, 'train_loss': 0.7136595249176025, 'train_acc': 1.0, 'stop_loss': 1.1015433073043823, 'stop_acc': 0.806}\n",
      "{'epoch': 800, 'train_loss': 0.6944328546524048, 'train_acc': 0.9785714285714285, 'stop_loss': 1.0309028625488281, 'stop_acc': 0.818}\n",
      "{'epoch': 900, 'train_loss': 0.6331737041473389, 'train_acc': 1.0, 'stop_loss': 0.9866081476211548, 'stop_acc': 0.83}\n",
      "{'epoch': 1000, 'train_loss': 0.6118252277374268, 'train_acc': 0.9928571428571429, 'stop_loss': 1.0092241764068604, 'stop_acc': 0.806}\n",
      "{'epoch': 1100, 'train_loss': 0.5533375144004822, 'train_acc': 0.9857142857142858, 'stop_loss': 0.9616219997406006, 'stop_acc': 0.818}\n",
      "{'epoch': 1200, 'train_loss': 0.5453416705131531, 'train_acc': 1.0, 'stop_loss': 0.9869269132614136, 'stop_acc': 0.8}\n",
      "{'epoch': 1300, 'train_loss': 0.5166642665863037, 'train_acc': 0.9928571428571429, 'stop_loss': 0.9583501219749451, 'stop_acc': 0.808}\n"
     ]
    },
    {
     "name": "stderr",
     "output_type": "stream",
     "text": [
      "2019-11-13 15:33:35: Iteration 41 of 100\n",
      "                     -------------------\n"
     ]
    },
    {
     "name": "stdout",
     "output_type": "stream",
     "text": [
      "{'epoch': 1400, 'train_loss': 0.5217115879058838, 'train_acc': 1.0, 'stop_loss': 0.9263567924499512, 'stop_acc': 0.802}\n",
      "{'epoch': 0, 'train_loss': 1.9992492198944092, 'train_acc': 0.14285714285714285, 'stop_loss': 1.9586663246154785, 'stop_acc': 0.724}\n",
      "{'epoch': 100, 'train_loss': 1.6367781162261963, 'train_acc': 0.9, 'stop_loss': 1.815561294555664, 'stop_acc': 0.736}\n",
      "{'epoch': 200, 'train_loss': 1.2871170043945312, 'train_acc': 0.9142857142857143, 'stop_loss': 1.5622586011886597, 'stop_acc': 0.774}\n",
      "{'epoch': 300, 'train_loss': 1.0690672397613525, 'train_acc': 0.9714285714285714, 'stop_loss': 1.4024431705474854, 'stop_acc': 0.78}\n",
      "{'epoch': 400, 'train_loss': 0.9456952810287476, 'train_acc': 0.9714285714285714, 'stop_loss': 1.293418526649475, 'stop_acc': 0.794}\n",
      "{'epoch': 500, 'train_loss': 0.8436081409454346, 'train_acc': 0.9714285714285714, 'stop_loss': 1.228169560432434, 'stop_acc': 0.802}\n",
      "{'epoch': 600, 'train_loss': 0.7685264348983765, 'train_acc': 0.9785714285714285, 'stop_loss': 1.1621540784835815, 'stop_acc': 0.804}\n",
      "{'epoch': 700, 'train_loss': 0.7147741317749023, 'train_acc': 0.9785714285714285, 'stop_loss': 1.1278042793273926, 'stop_acc': 0.79}\n",
      "{'epoch': 800, 'train_loss': 0.6638783812522888, 'train_acc': 0.9928571428571429, 'stop_loss': 1.0849547386169434, 'stop_acc': 0.804}\n",
      "{'epoch': 900, 'train_loss': 0.621425449848175, 'train_acc': 0.9857142857142858, 'stop_loss': 1.057027816772461, 'stop_acc': 0.79}\n",
      "{'epoch': 1000, 'train_loss': 0.633100152015686, 'train_acc': 0.9857142857142858, 'stop_loss': 1.0083438158035278, 'stop_acc': 0.81}\n",
      "{'epoch': 1100, 'train_loss': 0.5541020035743713, 'train_acc': 0.9928571428571429, 'stop_loss': 1.0008645057678223, 'stop_acc': 0.8}\n",
      "{'epoch': 1200, 'train_loss': 0.5524582266807556, 'train_acc': 0.9785714285714285, 'stop_loss': 0.9882423877716064, 'stop_acc': 0.798}\n",
      "{'epoch': 1300, 'train_loss': 0.5010864734649658, 'train_acc': 0.9928571428571429, 'stop_loss': 0.9789342880249023, 'stop_acc': 0.796}\n",
      "{'epoch': 1400, 'train_loss': 0.5092121958732605, 'train_acc': 1.0, 'stop_loss': 0.96246737241745, 'stop_acc': 0.786}\n",
      "{'epoch': 1500, 'train_loss': 0.49323856830596924, 'train_acc': 0.9928571428571429, 'stop_loss': 0.9235612750053406, 'stop_acc': 0.806}\n",
      "{'epoch': 1600, 'train_loss': 0.4870680570602417, 'train_acc': 0.9928571428571429, 'stop_loss': 0.9561786651611328, 'stop_acc': 0.788}\n",
      "{'epoch': 1700, 'train_loss': 0.43070024251937866, 'train_acc': 0.9928571428571429, 'stop_loss': 0.9530566334724426, 'stop_acc': 0.782}\n"
     ]
    },
    {
     "name": "stderr",
     "output_type": "stream",
     "text": [
      "2019-11-13 15:34:08: Iteration 42 of 100\n",
      "                     -------------------\n"
     ]
    },
    {
     "name": "stdout",
     "output_type": "stream",
     "text": [
      "{'epoch': 0, 'train_loss': 1.9994006156921387, 'train_acc': 0.10714285714285714, 'stop_loss': 1.9587136507034302, 'stop_acc': 0.536}\n",
      "{'epoch': 100, 'train_loss': 1.651435375213623, 'train_acc': 0.9, 'stop_loss': 1.830322027206421, 'stop_acc': 0.708}\n",
      "{'epoch': 200, 'train_loss': 1.2918531894683838, 'train_acc': 0.9428571428571428, 'stop_loss': 1.5712909698486328, 'stop_acc': 0.764}\n",
      "{'epoch': 300, 'train_loss': 1.0610074996948242, 'train_acc': 0.9642857142857143, 'stop_loss': 1.3933496475219727, 'stop_acc': 0.802}\n",
      "{'epoch': 400, 'train_loss': 0.9363279342651367, 'train_acc': 0.9571428571428572, 'stop_loss': 1.3007014989852905, 'stop_acc': 0.796}\n",
      "{'epoch': 500, 'train_loss': 0.8321070671081543, 'train_acc': 0.95, 'stop_loss': 1.230931282043457, 'stop_acc': 0.784}\n",
      "{'epoch': 600, 'train_loss': 0.7774999141693115, 'train_acc': 0.9642857142857143, 'stop_loss': 1.1803432703018188, 'stop_acc': 0.79}\n",
      "{'epoch': 700, 'train_loss': 0.7075487375259399, 'train_acc': 0.9857142857142858, 'stop_loss': 1.118039608001709, 'stop_acc': 0.772}\n",
      "{'epoch': 800, 'train_loss': 0.6595680713653564, 'train_acc': 0.9857142857142858, 'stop_loss': 1.0829981565475464, 'stop_acc': 0.788}\n",
      "{'epoch': 900, 'train_loss': 0.624316930770874, 'train_acc': 0.9785714285714285, 'stop_loss': 1.0544019937515259, 'stop_acc': 0.802}\n",
      "{'epoch': 1000, 'train_loss': 0.597407341003418, 'train_acc': 0.9714285714285714, 'stop_loss': 1.0221168994903564, 'stop_acc': 0.804}\n",
      "{'epoch': 1100, 'train_loss': 0.5337179899215698, 'train_acc': 0.9928571428571429, 'stop_loss': 1.0080980062484741, 'stop_acc': 0.808}\n",
      "{'epoch': 1200, 'train_loss': 0.5476815700531006, 'train_acc': 1.0, 'stop_loss': 0.9927259683609009, 'stop_acc': 0.794}\n",
      "{'epoch': 1300, 'train_loss': 0.5058919191360474, 'train_acc': 0.9928571428571429, 'stop_loss': 0.9735572338104248, 'stop_acc': 0.8}\n",
      "{'epoch': 1400, 'train_loss': 0.5140308737754822, 'train_acc': 0.9928571428571429, 'stop_loss': 0.9498180150985718, 'stop_acc': 0.8}\n",
      "{'epoch': 1500, 'train_loss': 0.45458048582077026, 'train_acc': 0.9928571428571429, 'stop_loss': 0.9354089498519897, 'stop_acc': 0.786}\n",
      "{'epoch': 1600, 'train_loss': 0.4583548307418823, 'train_acc': 0.9928571428571429, 'stop_loss': 0.9809608459472656, 'stop_acc': 0.782}\n"
     ]
    },
    {
     "name": "stderr",
     "output_type": "stream",
     "text": [
      "2019-11-13 15:34:40: Iteration 43 of 100\n",
      "                     -------------------\n"
     ]
    },
    {
     "name": "stdout",
     "output_type": "stream",
     "text": [
      "{'epoch': 0, 'train_loss': 1.999251127243042, 'train_acc': 0.16428571428571428, 'stop_loss': 1.95866060256958, 'stop_acc': 0.698}\n",
      "{'epoch': 100, 'train_loss': 1.6153086423873901, 'train_acc': 0.8857142857142857, 'stop_loss': 1.8117202520370483, 'stop_acc': 0.752}\n",
      "{'epoch': 200, 'train_loss': 1.2625426054000854, 'train_acc': 0.9285714285714286, 'stop_loss': 1.5439423322677612, 'stop_acc': 0.784}\n",
      "{'epoch': 300, 'train_loss': 1.0846178531646729, 'train_acc': 0.9571428571428572, 'stop_loss': 1.390491008758545, 'stop_acc': 0.796}\n",
      "{'epoch': 400, 'train_loss': 0.9517990350723267, 'train_acc': 0.9714285714285714, 'stop_loss': 1.28048837184906, 'stop_acc': 0.81}\n",
      "{'epoch': 500, 'train_loss': 0.8394869565963745, 'train_acc': 0.9785714285714285, 'stop_loss': 1.221610188484192, 'stop_acc': 0.796}\n",
      "{'epoch': 600, 'train_loss': 0.7811251878738403, 'train_acc': 0.9714285714285714, 'stop_loss': 1.1642390489578247, 'stop_acc': 0.804}\n",
      "{'epoch': 700, 'train_loss': 0.7187368869781494, 'train_acc': 0.9857142857142858, 'stop_loss': 1.1125414371490479, 'stop_acc': 0.82}\n",
      "{'epoch': 800, 'train_loss': 0.6693552732467651, 'train_acc': 0.9857142857142858, 'stop_loss': 1.0859298706054688, 'stop_acc': 0.806}\n",
      "{'epoch': 900, 'train_loss': 0.6137301921844482, 'train_acc': 0.9928571428571429, 'stop_loss': 1.0569989681243896, 'stop_acc': 0.782}\n",
      "{'epoch': 1000, 'train_loss': 0.5888088345527649, 'train_acc': 0.9785714285714285, 'stop_loss': 1.0077695846557617, 'stop_acc': 0.82}\n",
      "{'epoch': 1100, 'train_loss': 0.59300696849823, 'train_acc': 0.9785714285714285, 'stop_loss': 1.002038836479187, 'stop_acc': 0.796}\n",
      "{'epoch': 1200, 'train_loss': 0.538436770439148, 'train_acc': 0.9857142857142858, 'stop_loss': 0.9807882308959961, 'stop_acc': 0.794}\n"
     ]
    },
    {
     "name": "stderr",
     "output_type": "stream",
     "text": [
      "2019-11-13 15:35:03: Iteration 44 of 100\n",
      "                     -------------------\n"
     ]
    },
    {
     "name": "stdout",
     "output_type": "stream",
     "text": [
      "{'epoch': 0, 'train_loss': 1.999285101890564, 'train_acc': 0.16428571428571428, 'stop_loss': 1.9587188959121704, 'stop_acc': 0.594}\n",
      "{'epoch': 100, 'train_loss': 1.676585078239441, 'train_acc': 0.8428571428571429, 'stop_loss': 1.8452064990997314, 'stop_acc': 0.684}\n",
      "{'epoch': 200, 'train_loss': 1.2748045921325684, 'train_acc': 0.9285714285714286, 'stop_loss': 1.5901330709457397, 'stop_acc': 0.766}\n",
      "{'epoch': 300, 'train_loss': 1.0915154218673706, 'train_acc': 0.9642857142857143, 'stop_loss': 1.415127158164978, 'stop_acc': 0.798}\n",
      "{'epoch': 400, 'train_loss': 0.9634897708892822, 'train_acc': 0.9714285714285714, 'stop_loss': 1.3117268085479736, 'stop_acc': 0.804}\n",
      "{'epoch': 500, 'train_loss': 0.8567007184028625, 'train_acc': 0.9714285714285714, 'stop_loss': 1.2350914478302002, 'stop_acc': 0.798}\n",
      "{'epoch': 600, 'train_loss': 0.7832902669906616, 'train_acc': 0.9785714285714285, 'stop_loss': 1.1724135875701904, 'stop_acc': 0.808}\n",
      "{'epoch': 700, 'train_loss': 0.7263797521591187, 'train_acc': 0.9714285714285714, 'stop_loss': 1.148374080657959, 'stop_acc': 0.776}\n",
      "{'epoch': 800, 'train_loss': 0.666538417339325, 'train_acc': 0.9785714285714285, 'stop_loss': 1.1079026460647583, 'stop_acc': 0.8}\n",
      "{'epoch': 900, 'train_loss': 0.6292685270309448, 'train_acc': 0.9785714285714285, 'stop_loss': 1.0577030181884766, 'stop_acc': 0.794}\n",
      "{'epoch': 1000, 'train_loss': 0.6157125234603882, 'train_acc': 0.9642857142857143, 'stop_loss': 1.0487706661224365, 'stop_acc': 0.79}\n",
      "{'epoch': 1100, 'train_loss': 0.5743415355682373, 'train_acc': 0.9714285714285714, 'stop_loss': 1.0000797510147095, 'stop_acc': 0.802}\n",
      "{'epoch': 1200, 'train_loss': 0.5231287479400635, 'train_acc': 0.9928571428571429, 'stop_loss': 1.0025731325149536, 'stop_acc': 0.806}\n",
      "{'epoch': 1300, 'train_loss': 0.5066593885421753, 'train_acc': 0.9857142857142858, 'stop_loss': 0.9855427742004395, 'stop_acc': 0.79}\n",
      "{'epoch': 1400, 'train_loss': 0.5038211941719055, 'train_acc': 0.9857142857142858, 'stop_loss': 0.9408071041107178, 'stop_acc': 0.812}\n"
     ]
    },
    {
     "name": "stderr",
     "output_type": "stream",
     "text": [
      "2019-11-13 15:35:35: Iteration 45 of 100\n",
      "                     -------------------\n"
     ]
    },
    {
     "name": "stdout",
     "output_type": "stream",
     "text": [
      "{'epoch': 1500, 'train_loss': 0.4720686972141266, 'train_acc': 0.9928571428571429, 'stop_loss': 0.9321109056472778, 'stop_acc': 0.806}\n",
      "{'epoch': 0, 'train_loss': 1.9991450309753418, 'train_acc': 0.12857142857142856, 'stop_loss': 1.9587923288345337, 'stop_acc': 0.364}\n",
      "{'epoch': 100, 'train_loss': 1.6316821575164795, 'train_acc': 0.8571428571428571, 'stop_loss': 1.8615577220916748, 'stop_acc': 0.648}\n",
      "{'epoch': 200, 'train_loss': 1.2940285205841064, 'train_acc': 0.9214285714285714, 'stop_loss': 1.5969631671905518, 'stop_acc': 0.756}\n",
      "{'epoch': 300, 'train_loss': 1.117201805114746, 'train_acc': 0.95, 'stop_loss': 1.4373433589935303, 'stop_acc': 0.772}\n",
      "{'epoch': 400, 'train_loss': 0.9522117376327515, 'train_acc': 0.9714285714285714, 'stop_loss': 1.3069281578063965, 'stop_acc': 0.802}\n",
      "{'epoch': 500, 'train_loss': 0.861824631690979, 'train_acc': 0.9785714285714285, 'stop_loss': 1.247104287147522, 'stop_acc': 0.794}\n",
      "{'epoch': 600, 'train_loss': 0.7898752689361572, 'train_acc': 0.9642857142857143, 'stop_loss': 1.1770615577697754, 'stop_acc': 0.794}\n",
      "{'epoch': 700, 'train_loss': 0.7471308708190918, 'train_acc': 0.9928571428571429, 'stop_loss': 1.1202280521392822, 'stop_acc': 0.808}\n",
      "{'epoch': 800, 'train_loss': 0.642565131187439, 'train_acc': 0.9785714285714285, 'stop_loss': 1.0901325941085815, 'stop_acc': 0.802}\n",
      "{'epoch': 900, 'train_loss': 0.630938708782196, 'train_acc': 0.9785714285714285, 'stop_loss': 1.1003847122192383, 'stop_acc': 0.774}\n",
      "{'epoch': 1000, 'train_loss': 0.5896300077438354, 'train_acc': 0.9714285714285714, 'stop_loss': 1.0381003618240356, 'stop_acc': 0.778}\n",
      "{'epoch': 1100, 'train_loss': 0.5424999594688416, 'train_acc': 0.9928571428571429, 'stop_loss': 1.0264043807983398, 'stop_acc': 0.816}\n",
      "{'epoch': 1200, 'train_loss': 0.5773547291755676, 'train_acc': 0.9714285714285714, 'stop_loss': 0.9999412894248962, 'stop_acc': 0.8}\n",
      "{'epoch': 1300, 'train_loss': 0.5432350635528564, 'train_acc': 0.9928571428571429, 'stop_loss': 0.9668674468994141, 'stop_acc': 0.802}\n",
      "{'epoch': 1400, 'train_loss': 0.4906250536441803, 'train_acc': 0.9928571428571429, 'stop_loss': 0.9457574486732483, 'stop_acc': 0.82}\n",
      "{'epoch': 1500, 'train_loss': 0.4765961766242981, 'train_acc': 0.9857142857142858, 'stop_loss': 0.936368465423584, 'stop_acc': 0.81}\n",
      "{'epoch': 1600, 'train_loss': 0.47009050846099854, 'train_acc': 0.9857142857142858, 'stop_loss': 0.9566315412521362, 'stop_acc': 0.792}\n",
      "{'epoch': 1700, 'train_loss': 0.4336278438568115, 'train_acc': 1.0, 'stop_loss': 0.9320973753929138, 'stop_acc': 0.8}\n",
      "{'epoch': 1800, 'train_loss': 0.4092552065849304, 'train_acc': 0.9928571428571429, 'stop_loss': 0.9153506755828857, 'stop_acc': 0.794}\n"
     ]
    },
    {
     "name": "stderr",
     "output_type": "stream",
     "text": [
      "2019-11-13 15:36:11: Iteration 46 of 100\n",
      "                     -------------------\n"
     ]
    },
    {
     "name": "stdout",
     "output_type": "stream",
     "text": [
      "{'epoch': 0, 'train_loss': 1.9992341995239258, 'train_acc': 0.10714285714285714, 'stop_loss': 1.9587377309799194, 'stop_acc': 0.442}\n",
      "{'epoch': 100, 'train_loss': 1.6105568408966064, 'train_acc': 0.8357142857142857, 'stop_loss': 1.81614089012146, 'stop_acc': 0.696}\n",
      "{'epoch': 200, 'train_loss': 1.2726043462753296, 'train_acc': 0.95, 'stop_loss': 1.5590975284576416, 'stop_acc': 0.792}\n",
      "{'epoch': 300, 'train_loss': 1.087852954864502, 'train_acc': 0.9785714285714285, 'stop_loss': 1.3952885866165161, 'stop_acc': 0.798}\n",
      "{'epoch': 400, 'train_loss': 0.9336519241333008, 'train_acc': 0.9785714285714285, 'stop_loss': 1.2925482988357544, 'stop_acc': 0.79}\n",
      "{'epoch': 500, 'train_loss': 0.8262364864349365, 'train_acc': 0.9785714285714285, 'stop_loss': 1.2090749740600586, 'stop_acc': 0.8}\n",
      "{'epoch': 600, 'train_loss': 0.7859753370285034, 'train_acc': 0.9714285714285714, 'stop_loss': 1.156062364578247, 'stop_acc': 0.804}\n",
      "{'epoch': 700, 'train_loss': 0.7094186544418335, 'train_acc': 0.9714285714285714, 'stop_loss': 1.1281437873840332, 'stop_acc': 0.792}\n",
      "{'epoch': 800, 'train_loss': 0.6473566293716431, 'train_acc': 0.9785714285714285, 'stop_loss': 1.07619309425354, 'stop_acc': 0.8}\n",
      "{'epoch': 900, 'train_loss': 0.6021184921264648, 'train_acc': 0.9857142857142858, 'stop_loss': 1.0646235942840576, 'stop_acc': 0.79}\n",
      "{'epoch': 1000, 'train_loss': 0.5657365322113037, 'train_acc': 0.9857142857142858, 'stop_loss': 1.0150405168533325, 'stop_acc': 0.802}\n",
      "{'epoch': 1100, 'train_loss': 0.54130619764328, 'train_acc': 0.9785714285714285, 'stop_loss': 1.0114401578903198, 'stop_acc': 0.8}\n",
      "{'epoch': 1200, 'train_loss': 0.5402950048446655, 'train_acc': 0.9928571428571429, 'stop_loss': 0.992369532585144, 'stop_acc': 0.798}\n",
      "{'epoch': 1300, 'train_loss': 0.49348294734954834, 'train_acc': 0.9785714285714285, 'stop_loss': 0.956411600112915, 'stop_acc': 0.792}\n",
      "{'epoch': 1400, 'train_loss': 0.4765157103538513, 'train_acc': 1.0, 'stop_loss': 0.9544088840484619, 'stop_acc': 0.802}\n",
      "{'epoch': 1500, 'train_loss': 0.4413527250289917, 'train_acc': 1.0, 'stop_loss': 0.9662991762161255, 'stop_acc': 0.782}\n",
      "{'epoch': 1600, 'train_loss': 0.42077696323394775, 'train_acc': 1.0, 'stop_loss': 0.9137636423110962, 'stop_acc': 0.806}\n",
      "{'epoch': 1700, 'train_loss': 0.43204694986343384, 'train_acc': 0.9857142857142858, 'stop_loss': 0.934664249420166, 'stop_acc': 0.79}\n",
      "{'epoch': 1800, 'train_loss': 0.41987311840057373, 'train_acc': 0.9857142857142858, 'stop_loss': 0.9256963729858398, 'stop_acc': 0.798}\n",
      "{'epoch': 1900, 'train_loss': 0.3967934548854828, 'train_acc': 1.0, 'stop_loss': 0.9217211008071899, 'stop_acc': 0.79}\n"
     ]
    },
    {
     "name": "stderr",
     "output_type": "stream",
     "text": [
      "2019-11-13 15:36:48: Iteration 47 of 100\n",
      "                     -------------------\n"
     ]
    },
    {
     "name": "stdout",
     "output_type": "stream",
     "text": [
      "{'epoch': 0, 'train_loss': 1.9991157054901123, 'train_acc': 0.14285714285714285, 'stop_loss': 1.958676815032959, 'stop_acc': 0.54}\n",
      "{'epoch': 100, 'train_loss': 1.6431766748428345, 'train_acc': 0.7642857142857142, 'stop_loss': 1.810426115989685, 'stop_acc': 0.658}\n",
      "{'epoch': 200, 'train_loss': 1.2743644714355469, 'train_acc': 0.9285714285714286, 'stop_loss': 1.5501892566680908, 'stop_acc': 0.78}\n",
      "{'epoch': 300, 'train_loss': 1.0218561887741089, 'train_acc': 0.9571428571428572, 'stop_loss': 1.3972184658050537, 'stop_acc': 0.79}\n",
      "{'epoch': 400, 'train_loss': 0.9194331169128418, 'train_acc': 0.9642857142857143, 'stop_loss': 1.2866778373718262, 'stop_acc': 0.792}\n",
      "{'epoch': 500, 'train_loss': 0.7987207174301147, 'train_acc': 0.9785714285714285, 'stop_loss': 1.2111163139343262, 'stop_acc': 0.798}\n",
      "{'epoch': 600, 'train_loss': 0.7463011741638184, 'train_acc': 0.9785714285714285, 'stop_loss': 1.1616898775100708, 'stop_acc': 0.796}\n",
      "{'epoch': 700, 'train_loss': 0.6683372259140015, 'train_acc': 0.9785714285714285, 'stop_loss': 1.128869891166687, 'stop_acc': 0.794}\n",
      "{'epoch': 800, 'train_loss': 0.6383814811706543, 'train_acc': 1.0, 'stop_loss': 1.0893239974975586, 'stop_acc': 0.786}\n",
      "{'epoch': 900, 'train_loss': 0.6247919201850891, 'train_acc': 0.9714285714285714, 'stop_loss': 1.0340420007705688, 'stop_acc': 0.808}\n",
      "{'epoch': 1000, 'train_loss': 0.5679485201835632, 'train_acc': 0.9642857142857143, 'stop_loss': 1.0346240997314453, 'stop_acc': 0.782}\n",
      "{'epoch': 1100, 'train_loss': 0.5310918092727661, 'train_acc': 0.9857142857142858, 'stop_loss': 0.9954032301902771, 'stop_acc': 0.802}\n",
      "{'epoch': 1200, 'train_loss': 0.5329441428184509, 'train_acc': 0.9714285714285714, 'stop_loss': 0.9619458317756653, 'stop_acc': 0.806}\n",
      "{'epoch': 1300, 'train_loss': 0.4933430850505829, 'train_acc': 1.0, 'stop_loss': 0.9731251001358032, 'stop_acc': 0.8}\n",
      "{'epoch': 1400, 'train_loss': 0.4704757332801819, 'train_acc': 0.9785714285714285, 'stop_loss': 0.9261863231658936, 'stop_acc': 0.804}\n",
      "{'epoch': 1500, 'train_loss': 0.45634061098098755, 'train_acc': 1.0, 'stop_loss': 0.9215759038925171, 'stop_acc': 0.794}\n"
     ]
    },
    {
     "name": "stderr",
     "output_type": "stream",
     "text": [
      "2019-11-13 15:37:19: Iteration 48 of 100\n",
      "                     -------------------\n"
     ]
    },
    {
     "name": "stdout",
     "output_type": "stream",
     "text": [
      "{'epoch': 0, 'train_loss': 1.9992477893829346, 'train_acc': 0.12142857142857143, 'stop_loss': 1.9587211608886719, 'stop_acc': 0.614}\n",
      "{'epoch': 100, 'train_loss': 1.628580927848816, 'train_acc': 0.8285714285714286, 'stop_loss': 1.8205556869506836, 'stop_acc': 0.678}\n",
      "{'epoch': 200, 'train_loss': 1.2534639835357666, 'train_acc': 0.9142857142857143, 'stop_loss': 1.5573934316635132, 'stop_acc': 0.782}\n",
      "{'epoch': 300, 'train_loss': 1.0308321714401245, 'train_acc': 0.9571428571428572, 'stop_loss': 1.3965117931365967, 'stop_acc': 0.79}\n",
      "{'epoch': 400, 'train_loss': 0.9070016741752625, 'train_acc': 0.9785714285714285, 'stop_loss': 1.2971984148025513, 'stop_acc': 0.79}\n",
      "{'epoch': 500, 'train_loss': 0.8240948915481567, 'train_acc': 0.9571428571428572, 'stop_loss': 1.2271281480789185, 'stop_acc': 0.798}\n",
      "{'epoch': 600, 'train_loss': 0.7464842200279236, 'train_acc': 0.9785714285714285, 'stop_loss': 1.1726469993591309, 'stop_acc': 0.796}\n",
      "{'epoch': 700, 'train_loss': 0.6942383050918579, 'train_acc': 0.9714285714285714, 'stop_loss': 1.1155438423156738, 'stop_acc': 0.812}\n",
      "{'epoch': 800, 'train_loss': 0.645785927772522, 'train_acc': 0.9714285714285714, 'stop_loss': 1.1012821197509766, 'stop_acc': 0.788}\n",
      "{'epoch': 900, 'train_loss': 0.6146211624145508, 'train_acc': 0.9857142857142858, 'stop_loss': 1.057440996170044, 'stop_acc': 0.802}\n",
      "{'epoch': 1000, 'train_loss': 0.5756117701530457, 'train_acc': 0.9857142857142858, 'stop_loss': 1.0226635932922363, 'stop_acc': 0.796}\n",
      "{'epoch': 1100, 'train_loss': 0.5454295873641968, 'train_acc': 0.9857142857142858, 'stop_loss': 1.0003689527511597, 'stop_acc': 0.798}\n",
      "{'epoch': 1200, 'train_loss': 0.5233734846115112, 'train_acc': 0.9857142857142858, 'stop_loss': 0.9755206108093262, 'stop_acc': 0.8}\n",
      "{'epoch': 1300, 'train_loss': 0.5093371868133545, 'train_acc': 0.9928571428571429, 'stop_loss': 0.9671542644500732, 'stop_acc': 0.796}\n"
     ]
    },
    {
     "name": "stderr",
     "output_type": "stream",
     "text": [
      "2019-11-13 15:37:49: Iteration 49 of 100\n",
      "                     -------------------\n"
     ]
    },
    {
     "name": "stdout",
     "output_type": "stream",
     "text": [
      "{'epoch': 0, 'train_loss': 1.9992820024490356, 'train_acc': 0.12857142857142856, 'stop_loss': 1.958571195602417, 'stop_acc': 0.292}\n",
      "{'epoch': 100, 'train_loss': 1.6472508907318115, 'train_acc': 0.7571428571428571, 'stop_loss': 1.8295954465866089, 'stop_acc': 0.58}\n",
      "{'epoch': 200, 'train_loss': 1.2524477243423462, 'train_acc': 0.9428571428571428, 'stop_loss': 1.5620582103729248, 'stop_acc': 0.774}\n",
      "{'epoch': 300, 'train_loss': 1.035733699798584, 'train_acc': 0.9428571428571428, 'stop_loss': 1.3980218172073364, 'stop_acc': 0.794}\n",
      "{'epoch': 400, 'train_loss': 0.9205886721611023, 'train_acc': 0.9642857142857143, 'stop_loss': 1.288987159729004, 'stop_acc': 0.79}\n",
      "{'epoch': 500, 'train_loss': 0.7951736450195312, 'train_acc': 0.9571428571428572, 'stop_loss': 1.2238037586212158, 'stop_acc': 0.786}\n",
      "{'epoch': 600, 'train_loss': 0.6994950771331787, 'train_acc': 0.9785714285714285, 'stop_loss': 1.154036521911621, 'stop_acc': 0.79}\n",
      "{'epoch': 700, 'train_loss': 0.6663872003555298, 'train_acc': 1.0, 'stop_loss': 1.1091426610946655, 'stop_acc': 0.792}\n",
      "{'epoch': 800, 'train_loss': 0.6380107402801514, 'train_acc': 0.9857142857142858, 'stop_loss': 1.0891532897949219, 'stop_acc': 0.792}\n",
      "{'epoch': 900, 'train_loss': 0.5976871848106384, 'train_acc': 1.0, 'stop_loss': 1.0620801448822021, 'stop_acc': 0.786}\n",
      "{'epoch': 1000, 'train_loss': 0.5671757459640503, 'train_acc': 0.9857142857142858, 'stop_loss': 1.0186693668365479, 'stop_acc': 0.792}\n",
      "{'epoch': 1100, 'train_loss': 0.5273110270500183, 'train_acc': 0.9857142857142858, 'stop_loss': 1.020784854888916, 'stop_acc': 0.794}\n",
      "{'epoch': 1200, 'train_loss': 0.5022797584533691, 'train_acc': 1.0, 'stop_loss': 0.9914928078651428, 'stop_acc': 0.8}\n",
      "{'epoch': 1300, 'train_loss': 0.5034846067428589, 'train_acc': 0.9857142857142858, 'stop_loss': 0.9499928951263428, 'stop_acc': 0.808}\n",
      "{'epoch': 1400, 'train_loss': 0.5026797652244568, 'train_acc': 0.9928571428571429, 'stop_loss': 0.9743385314941406, 'stop_acc': 0.798}\n",
      "{'epoch': 1500, 'train_loss': 0.47236168384552, 'train_acc': 0.9857142857142858, 'stop_loss': 0.9451026916503906, 'stop_acc': 0.792}\n"
     ]
    },
    {
     "name": "stderr",
     "output_type": "stream",
     "text": [
      "2019-11-13 15:38:19: Iteration 50 of 100\n",
      "                     -------------------\n"
     ]
    },
    {
     "name": "stdout",
     "output_type": "stream",
     "text": [
      "{'epoch': 0, 'train_loss': 1.9992321729660034, 'train_acc': 0.07142857142857142, 'stop_loss': 1.9587510824203491, 'stop_acc': 0.48}\n",
      "{'epoch': 100, 'train_loss': 1.6274223327636719, 'train_acc': 0.7857142857142857, 'stop_loss': 1.8240653276443481, 'stop_acc': 0.656}\n",
      "{'epoch': 200, 'train_loss': 1.2551242113113403, 'train_acc': 0.95, 'stop_loss': 1.5666409730911255, 'stop_acc': 0.778}\n",
      "{'epoch': 300, 'train_loss': 1.0795955657958984, 'train_acc': 0.9571428571428572, 'stop_loss': 1.4061548709869385, 'stop_acc': 0.79}\n",
      "{'epoch': 400, 'train_loss': 0.9266852140426636, 'train_acc': 0.9571428571428572, 'stop_loss': 1.293981671333313, 'stop_acc': 0.8}\n",
      "{'epoch': 500, 'train_loss': 0.7891598343849182, 'train_acc': 0.9785714285714285, 'stop_loss': 1.2349427938461304, 'stop_acc': 0.788}\n",
      "{'epoch': 600, 'train_loss': 0.7323976755142212, 'train_acc': 0.9928571428571429, 'stop_loss': 1.1569801568984985, 'stop_acc': 0.8}\n",
      "{'epoch': 700, 'train_loss': 0.6957947611808777, 'train_acc': 0.9857142857142858, 'stop_loss': 1.1287052631378174, 'stop_acc': 0.79}\n",
      "{'epoch': 800, 'train_loss': 0.6277611255645752, 'train_acc': 0.9857142857142858, 'stop_loss': 1.0797569751739502, 'stop_acc': 0.802}\n",
      "{'epoch': 900, 'train_loss': 0.5891557931900024, 'train_acc': 0.9857142857142858, 'stop_loss': 1.0664222240447998, 'stop_acc': 0.792}\n",
      "{'epoch': 1000, 'train_loss': 0.5695981979370117, 'train_acc': 0.9857142857142858, 'stop_loss': 1.0217294692993164, 'stop_acc': 0.802}\n",
      "{'epoch': 1100, 'train_loss': 0.5364466905593872, 'train_acc': 0.9928571428571429, 'stop_loss': 1.014116883277893, 'stop_acc': 0.798}\n",
      "{'epoch': 1200, 'train_loss': 0.5197191834449768, 'train_acc': 0.9785714285714285, 'stop_loss': 0.9708335399627686, 'stop_acc': 0.804}\n",
      "{'epoch': 1300, 'train_loss': 0.4980725347995758, 'train_acc': 0.9857142857142858, 'stop_loss': 0.9634314775466919, 'stop_acc': 0.804}\n",
      "{'epoch': 1400, 'train_loss': 0.49473196268081665, 'train_acc': 0.9857142857142858, 'stop_loss': 0.9534900188446045, 'stop_acc': 0.79}\n",
      "{'epoch': 1500, 'train_loss': 0.4723520874977112, 'train_acc': 0.9928571428571429, 'stop_loss': 0.9495618343353271, 'stop_acc': 0.79}\n",
      "{'epoch': 1600, 'train_loss': 0.42792844772338867, 'train_acc': 1.0, 'stop_loss': 0.9378790855407715, 'stop_acc': 0.794}\n",
      "{'epoch': 1700, 'train_loss': 0.432640016078949, 'train_acc': 0.9928571428571429, 'stop_loss': 0.9344176054000854, 'stop_acc': 0.786}\n",
      "{'epoch': 1800, 'train_loss': 0.41379624605178833, 'train_acc': 1.0, 'stop_loss': 0.9058831930160522, 'stop_acc': 0.798}\n"
     ]
    },
    {
     "name": "stderr",
     "output_type": "stream",
     "text": [
      "2019-11-13 15:38:53: Iteration 51 of 100\n",
      "                     -------------------\n"
     ]
    },
    {
     "name": "stdout",
     "output_type": "stream",
     "text": [
      "{'epoch': 0, 'train_loss': 1.9991281032562256, 'train_acc': 0.17142857142857143, 'stop_loss': 1.958619236946106, 'stop_acc': 0.456}\n",
      "{'epoch': 100, 'train_loss': 1.6406556367874146, 'train_acc': 0.9071428571428571, 'stop_loss': 1.8101924657821655, 'stop_acc': 0.766}\n",
      "{'epoch': 200, 'train_loss': 1.2452586889266968, 'train_acc': 0.9571428571428572, 'stop_loss': 1.5470025539398193, 'stop_acc': 0.808}\n",
      "{'epoch': 300, 'train_loss': 1.064068078994751, 'train_acc': 0.9714285714285714, 'stop_loss': 1.3798937797546387, 'stop_acc': 0.818}\n",
      "{'epoch': 400, 'train_loss': 0.9269492626190186, 'train_acc': 0.9785714285714285, 'stop_loss': 1.2796905040740967, 'stop_acc': 0.808}\n",
      "{'epoch': 500, 'train_loss': 0.8444986343383789, 'train_acc': 0.9714285714285714, 'stop_loss': 1.2192115783691406, 'stop_acc': 0.792}\n",
      "{'epoch': 600, 'train_loss': 0.7831333875656128, 'train_acc': 0.9928571428571429, 'stop_loss': 1.150665521621704, 'stop_acc': 0.802}\n",
      "{'epoch': 700, 'train_loss': 0.7122982740402222, 'train_acc': 0.9785714285714285, 'stop_loss': 1.1043583154678345, 'stop_acc': 0.804}\n",
      "{'epoch': 800, 'train_loss': 0.671952486038208, 'train_acc': 0.9857142857142858, 'stop_loss': 1.1115868091583252, 'stop_acc': 0.792}\n",
      "{'epoch': 900, 'train_loss': 0.6297111511230469, 'train_acc': 0.9928571428571429, 'stop_loss': 1.0306365489959717, 'stop_acc': 0.81}\n",
      "{'epoch': 1000, 'train_loss': 0.5736576318740845, 'train_acc': 0.9928571428571429, 'stop_loss': 1.004059076309204, 'stop_acc': 0.816}\n",
      "{'epoch': 1100, 'train_loss': 0.5758413672447205, 'train_acc': 0.9857142857142858, 'stop_loss': 0.9857941269874573, 'stop_acc': 0.808}\n",
      "{'epoch': 1200, 'train_loss': 0.5178807377815247, 'train_acc': 0.9928571428571429, 'stop_loss': 1.0128767490386963, 'stop_acc': 0.788}\n",
      "{'epoch': 1300, 'train_loss': 0.5259262323379517, 'train_acc': 1.0, 'stop_loss': 0.9649455547332764, 'stop_acc': 0.806}\n",
      "{'epoch': 1400, 'train_loss': 0.4972148537635803, 'train_acc': 1.0, 'stop_loss': 0.9483327865600586, 'stop_acc': 0.804}\n",
      "{'epoch': 1500, 'train_loss': 0.4584287703037262, 'train_acc': 0.9928571428571429, 'stop_loss': 0.940624475479126, 'stop_acc': 0.792}\n",
      "{'epoch': 1600, 'train_loss': 0.45160752534866333, 'train_acc': 1.0, 'stop_loss': 0.9012002348899841, 'stop_acc': 0.812}\n"
     ]
    },
    {
     "name": "stderr",
     "output_type": "stream",
     "text": [
      "2019-11-13 15:39:24: Iteration 52 of 100\n",
      "                     -------------------\n"
     ]
    },
    {
     "name": "stdout",
     "output_type": "stream",
     "text": [
      "{'epoch': 0, 'train_loss': 1.999192476272583, 'train_acc': 0.14285714285714285, 'stop_loss': 1.9585515260696411, 'stop_acc': 0.578}\n",
      "{'epoch': 100, 'train_loss': 1.6412402391433716, 'train_acc': 0.85, 'stop_loss': 1.785109281539917, 'stop_acc': 0.766}\n",
      "{'epoch': 200, 'train_loss': 1.2900406122207642, 'train_acc': 0.9428571428571428, 'stop_loss': 1.5319539308547974, 'stop_acc': 0.81}\n",
      "{'epoch': 300, 'train_loss': 1.079195499420166, 'train_acc': 0.9714285714285714, 'stop_loss': 1.3737297058105469, 'stop_acc': 0.808}\n",
      "{'epoch': 400, 'train_loss': 0.95470130443573, 'train_acc': 0.9714285714285714, 'stop_loss': 1.269659161567688, 'stop_acc': 0.812}\n",
      "{'epoch': 500, 'train_loss': 0.8332417011260986, 'train_acc': 0.9857142857142858, 'stop_loss': 1.1960777044296265, 'stop_acc': 0.798}\n",
      "{'epoch': 600, 'train_loss': 0.7468780279159546, 'train_acc': 0.9928571428571429, 'stop_loss': 1.1146219968795776, 'stop_acc': 0.824}\n",
      "{'epoch': 700, 'train_loss': 0.7185178995132446, 'train_acc': 0.9785714285714285, 'stop_loss': 1.0978398323059082, 'stop_acc': 0.798}\n",
      "{'epoch': 800, 'train_loss': 0.626907467842102, 'train_acc': 0.9928571428571429, 'stop_loss': 1.0392333269119263, 'stop_acc': 0.808}\n",
      "{'epoch': 900, 'train_loss': 0.5947802066802979, 'train_acc': 1.0, 'stop_loss': 1.036294937133789, 'stop_acc': 0.81}\n",
      "{'epoch': 1000, 'train_loss': 0.5795403718948364, 'train_acc': 0.9785714285714285, 'stop_loss': 0.9894770383834839, 'stop_acc': 0.814}\n",
      "{'epoch': 1100, 'train_loss': 0.5794382095336914, 'train_acc': 0.9857142857142858, 'stop_loss': 0.946539580821991, 'stop_acc': 0.826}\n",
      "{'epoch': 1200, 'train_loss': 0.5164961218833923, 'train_acc': 0.9928571428571429, 'stop_loss': 0.9745657444000244, 'stop_acc': 0.802}\n",
      "{'epoch': 1300, 'train_loss': 0.49695920944213867, 'train_acc': 1.0, 'stop_loss': 0.9388343095779419, 'stop_acc': 0.81}\n",
      "{'epoch': 1400, 'train_loss': 0.5083383917808533, 'train_acc': 0.9928571428571429, 'stop_loss': 0.9135411977767944, 'stop_acc': 0.8}\n",
      "{'epoch': 1500, 'train_loss': 0.44897863268852234, 'train_acc': 1.0, 'stop_loss': 0.8974405527114868, 'stop_acc': 0.808}\n",
      "{'epoch': 1600, 'train_loss': 0.45632052421569824, 'train_acc': 1.0, 'stop_loss': 0.9152073860168457, 'stop_acc': 0.808}\n",
      "{'epoch': 1700, 'train_loss': 0.4265522360801697, 'train_acc': 0.9928571428571429, 'stop_loss': 0.8960665464401245, 'stop_acc': 0.802}\n",
      "{'epoch': 1800, 'train_loss': 0.42230886220932007, 'train_acc': 0.9928571428571429, 'stop_loss': 0.8556033968925476, 'stop_acc': 0.822}\n"
     ]
    },
    {
     "name": "stderr",
     "output_type": "stream",
     "text": [
      "2019-11-13 15:39:59: Iteration 53 of 100\n",
      "                     -------------------\n"
     ]
    },
    {
     "name": "stdout",
     "output_type": "stream",
     "text": [
      "{'epoch': 0, 'train_loss': 1.999224066734314, 'train_acc': 0.1357142857142857, 'stop_loss': 1.9586477279663086, 'stop_acc': 0.602}\n",
      "{'epoch': 100, 'train_loss': 1.608059048652649, 'train_acc': 0.9214285714285714, 'stop_loss': 1.7914092540740967, 'stop_acc': 0.796}\n",
      "{'epoch': 200, 'train_loss': 1.2655094861984253, 'train_acc': 0.9285714285714286, 'stop_loss': 1.5388011932373047, 'stop_acc': 0.81}\n",
      "{'epoch': 300, 'train_loss': 1.045684576034546, 'train_acc': 0.9857142857142858, 'stop_loss': 1.385421633720398, 'stop_acc': 0.806}\n",
      "{'epoch': 400, 'train_loss': 0.9292998909950256, 'train_acc': 0.9857142857142858, 'stop_loss': 1.264120101928711, 'stop_acc': 0.81}\n",
      "{'epoch': 500, 'train_loss': 0.8226222395896912, 'train_acc': 0.9857142857142858, 'stop_loss': 1.198751449584961, 'stop_acc': 0.81}\n",
      "{'epoch': 600, 'train_loss': 0.7287476658821106, 'train_acc': 0.9785714285714285, 'stop_loss': 1.1509627103805542, 'stop_acc': 0.808}\n",
      "{'epoch': 700, 'train_loss': 0.6973665952682495, 'train_acc': 0.9928571428571429, 'stop_loss': 1.1007479429244995, 'stop_acc': 0.806}\n",
      "{'epoch': 800, 'train_loss': 0.647231936454773, 'train_acc': 0.9857142857142858, 'stop_loss': 1.0558860301971436, 'stop_acc': 0.804}\n",
      "{'epoch': 900, 'train_loss': 0.6185437440872192, 'train_acc': 1.0, 'stop_loss': 1.0245165824890137, 'stop_acc': 0.814}\n",
      "{'epoch': 1000, 'train_loss': 0.6000156998634338, 'train_acc': 0.9928571428571429, 'stop_loss': 1.0010485649108887, 'stop_acc': 0.814}\n",
      "{'epoch': 1100, 'train_loss': 0.55271977186203, 'train_acc': 1.0, 'stop_loss': 0.9628658294677734, 'stop_acc': 0.816}\n",
      "{'epoch': 1200, 'train_loss': 0.5244075655937195, 'train_acc': 1.0, 'stop_loss': 0.9402512311935425, 'stop_acc': 0.816}\n",
      "{'epoch': 1300, 'train_loss': 0.4933820962905884, 'train_acc': 0.9928571428571429, 'stop_loss': 0.9550892114639282, 'stop_acc': 0.806}\n",
      "{'epoch': 1400, 'train_loss': 0.48465150594711304, 'train_acc': 0.9928571428571429, 'stop_loss': 0.953672468662262, 'stop_acc': 0.798}\n"
     ]
    },
    {
     "name": "stderr",
     "output_type": "stream",
     "text": [
      "2019-11-13 15:40:27: Iteration 54 of 100\n",
      "                     -------------------\n"
     ]
    },
    {
     "name": "stdout",
     "output_type": "stream",
     "text": [
      "{'epoch': 1500, 'train_loss': 0.45183029770851135, 'train_acc': 0.9857142857142858, 'stop_loss': 0.9141954779624939, 'stop_acc': 0.812}\n",
      "{'epoch': 0, 'train_loss': 1.9994337558746338, 'train_acc': 0.1, 'stop_loss': 1.9587101936340332, 'stop_acc': 0.562}\n",
      "{'epoch': 100, 'train_loss': 1.6434192657470703, 'train_acc': 0.8857142857142857, 'stop_loss': 1.8110452890396118, 'stop_acc': 0.752}\n",
      "{'epoch': 200, 'train_loss': 1.2735402584075928, 'train_acc': 0.9428571428571428, 'stop_loss': 1.5543471574783325, 'stop_acc': 0.792}\n",
      "{'epoch': 300, 'train_loss': 1.0781248807907104, 'train_acc': 0.9714285714285714, 'stop_loss': 1.3889596462249756, 'stop_acc': 0.81}\n",
      "{'epoch': 400, 'train_loss': 0.9172520637512207, 'train_acc': 0.9714285714285714, 'stop_loss': 1.2761125564575195, 'stop_acc': 0.808}\n",
      "{'epoch': 500, 'train_loss': 0.8528862595558167, 'train_acc': 0.9785714285714285, 'stop_loss': 1.2002639770507812, 'stop_acc': 0.804}\n",
      "{'epoch': 600, 'train_loss': 0.7644137740135193, 'train_acc': 0.9785714285714285, 'stop_loss': 1.1551032066345215, 'stop_acc': 0.806}\n",
      "{'epoch': 700, 'train_loss': 0.7273012399673462, 'train_acc': 0.9785714285714285, 'stop_loss': 1.1025464534759521, 'stop_acc': 0.802}\n",
      "{'epoch': 800, 'train_loss': 0.6476878523826599, 'train_acc': 0.9928571428571429, 'stop_loss': 1.0520758628845215, 'stop_acc': 0.808}\n",
      "{'epoch': 900, 'train_loss': 0.6128252744674683, 'train_acc': 0.9928571428571429, 'stop_loss': 1.0337148904800415, 'stop_acc': 0.804}\n",
      "{'epoch': 1000, 'train_loss': 0.5902138352394104, 'train_acc': 1.0, 'stop_loss': 1.0010600090026855, 'stop_acc': 0.812}\n",
      "{'epoch': 1100, 'train_loss': 0.5659961104393005, 'train_acc': 0.9928571428571429, 'stop_loss': 0.9916362762451172, 'stop_acc': 0.808}\n",
      "{'epoch': 1200, 'train_loss': 0.5424090623855591, 'train_acc': 1.0, 'stop_loss': 0.9524490833282471, 'stop_acc': 0.806}\n",
      "{'epoch': 1300, 'train_loss': 0.49990493059158325, 'train_acc': 1.0, 'stop_loss': 0.9259167909622192, 'stop_acc': 0.818}\n",
      "{'epoch': 1400, 'train_loss': 0.48735445737838745, 'train_acc': 1.0, 'stop_loss': 0.9167836904525757, 'stop_acc': 0.808}\n",
      "{'epoch': 1500, 'train_loss': 0.4719998836517334, 'train_acc': 1.0, 'stop_loss': 0.9062751531600952, 'stop_acc': 0.822}\n",
      "{'epoch': 1600, 'train_loss': 0.45236432552337646, 'train_acc': 0.9928571428571429, 'stop_loss': 0.9462355375289917, 'stop_acc': 0.8}\n",
      "{'epoch': 1700, 'train_loss': 0.4550488591194153, 'train_acc': 1.0, 'stop_loss': 0.898661732673645, 'stop_acc': 0.814}\n",
      "{'epoch': 1800, 'train_loss': 0.4172173738479614, 'train_acc': 0.9928571428571429, 'stop_loss': 0.8672459721565247, 'stop_acc': 0.808}\n",
      "{'epoch': 1900, 'train_loss': 0.4036945700645447, 'train_acc': 1.0, 'stop_loss': 0.8730705380439758, 'stop_acc': 0.798}\n",
      "{'epoch': 2000, 'train_loss': 0.41842517256736755, 'train_acc': 0.9928571428571429, 'stop_loss': 0.8503386974334717, 'stop_acc': 0.816}\n"
     ]
    },
    {
     "name": "stderr",
     "output_type": "stream",
     "text": [
      "2019-11-13 15:41:05: Iteration 55 of 100\n",
      "                     -------------------\n"
     ]
    },
    {
     "name": "stdout",
     "output_type": "stream",
     "text": [
      "{'epoch': 0, 'train_loss': 1.9990729093551636, 'train_acc': 0.2, 'stop_loss': 1.9586161375045776, 'stop_acc': 0.598}\n",
      "{'epoch': 100, 'train_loss': 1.634821891784668, 'train_acc': 0.9285714285714286, 'stop_loss': 1.786266803741455, 'stop_acc': 0.812}\n",
      "{'epoch': 200, 'train_loss': 1.2545408010482788, 'train_acc': 0.9571428571428572, 'stop_loss': 1.5300672054290771, 'stop_acc': 0.812}\n",
      "{'epoch': 300, 'train_loss': 1.0751473903656006, 'train_acc': 0.9571428571428572, 'stop_loss': 1.3839552402496338, 'stop_acc': 0.806}\n",
      "{'epoch': 400, 'train_loss': 0.9484144449234009, 'train_acc': 0.9714285714285714, 'stop_loss': 1.288916826248169, 'stop_acc': 0.8}\n",
      "{'epoch': 500, 'train_loss': 0.855641782283783, 'train_acc': 0.9642857142857143, 'stop_loss': 1.2096483707427979, 'stop_acc': 0.81}\n",
      "{'epoch': 600, 'train_loss': 0.7569429874420166, 'train_acc': 0.9785714285714285, 'stop_loss': 1.145966649055481, 'stop_acc': 0.802}\n",
      "{'epoch': 700, 'train_loss': 0.6993557810783386, 'train_acc': 0.9857142857142858, 'stop_loss': 1.0922152996063232, 'stop_acc': 0.812}\n",
      "{'epoch': 800, 'train_loss': 0.6582139134407043, 'train_acc': 0.9928571428571429, 'stop_loss': 1.0504552125930786, 'stop_acc': 0.808}\n",
      "{'epoch': 900, 'train_loss': 0.6261551976203918, 'train_acc': 0.9857142857142858, 'stop_loss': 1.0369868278503418, 'stop_acc': 0.8}\n",
      "{'epoch': 1000, 'train_loss': 0.6025594472885132, 'train_acc': 0.9928571428571429, 'stop_loss': 1.0263745784759521, 'stop_acc': 0.804}\n",
      "{'epoch': 1100, 'train_loss': 0.5520495176315308, 'train_acc': 0.9857142857142858, 'stop_loss': 0.9753556847572327, 'stop_acc': 0.828}\n",
      "{'epoch': 1200, 'train_loss': 0.5283707976341248, 'train_acc': 1.0, 'stop_loss': 0.9730152487754822, 'stop_acc': 0.8}\n",
      "{'epoch': 1300, 'train_loss': 0.4959338903427124, 'train_acc': 1.0, 'stop_loss': 0.9331398010253906, 'stop_acc': 0.808}\n"
     ]
    },
    {
     "name": "stderr",
     "output_type": "stream",
     "text": [
      "2019-11-13 15:41:30: Iteration 56 of 100\n",
      "                     -------------------\n"
     ]
    },
    {
     "name": "stdout",
     "output_type": "stream",
     "text": [
      "{'epoch': 0, 'train_loss': 1.9992997646331787, 'train_acc': 0.11428571428571428, 'stop_loss': 1.9587162733078003, 'stop_acc': 0.404}\n",
      "{'epoch': 100, 'train_loss': 1.6613961458206177, 'train_acc': 0.8142857142857143, 'stop_loss': 1.790377140045166, 'stop_acc': 0.702}\n",
      "{'epoch': 200, 'train_loss': 1.2715312242507935, 'train_acc': 0.9285714285714286, 'stop_loss': 1.5111546516418457, 'stop_acc': 0.768}\n",
      "{'epoch': 300, 'train_loss': 1.0734554529190063, 'train_acc': 0.9642857142857143, 'stop_loss': 1.3474884033203125, 'stop_acc': 0.79}\n",
      "{'epoch': 400, 'train_loss': 0.9117103815078735, 'train_acc': 0.9785714285714285, 'stop_loss': 1.2571043968200684, 'stop_acc': 0.786}\n",
      "{'epoch': 500, 'train_loss': 0.8320939540863037, 'train_acc': 0.9785714285714285, 'stop_loss': 1.181007981300354, 'stop_acc': 0.796}\n",
      "{'epoch': 600, 'train_loss': 0.7800198793411255, 'train_acc': 0.9928571428571429, 'stop_loss': 1.1291974782943726, 'stop_acc': 0.788}\n",
      "{'epoch': 700, 'train_loss': 0.6989277601242065, 'train_acc': 0.9785714285714285, 'stop_loss': 1.0957664251327515, 'stop_acc': 0.792}\n",
      "{'epoch': 800, 'train_loss': 0.6677982807159424, 'train_acc': 1.0, 'stop_loss': 1.0332591533660889, 'stop_acc': 0.798}\n",
      "{'epoch': 900, 'train_loss': 0.6068746447563171, 'train_acc': 0.9928571428571429, 'stop_loss': 1.027557134628296, 'stop_acc': 0.798}\n",
      "{'epoch': 1000, 'train_loss': 0.5899885892868042, 'train_acc': 1.0, 'stop_loss': 1.012326717376709, 'stop_acc': 0.784}\n",
      "{'epoch': 1100, 'train_loss': 0.5714645981788635, 'train_acc': 0.9857142857142858, 'stop_loss': 0.9649189710617065, 'stop_acc': 0.796}\n",
      "{'epoch': 1200, 'train_loss': 0.5238035321235657, 'train_acc': 0.9928571428571429, 'stop_loss': 0.965755820274353, 'stop_acc': 0.784}\n",
      "{'epoch': 1300, 'train_loss': 0.5172138214111328, 'train_acc': 0.9928571428571429, 'stop_loss': 0.9640519618988037, 'stop_acc': 0.794}\n",
      "{'epoch': 1400, 'train_loss': 0.48847320675849915, 'train_acc': 1.0, 'stop_loss': 0.9507391452789307, 'stop_acc': 0.792}\n",
      "{'epoch': 1500, 'train_loss': 0.47718536853790283, 'train_acc': 1.0, 'stop_loss': 0.9272675514221191, 'stop_acc': 0.794}\n",
      "{'epoch': 1600, 'train_loss': 0.45098739862442017, 'train_acc': 1.0, 'stop_loss': 0.9128535985946655, 'stop_acc': 0.776}\n",
      "{'epoch': 1700, 'train_loss': 0.4495018422603607, 'train_acc': 1.0, 'stop_loss': 0.9063007831573486, 'stop_acc': 0.784}\n",
      "{'epoch': 1800, 'train_loss': 0.43630826473236084, 'train_acc': 1.0, 'stop_loss': 0.9165811538696289, 'stop_acc': 0.786}\n",
      "{'epoch': 1900, 'train_loss': 0.4199758768081665, 'train_acc': 0.9928571428571429, 'stop_loss': 0.8945168852806091, 'stop_acc': 0.784}\n",
      "{'epoch': 2000, 'train_loss': 0.3974255919456482, 'train_acc': 1.0, 'stop_loss': 0.9101648330688477, 'stop_acc': 0.776}\n",
      "{'epoch': 2100, 'train_loss': 0.37258705496788025, 'train_acc': 1.0, 'stop_loss': 0.8991943001747131, 'stop_acc': 0.776}\n"
     ]
    },
    {
     "name": "stderr",
     "output_type": "stream",
     "text": [
      "2019-11-13 15:42:12: Iteration 57 of 100\n",
      "                     -------------------\n"
     ]
    },
    {
     "name": "stdout",
     "output_type": "stream",
     "text": [
      "{'epoch': 0, 'train_loss': 1.9993398189544678, 'train_acc': 0.16428571428571428, 'stop_loss': 1.9585424661636353, 'stop_acc': 0.548}\n",
      "{'epoch': 100, 'train_loss': 1.6733084917068481, 'train_acc': 0.8142857142857143, 'stop_loss': 1.7694742679595947, 'stop_acc': 0.732}\n",
      "{'epoch': 200, 'train_loss': 1.3017652034759521, 'train_acc': 0.9428571428571428, 'stop_loss': 1.495129942893982, 'stop_acc': 0.784}\n",
      "{'epoch': 300, 'train_loss': 1.055100679397583, 'train_acc': 0.95, 'stop_loss': 1.34954833984375, 'stop_acc': 0.788}\n",
      "{'epoch': 400, 'train_loss': 0.9429197311401367, 'train_acc': 0.9785714285714285, 'stop_loss': 1.2479135990142822, 'stop_acc': 0.792}\n",
      "{'epoch': 500, 'train_loss': 0.839073121547699, 'train_acc': 0.9857142857142858, 'stop_loss': 1.1758677959442139, 'stop_acc': 0.796}\n",
      "{'epoch': 600, 'train_loss': 0.7766915559768677, 'train_acc': 1.0, 'stop_loss': 1.1249033212661743, 'stop_acc': 0.794}\n",
      "{'epoch': 700, 'train_loss': 0.6934858560562134, 'train_acc': 0.9928571428571429, 'stop_loss': 1.094257116317749, 'stop_acc': 0.788}\n",
      "{'epoch': 800, 'train_loss': 0.6563889980316162, 'train_acc': 0.9928571428571429, 'stop_loss': 1.0410411357879639, 'stop_acc': 0.784}\n",
      "{'epoch': 900, 'train_loss': 0.6058549880981445, 'train_acc': 0.9928571428571429, 'stop_loss': 1.023444414138794, 'stop_acc': 0.79}\n",
      "{'epoch': 1000, 'train_loss': 0.5836737155914307, 'train_acc': 0.9857142857142858, 'stop_loss': 1.000974178314209, 'stop_acc': 0.782}\n",
      "{'epoch': 1100, 'train_loss': 0.5622049570083618, 'train_acc': 1.0, 'stop_loss': 1.0058703422546387, 'stop_acc': 0.776}\n",
      "{'epoch': 1200, 'train_loss': 0.5115323066711426, 'train_acc': 1.0, 'stop_loss': 0.9514236450195312, 'stop_acc': 0.788}\n",
      "{'epoch': 1300, 'train_loss': 0.4852856397628784, 'train_acc': 1.0, 'stop_loss': 0.9514716267585754, 'stop_acc': 0.788}\n",
      "{'epoch': 1400, 'train_loss': 0.4952279329299927, 'train_acc': 0.9928571428571429, 'stop_loss': 0.9668506979942322, 'stop_acc': 0.778}\n",
      "{'epoch': 1500, 'train_loss': 0.4555514454841614, 'train_acc': 1.0, 'stop_loss': 0.910224199295044, 'stop_acc': 0.788}\n"
     ]
    },
    {
     "name": "stderr",
     "output_type": "stream",
     "text": [
      "2019-11-13 15:42:41: Iteration 58 of 100\n",
      "                     -------------------\n"
     ]
    },
    {
     "name": "stdout",
     "output_type": "stream",
     "text": [
      "{'epoch': 0, 'train_loss': 1.9994375705718994, 'train_acc': 0.17142857142857143, 'stop_loss': 1.9585816860198975, 'stop_acc': 0.4}\n",
      "{'epoch': 100, 'train_loss': 1.688449501991272, 'train_acc': 0.8285714285714286, 'stop_loss': 1.7960878610610962, 'stop_acc': 0.714}\n",
      "{'epoch': 200, 'train_loss': 1.2947444915771484, 'train_acc': 0.9071428571428571, 'stop_loss': 1.5153132677078247, 'stop_acc': 0.774}\n",
      "{'epoch': 300, 'train_loss': 1.056488275527954, 'train_acc': 0.9714285714285714, 'stop_loss': 1.3515928983688354, 'stop_acc': 0.782}\n",
      "{'epoch': 400, 'train_loss': 0.9158555865287781, 'train_acc': 0.9714285714285714, 'stop_loss': 1.2606306076049805, 'stop_acc': 0.79}\n",
      "{'epoch': 500, 'train_loss': 0.8376212120056152, 'train_acc': 0.9857142857142858, 'stop_loss': 1.1892937421798706, 'stop_acc': 0.79}\n",
      "{'epoch': 600, 'train_loss': 0.7775585651397705, 'train_acc': 0.9785714285714285, 'stop_loss': 1.1450695991516113, 'stop_acc': 0.784}\n",
      "{'epoch': 700, 'train_loss': 0.7011761665344238, 'train_acc': 0.9928571428571429, 'stop_loss': 1.1079355478286743, 'stop_acc': 0.78}\n",
      "{'epoch': 800, 'train_loss': 0.675952672958374, 'train_acc': 0.9928571428571429, 'stop_loss': 1.0563528537750244, 'stop_acc': 0.798}\n",
      "{'epoch': 900, 'train_loss': 0.6143201589584351, 'train_acc': 0.9928571428571429, 'stop_loss': 1.0305509567260742, 'stop_acc': 0.782}\n",
      "{'epoch': 1000, 'train_loss': 0.5883599519729614, 'train_acc': 0.9928571428571429, 'stop_loss': 0.9941245913505554, 'stop_acc': 0.79}\n",
      "{'epoch': 1100, 'train_loss': 0.5517334938049316, 'train_acc': 1.0, 'stop_loss': 0.9837349653244019, 'stop_acc': 0.79}\n",
      "{'epoch': 1200, 'train_loss': 0.5135869979858398, 'train_acc': 0.9785714285714285, 'stop_loss': 0.9722262620925903, 'stop_acc': 0.782}\n",
      "{'epoch': 1300, 'train_loss': 0.5146108269691467, 'train_acc': 0.9928571428571429, 'stop_loss': 0.9637540578842163, 'stop_acc': 0.782}\n",
      "{'epoch': 1400, 'train_loss': 0.4634247422218323, 'train_acc': 1.0, 'stop_loss': 0.9570767283439636, 'stop_acc': 0.78}\n",
      "{'epoch': 1500, 'train_loss': 0.4621318578720093, 'train_acc': 1.0, 'stop_loss': 0.9189488887786865, 'stop_acc': 0.792}\n",
      "{'epoch': 1600, 'train_loss': 0.449596107006073, 'train_acc': 1.0, 'stop_loss': 0.9076638221740723, 'stop_acc': 0.794}\n",
      "{'epoch': 1700, 'train_loss': 0.46106889843940735, 'train_acc': 1.0, 'stop_loss': 0.9284920692443848, 'stop_acc': 0.78}\n",
      "{'epoch': 1800, 'train_loss': 0.41903573274612427, 'train_acc': 1.0, 'stop_loss': 0.8762912750244141, 'stop_acc': 0.794}\n",
      "{'epoch': 1900, 'train_loss': 0.4260740578174591, 'train_acc': 1.0, 'stop_loss': 0.9224048256874084, 'stop_acc': 0.782}\n",
      "{'epoch': 2000, 'train_loss': 0.41588330268859863, 'train_acc': 0.9785714285714285, 'stop_loss': 0.8785498142242432, 'stop_acc': 0.784}\n",
      "{'epoch': 2100, 'train_loss': 0.3999024033546448, 'train_acc': 0.9928571428571429, 'stop_loss': 0.8628052473068237, 'stop_acc': 0.786}\n",
      "{'epoch': 2200, 'train_loss': 0.3768516778945923, 'train_acc': 0.9928571428571429, 'stop_loss': 0.9035407304763794, 'stop_acc': 0.764}\n",
      "{'epoch': 2300, 'train_loss': 0.374144971370697, 'train_acc': 0.9928571428571429, 'stop_loss': 0.8560419678688049, 'stop_acc': 0.78}\n"
     ]
    },
    {
     "name": "stderr",
     "output_type": "stream",
     "text": [
      "2019-11-13 15:43:25: Iteration 59 of 100\n",
      "                     -------------------\n"
     ]
    },
    {
     "name": "stdout",
     "output_type": "stream",
     "text": [
      "{'epoch': 0, 'train_loss': 1.999053955078125, 'train_acc': 0.11428571428571428, 'stop_loss': 1.9585461616516113, 'stop_acc': 0.286}\n",
      "{'epoch': 100, 'train_loss': 1.6893442869186401, 'train_acc': 0.7714285714285715, 'stop_loss': 1.7693705558776855, 'stop_acc': 0.732}\n",
      "{'epoch': 200, 'train_loss': 1.2945563793182373, 'train_acc': 0.9357142857142857, 'stop_loss': 1.5021817684173584, 'stop_acc': 0.79}\n",
      "{'epoch': 300, 'train_loss': 1.0938916206359863, 'train_acc': 0.9571428571428572, 'stop_loss': 1.3384106159210205, 'stop_acc': 0.8}\n",
      "{'epoch': 400, 'train_loss': 0.9731515645980835, 'train_acc': 0.9857142857142858, 'stop_loss': 1.2483668327331543, 'stop_acc': 0.788}\n",
      "{'epoch': 500, 'train_loss': 0.8738024234771729, 'train_acc': 0.9785714285714285, 'stop_loss': 1.1993824243545532, 'stop_acc': 0.79}\n",
      "{'epoch': 600, 'train_loss': 0.7607612609863281, 'train_acc': 0.9785714285714285, 'stop_loss': 1.138625979423523, 'stop_acc': 0.79}\n",
      "{'epoch': 700, 'train_loss': 0.7122939825057983, 'train_acc': 0.9928571428571429, 'stop_loss': 1.091871738433838, 'stop_acc': 0.788}\n",
      "{'epoch': 800, 'train_loss': 0.684238851070404, 'train_acc': 0.9714285714285714, 'stop_loss': 1.0541319847106934, 'stop_acc': 0.786}\n",
      "{'epoch': 900, 'train_loss': 0.638724684715271, 'train_acc': 0.9857142857142858, 'stop_loss': 1.0258512496948242, 'stop_acc': 0.79}\n",
      "{'epoch': 1000, 'train_loss': 0.5998055338859558, 'train_acc': 0.9928571428571429, 'stop_loss': 1.0192598104476929, 'stop_acc': 0.788}\n",
      "{'epoch': 1100, 'train_loss': 0.5842319130897522, 'train_acc': 1.0, 'stop_loss': 0.971234917640686, 'stop_acc': 0.792}\n",
      "{'epoch': 1200, 'train_loss': 0.5612969994544983, 'train_acc': 0.9857142857142858, 'stop_loss': 1.0050231218338013, 'stop_acc': 0.78}\n",
      "{'epoch': 1300, 'train_loss': 0.5157187581062317, 'train_acc': 0.9928571428571429, 'stop_loss': 0.9743912220001221, 'stop_acc': 0.784}\n",
      "{'epoch': 1400, 'train_loss': 0.4761335253715515, 'train_acc': 1.0, 'stop_loss': 0.9705740213394165, 'stop_acc': 0.78}\n",
      "{'epoch': 1500, 'train_loss': 0.4721744656562805, 'train_acc': 1.0, 'stop_loss': 0.9340531826019287, 'stop_acc': 0.784}\n",
      "{'epoch': 1600, 'train_loss': 0.4659423530101776, 'train_acc': 1.0, 'stop_loss': 0.9220292568206787, 'stop_acc': 0.78}\n",
      "{'epoch': 1700, 'train_loss': 0.4477945566177368, 'train_acc': 0.9928571428571429, 'stop_loss': 0.8939964175224304, 'stop_acc': 0.796}\n",
      "{'epoch': 1800, 'train_loss': 0.4320334196090698, 'train_acc': 0.9928571428571429, 'stop_loss': 0.9148455858230591, 'stop_acc': 0.784}\n",
      "{'epoch': 1900, 'train_loss': 0.41409873962402344, 'train_acc': 1.0, 'stop_loss': 0.8951138257980347, 'stop_acc': 0.786}\n",
      "{'epoch': 2000, 'train_loss': 0.41075095534324646, 'train_acc': 1.0, 'stop_loss': 0.8829325437545776, 'stop_acc': 0.798}\n",
      "{'epoch': 2100, 'train_loss': 0.3984920382499695, 'train_acc': 1.0, 'stop_loss': 0.9040428400039673, 'stop_acc': 0.788}\n",
      "{'epoch': 2200, 'train_loss': 0.38210374116897583, 'train_acc': 1.0, 'stop_loss': 0.8858349919319153, 'stop_acc': 0.778}\n",
      "{'epoch': 2300, 'train_loss': 0.3814656734466553, 'train_acc': 1.0, 'stop_loss': 0.8975757956504822, 'stop_acc': 0.77}\n"
     ]
    },
    {
     "name": "stderr",
     "output_type": "stream",
     "text": [
      "2019-11-13 15:44:08: Iteration 60 of 100\n",
      "                     -------------------\n"
     ]
    },
    {
     "name": "stdout",
     "output_type": "stream",
     "text": [
      "{'epoch': 0, 'train_loss': 1.9991426467895508, 'train_acc': 0.15714285714285714, 'stop_loss': 1.9586584568023682, 'stop_acc': 0.28}\n",
      "{'epoch': 100, 'train_loss': 1.6820744276046753, 'train_acc': 0.8, 'stop_loss': 1.8007733821868896, 'stop_acc': 0.704}\n",
      "{'epoch': 200, 'train_loss': 1.2857449054718018, 'train_acc': 0.9428571428571428, 'stop_loss': 1.5157657861709595, 'stop_acc': 0.772}\n",
      "{'epoch': 300, 'train_loss': 1.0768522024154663, 'train_acc': 0.9714285714285714, 'stop_loss': 1.353560209274292, 'stop_acc': 0.792}\n",
      "{'epoch': 400, 'train_loss': 0.9281492829322815, 'train_acc': 0.9857142857142858, 'stop_loss': 1.2613980770111084, 'stop_acc': 0.776}\n",
      "{'epoch': 500, 'train_loss': 0.8760675191879272, 'train_acc': 0.9785714285714285, 'stop_loss': 1.1881213188171387, 'stop_acc': 0.792}\n",
      "{'epoch': 600, 'train_loss': 0.7598600387573242, 'train_acc': 0.9928571428571429, 'stop_loss': 1.1300333738327026, 'stop_acc': 0.8}\n",
      "{'epoch': 700, 'train_loss': 0.6948972940444946, 'train_acc': 0.9928571428571429, 'stop_loss': 1.0934362411499023, 'stop_acc': 0.786}\n",
      "{'epoch': 800, 'train_loss': 0.6649338603019714, 'train_acc': 0.9928571428571429, 'stop_loss': 1.0688263177871704, 'stop_acc': 0.78}\n",
      "{'epoch': 900, 'train_loss': 0.6229007840156555, 'train_acc': 0.9928571428571429, 'stop_loss': 1.018014907836914, 'stop_acc': 0.802}\n",
      "{'epoch': 1000, 'train_loss': 0.5963501334190369, 'train_acc': 0.9928571428571429, 'stop_loss': 1.0230005979537964, 'stop_acc': 0.786}\n",
      "{'epoch': 1100, 'train_loss': 0.5744312405586243, 'train_acc': 0.9714285714285714, 'stop_loss': 1.0033149719238281, 'stop_acc': 0.784}\n",
      "{'epoch': 1200, 'train_loss': 0.5266424417495728, 'train_acc': 0.9857142857142858, 'stop_loss': 0.9905356168746948, 'stop_acc': 0.774}\n",
      "{'epoch': 1300, 'train_loss': 0.505293071269989, 'train_acc': 0.9928571428571429, 'stop_loss': 0.9434908032417297, 'stop_acc': 0.788}\n"
     ]
    },
    {
     "name": "stderr",
     "output_type": "stream",
     "text": [
      "2019-11-13 15:44:35: Iteration 61 of 100\n",
      "                     -------------------\n"
     ]
    },
    {
     "name": "stdout",
     "output_type": "stream",
     "text": [
      "{'epoch': 0, 'train_loss': 1.9992343187332153, 'train_acc': 0.20714285714285716, 'stop_loss': 1.9587762355804443, 'stop_acc': 0.306}\n",
      "{'epoch': 100, 'train_loss': 1.6582512855529785, 'train_acc': 0.8214285714285714, 'stop_loss': 1.8649027347564697, 'stop_acc': 0.618}\n",
      "{'epoch': 200, 'train_loss': 1.2546963691711426, 'train_acc': 0.9357142857142857, 'stop_loss': 1.5913290977478027, 'stop_acc': 0.778}\n",
      "{'epoch': 300, 'train_loss': 1.0706963539123535, 'train_acc': 0.95, 'stop_loss': 1.40915846824646, 'stop_acc': 0.808}\n",
      "{'epoch': 400, 'train_loss': 0.9390273690223694, 'train_acc': 0.9714285714285714, 'stop_loss': 1.3061199188232422, 'stop_acc': 0.808}\n",
      "{'epoch': 500, 'train_loss': 0.8353341221809387, 'train_acc': 0.9857142857142858, 'stop_loss': 1.2159314155578613, 'stop_acc': 0.816}\n",
      "{'epoch': 600, 'train_loss': 0.7535051107406616, 'train_acc': 0.9857142857142858, 'stop_loss': 1.1545928716659546, 'stop_acc': 0.818}\n",
      "{'epoch': 700, 'train_loss': 0.6729527711868286, 'train_acc': 0.9571428571428572, 'stop_loss': 1.103560209274292, 'stop_acc': 0.814}\n",
      "{'epoch': 800, 'train_loss': 0.6604077816009521, 'train_acc': 0.9785714285714285, 'stop_loss': 1.0646768808364868, 'stop_acc': 0.816}\n",
      "{'epoch': 900, 'train_loss': 0.6059479713439941, 'train_acc': 0.9785714285714285, 'stop_loss': 1.0213500261306763, 'stop_acc': 0.832}\n",
      "{'epoch': 1000, 'train_loss': 0.5559390783309937, 'train_acc': 0.9928571428571429, 'stop_loss': 0.9925026893615723, 'stop_acc': 0.818}\n",
      "{'epoch': 1100, 'train_loss': 0.545968770980835, 'train_acc': 0.9928571428571429, 'stop_loss': 0.9735144376754761, 'stop_acc': 0.81}\n",
      "{'epoch': 1200, 'train_loss': 0.5322982668876648, 'train_acc': 0.9928571428571429, 'stop_loss': 0.9492876529693604, 'stop_acc': 0.82}\n",
      "{'epoch': 1300, 'train_loss': 0.5084954500198364, 'train_acc': 0.9857142857142858, 'stop_loss': 0.9478021860122681, 'stop_acc': 0.82}\n",
      "{'epoch': 1400, 'train_loss': 0.4865277409553528, 'train_acc': 0.9928571428571429, 'stop_loss': 0.9301641583442688, 'stop_acc': 0.806}\n",
      "{'epoch': 1500, 'train_loss': 0.4461079239845276, 'train_acc': 0.9857142857142858, 'stop_loss': 0.9189990162849426, 'stop_acc': 0.804}\n",
      "{'epoch': 1600, 'train_loss': 0.4510202407836914, 'train_acc': 0.9928571428571429, 'stop_loss': 0.8757317066192627, 'stop_acc': 0.82}\n",
      "{'epoch': 1700, 'train_loss': 0.4281790852546692, 'train_acc': 0.9857142857142858, 'stop_loss': 0.8874347805976868, 'stop_acc': 0.812}\n",
      "{'epoch': 1800, 'train_loss': 0.4009324014186859, 'train_acc': 1.0, 'stop_loss': 0.8572653532028198, 'stop_acc': 0.808}\n"
     ]
    },
    {
     "name": "stderr",
     "output_type": "stream",
     "text": [
      "2019-11-13 15:45:10: Iteration 62 of 100\n",
      "                     -------------------\n"
     ]
    },
    {
     "name": "stdout",
     "output_type": "stream",
     "text": [
      "{'epoch': 1900, 'train_loss': 0.3919062912464142, 'train_acc': 1.0, 'stop_loss': 0.8854212164878845, 'stop_acc': 0.802}\n",
      "{'epoch': 0, 'train_loss': 1.9991639852523804, 'train_acc': 0.16428571428571428, 'stop_loss': 1.9587780237197876, 'stop_acc': 0.414}\n",
      "{'epoch': 100, 'train_loss': 1.623549461364746, 'train_acc': 0.8928571428571429, 'stop_loss': 1.817154049873352, 'stop_acc': 0.766}\n",
      "{'epoch': 200, 'train_loss': 1.2311608791351318, 'train_acc': 0.9285714285714286, 'stop_loss': 1.5370814800262451, 'stop_acc': 0.818}\n",
      "{'epoch': 300, 'train_loss': 1.037350058555603, 'train_acc': 0.9571428571428572, 'stop_loss': 1.3795870542526245, 'stop_acc': 0.816}\n",
      "{'epoch': 400, 'train_loss': 0.9253262281417847, 'train_acc': 0.9785714285714285, 'stop_loss': 1.2536962032318115, 'stop_acc': 0.828}\n",
      "{'epoch': 500, 'train_loss': 0.8384079337120056, 'train_acc': 0.9714285714285714, 'stop_loss': 1.1864601373672485, 'stop_acc': 0.83}\n",
      "{'epoch': 600, 'train_loss': 0.7664924263954163, 'train_acc': 0.9642857142857143, 'stop_loss': 1.1367329359054565, 'stop_acc': 0.818}\n",
      "{'epoch': 700, 'train_loss': 0.6936460733413696, 'train_acc': 0.9928571428571429, 'stop_loss': 1.0780572891235352, 'stop_acc': 0.82}\n",
      "{'epoch': 800, 'train_loss': 0.6585346460342407, 'train_acc': 0.9785714285714285, 'stop_loss': 1.0594680309295654, 'stop_acc': 0.83}\n",
      "{'epoch': 900, 'train_loss': 0.6134822368621826, 'train_acc': 0.9642857142857143, 'stop_loss': 1.0283405780792236, 'stop_acc': 0.818}\n",
      "{'epoch': 1000, 'train_loss': 0.5675944685935974, 'train_acc': 0.9928571428571429, 'stop_loss': 0.9770532250404358, 'stop_acc': 0.824}\n",
      "{'epoch': 1100, 'train_loss': 0.5496732592582703, 'train_acc': 0.9857142857142858, 'stop_loss': 0.9650863409042358, 'stop_acc': 0.822}\n",
      "{'epoch': 1200, 'train_loss': 0.5023502111434937, 'train_acc': 1.0, 'stop_loss': 0.9521505832672119, 'stop_acc': 0.814}\n",
      "{'epoch': 1300, 'train_loss': 0.48928117752075195, 'train_acc': 0.9928571428571429, 'stop_loss': 0.9241648316383362, 'stop_acc': 0.822}\n",
      "{'epoch': 1400, 'train_loss': 0.45861661434173584, 'train_acc': 1.0, 'stop_loss': 0.900887131690979, 'stop_acc': 0.818}\n",
      "{'epoch': 1500, 'train_loss': 0.4872320294380188, 'train_acc': 0.9928571428571429, 'stop_loss': 0.8992738723754883, 'stop_acc': 0.814}\n",
      "{'epoch': 1600, 'train_loss': 0.4458521902561188, 'train_acc': 0.9785714285714285, 'stop_loss': 0.884838879108429, 'stop_acc': 0.826}\n",
      "{'epoch': 1700, 'train_loss': 0.4360728859901428, 'train_acc': 1.0, 'stop_loss': 0.8766558170318604, 'stop_acc': 0.818}\n",
      "{'epoch': 1800, 'train_loss': 0.4239492416381836, 'train_acc': 1.0, 'stop_loss': 0.839229941368103, 'stop_acc': 0.824}\n"
     ]
    },
    {
     "name": "stderr",
     "output_type": "stream",
     "text": [
      "2019-11-13 15:45:46: Iteration 63 of 100\n",
      "                     -------------------\n"
     ]
    },
    {
     "name": "stdout",
     "output_type": "stream",
     "text": [
      "{'epoch': 0, 'train_loss': 1.9990043640136719, 'train_acc': 0.1357142857142857, 'stop_loss': 1.9586793184280396, 'stop_acc': 0.45}\n",
      "{'epoch': 100, 'train_loss': 1.6393595933914185, 'train_acc': 0.8714285714285714, 'stop_loss': 1.8173949718475342, 'stop_acc': 0.726}\n",
      "{'epoch': 200, 'train_loss': 1.2496403455734253, 'train_acc': 0.95, 'stop_loss': 1.5326083898544312, 'stop_acc': 0.824}\n",
      "{'epoch': 300, 'train_loss': 1.0470716953277588, 'train_acc': 0.9571428571428572, 'stop_loss': 1.3628456592559814, 'stop_acc': 0.816}\n",
      "{'epoch': 400, 'train_loss': 0.9052109122276306, 'train_acc': 0.95, 'stop_loss': 1.269252061843872, 'stop_acc': 0.808}\n",
      "{'epoch': 500, 'train_loss': 0.8154981136322021, 'train_acc': 0.9714285714285714, 'stop_loss': 1.1834537982940674, 'stop_acc': 0.818}\n",
      "{'epoch': 600, 'train_loss': 0.774979829788208, 'train_acc': 0.9928571428571429, 'stop_loss': 1.1279104948043823, 'stop_acc': 0.828}\n",
      "{'epoch': 700, 'train_loss': 0.70246422290802, 'train_acc': 0.9857142857142858, 'stop_loss': 1.0761375427246094, 'stop_acc': 0.814}\n",
      "{'epoch': 800, 'train_loss': 0.6393985748291016, 'train_acc': 0.9928571428571429, 'stop_loss': 1.0411326885223389, 'stop_acc': 0.818}\n",
      "{'epoch': 900, 'train_loss': 0.6011949777603149, 'train_acc': 0.9785714285714285, 'stop_loss': 1.029036045074463, 'stop_acc': 0.808}\n",
      "{'epoch': 1000, 'train_loss': 0.5764175653457642, 'train_acc': 0.9857142857142858, 'stop_loss': 0.9791155457496643, 'stop_acc': 0.818}\n",
      "{'epoch': 1100, 'train_loss': 0.5702899694442749, 'train_acc': 0.9928571428571429, 'stop_loss': 0.941081166267395, 'stop_acc': 0.826}\n",
      "{'epoch': 1200, 'train_loss': 0.5212327241897583, 'train_acc': 0.9928571428571429, 'stop_loss': 0.9245434999465942, 'stop_acc': 0.832}\n",
      "{'epoch': 1300, 'train_loss': 0.5020063519477844, 'train_acc': 0.9928571428571429, 'stop_loss': 0.950875461101532, 'stop_acc': 0.806}\n",
      "{'epoch': 1400, 'train_loss': 0.47766441106796265, 'train_acc': 1.0, 'stop_loss': 0.9112842082977295, 'stop_acc': 0.826}\n",
      "{'epoch': 1500, 'train_loss': 0.46087896823883057, 'train_acc': 1.0, 'stop_loss': 0.9014486074447632, 'stop_acc': 0.822}\n",
      "{'epoch': 1600, 'train_loss': 0.4481523334980011, 'train_acc': 0.9928571428571429, 'stop_loss': 0.8938026428222656, 'stop_acc': 0.812}\n",
      "{'epoch': 1700, 'train_loss': 0.43017441034317017, 'train_acc': 1.0, 'stop_loss': 0.8665424585342407, 'stop_acc': 0.812}\n",
      "{'epoch': 1800, 'train_loss': 0.41648539900779724, 'train_acc': 1.0, 'stop_loss': 0.8979496955871582, 'stop_acc': 0.804}\n",
      "{'epoch': 1900, 'train_loss': 0.4114186763763428, 'train_acc': 1.0, 'stop_loss': 0.8744769096374512, 'stop_acc': 0.806}\n",
      "{'epoch': 2000, 'train_loss': 0.3898433744907379, 'train_acc': 1.0, 'stop_loss': 0.8351158499717712, 'stop_acc': 0.814}\n",
      "{'epoch': 2100, 'train_loss': 0.3841601014137268, 'train_acc': 0.9928571428571429, 'stop_loss': 0.8555652499198914, 'stop_acc': 0.818}\n"
     ]
    },
    {
     "name": "stderr",
     "output_type": "stream",
     "text": [
      "2019-11-13 15:46:26: Iteration 64 of 100\n",
      "                     -------------------\n"
     ]
    },
    {
     "name": "stdout",
     "output_type": "stream",
     "text": [
      "{'epoch': 0, 'train_loss': 1.999255895614624, 'train_acc': 0.15, 'stop_loss': 1.9587305784225464, 'stop_acc': 0.522}\n",
      "{'epoch': 100, 'train_loss': 1.6633081436157227, 'train_acc': 0.8714285714285714, 'stop_loss': 1.8507691621780396, 'stop_acc': 0.708}\n",
      "{'epoch': 200, 'train_loss': 1.2667802572250366, 'train_acc': 0.9428571428571428, 'stop_loss': 1.5707067251205444, 'stop_acc': 0.812}\n",
      "{'epoch': 300, 'train_loss': 1.0437138080596924, 'train_acc': 0.9714285714285714, 'stop_loss': 1.390813946723938, 'stop_acc': 0.818}\n",
      "{'epoch': 400, 'train_loss': 0.8812980055809021, 'train_acc': 0.9714285714285714, 'stop_loss': 1.2731187343597412, 'stop_acc': 0.82}\n",
      "{'epoch': 500, 'train_loss': 0.8257520198822021, 'train_acc': 0.9571428571428572, 'stop_loss': 1.1806678771972656, 'stop_acc': 0.834}\n",
      "{'epoch': 600, 'train_loss': 0.7730500102043152, 'train_acc': 0.9785714285714285, 'stop_loss': 1.1228289604187012, 'stop_acc': 0.828}\n",
      "{'epoch': 700, 'train_loss': 0.703019917011261, 'train_acc': 0.9928571428571429, 'stop_loss': 1.0989004373550415, 'stop_acc': 0.82}\n",
      "{'epoch': 800, 'train_loss': 0.6786453723907471, 'train_acc': 0.9714285714285714, 'stop_loss': 1.0608958005905151, 'stop_acc': 0.82}\n",
      "{'epoch': 900, 'train_loss': 0.6011819243431091, 'train_acc': 0.9928571428571429, 'stop_loss': 1.005599021911621, 'stop_acc': 0.824}\n",
      "{'epoch': 1000, 'train_loss': 0.5707173347473145, 'train_acc': 0.9928571428571429, 'stop_loss': 1.0122874975204468, 'stop_acc': 0.812}\n",
      "{'epoch': 1100, 'train_loss': 0.5685844421386719, 'train_acc': 0.9928571428571429, 'stop_loss': 0.982589840888977, 'stop_acc': 0.806}\n"
     ]
    },
    {
     "name": "stderr",
     "output_type": "stream",
     "text": [
      "2019-11-13 15:46:48: Iteration 65 of 100\n",
      "                     -------------------\n"
     ]
    },
    {
     "name": "stdout",
     "output_type": "stream",
     "text": [
      "{'epoch': 0, 'train_loss': 1.9993269443511963, 'train_acc': 0.15, 'stop_loss': 1.958803415298462, 'stop_acc': 0.378}\n",
      "{'epoch': 100, 'train_loss': 1.6496038436889648, 'train_acc': 0.8285714285714286, 'stop_loss': 1.8632524013519287, 'stop_acc': 0.586}\n",
      "{'epoch': 200, 'train_loss': 1.3065929412841797, 'train_acc': 0.9071428571428571, 'stop_loss': 1.5998320579528809, 'stop_acc': 0.766}\n",
      "{'epoch': 300, 'train_loss': 1.0585354566574097, 'train_acc': 0.95, 'stop_loss': 1.4154598712921143, 'stop_acc': 0.818}\n",
      "{'epoch': 400, 'train_loss': 0.9302082061767578, 'train_acc': 0.9571428571428572, 'stop_loss': 1.288223385810852, 'stop_acc': 0.826}\n",
      "{'epoch': 500, 'train_loss': 0.8442143201828003, 'train_acc': 0.9642857142857143, 'stop_loss': 1.2235785722732544, 'stop_acc': 0.816}\n",
      "{'epoch': 600, 'train_loss': 0.7649775743484497, 'train_acc': 0.9928571428571429, 'stop_loss': 1.1394567489624023, 'stop_acc': 0.83}\n",
      "{'epoch': 700, 'train_loss': 0.7025686502456665, 'train_acc': 0.9857142857142858, 'stop_loss': 1.0941710472106934, 'stop_acc': 0.822}\n",
      "{'epoch': 800, 'train_loss': 0.6607646942138672, 'train_acc': 0.9928571428571429, 'stop_loss': 1.0773415565490723, 'stop_acc': 0.816}\n",
      "{'epoch': 900, 'train_loss': 0.6321325302124023, 'train_acc': 0.9928571428571429, 'stop_loss': 1.0480161905288696, 'stop_acc': 0.81}\n",
      "{'epoch': 1000, 'train_loss': 0.5869080424308777, 'train_acc': 0.9928571428571429, 'stop_loss': 1.0050679445266724, 'stop_acc': 0.816}\n",
      "{'epoch': 1100, 'train_loss': 0.5797455310821533, 'train_acc': 1.0, 'stop_loss': 0.9707902669906616, 'stop_acc': 0.824}\n",
      "{'epoch': 1200, 'train_loss': 0.5196466445922852, 'train_acc': 0.9928571428571429, 'stop_loss': 0.9632549285888672, 'stop_acc': 0.812}\n",
      "{'epoch': 1300, 'train_loss': 0.5160076022148132, 'train_acc': 1.0, 'stop_loss': 0.9394468069076538, 'stop_acc': 0.822}\n",
      "{'epoch': 1400, 'train_loss': 0.5032424926757812, 'train_acc': 0.9857142857142858, 'stop_loss': 0.9197708368301392, 'stop_acc': 0.824}\n",
      "{'epoch': 1500, 'train_loss': 0.47404998540878296, 'train_acc': 1.0, 'stop_loss': 0.9435751438140869, 'stop_acc': 0.802}\n"
     ]
    },
    {
     "name": "stderr",
     "output_type": "stream",
     "text": [
      "2019-11-13 15:47:18: Iteration 66 of 100\n",
      "                     -------------------\n"
     ]
    },
    {
     "name": "stdout",
     "output_type": "stream",
     "text": [
      "{'epoch': 0, 'train_loss': 1.99941086769104, 'train_acc': 0.15714285714285714, 'stop_loss': 1.9586316347122192, 'stop_acc': 0.542}\n",
      "{'epoch': 100, 'train_loss': 1.6588560342788696, 'train_acc': 0.9, 'stop_loss': 1.7756667137145996, 'stop_acc': 0.782}\n",
      "{'epoch': 200, 'train_loss': 1.2734235525131226, 'train_acc': 0.9285714285714286, 'stop_loss': 1.4876089096069336, 'stop_acc': 0.812}\n",
      "{'epoch': 300, 'train_loss': 1.124696969985962, 'train_acc': 0.9214285714285714, 'stop_loss': 1.3096048831939697, 'stop_acc': 0.818}\n",
      "{'epoch': 400, 'train_loss': 0.9708952903747559, 'train_acc': 0.9357142857142857, 'stop_loss': 1.196283221244812, 'stop_acc': 0.822}\n",
      "{'epoch': 500, 'train_loss': 0.8848162889480591, 'train_acc': 0.95, 'stop_loss': 1.1300688982009888, 'stop_acc': 0.826}\n",
      "{'epoch': 600, 'train_loss': 0.7996447086334229, 'train_acc': 0.9785714285714285, 'stop_loss': 1.0620924234390259, 'stop_acc': 0.838}\n",
      "{'epoch': 700, 'train_loss': 0.7605781555175781, 'train_acc': 0.9857142857142858, 'stop_loss': 1.0174189805984497, 'stop_acc': 0.838}\n",
      "{'epoch': 800, 'train_loss': 0.6813268661499023, 'train_acc': 0.9857142857142858, 'stop_loss': 0.9783996343612671, 'stop_acc': 0.838}\n",
      "{'epoch': 900, 'train_loss': 0.6636216640472412, 'train_acc': 0.9857142857142858, 'stop_loss': 0.9495551586151123, 'stop_acc': 0.834}\n",
      "{'epoch': 1000, 'train_loss': 0.6397101879119873, 'train_acc': 0.9785714285714285, 'stop_loss': 0.924699068069458, 'stop_acc': 0.832}\n",
      "{'epoch': 1100, 'train_loss': 0.5795350074768066, 'train_acc': 0.9857142857142858, 'stop_loss': 0.8875167369842529, 'stop_acc': 0.846}\n",
      "{'epoch': 1200, 'train_loss': 0.5782503485679626, 'train_acc': 0.9785714285714285, 'stop_loss': 0.872549831867218, 'stop_acc': 0.832}\n",
      "{'epoch': 1300, 'train_loss': 0.5611016750335693, 'train_acc': 0.9857142857142858, 'stop_loss': 0.8699356913566589, 'stop_acc': 0.844}\n",
      "{'epoch': 1400, 'train_loss': 0.5136822462081909, 'train_acc': 0.9928571428571429, 'stop_loss': 0.8298653364181519, 'stop_acc': 0.862}\n",
      "{'epoch': 1500, 'train_loss': 0.5467500686645508, 'train_acc': 0.9785714285714285, 'stop_loss': 0.828590989112854, 'stop_acc': 0.842}\n",
      "{'epoch': 1600, 'train_loss': 0.5034935474395752, 'train_acc': 0.9857142857142858, 'stop_loss': 0.8264873027801514, 'stop_acc': 0.836}\n",
      "{'epoch': 1700, 'train_loss': 0.49352410435676575, 'train_acc': 0.9857142857142858, 'stop_loss': 0.817217230796814, 'stop_acc': 0.848}\n"
     ]
    },
    {
     "name": "stderr",
     "output_type": "stream",
     "text": [
      "2019-11-13 15:47:51: Iteration 67 of 100\n",
      "                     -------------------\n"
     ]
    },
    {
     "name": "stdout",
     "output_type": "stream",
     "text": [
      "{'epoch': 0, 'train_loss': 1.9993562698364258, 'train_acc': 0.15714285714285714, 'stop_loss': 1.9586937427520752, 'stop_acc': 0.492}\n",
      "{'epoch': 100, 'train_loss': 1.6635264158248901, 'train_acc': 0.8642857142857143, 'stop_loss': 1.763738751411438, 'stop_acc': 0.802}\n",
      "{'epoch': 200, 'train_loss': 1.3146969079971313, 'train_acc': 0.9, 'stop_loss': 1.472137212753296, 'stop_acc': 0.818}\n",
      "{'epoch': 300, 'train_loss': 1.1169095039367676, 'train_acc': 0.9214285714285714, 'stop_loss': 1.305403232574463, 'stop_acc': 0.828}\n",
      "{'epoch': 400, 'train_loss': 0.9848201274871826, 'train_acc': 0.9785714285714285, 'stop_loss': 1.2002071142196655, 'stop_acc': 0.836}\n",
      "{'epoch': 500, 'train_loss': 0.8952664732933044, 'train_acc': 0.9642857142857143, 'stop_loss': 1.1134395599365234, 'stop_acc': 0.842}\n",
      "{'epoch': 600, 'train_loss': 0.8279303312301636, 'train_acc': 0.95, 'stop_loss': 1.0801056623458862, 'stop_acc': 0.826}\n",
      "{'epoch': 700, 'train_loss': 0.7792302370071411, 'train_acc': 0.9714285714285714, 'stop_loss': 1.0281437635421753, 'stop_acc': 0.828}\n",
      "{'epoch': 800, 'train_loss': 0.7215620279312134, 'train_acc': 0.9642857142857143, 'stop_loss': 0.9854669570922852, 'stop_acc': 0.832}\n",
      "{'epoch': 900, 'train_loss': 0.6933380365371704, 'train_acc': 0.9642857142857143, 'stop_loss': 0.9555609226226807, 'stop_acc': 0.834}\n",
      "{'epoch': 1000, 'train_loss': 0.6421117782592773, 'train_acc': 0.9857142857142858, 'stop_loss': 0.9241335988044739, 'stop_acc': 0.854}\n",
      "{'epoch': 1100, 'train_loss': 0.6047569513320923, 'train_acc': 0.9857142857142858, 'stop_loss': 0.9070711135864258, 'stop_acc': 0.844}\n",
      "{'epoch': 1200, 'train_loss': 0.574700117111206, 'train_acc': 0.9928571428571429, 'stop_loss': 0.8801079988479614, 'stop_acc': 0.83}\n",
      "{'epoch': 1300, 'train_loss': 0.553022027015686, 'train_acc': 0.9785714285714285, 'stop_loss': 0.8524512052536011, 'stop_acc': 0.846}\n",
      "{'epoch': 1400, 'train_loss': 0.5231342315673828, 'train_acc': 0.9785714285714285, 'stop_loss': 0.8514626026153564, 'stop_acc': 0.836}\n",
      "{'epoch': 1500, 'train_loss': 0.5253251194953918, 'train_acc': 0.9785714285714285, 'stop_loss': 0.8368805646896362, 'stop_acc': 0.854}\n",
      "{'epoch': 1600, 'train_loss': 0.497913122177124, 'train_acc': 0.9928571428571429, 'stop_loss': 0.8222097158432007, 'stop_acc': 0.834}\n",
      "{'epoch': 1700, 'train_loss': 0.48552006483078003, 'train_acc': 1.0, 'stop_loss': 0.8148880004882812, 'stop_acc': 0.836}\n",
      "{'epoch': 1800, 'train_loss': 0.5198326110839844, 'train_acc': 0.9714285714285714, 'stop_loss': 0.7746827006340027, 'stop_acc': 0.846}\n",
      "{'epoch': 1900, 'train_loss': 0.45938146114349365, 'train_acc': 1.0, 'stop_loss': 0.7917181253433228, 'stop_acc': 0.838}\n",
      "{'epoch': 2000, 'train_loss': 0.45965951681137085, 'train_acc': 0.9928571428571429, 'stop_loss': 0.7854554653167725, 'stop_acc': 0.844}\n"
     ]
    },
    {
     "name": "stderr",
     "output_type": "stream",
     "text": [
      "2019-11-13 15:48:30: Iteration 68 of 100\n",
      "                     -------------------\n"
     ]
    },
    {
     "name": "stdout",
     "output_type": "stream",
     "text": [
      "{'epoch': 0, 'train_loss': 1.9991991519927979, 'train_acc': 0.15, 'stop_loss': 1.9586482048034668, 'stop_acc': 0.43}\n",
      "{'epoch': 100, 'train_loss': 1.6503136157989502, 'train_acc': 0.8642857142857143, 'stop_loss': 1.7834538221359253, 'stop_acc': 0.762}\n",
      "{'epoch': 200, 'train_loss': 1.2919683456420898, 'train_acc': 0.9071428571428571, 'stop_loss': 1.4872938394546509, 'stop_acc': 0.81}\n",
      "{'epoch': 300, 'train_loss': 1.115208387374878, 'train_acc': 0.9428571428571428, 'stop_loss': 1.3158116340637207, 'stop_acc': 0.816}\n",
      "{'epoch': 400, 'train_loss': 0.9810440540313721, 'train_acc': 0.9571428571428572, 'stop_loss': 1.2015585899353027, 'stop_acc': 0.83}\n",
      "{'epoch': 500, 'train_loss': 0.8474783301353455, 'train_acc': 0.9571428571428572, 'stop_loss': 1.1286370754241943, 'stop_acc': 0.816}\n",
      "{'epoch': 600, 'train_loss': 0.7924834489822388, 'train_acc': 0.9928571428571429, 'stop_loss': 1.0594878196716309, 'stop_acc': 0.842}\n",
      "{'epoch': 700, 'train_loss': 0.7279415130615234, 'train_acc': 0.9642857142857143, 'stop_loss': 1.0112605094909668, 'stop_acc': 0.84}\n",
      "{'epoch': 800, 'train_loss': 0.7100746631622314, 'train_acc': 0.9642857142857143, 'stop_loss': 0.9691773653030396, 'stop_acc': 0.836}\n",
      "{'epoch': 900, 'train_loss': 0.6531499624252319, 'train_acc': 0.9642857142857143, 'stop_loss': 0.9280622601509094, 'stop_acc': 0.844}\n",
      "{'epoch': 1000, 'train_loss': 0.6315906047821045, 'train_acc': 0.9785714285714285, 'stop_loss': 0.9237008094787598, 'stop_acc': 0.838}\n",
      "{'epoch': 1100, 'train_loss': 0.5865366458892822, 'train_acc': 0.9857142857142858, 'stop_loss': 0.8977751135826111, 'stop_acc': 0.834}\n",
      "{'epoch': 1200, 'train_loss': 0.5802304744720459, 'train_acc': 0.9785714285714285, 'stop_loss': 0.8772928714752197, 'stop_acc': 0.834}\n",
      "{'epoch': 1300, 'train_loss': 0.5484254360198975, 'train_acc': 0.9857142857142858, 'stop_loss': 0.8530441522598267, 'stop_acc': 0.848}\n",
      "{'epoch': 1400, 'train_loss': 0.5160752534866333, 'train_acc': 0.9857142857142858, 'stop_loss': 0.847657322883606, 'stop_acc': 0.83}\n",
      "{'epoch': 1500, 'train_loss': 0.50531005859375, 'train_acc': 0.9928571428571429, 'stop_loss': 0.8305835127830505, 'stop_acc': 0.836}\n",
      "{'epoch': 1600, 'train_loss': 0.4884987473487854, 'train_acc': 0.9857142857142858, 'stop_loss': 0.8070878386497498, 'stop_acc': 0.838}\n",
      "{'epoch': 1700, 'train_loss': 0.47007688879966736, 'train_acc': 0.9785714285714285, 'stop_loss': 0.8160150647163391, 'stop_acc': 0.84}\n",
      "{'epoch': 1800, 'train_loss': 0.46263033151626587, 'train_acc': 0.9928571428571429, 'stop_loss': 0.7694562673568726, 'stop_acc': 0.858}\n",
      "{'epoch': 1900, 'train_loss': 0.4466877579689026, 'train_acc': 0.9928571428571429, 'stop_loss': 0.7764148712158203, 'stop_acc': 0.842}\n",
      "{'epoch': 2000, 'train_loss': 0.423236221075058, 'train_acc': 0.9928571428571429, 'stop_loss': 0.7685929536819458, 'stop_acc': 0.838}\n",
      "{'epoch': 2100, 'train_loss': 0.4175644516944885, 'train_acc': 0.9928571428571429, 'stop_loss': 0.7593388557434082, 'stop_acc': 0.838}\n",
      "{'epoch': 2200, 'train_loss': 0.4029133915901184, 'train_acc': 1.0, 'stop_loss': 0.7442132234573364, 'stop_acc': 0.86}\n"
     ]
    },
    {
     "name": "stderr",
     "output_type": "stream",
     "text": [
      "2019-11-13 15:49:12: Iteration 69 of 100\n",
      "                     -------------------\n"
     ]
    },
    {
     "name": "stdout",
     "output_type": "stream",
     "text": [
      "{'epoch': 0, 'train_loss': 1.9991381168365479, 'train_acc': 0.18571428571428572, 'stop_loss': 1.9586362838745117, 'stop_acc': 0.54}\n",
      "{'epoch': 100, 'train_loss': 1.6589086055755615, 'train_acc': 0.9071428571428571, 'stop_loss': 1.7610647678375244, 'stop_acc': 0.808}\n",
      "{'epoch': 200, 'train_loss': 1.3141629695892334, 'train_acc': 0.9071428571428571, 'stop_loss': 1.4734022617340088, 'stop_acc': 0.82}\n",
      "{'epoch': 300, 'train_loss': 1.1091747283935547, 'train_acc': 0.9285714285714286, 'stop_loss': 1.2960902452468872, 'stop_acc': 0.832}\n",
      "{'epoch': 400, 'train_loss': 0.9876171946525574, 'train_acc': 0.9642857142857143, 'stop_loss': 1.2022829055786133, 'stop_acc': 0.826}\n",
      "{'epoch': 500, 'train_loss': 0.8806760311126709, 'train_acc': 0.9428571428571428, 'stop_loss': 1.1190400123596191, 'stop_acc': 0.836}\n",
      "{'epoch': 600, 'train_loss': 0.7901467084884644, 'train_acc': 0.9642857142857143, 'stop_loss': 1.0708681344985962, 'stop_acc': 0.836}\n",
      "{'epoch': 700, 'train_loss': 0.7629064321517944, 'train_acc': 0.9785714285714285, 'stop_loss': 1.0158871412277222, 'stop_acc': 0.838}\n",
      "{'epoch': 800, 'train_loss': 0.6856262683868408, 'train_acc': 0.9714285714285714, 'stop_loss': 0.9844388961791992, 'stop_acc': 0.834}\n",
      "{'epoch': 900, 'train_loss': 0.6818608045578003, 'train_acc': 0.9714285714285714, 'stop_loss': 0.9599415063858032, 'stop_acc': 0.832}\n",
      "{'epoch': 1000, 'train_loss': 0.6207121014595032, 'train_acc': 0.9928571428571429, 'stop_loss': 0.9176334738731384, 'stop_acc': 0.848}\n",
      "{'epoch': 1100, 'train_loss': 0.6049835085868835, 'train_acc': 0.9785714285714285, 'stop_loss': 0.9082827568054199, 'stop_acc': 0.844}\n",
      "{'epoch': 1200, 'train_loss': 0.5746012330055237, 'train_acc': 0.9928571428571429, 'stop_loss': 0.8812159895896912, 'stop_acc': 0.834}\n",
      "{'epoch': 1300, 'train_loss': 0.5614471435546875, 'train_acc': 0.9928571428571429, 'stop_loss': 0.865299642086029, 'stop_acc': 0.836}\n",
      "{'epoch': 1400, 'train_loss': 0.5404236912727356, 'train_acc': 0.9714285714285714, 'stop_loss': 0.8454083204269409, 'stop_acc': 0.834}\n",
      "{'epoch': 1500, 'train_loss': 0.5403969287872314, 'train_acc': 0.9785714285714285, 'stop_loss': 0.8735173940658569, 'stop_acc': 0.832}\n",
      "{'epoch': 1600, 'train_loss': 0.49398577213287354, 'train_acc': 0.9785714285714285, 'stop_loss': 0.8084242343902588, 'stop_acc': 0.874}\n",
      "{'epoch': 1700, 'train_loss': 0.4761756360530853, 'train_acc': 0.9928571428571429, 'stop_loss': 0.8090617060661316, 'stop_acc': 0.85}\n"
     ]
    },
    {
     "name": "stderr",
     "output_type": "stream",
     "text": [
      "2019-11-13 15:49:44: Iteration 70 of 100\n",
      "                     -------------------\n"
     ]
    },
    {
     "name": "stdout",
     "output_type": "stream",
     "text": [
      "{'epoch': 0, 'train_loss': 1.9992834329605103, 'train_acc': 0.14285714285714285, 'stop_loss': 1.9585580825805664, 'stop_acc': 0.468}\n",
      "{'epoch': 100, 'train_loss': 1.6696523427963257, 'train_acc': 0.8714285714285714, 'stop_loss': 1.757246971130371, 'stop_acc': 0.808}\n",
      "{'epoch': 200, 'train_loss': 1.2878625392913818, 'train_acc': 0.9214285714285714, 'stop_loss': 1.4704902172088623, 'stop_acc': 0.822}\n",
      "{'epoch': 300, 'train_loss': 1.0817736387252808, 'train_acc': 0.9642857142857143, 'stop_loss': 1.3013842105865479, 'stop_acc': 0.826}\n",
      "{'epoch': 400, 'train_loss': 0.9629871845245361, 'train_acc': 0.9714285714285714, 'stop_loss': 1.2027254104614258, 'stop_acc': 0.834}\n",
      "{'epoch': 500, 'train_loss': 0.8831957578659058, 'train_acc': 0.9714285714285714, 'stop_loss': 1.133570671081543, 'stop_acc': 0.832}\n",
      "{'epoch': 600, 'train_loss': 0.8259768486022949, 'train_acc': 0.9714285714285714, 'stop_loss': 1.063411831855774, 'stop_acc': 0.824}\n",
      "{'epoch': 700, 'train_loss': 0.7300519347190857, 'train_acc': 0.9714285714285714, 'stop_loss': 1.0139268636703491, 'stop_acc': 0.826}\n",
      "{'epoch': 800, 'train_loss': 0.7165559530258179, 'train_acc': 0.9642857142857143, 'stop_loss': 0.9757419228553772, 'stop_acc': 0.84}\n",
      "{'epoch': 900, 'train_loss': 0.6515429019927979, 'train_acc': 0.9785714285714285, 'stop_loss': 0.9538089036941528, 'stop_acc': 0.844}\n",
      "{'epoch': 1000, 'train_loss': 0.6350257396697998, 'train_acc': 0.9928571428571429, 'stop_loss': 0.9231497049331665, 'stop_acc': 0.838}\n",
      "{'epoch': 1100, 'train_loss': 0.6064373254776001, 'train_acc': 0.9785714285714285, 'stop_loss': 0.8936835527420044, 'stop_acc': 0.84}\n",
      "{'epoch': 1200, 'train_loss': 0.5674011707305908, 'train_acc': 0.9785714285714285, 'stop_loss': 0.887046217918396, 'stop_acc': 0.832}\n",
      "{'epoch': 1300, 'train_loss': 0.553647518157959, 'train_acc': 0.9571428571428572, 'stop_loss': 0.8550967574119568, 'stop_acc': 0.842}\n",
      "{'epoch': 1400, 'train_loss': 0.5476869344711304, 'train_acc': 0.9785714285714285, 'stop_loss': 0.8607123494148254, 'stop_acc': 0.846}\n",
      "{'epoch': 1500, 'train_loss': 0.531622588634491, 'train_acc': 0.9857142857142858, 'stop_loss': 0.8302427530288696, 'stop_acc': 0.864}\n",
      "{'epoch': 1600, 'train_loss': 0.4988129436969757, 'train_acc': 0.9857142857142858, 'stop_loss': 0.8341580629348755, 'stop_acc': 0.852}\n",
      "{'epoch': 1700, 'train_loss': 0.4790343642234802, 'train_acc': 0.9928571428571429, 'stop_loss': 0.811839759349823, 'stop_acc': 0.84}\n",
      "{'epoch': 1800, 'train_loss': 0.46806880831718445, 'train_acc': 0.9857142857142858, 'stop_loss': 0.7931042313575745, 'stop_acc': 0.842}\n",
      "{'epoch': 1900, 'train_loss': 0.468423068523407, 'train_acc': 0.9857142857142858, 'stop_loss': 0.7832849025726318, 'stop_acc': 0.85}\n",
      "{'epoch': 2000, 'train_loss': 0.4325569272041321, 'train_acc': 1.0, 'stop_loss': 0.7958865165710449, 'stop_acc': 0.84}\n",
      "{'epoch': 2100, 'train_loss': 0.4582101106643677, 'train_acc': 1.0, 'stop_loss': 0.774186372756958, 'stop_acc': 0.84}\n",
      "{'epoch': 2200, 'train_loss': 0.4119206666946411, 'train_acc': 0.9928571428571429, 'stop_loss': 0.7822649478912354, 'stop_acc': 0.84}\n"
     ]
    },
    {
     "name": "stderr",
     "output_type": "stream",
     "text": [
      "2019-11-13 15:50:27: Iteration 71 of 100\n",
      "                     -------------------\n"
     ]
    },
    {
     "name": "stdout",
     "output_type": "stream",
     "text": [
      "{'epoch': 0, 'train_loss': 1.9992561340332031, 'train_acc': 0.15714285714285714, 'stop_loss': 1.9586915969848633, 'stop_acc': 0.538}\n",
      "{'epoch': 100, 'train_loss': 1.6365618705749512, 'train_acc': 0.9285714285714286, 'stop_loss': 1.8005495071411133, 'stop_acc': 0.74}\n",
      "{'epoch': 200, 'train_loss': 1.2526981830596924, 'train_acc': 0.9571428571428572, 'stop_loss': 1.515506625175476, 'stop_acc': 0.808}\n",
      "{'epoch': 300, 'train_loss': 1.0449292659759521, 'train_acc': 0.9785714285714285, 'stop_loss': 1.3400136232376099, 'stop_acc': 0.828}\n",
      "{'epoch': 400, 'train_loss': 0.9307501316070557, 'train_acc': 0.9857142857142858, 'stop_loss': 1.2314153909683228, 'stop_acc': 0.828}\n",
      "{'epoch': 500, 'train_loss': 0.8103147149085999, 'train_acc': 0.9928571428571429, 'stop_loss': 1.155128002166748, 'stop_acc': 0.826}\n",
      "{'epoch': 600, 'train_loss': 0.765815019607544, 'train_acc': 0.9714285714285714, 'stop_loss': 1.0858502388000488, 'stop_acc': 0.828}\n",
      "{'epoch': 700, 'train_loss': 0.695926308631897, 'train_acc': 0.9857142857142858, 'stop_loss': 1.0662627220153809, 'stop_acc': 0.826}\n",
      "{'epoch': 800, 'train_loss': 0.6469544172286987, 'train_acc': 0.9857142857142858, 'stop_loss': 0.999932587146759, 'stop_acc': 0.836}\n",
      "{'epoch': 900, 'train_loss': 0.6116807460784912, 'train_acc': 0.9785714285714285, 'stop_loss': 0.9617418050765991, 'stop_acc': 0.83}\n",
      "{'epoch': 1000, 'train_loss': 0.601763904094696, 'train_acc': 0.9857142857142858, 'stop_loss': 0.9529508352279663, 'stop_acc': 0.83}\n",
      "{'epoch': 1100, 'train_loss': 0.5665484666824341, 'train_acc': 0.9857142857142858, 'stop_loss': 0.9410759806632996, 'stop_acc': 0.822}\n",
      "{'epoch': 1200, 'train_loss': 0.5233396887779236, 'train_acc': 0.9928571428571429, 'stop_loss': 0.9150537252426147, 'stop_acc': 0.824}\n",
      "{'epoch': 1300, 'train_loss': 0.48318588733673096, 'train_acc': 1.0, 'stop_loss': 0.8861938714981079, 'stop_acc': 0.832}\n",
      "{'epoch': 1400, 'train_loss': 0.47551071643829346, 'train_acc': 0.9928571428571429, 'stop_loss': 0.89730304479599, 'stop_acc': 0.826}\n",
      "{'epoch': 1500, 'train_loss': 0.48078036308288574, 'train_acc': 0.9928571428571429, 'stop_loss': 0.8751635551452637, 'stop_acc': 0.826}\n",
      "{'epoch': 1600, 'train_loss': 0.46300607919692993, 'train_acc': 0.9928571428571429, 'stop_loss': 0.8364584445953369, 'stop_acc': 0.83}\n"
     ]
    },
    {
     "name": "stderr",
     "output_type": "stream",
     "text": [
      "2019-11-13 15:51:00: Iteration 72 of 100\n",
      "                     -------------------\n"
     ]
    },
    {
     "name": "stdout",
     "output_type": "stream",
     "text": [
      "{'epoch': 0, 'train_loss': 1.9991236925125122, 'train_acc': 0.12857142857142856, 'stop_loss': 1.958760380744934, 'stop_acc': 0.396}\n",
      "{'epoch': 100, 'train_loss': 1.6349467039108276, 'train_acc': 0.9071428571428571, 'stop_loss': 1.8036994934082031, 'stop_acc': 0.748}\n",
      "{'epoch': 200, 'train_loss': 1.272731065750122, 'train_acc': 0.9785714285714285, 'stop_loss': 1.5114482641220093, 'stop_acc': 0.822}\n",
      "{'epoch': 300, 'train_loss': 1.0185527801513672, 'train_acc': 0.9928571428571429, 'stop_loss': 1.3343056440353394, 'stop_acc': 0.83}\n",
      "{'epoch': 400, 'train_loss': 0.8947404623031616, 'train_acc': 0.9857142857142858, 'stop_loss': 1.2449901103973389, 'stop_acc': 0.828}\n",
      "{'epoch': 500, 'train_loss': 0.8121851682662964, 'train_acc': 0.9857142857142858, 'stop_loss': 1.1575648784637451, 'stop_acc': 0.83}\n",
      "{'epoch': 600, 'train_loss': 0.7590192556381226, 'train_acc': 0.9928571428571429, 'stop_loss': 1.1186535358428955, 'stop_acc': 0.824}\n",
      "{'epoch': 700, 'train_loss': 0.665755033493042, 'train_acc': 0.9928571428571429, 'stop_loss': 1.059765338897705, 'stop_acc': 0.836}\n",
      "{'epoch': 800, 'train_loss': 0.6275142431259155, 'train_acc': 0.9928571428571429, 'stop_loss': 1.0251257419586182, 'stop_acc': 0.818}\n",
      "{'epoch': 900, 'train_loss': 0.5844695568084717, 'train_acc': 1.0, 'stop_loss': 0.9551973938941956, 'stop_acc': 0.832}\n",
      "{'epoch': 1000, 'train_loss': 0.5783363580703735, 'train_acc': 0.9928571428571429, 'stop_loss': 0.9539839029312134, 'stop_acc': 0.83}\n",
      "{'epoch': 1100, 'train_loss': 0.5527349710464478, 'train_acc': 1.0, 'stop_loss': 0.9080417156219482, 'stop_acc': 0.836}\n",
      "{'epoch': 1200, 'train_loss': 0.5168119072914124, 'train_acc': 1.0, 'stop_loss': 0.8979187607765198, 'stop_acc': 0.832}\n",
      "{'epoch': 1300, 'train_loss': 0.4998630881309509, 'train_acc': 1.0, 'stop_loss': 0.9179607033729553, 'stop_acc': 0.83}\n",
      "{'epoch': 1400, 'train_loss': 0.4898674190044403, 'train_acc': 0.9857142857142858, 'stop_loss': 0.8530843257904053, 'stop_acc': 0.838}\n"
     ]
    },
    {
     "name": "stderr",
     "output_type": "stream",
     "text": [
      "2019-11-13 15:51:29: Iteration 73 of 100\n",
      "                     -------------------\n"
     ]
    },
    {
     "name": "stdout",
     "output_type": "stream",
     "text": [
      "{'epoch': 1500, 'train_loss': 0.4512467384338379, 'train_acc': 0.9928571428571429, 'stop_loss': 0.8560330867767334, 'stop_acc': 0.836}\n",
      "{'epoch': 0, 'train_loss': 1.9992002248764038, 'train_acc': 0.16428571428571428, 'stop_loss': 1.9586549997329712, 'stop_acc': 0.238}\n",
      "{'epoch': 100, 'train_loss': 1.6380937099456787, 'train_acc': 0.9, 'stop_loss': 1.806145191192627, 'stop_acc': 0.766}\n",
      "{'epoch': 200, 'train_loss': 1.2734918594360352, 'train_acc': 0.9714285714285714, 'stop_loss': 1.5203018188476562, 'stop_acc': 0.814}\n",
      "{'epoch': 300, 'train_loss': 1.031091570854187, 'train_acc': 0.9714285714285714, 'stop_loss': 1.353665828704834, 'stop_acc': 0.826}\n",
      "{'epoch': 400, 'train_loss': 0.9153614044189453, 'train_acc': 0.9857142857142858, 'stop_loss': 1.2549902200698853, 'stop_acc': 0.832}\n",
      "{'epoch': 500, 'train_loss': 0.8440418243408203, 'train_acc': 0.9785714285714285, 'stop_loss': 1.1716192960739136, 'stop_acc': 0.826}\n",
      "{'epoch': 600, 'train_loss': 0.7406738996505737, 'train_acc': 0.9928571428571429, 'stop_loss': 1.1048028469085693, 'stop_acc': 0.832}\n",
      "{'epoch': 700, 'train_loss': 0.6835777759552002, 'train_acc': 0.9857142857142858, 'stop_loss': 1.050879955291748, 'stop_acc': 0.83}\n",
      "{'epoch': 800, 'train_loss': 0.6542540788650513, 'train_acc': 1.0, 'stop_loss': 1.0119025707244873, 'stop_acc': 0.83}\n",
      "{'epoch': 900, 'train_loss': 0.6065835952758789, 'train_acc': 0.9928571428571429, 'stop_loss': 0.9925384521484375, 'stop_acc': 0.826}\n",
      "{'epoch': 1000, 'train_loss': 0.5800656080245972, 'train_acc': 0.9928571428571429, 'stop_loss': 0.9477434158325195, 'stop_acc': 0.838}\n",
      "{'epoch': 1100, 'train_loss': 0.5835941433906555, 'train_acc': 0.9785714285714285, 'stop_loss': 0.9119501113891602, 'stop_acc': 0.842}\n",
      "{'epoch': 1200, 'train_loss': 0.516494870185852, 'train_acc': 0.9857142857142858, 'stop_loss': 0.9311464428901672, 'stop_acc': 0.828}\n",
      "{'epoch': 1300, 'train_loss': 0.4770764410495758, 'train_acc': 1.0, 'stop_loss': 0.8944869637489319, 'stop_acc': 0.83}\n",
      "{'epoch': 1400, 'train_loss': 0.48439979553222656, 'train_acc': 1.0, 'stop_loss': 0.8712687492370605, 'stop_acc': 0.842}\n",
      "{'epoch': 1500, 'train_loss': 0.4852321743965149, 'train_acc': 1.0, 'stop_loss': 0.8537960648536682, 'stop_acc': 0.836}\n",
      "{'epoch': 1600, 'train_loss': 0.45552754402160645, 'train_acc': 0.9928571428571429, 'stop_loss': 0.839040219783783, 'stop_acc': 0.826}\n"
     ]
    },
    {
     "name": "stderr",
     "output_type": "stream",
     "text": [
      "2019-11-13 15:52:01: Iteration 74 of 100\n",
      "                     -------------------\n"
     ]
    },
    {
     "name": "stdout",
     "output_type": "stream",
     "text": [
      "{'epoch': 0, 'train_loss': 1.999180555343628, 'train_acc': 0.11428571428571428, 'stop_loss': 1.9586918354034424, 'stop_acc': 0.348}\n",
      "{'epoch': 100, 'train_loss': 1.641524076461792, 'train_acc': 0.8928571428571429, 'stop_loss': 1.8086475133895874, 'stop_acc': 0.712}\n",
      "{'epoch': 200, 'train_loss': 1.2773802280426025, 'train_acc': 0.95, 'stop_loss': 1.527242660522461, 'stop_acc': 0.814}\n",
      "{'epoch': 300, 'train_loss': 1.074343204498291, 'train_acc': 0.9642857142857143, 'stop_loss': 1.3505430221557617, 'stop_acc': 0.83}\n",
      "{'epoch': 400, 'train_loss': 0.9152201414108276, 'train_acc': 0.9857142857142858, 'stop_loss': 1.245198369026184, 'stop_acc': 0.834}\n",
      "{'epoch': 500, 'train_loss': 0.8206908702850342, 'train_acc': 0.9642857142857143, 'stop_loss': 1.1639811992645264, 'stop_acc': 0.83}\n",
      "{'epoch': 600, 'train_loss': 0.7901536226272583, 'train_acc': 0.9714285714285714, 'stop_loss': 1.1025253534317017, 'stop_acc': 0.83}\n",
      "{'epoch': 700, 'train_loss': 0.703235924243927, 'train_acc': 1.0, 'stop_loss': 1.0526989698410034, 'stop_acc': 0.83}\n",
      "{'epoch': 800, 'train_loss': 0.6918450593948364, 'train_acc': 0.9857142857142858, 'stop_loss': 1.0356837511062622, 'stop_acc': 0.826}\n",
      "{'epoch': 900, 'train_loss': 0.6156310439109802, 'train_acc': 0.9857142857142858, 'stop_loss': 1.0007641315460205, 'stop_acc': 0.824}\n",
      "{'epoch': 1000, 'train_loss': 0.5756486654281616, 'train_acc': 0.9857142857142858, 'stop_loss': 0.9469387531280518, 'stop_acc': 0.834}\n",
      "{'epoch': 1100, 'train_loss': 0.5623800754547119, 'train_acc': 0.9928571428571429, 'stop_loss': 0.9412630796432495, 'stop_acc': 0.822}\n",
      "{'epoch': 1200, 'train_loss': 0.5132482647895813, 'train_acc': 0.9857142857142858, 'stop_loss': 0.9444897174835205, 'stop_acc': 0.816}\n",
      "{'epoch': 1300, 'train_loss': 0.48021408915519714, 'train_acc': 0.9928571428571429, 'stop_loss': 0.8969672918319702, 'stop_acc': 0.83}\n",
      "{'epoch': 1400, 'train_loss': 0.48981961607933044, 'train_acc': 0.9928571428571429, 'stop_loss': 0.8852978944778442, 'stop_acc': 0.824}\n",
      "{'epoch': 1500, 'train_loss': 0.43025749921798706, 'train_acc': 0.9928571428571429, 'stop_loss': 0.8606433868408203, 'stop_acc': 0.824}\n",
      "{'epoch': 1600, 'train_loss': 0.4517242908477783, 'train_acc': 0.9928571428571429, 'stop_loss': 0.8514294624328613, 'stop_acc': 0.838}\n",
      "{'epoch': 1700, 'train_loss': 0.43137189745903015, 'train_acc': 1.0, 'stop_loss': 0.8797316551208496, 'stop_acc': 0.81}\n",
      "{'epoch': 1800, 'train_loss': 0.4156190752983093, 'train_acc': 0.9928571428571429, 'stop_loss': 0.8366177082061768, 'stop_acc': 0.83}\n",
      "{'epoch': 1900, 'train_loss': 0.41614198684692383, 'train_acc': 0.9928571428571429, 'stop_loss': 0.8064784407615662, 'stop_acc': 0.832}\n",
      "{'epoch': 2000, 'train_loss': 0.4049641489982605, 'train_acc': 1.0, 'stop_loss': 0.7866435050964355, 'stop_acc': 0.832}\n",
      "{'epoch': 2100, 'train_loss': 0.3804503083229065, 'train_acc': 1.0, 'stop_loss': 0.8005995750427246, 'stop_acc': 0.832}\n"
     ]
    },
    {
     "name": "stderr",
     "output_type": "stream",
     "text": [
      "2019-11-13 15:52:44: Iteration 75 of 100\n",
      "                     -------------------\n"
     ]
    },
    {
     "name": "stdout",
     "output_type": "stream",
     "text": [
      "{'epoch': 0, 'train_loss': 1.999179482460022, 'train_acc': 0.12142857142857143, 'stop_loss': 1.958554983139038, 'stop_acc': 0.668}\n",
      "{'epoch': 100, 'train_loss': 1.6325249671936035, 'train_acc': 0.8928571428571429, 'stop_loss': 1.7751342058181763, 'stop_acc': 0.77}\n",
      "{'epoch': 200, 'train_loss': 1.2616887092590332, 'train_acc': 0.9642857142857143, 'stop_loss': 1.4925869703292847, 'stop_acc': 0.814}\n",
      "{'epoch': 300, 'train_loss': 1.0414392948150635, 'train_acc': 0.9785714285714285, 'stop_loss': 1.327322244644165, 'stop_acc': 0.83}\n",
      "{'epoch': 400, 'train_loss': 0.9326882362365723, 'train_acc': 0.9642857142857143, 'stop_loss': 1.2244486808776855, 'stop_acc': 0.832}\n",
      "{'epoch': 500, 'train_loss': 0.8481794595718384, 'train_acc': 0.9785714285714285, 'stop_loss': 1.1430295705795288, 'stop_acc': 0.828}\n",
      "{'epoch': 600, 'train_loss': 0.7566832900047302, 'train_acc': 0.9785714285714285, 'stop_loss': 1.0899735689163208, 'stop_acc': 0.82}\n",
      "{'epoch': 700, 'train_loss': 0.7313531637191772, 'train_acc': 1.0, 'stop_loss': 1.045602798461914, 'stop_acc': 0.828}\n",
      "{'epoch': 800, 'train_loss': 0.6475849151611328, 'train_acc': 1.0, 'stop_loss': 0.9966943860054016, 'stop_acc': 0.828}\n",
      "{'epoch': 900, 'train_loss': 0.6412584185600281, 'train_acc': 0.9857142857142858, 'stop_loss': 0.9578750133514404, 'stop_acc': 0.826}\n",
      "{'epoch': 1000, 'train_loss': 0.567247211933136, 'train_acc': 0.9785714285714285, 'stop_loss': 0.9246549606323242, 'stop_acc': 0.828}\n",
      "{'epoch': 1100, 'train_loss': 0.576082706451416, 'train_acc': 0.9928571428571429, 'stop_loss': 0.9422613382339478, 'stop_acc': 0.82}\n",
      "{'epoch': 1200, 'train_loss': 0.5344654321670532, 'train_acc': 0.9928571428571429, 'stop_loss': 0.8937779664993286, 'stop_acc': 0.83}\n",
      "{'epoch': 1300, 'train_loss': 0.4901876151561737, 'train_acc': 0.9928571428571429, 'stop_loss': 0.8841819763183594, 'stop_acc': 0.836}\n",
      "{'epoch': 1400, 'train_loss': 0.48379313945770264, 'train_acc': 1.0, 'stop_loss': 0.8633413314819336, 'stop_acc': 0.828}\n",
      "{'epoch': 1500, 'train_loss': 0.4756956696510315, 'train_acc': 0.9928571428571429, 'stop_loss': 0.8402862548828125, 'stop_acc': 0.836}\n",
      "{'epoch': 1600, 'train_loss': 0.433918297290802, 'train_acc': 1.0, 'stop_loss': 0.8138123750686646, 'stop_acc': 0.834}\n"
     ]
    },
    {
     "name": "stderr",
     "output_type": "stream",
     "text": [
      "2019-11-13 15:53:16: Iteration 76 of 100\n",
      "                     -------------------\n"
     ]
    },
    {
     "name": "stdout",
     "output_type": "stream",
     "text": [
      "{'epoch': 0, 'train_loss': 1.9991039037704468, 'train_acc': 0.12142857142857143, 'stop_loss': 1.958686113357544, 'stop_acc': 0.324}\n",
      "{'epoch': 100, 'train_loss': 1.6724236011505127, 'train_acc': 0.8285714285714286, 'stop_loss': 1.8172309398651123, 'stop_acc': 0.72}\n",
      "{'epoch': 200, 'train_loss': 1.3139264583587646, 'train_acc': 0.9428571428571428, 'stop_loss': 1.5427947044372559, 'stop_acc': 0.81}\n",
      "{'epoch': 300, 'train_loss': 1.0922961235046387, 'train_acc': 0.9571428571428572, 'stop_loss': 1.380425214767456, 'stop_acc': 0.82}\n",
      "{'epoch': 400, 'train_loss': 0.947418749332428, 'train_acc': 0.9785714285714285, 'stop_loss': 1.2709654569625854, 'stop_acc': 0.826}\n",
      "{'epoch': 500, 'train_loss': 0.8219048976898193, 'train_acc': 0.9785714285714285, 'stop_loss': 1.1828407049179077, 'stop_acc': 0.834}\n",
      "{'epoch': 600, 'train_loss': 0.7654158473014832, 'train_acc': 0.9928571428571429, 'stop_loss': 1.1181994676589966, 'stop_acc': 0.836}\n",
      "{'epoch': 700, 'train_loss': 0.7152520418167114, 'train_acc': 0.9857142857142858, 'stop_loss': 1.0768345594406128, 'stop_acc': 0.828}\n",
      "{'epoch': 800, 'train_loss': 0.6585255265235901, 'train_acc': 0.9928571428571429, 'stop_loss': 1.0405657291412354, 'stop_acc': 0.832}\n",
      "{'epoch': 900, 'train_loss': 0.6168255805969238, 'train_acc': 0.9928571428571429, 'stop_loss': 1.032909870147705, 'stop_acc': 0.816}\n",
      "{'epoch': 1000, 'train_loss': 0.6028950214385986, 'train_acc': 0.9928571428571429, 'stop_loss': 0.9873207807540894, 'stop_acc': 0.832}\n",
      "{'epoch': 1100, 'train_loss': 0.5644760131835938, 'train_acc': 0.9928571428571429, 'stop_loss': 0.9488935470581055, 'stop_acc': 0.848}\n",
      "{'epoch': 1200, 'train_loss': 0.5469189882278442, 'train_acc': 0.9928571428571429, 'stop_loss': 0.9167073965072632, 'stop_acc': 0.846}\n",
      "{'epoch': 1300, 'train_loss': 0.5083337426185608, 'train_acc': 1.0, 'stop_loss': 0.9052151441574097, 'stop_acc': 0.84}\n",
      "{'epoch': 1400, 'train_loss': 0.4884195923805237, 'train_acc': 1.0, 'stop_loss': 0.9361065626144409, 'stop_acc': 0.832}\n",
      "{'epoch': 1500, 'train_loss': 0.46201080083847046, 'train_acc': 0.9928571428571429, 'stop_loss': 0.896841287612915, 'stop_acc': 0.832}\n",
      "{'epoch': 1600, 'train_loss': 0.46175554394721985, 'train_acc': 0.9857142857142858, 'stop_loss': 0.8810268640518188, 'stop_acc': 0.832}\n",
      "{'epoch': 1700, 'train_loss': 0.4447184205055237, 'train_acc': 1.0, 'stop_loss': 0.8658607006072998, 'stop_acc': 0.842}\n",
      "{'epoch': 1800, 'train_loss': 0.4128682613372803, 'train_acc': 0.9928571428571429, 'stop_loss': 0.8556879758834839, 'stop_acc': 0.828}\n",
      "{'epoch': 1900, 'train_loss': 0.4294165372848511, 'train_acc': 0.9928571428571429, 'stop_loss': 0.8554850816726685, 'stop_acc': 0.826}\n",
      "{'epoch': 2000, 'train_loss': 0.40165889263153076, 'train_acc': 0.9928571428571429, 'stop_loss': 0.8402544260025024, 'stop_acc': 0.824}\n",
      "{'epoch': 2100, 'train_loss': 0.3941572308540344, 'train_acc': 0.9928571428571429, 'stop_loss': 0.8130493760108948, 'stop_acc': 0.838}\n"
     ]
    },
    {
     "name": "stderr",
     "output_type": "stream",
     "text": [
      "2019-11-13 15:53:58: Iteration 77 of 100\n",
      "                     -------------------\n"
     ]
    },
    {
     "name": "stdout",
     "output_type": "stream",
     "text": [
      "{'epoch': 0, 'train_loss': 1.9991211891174316, 'train_acc': 0.14285714285714285, 'stop_loss': 1.9586267471313477, 'stop_acc': 0.502}\n",
      "{'epoch': 100, 'train_loss': 1.6709918975830078, 'train_acc': 0.8071428571428572, 'stop_loss': 1.816311240196228, 'stop_acc': 0.696}\n",
      "{'epoch': 200, 'train_loss': 1.3217613697052002, 'train_acc': 0.9285714285714286, 'stop_loss': 1.5479167699813843, 'stop_acc': 0.816}\n",
      "{'epoch': 300, 'train_loss': 1.0959469079971313, 'train_acc': 0.95, 'stop_loss': 1.3819340467453003, 'stop_acc': 0.82}\n",
      "{'epoch': 400, 'train_loss': 0.9499272108078003, 'train_acc': 0.9714285714285714, 'stop_loss': 1.2774966955184937, 'stop_acc': 0.824}\n",
      "{'epoch': 500, 'train_loss': 0.8515411615371704, 'train_acc': 0.9642857142857143, 'stop_loss': 1.1992924213409424, 'stop_acc': 0.818}\n",
      "{'epoch': 600, 'train_loss': 0.7900323867797852, 'train_acc': 0.9714285714285714, 'stop_loss': 1.1267198324203491, 'stop_acc': 0.834}\n",
      "{'epoch': 700, 'train_loss': 0.7587051391601562, 'train_acc': 0.9785714285714285, 'stop_loss': 1.0849766731262207, 'stop_acc': 0.842}\n",
      "{'epoch': 800, 'train_loss': 0.670240044593811, 'train_acc': 0.9928571428571429, 'stop_loss': 1.0663073062896729, 'stop_acc': 0.832}\n",
      "{'epoch': 900, 'train_loss': 0.6390266418457031, 'train_acc': 0.9714285714285714, 'stop_loss': 1.0082859992980957, 'stop_acc': 0.832}\n",
      "{'epoch': 1000, 'train_loss': 0.5914664268493652, 'train_acc': 0.9928571428571429, 'stop_loss': 1.0107388496398926, 'stop_acc': 0.826}\n",
      "{'epoch': 1100, 'train_loss': 0.5950243473052979, 'train_acc': 0.9785714285714285, 'stop_loss': 0.9747762084007263, 'stop_acc': 0.824}\n",
      "{'epoch': 1200, 'train_loss': 0.5416532158851624, 'train_acc': 1.0, 'stop_loss': 0.9368172883987427, 'stop_acc': 0.846}\n",
      "{'epoch': 1300, 'train_loss': 0.5057393908500671, 'train_acc': 1.0, 'stop_loss': 0.9190400838851929, 'stop_acc': 0.838}\n",
      "{'epoch': 1400, 'train_loss': 0.5244251489639282, 'train_acc': 0.9785714285714285, 'stop_loss': 0.9470648765563965, 'stop_acc': 0.82}\n",
      "{'epoch': 1500, 'train_loss': 0.48460766673088074, 'train_acc': 0.9928571428571429, 'stop_loss': 0.8731591701507568, 'stop_acc': 0.834}\n"
     ]
    },
    {
     "name": "stderr",
     "output_type": "stream",
     "text": [
      "2019-11-13 15:54:29: Iteration 78 of 100\n",
      "                     -------------------\n"
     ]
    },
    {
     "name": "stdout",
     "output_type": "stream",
     "text": [
      "{'epoch': 0, 'train_loss': 1.999132752418518, 'train_acc': 0.21428571428571427, 'stop_loss': 1.958693027496338, 'stop_acc': 0.486}\n",
      "{'epoch': 100, 'train_loss': 1.6598637104034424, 'train_acc': 0.9, 'stop_loss': 1.7962937355041504, 'stop_acc': 0.784}\n",
      "{'epoch': 200, 'train_loss': 1.2920037508010864, 'train_acc': 0.95, 'stop_loss': 1.5166898965835571, 'stop_acc': 0.818}\n",
      "{'epoch': 300, 'train_loss': 1.0784765481948853, 'train_acc': 0.9571428571428572, 'stop_loss': 1.3549638986587524, 'stop_acc': 0.828}\n",
      "{'epoch': 400, 'train_loss': 0.9598851203918457, 'train_acc': 0.9785714285714285, 'stop_loss': 1.242167592048645, 'stop_acc': 0.828}\n",
      "{'epoch': 500, 'train_loss': 0.847765326499939, 'train_acc': 0.9714285714285714, 'stop_loss': 1.1583609580993652, 'stop_acc': 0.834}\n",
      "{'epoch': 600, 'train_loss': 0.7767077684402466, 'train_acc': 0.9785714285714285, 'stop_loss': 1.130000352859497, 'stop_acc': 0.822}\n",
      "{'epoch': 700, 'train_loss': 0.7295172214508057, 'train_acc': 0.9857142857142858, 'stop_loss': 1.0770869255065918, 'stop_acc': 0.836}\n",
      "{'epoch': 800, 'train_loss': 0.658538818359375, 'train_acc': 0.9785714285714285, 'stop_loss': 1.0414353609085083, 'stop_acc': 0.828}\n",
      "{'epoch': 900, 'train_loss': 0.6360867619514465, 'train_acc': 0.9714285714285714, 'stop_loss': 0.9999420642852783, 'stop_acc': 0.83}\n",
      "{'epoch': 1000, 'train_loss': 0.6178921461105347, 'train_acc': 0.9928571428571429, 'stop_loss': 1.001359462738037, 'stop_acc': 0.82}\n",
      "{'epoch': 1100, 'train_loss': 0.5565297603607178, 'train_acc': 0.9928571428571429, 'stop_loss': 0.9673241376876831, 'stop_acc': 0.836}\n",
      "{'epoch': 1200, 'train_loss': 0.5458009243011475, 'train_acc': 0.9785714285714285, 'stop_loss': 0.9253545999526978, 'stop_acc': 0.842}\n",
      "{'epoch': 1300, 'train_loss': 0.5215743184089661, 'train_acc': 1.0, 'stop_loss': 0.922194242477417, 'stop_acc': 0.828}\n",
      "{'epoch': 1400, 'train_loss': 0.47601407766342163, 'train_acc': 1.0, 'stop_loss': 0.913909912109375, 'stop_acc': 0.828}\n",
      "{'epoch': 1500, 'train_loss': 0.4684543013572693, 'train_acc': 1.0, 'stop_loss': 0.8829350471496582, 'stop_acc': 0.834}\n",
      "{'epoch': 1600, 'train_loss': 0.45078152418136597, 'train_acc': 0.9928571428571429, 'stop_loss': 0.8973804116249084, 'stop_acc': 0.824}\n",
      "{'epoch': 1700, 'train_loss': 0.4458872675895691, 'train_acc': 1.0, 'stop_loss': 0.8527430295944214, 'stop_acc': 0.842}\n",
      "{'epoch': 1800, 'train_loss': 0.43751758337020874, 'train_acc': 1.0, 'stop_loss': 0.8177745938301086, 'stop_acc': 0.852}\n",
      "{'epoch': 1900, 'train_loss': 0.4311169981956482, 'train_acc': 1.0, 'stop_loss': 0.8733241558074951, 'stop_acc': 0.834}\n",
      "{'epoch': 2000, 'train_loss': 0.3794252276420593, 'train_acc': 0.9928571428571429, 'stop_loss': 0.8307071328163147, 'stop_acc': 0.84}\n",
      "{'epoch': 2100, 'train_loss': 0.39201921224594116, 'train_acc': 1.0, 'stop_loss': 0.8004436492919922, 'stop_acc': 0.838}\n",
      "{'epoch': 2200, 'train_loss': 0.3862972557544708, 'train_acc': 1.0, 'stop_loss': 0.7815902233123779, 'stop_acc': 0.838}\n",
      "{'epoch': 2300, 'train_loss': 0.39768803119659424, 'train_acc': 0.9785714285714285, 'stop_loss': 0.8061354160308838, 'stop_acc': 0.832}\n"
     ]
    },
    {
     "name": "stderr",
     "output_type": "stream",
     "text": [
      "2019-11-13 15:55:15: Iteration 79 of 100\n",
      "                     -------------------\n"
     ]
    },
    {
     "name": "stdout",
     "output_type": "stream",
     "text": [
      "{'epoch': 0, 'train_loss': 1.9992632865905762, 'train_acc': 0.15714285714285714, 'stop_loss': 1.9586504697799683, 'stop_acc': 0.652}\n",
      "{'epoch': 100, 'train_loss': 1.6508817672729492, 'train_acc': 0.8928571428571429, 'stop_loss': 1.789980411529541, 'stop_acc': 0.784}\n",
      "{'epoch': 200, 'train_loss': 1.278436303138733, 'train_acc': 0.9285714285714286, 'stop_loss': 1.516412377357483, 'stop_acc': 0.81}\n",
      "{'epoch': 300, 'train_loss': 1.0703810453414917, 'train_acc': 0.9571428571428572, 'stop_loss': 1.3377659320831299, 'stop_acc': 0.826}\n",
      "{'epoch': 400, 'train_loss': 0.9391626119613647, 'train_acc': 0.9857142857142858, 'stop_loss': 1.246384620666504, 'stop_acc': 0.826}\n",
      "{'epoch': 500, 'train_loss': 0.8137089014053345, 'train_acc': 0.9857142857142858, 'stop_loss': 1.1738274097442627, 'stop_acc': 0.83}\n",
      "{'epoch': 600, 'train_loss': 0.7540384531021118, 'train_acc': 0.9857142857142858, 'stop_loss': 1.1019543409347534, 'stop_acc': 0.84}\n",
      "{'epoch': 700, 'train_loss': 0.6832439303398132, 'train_acc': 0.9928571428571429, 'stop_loss': 1.0795917510986328, 'stop_acc': 0.828}\n",
      "{'epoch': 800, 'train_loss': 0.6418262720108032, 'train_acc': 0.9928571428571429, 'stop_loss': 1.0252400636672974, 'stop_acc': 0.83}\n",
      "{'epoch': 900, 'train_loss': 0.6424547433853149, 'train_acc': 0.9714285714285714, 'stop_loss': 0.9731866121292114, 'stop_acc': 0.846}\n",
      "{'epoch': 1000, 'train_loss': 0.5838252305984497, 'train_acc': 1.0, 'stop_loss': 0.9577066898345947, 'stop_acc': 0.838}\n",
      "{'epoch': 1100, 'train_loss': 0.56684410572052, 'train_acc': 0.9928571428571429, 'stop_loss': 0.9609521627426147, 'stop_acc': 0.832}\n",
      "{'epoch': 1200, 'train_loss': 0.5367457270622253, 'train_acc': 0.9785714285714285, 'stop_loss': 0.9225162863731384, 'stop_acc': 0.836}\n",
      "{'epoch': 1300, 'train_loss': 0.5336635112762451, 'train_acc': 0.9857142857142858, 'stop_loss': 0.9597275853157043, 'stop_acc': 0.81}\n",
      "{'epoch': 1400, 'train_loss': 0.48404666781425476, 'train_acc': 1.0, 'stop_loss': 0.9145077466964722, 'stop_acc': 0.826}\n",
      "{'epoch': 1500, 'train_loss': 0.48012372851371765, 'train_acc': 0.9928571428571429, 'stop_loss': 0.8914759159088135, 'stop_acc': 0.83}\n"
     ]
    },
    {
     "name": "stderr",
     "output_type": "stream",
     "text": [
      "2019-11-13 15:55:46: Iteration 80 of 100\n",
      "                     -------------------\n"
     ]
    },
    {
     "name": "stdout",
     "output_type": "stream",
     "text": [
      "{'epoch': 0, 'train_loss': 1.9991936683654785, 'train_acc': 0.1, 'stop_loss': 1.9586646556854248, 'stop_acc': 0.602}\n",
      "{'epoch': 100, 'train_loss': 1.6598470211029053, 'train_acc': 0.8785714285714286, 'stop_loss': 1.8014230728149414, 'stop_acc': 0.74}\n",
      "{'epoch': 200, 'train_loss': 1.2718011140823364, 'train_acc': 0.9357142857142857, 'stop_loss': 1.527345061302185, 'stop_acc': 0.81}\n",
      "{'epoch': 300, 'train_loss': 1.0734909772872925, 'train_acc': 0.95, 'stop_loss': 1.3619248867034912, 'stop_acc': 0.808}\n",
      "{'epoch': 400, 'train_loss': 0.9371305108070374, 'train_acc': 0.9785714285714285, 'stop_loss': 1.260162115097046, 'stop_acc': 0.824}\n",
      "{'epoch': 500, 'train_loss': 0.8328026533126831, 'train_acc': 0.9857142857142858, 'stop_loss': 1.1690855026245117, 'stop_acc': 0.838}\n",
      "{'epoch': 600, 'train_loss': 0.7692542672157288, 'train_acc': 0.9785714285714285, 'stop_loss': 1.1262869834899902, 'stop_acc': 0.826}\n",
      "{'epoch': 700, 'train_loss': 0.699547529220581, 'train_acc': 0.9928571428571429, 'stop_loss': 1.0796589851379395, 'stop_acc': 0.832}\n",
      "{'epoch': 800, 'train_loss': 0.6739037036895752, 'train_acc': 1.0, 'stop_loss': 1.0377103090286255, 'stop_acc': 0.828}\n",
      "{'epoch': 900, 'train_loss': 0.6285673975944519, 'train_acc': 0.9785714285714285, 'stop_loss': 0.9956313967704773, 'stop_acc': 0.842}\n",
      "{'epoch': 1000, 'train_loss': 0.5982359647750854, 'train_acc': 0.9857142857142858, 'stop_loss': 0.9703757762908936, 'stop_acc': 0.838}\n",
      "{'epoch': 1100, 'train_loss': 0.5683050155639648, 'train_acc': 1.0, 'stop_loss': 0.9512017369270325, 'stop_acc': 0.844}\n",
      "{'epoch': 1200, 'train_loss': 0.5383446216583252, 'train_acc': 1.0, 'stop_loss': 0.9500620365142822, 'stop_acc': 0.824}\n",
      "{'epoch': 1300, 'train_loss': 0.5259473323822021, 'train_acc': 0.9928571428571429, 'stop_loss': 0.906394362449646, 'stop_acc': 0.836}\n",
      "{'epoch': 1400, 'train_loss': 0.4899839758872986, 'train_acc': 0.9928571428571429, 'stop_loss': 0.9032065272331238, 'stop_acc': 0.834}\n",
      "{'epoch': 1500, 'train_loss': 0.46894288063049316, 'train_acc': 0.9928571428571429, 'stop_loss': 0.8817646503448486, 'stop_acc': 0.846}\n",
      "{'epoch': 1600, 'train_loss': 0.44091230630874634, 'train_acc': 1.0, 'stop_loss': 0.8554841876029968, 'stop_acc': 0.844}\n",
      "{'epoch': 1700, 'train_loss': 0.43381011486053467, 'train_acc': 0.9928571428571429, 'stop_loss': 0.8592426776885986, 'stop_acc': 0.84}\n",
      "{'epoch': 1800, 'train_loss': 0.44449755549430847, 'train_acc': 0.9857142857142858, 'stop_loss': 0.8606879711151123, 'stop_acc': 0.822}\n",
      "{'epoch': 1900, 'train_loss': 0.40582895278930664, 'train_acc': 0.9928571428571429, 'stop_loss': 0.8345649242401123, 'stop_acc': 0.828}\n"
     ]
    },
    {
     "name": "stderr",
     "output_type": "stream",
     "text": [
      "2019-11-13 15:56:24: Iteration 81 of 100\n",
      "                     -------------------\n"
     ]
    },
    {
     "name": "stdout",
     "output_type": "stream",
     "text": [
      "{'epoch': 0, 'train_loss': 1.999084711074829, 'train_acc': 0.14285714285714285, 'stop_loss': 1.9586037397384644, 'stop_acc': 0.384}\n",
      "{'epoch': 100, 'train_loss': 1.6601712703704834, 'train_acc': 0.8, 'stop_loss': 1.8362687826156616, 'stop_acc': 0.68}\n",
      "{'epoch': 200, 'train_loss': 1.2873542308807373, 'train_acc': 0.9, 'stop_loss': 1.5942227840423584, 'stop_acc': 0.754}\n",
      "{'epoch': 300, 'train_loss': 1.0826748609542847, 'train_acc': 0.9642857142857143, 'stop_loss': 1.4401659965515137, 'stop_acc': 0.756}\n",
      "{'epoch': 400, 'train_loss': 0.9443572163581848, 'train_acc': 0.9571428571428572, 'stop_loss': 1.3518426418304443, 'stop_acc': 0.764}\n",
      "{'epoch': 500, 'train_loss': 0.8672757744789124, 'train_acc': 0.9785714285714285, 'stop_loss': 1.265839695930481, 'stop_acc': 0.772}\n",
      "{'epoch': 600, 'train_loss': 0.7848198413848877, 'train_acc': 0.9714285714285714, 'stop_loss': 1.1834207773208618, 'stop_acc': 0.79}\n",
      "{'epoch': 700, 'train_loss': 0.7330138683319092, 'train_acc': 0.9785714285714285, 'stop_loss': 1.1550785303115845, 'stop_acc': 0.788}\n",
      "{'epoch': 800, 'train_loss': 0.6974458694458008, 'train_acc': 0.9714285714285714, 'stop_loss': 1.1679251194000244, 'stop_acc': 0.766}\n",
      "{'epoch': 900, 'train_loss': 0.6693997979164124, 'train_acc': 0.95, 'stop_loss': 1.0962612628936768, 'stop_acc': 0.786}\n",
      "{'epoch': 1000, 'train_loss': 0.5900899171829224, 'train_acc': 0.9857142857142858, 'stop_loss': 1.0861138105392456, 'stop_acc': 0.776}\n",
      "{'epoch': 1100, 'train_loss': 0.6044524908065796, 'train_acc': 0.9857142857142858, 'stop_loss': 1.0412802696228027, 'stop_acc': 0.792}\n",
      "{'epoch': 1200, 'train_loss': 0.5693666338920593, 'train_acc': 0.9785714285714285, 'stop_loss': 1.0231420993804932, 'stop_acc': 0.788}\n",
      "{'epoch': 1300, 'train_loss': 0.5574047565460205, 'train_acc': 0.9857142857142858, 'stop_loss': 1.0149421691894531, 'stop_acc': 0.774}\n",
      "{'epoch': 1400, 'train_loss': 0.533329963684082, 'train_acc': 0.9928571428571429, 'stop_loss': 1.0124211311340332, 'stop_acc': 0.776}\n",
      "{'epoch': 1500, 'train_loss': 0.48262733221054077, 'train_acc': 0.9785714285714285, 'stop_loss': 1.0015289783477783, 'stop_acc': 0.778}\n",
      "{'epoch': 1600, 'train_loss': 0.463144987821579, 'train_acc': 0.9928571428571429, 'stop_loss': 1.0144754648208618, 'stop_acc': 0.754}\n"
     ]
    },
    {
     "name": "stderr",
     "output_type": "stream",
     "text": [
      "2019-11-13 15:56:57: Iteration 82 of 100\n",
      "                     -------------------\n"
     ]
    },
    {
     "name": "stdout",
     "output_type": "stream",
     "text": [
      "{'epoch': 0, 'train_loss': 1.9993228912353516, 'train_acc': 0.10714285714285714, 'stop_loss': 1.9587136507034302, 'stop_acc': 0.39}\n",
      "{'epoch': 100, 'train_loss': 1.6271865367889404, 'train_acc': 0.8214285714285714, 'stop_loss': 1.847421407699585, 'stop_acc': 0.6}\n",
      "{'epoch': 200, 'train_loss': 1.2584267854690552, 'train_acc': 0.9428571428571428, 'stop_loss': 1.6114581823349, 'stop_acc': 0.736}\n",
      "{'epoch': 300, 'train_loss': 1.0923395156860352, 'train_acc': 0.9428571428571428, 'stop_loss': 1.4488699436187744, 'stop_acc': 0.764}\n",
      "{'epoch': 400, 'train_loss': 0.9735255837440491, 'train_acc': 0.9571428571428572, 'stop_loss': 1.3647757768630981, 'stop_acc': 0.762}\n",
      "{'epoch': 500, 'train_loss': 0.8609502911567688, 'train_acc': 0.9714285714285714, 'stop_loss': 1.2599903345108032, 'stop_acc': 0.776}\n",
      "{'epoch': 600, 'train_loss': 0.7934889793395996, 'train_acc': 0.9642857142857143, 'stop_loss': 1.2153000831604004, 'stop_acc': 0.776}\n",
      "{'epoch': 700, 'train_loss': 0.740818977355957, 'train_acc': 0.9857142857142858, 'stop_loss': 1.1540498733520508, 'stop_acc': 0.792}\n",
      "{'epoch': 800, 'train_loss': 0.6722335815429688, 'train_acc': 0.9785714285714285, 'stop_loss': 1.11094069480896, 'stop_acc': 0.796}\n",
      "{'epoch': 900, 'train_loss': 0.6443524360656738, 'train_acc': 0.9714285714285714, 'stop_loss': 1.0963068008422852, 'stop_acc': 0.782}\n",
      "{'epoch': 1000, 'train_loss': 0.5955721139907837, 'train_acc': 0.9928571428571429, 'stop_loss': 1.0631732940673828, 'stop_acc': 0.788}\n",
      "{'epoch': 1100, 'train_loss': 0.6110578775405884, 'train_acc': 0.9714285714285714, 'stop_loss': 1.0457303524017334, 'stop_acc': 0.78}\n",
      "{'epoch': 1200, 'train_loss': 0.5638774633407593, 'train_acc': 0.9928571428571429, 'stop_loss': 1.0143429040908813, 'stop_acc': 0.792}\n",
      "{'epoch': 1300, 'train_loss': 0.5453728437423706, 'train_acc': 0.9571428571428572, 'stop_loss': 0.9884729385375977, 'stop_acc': 0.794}\n"
     ]
    },
    {
     "name": "stderr",
     "output_type": "stream",
     "text": [
      "2019-11-13 15:57:25: Iteration 83 of 100\n",
      "                     -------------------\n"
     ]
    },
    {
     "name": "stdout",
     "output_type": "stream",
     "text": [
      "{'epoch': 0, 'train_loss': 1.9992527961730957, 'train_acc': 0.1357142857142857, 'stop_loss': 1.958698034286499, 'stop_acc': 0.438}\n",
      "{'epoch': 100, 'train_loss': 1.6431971788406372, 'train_acc': 0.8285714285714286, 'stop_loss': 1.829384207725525, 'stop_acc': 0.682}\n",
      "{'epoch': 200, 'train_loss': 1.2820663452148438, 'train_acc': 0.9357142857142857, 'stop_loss': 1.5959815979003906, 'stop_acc': 0.748}\n",
      "{'epoch': 300, 'train_loss': 1.088006615638733, 'train_acc': 0.9571428571428572, 'stop_loss': 1.445403814315796, 'stop_acc': 0.762}\n",
      "{'epoch': 400, 'train_loss': 0.983755350112915, 'train_acc': 0.9642857142857143, 'stop_loss': 1.3360342979431152, 'stop_acc': 0.768}\n",
      "{'epoch': 500, 'train_loss': 0.859527587890625, 'train_acc': 0.9785714285714285, 'stop_loss': 1.2580877542495728, 'stop_acc': 0.774}\n",
      "{'epoch': 600, 'train_loss': 0.8072692155838013, 'train_acc': 0.9714285714285714, 'stop_loss': 1.207741618156433, 'stop_acc': 0.786}\n",
      "{'epoch': 700, 'train_loss': 0.7417290210723877, 'train_acc': 0.9785714285714285, 'stop_loss': 1.155099868774414, 'stop_acc': 0.784}\n",
      "{'epoch': 800, 'train_loss': 0.6929875016212463, 'train_acc': 0.9857142857142858, 'stop_loss': 1.1401352882385254, 'stop_acc': 0.768}\n",
      "{'epoch': 900, 'train_loss': 0.6736985445022583, 'train_acc': 0.9857142857142858, 'stop_loss': 1.1199501752853394, 'stop_acc': 0.772}\n",
      "{'epoch': 1000, 'train_loss': 0.6274096965789795, 'train_acc': 0.9785714285714285, 'stop_loss': 1.0980015993118286, 'stop_acc': 0.782}\n",
      "{'epoch': 1100, 'train_loss': 0.6132943034172058, 'train_acc': 0.9785714285714285, 'stop_loss': 1.0455615520477295, 'stop_acc': 0.782}\n",
      "{'epoch': 1200, 'train_loss': 0.5888247489929199, 'train_acc': 0.9857142857142858, 'stop_loss': 1.0293760299682617, 'stop_acc': 0.792}\n",
      "{'epoch': 1300, 'train_loss': 0.5439740419387817, 'train_acc': 0.9785714285714285, 'stop_loss': 1.0357866287231445, 'stop_acc': 0.782}\n",
      "{'epoch': 1400, 'train_loss': 0.509602427482605, 'train_acc': 0.9857142857142858, 'stop_loss': 0.9992138147354126, 'stop_acc': 0.778}\n"
     ]
    },
    {
     "name": "stderr",
     "output_type": "stream",
     "text": [
      "2019-11-13 15:57:54: Iteration 84 of 100\n",
      "                     -------------------\n"
     ]
    },
    {
     "name": "stdout",
     "output_type": "stream",
     "text": [
      "{'epoch': 0, 'train_loss': 1.9992592334747314, 'train_acc': 0.14285714285714285, 'stop_loss': 1.9587299823760986, 'stop_acc': 0.488}\n",
      "{'epoch': 100, 'train_loss': 1.6264923810958862, 'train_acc': 0.8928571428571429, 'stop_loss': 1.8175593614578247, 'stop_acc': 0.696}\n",
      "{'epoch': 200, 'train_loss': 1.259127140045166, 'train_acc': 0.9285714285714286, 'stop_loss': 1.5675162076950073, 'stop_acc': 0.75}\n",
      "{'epoch': 300, 'train_loss': 1.0804483890533447, 'train_acc': 0.9428571428571428, 'stop_loss': 1.4174695014953613, 'stop_acc': 0.766}\n",
      "{'epoch': 400, 'train_loss': 0.9675171971321106, 'train_acc': 0.9428571428571428, 'stop_loss': 1.335461974143982, 'stop_acc': 0.764}\n",
      "{'epoch': 500, 'train_loss': 0.8590124249458313, 'train_acc': 0.9642857142857143, 'stop_loss': 1.2542119026184082, 'stop_acc': 0.774}\n",
      "{'epoch': 600, 'train_loss': 0.7678097486495972, 'train_acc': 0.9857142857142858, 'stop_loss': 1.1866806745529175, 'stop_acc': 0.782}\n",
      "{'epoch': 700, 'train_loss': 0.7247751951217651, 'train_acc': 0.9714285714285714, 'stop_loss': 1.1557685136795044, 'stop_acc': 0.784}\n",
      "{'epoch': 800, 'train_loss': 0.6726781129837036, 'train_acc': 0.9785714285714285, 'stop_loss': 1.1423085927963257, 'stop_acc': 0.776}\n",
      "{'epoch': 900, 'train_loss': 0.6314980387687683, 'train_acc': 0.9928571428571429, 'stop_loss': 1.0953181982040405, 'stop_acc': 0.784}\n",
      "{'epoch': 1000, 'train_loss': 0.6015447974205017, 'train_acc': 0.9785714285714285, 'stop_loss': 1.0797392129898071, 'stop_acc': 0.784}\n",
      "{'epoch': 1100, 'train_loss': 0.5664564967155457, 'train_acc': 0.9785714285714285, 'stop_loss': 1.0337538719177246, 'stop_acc': 0.792}\n",
      "{'epoch': 1200, 'train_loss': 0.5229925513267517, 'train_acc': 1.0, 'stop_loss': 1.038609504699707, 'stop_acc': 0.77}\n",
      "{'epoch': 1300, 'train_loss': 0.537761390209198, 'train_acc': 0.9857142857142858, 'stop_loss': 1.0215338468551636, 'stop_acc': 0.776}\n",
      "{'epoch': 1400, 'train_loss': 0.525836706161499, 'train_acc': 0.9928571428571429, 'stop_loss': 1.0014005899429321, 'stop_acc': 0.788}\n",
      "{'epoch': 1500, 'train_loss': 0.5201382637023926, 'train_acc': 0.9785714285714285, 'stop_loss': 0.9589686989784241, 'stop_acc': 0.79}\n",
      "{'epoch': 1600, 'train_loss': 0.49003928899765015, 'train_acc': 0.9857142857142858, 'stop_loss': 0.9733607769012451, 'stop_acc': 0.79}\n",
      "{'epoch': 1700, 'train_loss': 0.47744110226631165, 'train_acc': 0.9785714285714285, 'stop_loss': 0.9890809059143066, 'stop_acc': 0.778}\n",
      "{'epoch': 1800, 'train_loss': 0.4427015781402588, 'train_acc': 0.9857142857142858, 'stop_loss': 0.9541622400283813, 'stop_acc': 0.782}\n",
      "{'epoch': 1900, 'train_loss': 0.42828458547592163, 'train_acc': 0.9928571428571429, 'stop_loss': 0.9406694173812866, 'stop_acc': 0.774}\n"
     ]
    },
    {
     "name": "stderr",
     "output_type": "stream",
     "text": [
      "2019-11-13 15:58:33: Iteration 85 of 100\n",
      "                     -------------------\n"
     ]
    },
    {
     "name": "stdout",
     "output_type": "stream",
     "text": [
      "{'epoch': 0, 'train_loss': 1.9991304874420166, 'train_acc': 0.1357142857142857, 'stop_loss': 1.9587583541870117, 'stop_acc': 0.502}\n",
      "{'epoch': 100, 'train_loss': 1.6281321048736572, 'train_acc': 0.8642857142857143, 'stop_loss': 1.8298428058624268, 'stop_acc': 0.708}\n",
      "{'epoch': 200, 'train_loss': 1.2584526538848877, 'train_acc': 0.9285714285714286, 'stop_loss': 1.5800275802612305, 'stop_acc': 0.752}\n",
      "{'epoch': 300, 'train_loss': 1.0822834968566895, 'train_acc': 0.9571428571428572, 'stop_loss': 1.431095004081726, 'stop_acc': 0.764}\n",
      "{'epoch': 400, 'train_loss': 0.9433169364929199, 'train_acc': 0.9571428571428572, 'stop_loss': 1.3259310722351074, 'stop_acc': 0.766}\n",
      "{'epoch': 500, 'train_loss': 0.8584635257720947, 'train_acc': 0.9571428571428572, 'stop_loss': 1.2553881406784058, 'stop_acc': 0.78}\n",
      "{'epoch': 600, 'train_loss': 0.8048893213272095, 'train_acc': 0.9714285714285714, 'stop_loss': 1.213064193725586, 'stop_acc': 0.766}\n",
      "{'epoch': 700, 'train_loss': 0.71500563621521, 'train_acc': 0.9928571428571429, 'stop_loss': 1.1585475206375122, 'stop_acc': 0.774}\n",
      "{'epoch': 800, 'train_loss': 0.6875372529029846, 'train_acc': 0.9857142857142858, 'stop_loss': 1.1344152688980103, 'stop_acc': 0.782}\n",
      "{'epoch': 900, 'train_loss': 0.6468731760978699, 'train_acc': 0.9928571428571429, 'stop_loss': 1.085671305656433, 'stop_acc': 0.788}\n",
      "{'epoch': 1000, 'train_loss': 0.6120159029960632, 'train_acc': 0.9857142857142858, 'stop_loss': 1.0749106407165527, 'stop_acc': 0.776}\n",
      "{'epoch': 1100, 'train_loss': 0.5799967646598816, 'train_acc': 0.9785714285714285, 'stop_loss': 1.0777376890182495, 'stop_acc': 0.764}\n",
      "{'epoch': 1200, 'train_loss': 0.5514200925827026, 'train_acc': 1.0, 'stop_loss': 1.0570404529571533, 'stop_acc': 0.776}\n",
      "{'epoch': 1300, 'train_loss': 0.5195304751396179, 'train_acc': 0.9928571428571429, 'stop_loss': 1.040951132774353, 'stop_acc': 0.778}\n",
      "{'epoch': 1400, 'train_loss': 0.49885278940200806, 'train_acc': 0.9928571428571429, 'stop_loss': 1.0037389993667603, 'stop_acc': 0.782}\n"
     ]
    },
    {
     "name": "stderr",
     "output_type": "stream",
     "text": [
      "2019-11-13 15:59:02: Iteration 86 of 100\n",
      "                     -------------------\n"
     ]
    },
    {
     "name": "stdout",
     "output_type": "stream",
     "text": [
      "{'epoch': 0, 'train_loss': 1.999281644821167, 'train_acc': 0.06428571428571428, 'stop_loss': 1.958695650100708, 'stop_acc': 0.568}\n",
      "{'epoch': 100, 'train_loss': 1.638362169265747, 'train_acc': 0.9, 'stop_loss': 1.7688636779785156, 'stop_acc': 0.748}\n",
      "{'epoch': 200, 'train_loss': 1.306280255317688, 'train_acc': 0.9428571428571428, 'stop_loss': 1.5232006311416626, 'stop_acc': 0.792}\n",
      "{'epoch': 300, 'train_loss': 1.0828001499176025, 'train_acc': 0.9642857142857143, 'stop_loss': 1.3710793256759644, 'stop_acc': 0.796}\n",
      "{'epoch': 400, 'train_loss': 0.9239110946655273, 'train_acc': 0.9785714285714285, 'stop_loss': 1.2843225002288818, 'stop_acc': 0.796}\n",
      "{'epoch': 500, 'train_loss': 0.8413540720939636, 'train_acc': 0.9928571428571429, 'stop_loss': 1.2171005010604858, 'stop_acc': 0.792}\n",
      "{'epoch': 600, 'train_loss': 0.7928503751754761, 'train_acc': 0.9857142857142858, 'stop_loss': 1.1612427234649658, 'stop_acc': 0.79}\n",
      "{'epoch': 700, 'train_loss': 0.7199683785438538, 'train_acc': 0.9928571428571429, 'stop_loss': 1.117980718612671, 'stop_acc': 0.794}\n",
      "{'epoch': 800, 'train_loss': 0.6878466010093689, 'train_acc': 0.9857142857142858, 'stop_loss': 1.1128841638565063, 'stop_acc': 0.788}\n",
      "{'epoch': 900, 'train_loss': 0.6219645738601685, 'train_acc': 1.0, 'stop_loss': 1.0786551237106323, 'stop_acc': 0.782}\n",
      "{'epoch': 1000, 'train_loss': 0.60619056224823, 'train_acc': 0.9857142857142858, 'stop_loss': 1.0534346103668213, 'stop_acc': 0.784}\n"
     ]
    },
    {
     "name": "stderr",
     "output_type": "stream",
     "text": [
      "2019-11-13 15:59:24: Iteration 87 of 100\n",
      "                     -------------------\n"
     ]
    },
    {
     "name": "stdout",
     "output_type": "stream",
     "text": [
      "{'epoch': 1100, 'train_loss': 0.5776370763778687, 'train_acc': 0.9857142857142858, 'stop_loss': 1.0275795459747314, 'stop_acc': 0.784}\n",
      "{'epoch': 0, 'train_loss': 1.999212622642517, 'train_acc': 0.16428571428571428, 'stop_loss': 1.9585481882095337, 'stop_acc': 0.39}\n",
      "{'epoch': 100, 'train_loss': 1.636810064315796, 'train_acc': 0.9, 'stop_loss': 1.755455493927002, 'stop_acc': 0.786}\n",
      "{'epoch': 200, 'train_loss': 1.284784197807312, 'train_acc': 0.9285714285714286, 'stop_loss': 1.515790581703186, 'stop_acc': 0.806}\n",
      "{'epoch': 300, 'train_loss': 1.1054000854492188, 'train_acc': 0.95, 'stop_loss': 1.3690749406814575, 'stop_acc': 0.794}\n",
      "{'epoch': 400, 'train_loss': 0.9464986324310303, 'train_acc': 0.9714285714285714, 'stop_loss': 1.2877013683319092, 'stop_acc': 0.788}\n",
      "{'epoch': 500, 'train_loss': 0.8827059268951416, 'train_acc': 0.9785714285714285, 'stop_loss': 1.202878475189209, 'stop_acc': 0.794}\n",
      "{'epoch': 600, 'train_loss': 0.8053982853889465, 'train_acc': 0.9785714285714285, 'stop_loss': 1.1700087785720825, 'stop_acc': 0.792}\n",
      "{'epoch': 700, 'train_loss': 0.7515312433242798, 'train_acc': 0.9785714285714285, 'stop_loss': 1.1031532287597656, 'stop_acc': 0.802}\n",
      "{'epoch': 800, 'train_loss': 0.6861062049865723, 'train_acc': 0.9785714285714285, 'stop_loss': 1.0884346961975098, 'stop_acc': 0.79}\n",
      "{'epoch': 900, 'train_loss': 0.6455134153366089, 'train_acc': 0.9857142857142858, 'stop_loss': 1.0557501316070557, 'stop_acc': 0.792}\n",
      "{'epoch': 1000, 'train_loss': 0.5940548777580261, 'train_acc': 0.9857142857142858, 'stop_loss': 1.0511536598205566, 'stop_acc': 0.79}\n",
      "{'epoch': 1100, 'train_loss': 0.5768359303474426, 'train_acc': 1.0, 'stop_loss': 1.0112676620483398, 'stop_acc': 0.798}\n",
      "{'epoch': 1200, 'train_loss': 0.5415254235267639, 'train_acc': 0.9928571428571429, 'stop_loss': 0.9947094917297363, 'stop_acc': 0.792}\n",
      "{'epoch': 1300, 'train_loss': 0.5001259446144104, 'train_acc': 0.9928571428571429, 'stop_loss': 0.9741562008857727, 'stop_acc': 0.79}\n",
      "{'epoch': 1400, 'train_loss': 0.5138823986053467, 'train_acc': 0.9928571428571429, 'stop_loss': 0.9408711194992065, 'stop_acc': 0.796}\n",
      "{'epoch': 1500, 'train_loss': 0.5009980201721191, 'train_acc': 0.9785714285714285, 'stop_loss': 0.9555931687355042, 'stop_acc': 0.792}\n",
      "{'epoch': 1600, 'train_loss': 0.45596060156822205, 'train_acc': 0.9928571428571429, 'stop_loss': 0.9275967478752136, 'stop_acc': 0.79}\n"
     ]
    },
    {
     "name": "stderr",
     "output_type": "stream",
     "text": [
      "2019-11-13 15:59:56: Iteration 88 of 100\n",
      "                     -------------------\n"
     ]
    },
    {
     "name": "stdout",
     "output_type": "stream",
     "text": [
      "{'epoch': 0, 'train_loss': 1.9991538524627686, 'train_acc': 0.09285714285714286, 'stop_loss': 1.9586687088012695, 'stop_acc': 0.506}\n",
      "{'epoch': 100, 'train_loss': 1.632434606552124, 'train_acc': 0.8285714285714286, 'stop_loss': 1.7682913541793823, 'stop_acc': 0.738}\n",
      "{'epoch': 200, 'train_loss': 1.274640679359436, 'train_acc': 0.9285714285714286, 'stop_loss': 1.5163670778274536, 'stop_acc': 0.782}\n",
      "{'epoch': 300, 'train_loss': 1.0670530796051025, 'train_acc': 0.9428571428571428, 'stop_loss': 1.3652985095977783, 'stop_acc': 0.798}\n",
      "{'epoch': 400, 'train_loss': 0.9623292684555054, 'train_acc': 0.9642857142857143, 'stop_loss': 1.2746104001998901, 'stop_acc': 0.798}\n",
      "{'epoch': 500, 'train_loss': 0.870439887046814, 'train_acc': 0.9857142857142858, 'stop_loss': 1.2106754779815674, 'stop_acc': 0.784}\n",
      "{'epoch': 600, 'train_loss': 0.7609426975250244, 'train_acc': 0.9857142857142858, 'stop_loss': 1.1456289291381836, 'stop_acc': 0.796}\n",
      "{'epoch': 700, 'train_loss': 0.7207068204879761, 'train_acc': 0.9928571428571429, 'stop_loss': 1.1192502975463867, 'stop_acc': 0.79}\n",
      "{'epoch': 800, 'train_loss': 0.6705417037010193, 'train_acc': 0.9642857142857143, 'stop_loss': 1.0788673162460327, 'stop_acc': 0.798}\n",
      "{'epoch': 900, 'train_loss': 0.6380891799926758, 'train_acc': 0.9928571428571429, 'stop_loss': 1.057715892791748, 'stop_acc': 0.796}\n",
      "{'epoch': 1000, 'train_loss': 0.5919641256332397, 'train_acc': 1.0, 'stop_loss': 1.0396432876586914, 'stop_acc': 0.78}\n",
      "{'epoch': 1100, 'train_loss': 0.5773192644119263, 'train_acc': 0.9857142857142858, 'stop_loss': 1.0093905925750732, 'stop_acc': 0.794}\n",
      "{'epoch': 1200, 'train_loss': 0.548169732093811, 'train_acc': 0.9928571428571429, 'stop_loss': 1.0073403120040894, 'stop_acc': 0.79}\n",
      "{'epoch': 1300, 'train_loss': 0.5232894420623779, 'train_acc': 1.0, 'stop_loss': 0.9848536849021912, 'stop_acc': 0.794}\n",
      "{'epoch': 1400, 'train_loss': 0.4998807907104492, 'train_acc': 0.9928571428571429, 'stop_loss': 0.9580183029174805, 'stop_acc': 0.796}\n",
      "{'epoch': 1500, 'train_loss': 0.47587794065475464, 'train_acc': 0.9928571428571429, 'stop_loss': 0.9513634443283081, 'stop_acc': 0.788}\n",
      "{'epoch': 1600, 'train_loss': 0.45763885974884033, 'train_acc': 0.9785714285714285, 'stop_loss': 0.9271853566169739, 'stop_acc': 0.796}\n",
      "{'epoch': 1700, 'train_loss': 0.42810577154159546, 'train_acc': 1.0, 'stop_loss': 0.9110300540924072, 'stop_acc': 0.8}\n",
      "{'epoch': 1800, 'train_loss': 0.4288846254348755, 'train_acc': 1.0, 'stop_loss': 0.9856607913970947, 'stop_acc': 0.77}\n",
      "{'epoch': 1900, 'train_loss': 0.4049396514892578, 'train_acc': 0.9928571428571429, 'stop_loss': 0.9136219024658203, 'stop_acc': 0.792}\n",
      "{'epoch': 2000, 'train_loss': 0.40496039390563965, 'train_acc': 1.0, 'stop_loss': 0.899303674697876, 'stop_acc': 0.788}\n"
     ]
    },
    {
     "name": "stderr",
     "output_type": "stream",
     "text": [
      "2019-11-13 16:00:38: Iteration 89 of 100\n",
      "                     -------------------\n"
     ]
    },
    {
     "name": "stdout",
     "output_type": "stream",
     "text": [
      "{'epoch': 2100, 'train_loss': 0.3928702473640442, 'train_acc': 1.0, 'stop_loss': 0.903949499130249, 'stop_acc': 0.792}\n",
      "{'epoch': 0, 'train_loss': 1.999010443687439, 'train_acc': 0.17857142857142858, 'stop_loss': 1.95852792263031, 'stop_acc': 0.61}\n",
      "{'epoch': 100, 'train_loss': 1.617760419845581, 'train_acc': 0.8642857142857143, 'stop_loss': 1.7651691436767578, 'stop_acc': 0.766}\n",
      "{'epoch': 200, 'train_loss': 1.294719934463501, 'train_acc': 0.9428571428571428, 'stop_loss': 1.515181064605713, 'stop_acc': 0.792}\n",
      "{'epoch': 300, 'train_loss': 1.0972493886947632, 'train_acc': 0.9428571428571428, 'stop_loss': 1.3679776191711426, 'stop_acc': 0.796}\n",
      "{'epoch': 400, 'train_loss': 0.9716272354125977, 'train_acc': 0.9642857142857143, 'stop_loss': 1.2601895332336426, 'stop_acc': 0.804}\n",
      "{'epoch': 500, 'train_loss': 0.8531811237335205, 'train_acc': 0.9857142857142858, 'stop_loss': 1.211807370185852, 'stop_acc': 0.784}\n",
      "{'epoch': 600, 'train_loss': 0.8016605973243713, 'train_acc': 0.9785714285714285, 'stop_loss': 1.1526635885238647, 'stop_acc': 0.804}\n",
      "{'epoch': 700, 'train_loss': 0.7269620895385742, 'train_acc': 0.9785714285714285, 'stop_loss': 1.1315197944641113, 'stop_acc': 0.788}\n",
      "{'epoch': 800, 'train_loss': 0.6920821070671082, 'train_acc': 0.9928571428571429, 'stop_loss': 1.09354829788208, 'stop_acc': 0.786}\n",
      "{'epoch': 900, 'train_loss': 0.638904333114624, 'train_acc': 0.9785714285714285, 'stop_loss': 1.0561583042144775, 'stop_acc': 0.8}\n",
      "{'epoch': 1000, 'train_loss': 0.6057471036911011, 'train_acc': 0.9928571428571429, 'stop_loss': 1.0578558444976807, 'stop_acc': 0.782}\n",
      "{'epoch': 1100, 'train_loss': 0.5828744173049927, 'train_acc': 1.0, 'stop_loss': 1.0151079893112183, 'stop_acc': 0.786}\n",
      "{'epoch': 1200, 'train_loss': 0.5461264252662659, 'train_acc': 0.9857142857142858, 'stop_loss': 1.0151073932647705, 'stop_acc': 0.774}\n",
      "{'epoch': 1300, 'train_loss': 0.5258383750915527, 'train_acc': 0.9785714285714285, 'stop_loss': 0.9860152006149292, 'stop_acc': 0.796}\n",
      "{'epoch': 1400, 'train_loss': 0.4925147294998169, 'train_acc': 1.0, 'stop_loss': 0.9847965240478516, 'stop_acc': 0.77}\n",
      "{'epoch': 1500, 'train_loss': 0.47394609451293945, 'train_acc': 1.0, 'stop_loss': 0.974280834197998, 'stop_acc': 0.786}\n",
      "{'epoch': 1600, 'train_loss': 0.47381478548049927, 'train_acc': 1.0, 'stop_loss': 0.940792441368103, 'stop_acc': 0.796}\n",
      "{'epoch': 1700, 'train_loss': 0.44408369064331055, 'train_acc': 0.9928571428571429, 'stop_loss': 0.9025402069091797, 'stop_acc': 0.804}\n",
      "{'epoch': 1800, 'train_loss': 0.4376833140850067, 'train_acc': 0.9928571428571429, 'stop_loss': 0.9260612726211548, 'stop_acc': 0.794}\n",
      "{'epoch': 1900, 'train_loss': 0.4176265597343445, 'train_acc': 0.9857142857142858, 'stop_loss': 0.9399793148040771, 'stop_acc': 0.784}\n"
     ]
    },
    {
     "name": "stderr",
     "output_type": "stream",
     "text": [
      "2019-11-13 16:01:15: Iteration 90 of 100\n",
      "                     -------------------\n"
     ]
    },
    {
     "name": "stdout",
     "output_type": "stream",
     "text": [
      "{'epoch': 0, 'train_loss': 1.9992413520812988, 'train_acc': 0.09285714285714286, 'stop_loss': 1.9585702419281006, 'stop_acc': 0.54}\n",
      "{'epoch': 100, 'train_loss': 1.624863624572754, 'train_acc': 0.8642857142857143, 'stop_loss': 1.7674227952957153, 'stop_acc': 0.752}\n",
      "{'epoch': 200, 'train_loss': 1.2898164987564087, 'train_acc': 0.9214285714285714, 'stop_loss': 1.5104992389678955, 'stop_acc': 0.802}\n",
      "{'epoch': 300, 'train_loss': 1.074179768562317, 'train_acc': 0.9428571428571428, 'stop_loss': 1.36979341506958, 'stop_acc': 0.806}\n",
      "{'epoch': 400, 'train_loss': 0.9691763520240784, 'train_acc': 0.9642857142857143, 'stop_loss': 1.2792227268218994, 'stop_acc': 0.792}\n",
      "{'epoch': 500, 'train_loss': 0.8355518579483032, 'train_acc': 0.9928571428571429, 'stop_loss': 1.215376615524292, 'stop_acc': 0.794}\n",
      "{'epoch': 600, 'train_loss': 0.7601895332336426, 'train_acc': 0.9857142857142858, 'stop_loss': 1.143873691558838, 'stop_acc': 0.8}\n",
      "{'epoch': 700, 'train_loss': 0.7264776825904846, 'train_acc': 0.9714285714285714, 'stop_loss': 1.1190743446350098, 'stop_acc': 0.78}\n",
      "{'epoch': 800, 'train_loss': 0.6653405427932739, 'train_acc': 0.9857142857142858, 'stop_loss': 1.073339581489563, 'stop_acc': 0.796}\n",
      "{'epoch': 900, 'train_loss': 0.6351496577262878, 'train_acc': 0.9857142857142858, 'stop_loss': 1.0477088689804077, 'stop_acc': 0.8}\n",
      "{'epoch': 1000, 'train_loss': 0.5629057288169861, 'train_acc': 0.9928571428571429, 'stop_loss': 1.0221831798553467, 'stop_acc': 0.812}\n",
      "{'epoch': 1100, 'train_loss': 0.5694097876548767, 'train_acc': 0.9928571428571429, 'stop_loss': 1.0069148540496826, 'stop_acc': 0.794}\n",
      "{'epoch': 1200, 'train_loss': 0.5435004234313965, 'train_acc': 0.9857142857142858, 'stop_loss': 1.0033047199249268, 'stop_acc': 0.788}\n"
     ]
    },
    {
     "name": "stderr",
     "output_type": "stream",
     "text": [
      "2019-11-13 16:01:40: Iteration 91 of 100\n",
      "                     -------------------\n"
     ]
    },
    {
     "name": "stdout",
     "output_type": "stream",
     "text": [
      "{'epoch': 0, 'train_loss': 1.9991158246994019, 'train_acc': 0.17142857142857143, 'stop_loss': 1.9587230682373047, 'stop_acc': 0.43}\n",
      "{'epoch': 100, 'train_loss': 1.6698954105377197, 'train_acc': 0.8214285714285714, 'stop_loss': 1.8766367435455322, 'stop_acc': 0.602}\n",
      "{'epoch': 200, 'train_loss': 1.3248190879821777, 'train_acc': 0.9428571428571428, 'stop_loss': 1.6140581369400024, 'stop_acc': 0.774}\n",
      "{'epoch': 300, 'train_loss': 1.0990207195281982, 'train_acc': 0.9571428571428572, 'stop_loss': 1.425636887550354, 'stop_acc': 0.83}\n",
      "{'epoch': 400, 'train_loss': 0.9480773210525513, 'train_acc': 0.9642857142857143, 'stop_loss': 1.31533944606781, 'stop_acc': 0.83}\n",
      "{'epoch': 500, 'train_loss': 0.8308879137039185, 'train_acc': 0.9928571428571429, 'stop_loss': 1.220331072807312, 'stop_acc': 0.828}\n",
      "{'epoch': 600, 'train_loss': 0.8079088926315308, 'train_acc': 0.9714285714285714, 'stop_loss': 1.1783186197280884, 'stop_acc': 0.83}\n",
      "{'epoch': 700, 'train_loss': 0.7106015086174011, 'train_acc': 0.9714285714285714, 'stop_loss': 1.1118206977844238, 'stop_acc': 0.844}\n",
      "{'epoch': 800, 'train_loss': 0.6831908226013184, 'train_acc': 0.9714285714285714, 'stop_loss': 1.0717378854751587, 'stop_acc': 0.834}\n",
      "{'epoch': 900, 'train_loss': 0.6390411853790283, 'train_acc': 0.9857142857142858, 'stop_loss': 1.0430728197097778, 'stop_acc': 0.842}\n",
      "{'epoch': 1000, 'train_loss': 0.6066002249717712, 'train_acc': 0.9785714285714285, 'stop_loss': 1.027713418006897, 'stop_acc': 0.83}\n",
      "{'epoch': 1100, 'train_loss': 0.567611575126648, 'train_acc': 0.9857142857142858, 'stop_loss': 0.9703209400177002, 'stop_acc': 0.852}\n",
      "{'epoch': 1200, 'train_loss': 0.5307644605636597, 'train_acc': 0.9928571428571429, 'stop_loss': 0.9835925698280334, 'stop_acc': 0.828}\n",
      "{'epoch': 1300, 'train_loss': 0.5200183391571045, 'train_acc': 0.9928571428571429, 'stop_loss': 0.9723590612411499, 'stop_acc': 0.82}\n",
      "{'epoch': 1400, 'train_loss': 0.5179252624511719, 'train_acc': 0.9928571428571429, 'stop_loss': 0.9566705226898193, 'stop_acc': 0.832}\n",
      "{'epoch': 1500, 'train_loss': 0.4819268584251404, 'train_acc': 1.0, 'stop_loss': 0.9535247087478638, 'stop_acc': 0.836}\n",
      "{'epoch': 1600, 'train_loss': 0.4691981077194214, 'train_acc': 0.9857142857142858, 'stop_loss': 0.9087163209915161, 'stop_acc': 0.838}\n",
      "{'epoch': 1700, 'train_loss': 0.4477442800998688, 'train_acc': 1.0, 'stop_loss': 0.9076290130615234, 'stop_acc': 0.832}\n",
      "{'epoch': 1800, 'train_loss': 0.43869882822036743, 'train_acc': 0.9928571428571429, 'stop_loss': 0.8783823251724243, 'stop_acc': 0.838}\n"
     ]
    },
    {
     "name": "stderr",
     "output_type": "stream",
     "text": [
      "2019-11-13 16:02:16: Iteration 92 of 100\n",
      "                     -------------------\n"
     ]
    },
    {
     "name": "stdout",
     "output_type": "stream",
     "text": [
      "{'epoch': 0, 'train_loss': 1.9994388818740845, 'train_acc': 0.14285714285714285, 'stop_loss': 1.9587620496749878, 'stop_acc': 0.506}\n",
      "{'epoch': 100, 'train_loss': 1.6512748003005981, 'train_acc': 0.8142857142857143, 'stop_loss': 1.8781100511550903, 'stop_acc': 0.6}\n",
      "{'epoch': 200, 'train_loss': 1.2869187593460083, 'train_acc': 0.9428571428571428, 'stop_loss': 1.5931212902069092, 'stop_acc': 0.768}\n",
      "{'epoch': 300, 'train_loss': 1.0573105812072754, 'train_acc': 0.9571428571428572, 'stop_loss': 1.403273344039917, 'stop_acc': 0.814}\n",
      "{'epoch': 400, 'train_loss': 0.9382203221321106, 'train_acc': 0.9642857142857143, 'stop_loss': 1.2884773015975952, 'stop_acc': 0.83}\n",
      "{'epoch': 500, 'train_loss': 0.8343801498413086, 'train_acc': 0.9785714285714285, 'stop_loss': 1.2064764499664307, 'stop_acc': 0.816}\n",
      "{'epoch': 600, 'train_loss': 0.7580429315567017, 'train_acc': 0.9714285714285714, 'stop_loss': 1.1607961654663086, 'stop_acc': 0.84}\n",
      "{'epoch': 700, 'train_loss': 0.702538013458252, 'train_acc': 0.9857142857142858, 'stop_loss': 1.093609094619751, 'stop_acc': 0.836}\n",
      "{'epoch': 800, 'train_loss': 0.6505649089813232, 'train_acc': 0.9928571428571429, 'stop_loss': 1.057294487953186, 'stop_acc': 0.832}\n",
      "{'epoch': 900, 'train_loss': 0.6131211519241333, 'train_acc': 0.9785714285714285, 'stop_loss': 1.008132815361023, 'stop_acc': 0.852}\n",
      "{'epoch': 1000, 'train_loss': 0.5814520120620728, 'train_acc': 0.9928571428571429, 'stop_loss': 0.9933604001998901, 'stop_acc': 0.84}\n",
      "{'epoch': 1100, 'train_loss': 0.5725479125976562, 'train_acc': 0.9714285714285714, 'stop_loss': 0.9743082523345947, 'stop_acc': 0.836}\n",
      "{'epoch': 1200, 'train_loss': 0.5438714027404785, 'train_acc': 0.9928571428571429, 'stop_loss': 0.9732536673545837, 'stop_acc': 0.838}\n",
      "{'epoch': 1300, 'train_loss': 0.4956757426261902, 'train_acc': 0.9857142857142858, 'stop_loss': 0.9397083520889282, 'stop_acc': 0.834}\n",
      "{'epoch': 1400, 'train_loss': 0.4839434027671814, 'train_acc': 0.9785714285714285, 'stop_loss': 0.9265148639678955, 'stop_acc': 0.834}\n"
     ]
    },
    {
     "name": "stderr",
     "output_type": "stream",
     "text": [
      "2019-11-13 16:02:45: Iteration 93 of 100\n",
      "                     -------------------\n"
     ]
    },
    {
     "name": "stdout",
     "output_type": "stream",
     "text": [
      "{'epoch': 0, 'train_loss': 1.9992743730545044, 'train_acc': 0.11428571428571428, 'stop_loss': 1.9587441682815552, 'stop_acc': 0.564}\n",
      "{'epoch': 100, 'train_loss': 1.6460480690002441, 'train_acc': 0.8142857142857143, 'stop_loss': 1.868552565574646, 'stop_acc': 0.636}\n",
      "{'epoch': 200, 'train_loss': 1.2891954183578491, 'train_acc': 0.9357142857142857, 'stop_loss': 1.5978939533233643, 'stop_acc': 0.8}\n",
      "{'epoch': 300, 'train_loss': 1.0612194538116455, 'train_acc': 0.9571428571428572, 'stop_loss': 1.4268765449523926, 'stop_acc': 0.812}\n",
      "{'epoch': 400, 'train_loss': 0.9592456817626953, 'train_acc': 0.9642857142857143, 'stop_loss': 1.302034854888916, 'stop_acc': 0.826}\n",
      "{'epoch': 500, 'train_loss': 0.8640994429588318, 'train_acc': 0.9857142857142858, 'stop_loss': 1.2241871356964111, 'stop_acc': 0.834}\n",
      "{'epoch': 600, 'train_loss': 0.7782937288284302, 'train_acc': 0.9714285714285714, 'stop_loss': 1.169903039932251, 'stop_acc': 0.828}\n",
      "{'epoch': 700, 'train_loss': 0.7405237555503845, 'train_acc': 0.9642857142857143, 'stop_loss': 1.1266825199127197, 'stop_acc': 0.834}\n",
      "{'epoch': 800, 'train_loss': 0.6766936779022217, 'train_acc': 0.9928571428571429, 'stop_loss': 1.0747909545898438, 'stop_acc': 0.848}\n",
      "{'epoch': 900, 'train_loss': 0.6148552298545837, 'train_acc': 0.9857142857142858, 'stop_loss': 1.0259499549865723, 'stop_acc': 0.844}\n",
      "{'epoch': 1000, 'train_loss': 0.5966461896896362, 'train_acc': 0.9857142857142858, 'stop_loss': 1.003132700920105, 'stop_acc': 0.844}\n",
      "{'epoch': 1100, 'train_loss': 0.5870728492736816, 'train_acc': 0.9928571428571429, 'stop_loss': 0.9960634708404541, 'stop_acc': 0.84}\n",
      "{'epoch': 1200, 'train_loss': 0.5491914749145508, 'train_acc': 0.9857142857142858, 'stop_loss': 0.9666454792022705, 'stop_acc': 0.848}\n",
      "{'epoch': 1300, 'train_loss': 0.5276789665222168, 'train_acc': 0.9857142857142858, 'stop_loss': 0.9749288558959961, 'stop_acc': 0.816}\n",
      "{'epoch': 1400, 'train_loss': 0.4920967221260071, 'train_acc': 0.9928571428571429, 'stop_loss': 0.9566670656204224, 'stop_acc': 0.83}\n",
      "{'epoch': 1500, 'train_loss': 0.4696693420410156, 'train_acc': 1.0, 'stop_loss': 0.8972331285476685, 'stop_acc': 0.834}\n",
      "{'epoch': 1600, 'train_loss': 0.45950430631637573, 'train_acc': 0.9928571428571429, 'stop_loss': 0.9150382280349731, 'stop_acc': 0.83}\n",
      "{'epoch': 1700, 'train_loss': 0.45766186714172363, 'train_acc': 0.9857142857142858, 'stop_loss': 0.9269390106201172, 'stop_acc': 0.836}\n",
      "{'epoch': 1800, 'train_loss': 0.43809348344802856, 'train_acc': 0.9928571428571429, 'stop_loss': 0.8838725090026855, 'stop_acc': 0.828}\n",
      "{'epoch': 1900, 'train_loss': 0.41517359018325806, 'train_acc': 0.9928571428571429, 'stop_loss': 0.8658053278923035, 'stop_acc': 0.834}\n",
      "{'epoch': 2000, 'train_loss': 0.3816622793674469, 'train_acc': 0.9928571428571429, 'stop_loss': 0.8658686280250549, 'stop_acc': 0.818}\n",
      "{'epoch': 2100, 'train_loss': 0.37445563077926636, 'train_acc': 1.0, 'stop_loss': 0.8241296410560608, 'stop_acc': 0.832}\n"
     ]
    },
    {
     "name": "stderr",
     "output_type": "stream",
     "text": [
      "2019-11-13 16:03:34: Iteration 94 of 100\n",
      "                     -------------------\n"
     ]
    },
    {
     "name": "stdout",
     "output_type": "stream",
     "text": [
      "{'epoch': 0, 'train_loss': 1.99932861328125, 'train_acc': 0.11428571428571428, 'stop_loss': 1.958670735359192, 'stop_acc': 0.296}\n",
      "{'epoch': 100, 'train_loss': 1.6408376693725586, 'train_acc': 0.8071428571428572, 'stop_loss': 1.8911370038986206, 'stop_acc': 0.574}\n",
      "{'epoch': 200, 'train_loss': 1.3041962385177612, 'train_acc': 0.9285714285714286, 'stop_loss': 1.6271394491195679, 'stop_acc': 0.78}\n",
      "{'epoch': 300, 'train_loss': 1.112505316734314, 'train_acc': 0.9357142857142857, 'stop_loss': 1.4391236305236816, 'stop_acc': 0.814}\n",
      "{'epoch': 400, 'train_loss': 0.9474817514419556, 'train_acc': 0.9785714285714285, 'stop_loss': 1.3081870079040527, 'stop_acc': 0.836}\n",
      "{'epoch': 500, 'train_loss': 0.8708317875862122, 'train_acc': 0.95, 'stop_loss': 1.232627272605896, 'stop_acc': 0.83}\n",
      "{'epoch': 600, 'train_loss': 0.781029462814331, 'train_acc': 0.9785714285714285, 'stop_loss': 1.1888864040374756, 'stop_acc': 0.82}\n",
      "{'epoch': 700, 'train_loss': 0.7125084400177002, 'train_acc': 0.9785714285714285, 'stop_loss': 1.1067034006118774, 'stop_acc': 0.836}\n",
      "{'epoch': 800, 'train_loss': 0.679147481918335, 'train_acc': 0.9714285714285714, 'stop_loss': 1.0918906927108765, 'stop_acc': 0.83}\n",
      "{'epoch': 900, 'train_loss': 0.6196830868721008, 'train_acc': 0.9857142857142858, 'stop_loss': 1.0261855125427246, 'stop_acc': 0.848}\n",
      "{'epoch': 1000, 'train_loss': 0.6089951992034912, 'train_acc': 0.9785714285714285, 'stop_loss': 0.9948797225952148, 'stop_acc': 0.84}\n",
      "{'epoch': 1100, 'train_loss': 0.5695525407791138, 'train_acc': 0.9928571428571429, 'stop_loss': 0.9924237132072449, 'stop_acc': 0.84}\n",
      "{'epoch': 1200, 'train_loss': 0.5485254526138306, 'train_acc': 0.9928571428571429, 'stop_loss': 0.9687808752059937, 'stop_acc': 0.838}\n",
      "{'epoch': 1300, 'train_loss': 0.5106412768363953, 'train_acc': 0.9928571428571429, 'stop_loss': 0.9368263483047485, 'stop_acc': 0.838}\n",
      "{'epoch': 1400, 'train_loss': 0.5054590702056885, 'train_acc': 1.0, 'stop_loss': 0.9290836453437805, 'stop_acc': 0.84}\n",
      "{'epoch': 1500, 'train_loss': 0.5190176963806152, 'train_acc': 0.9571428571428572, 'stop_loss': 0.9269571304321289, 'stop_acc': 0.83}\n",
      "{'epoch': 1600, 'train_loss': 0.45716485381126404, 'train_acc': 1.0, 'stop_loss': 0.9192067384719849, 'stop_acc': 0.822}\n",
      "{'epoch': 1700, 'train_loss': 0.45196354389190674, 'train_acc': 0.9928571428571429, 'stop_loss': 0.8692954778671265, 'stop_acc': 0.838}\n"
     ]
    },
    {
     "name": "stderr",
     "output_type": "stream",
     "text": [
      "2019-11-13 16:04:08: Iteration 95 of 100\n",
      "                     -------------------\n"
     ]
    },
    {
     "name": "stdout",
     "output_type": "stream",
     "text": [
      "{'epoch': 0, 'train_loss': 1.9993177652359009, 'train_acc': 0.14285714285714285, 'stop_loss': 1.958701252937317, 'stop_acc': 0.548}\n",
      "{'epoch': 100, 'train_loss': 1.6539156436920166, 'train_acc': 0.7142857142857143, 'stop_loss': 1.9017354249954224, 'stop_acc': 0.526}\n",
      "{'epoch': 200, 'train_loss': 1.2909436225891113, 'train_acc': 0.9357142857142857, 'stop_loss': 1.6406611204147339, 'stop_acc': 0.732}\n",
      "{'epoch': 300, 'train_loss': 1.0677459239959717, 'train_acc': 0.9714285714285714, 'stop_loss': 1.4377305507659912, 'stop_acc': 0.802}\n",
      "{'epoch': 400, 'train_loss': 0.9516919255256653, 'train_acc': 0.9571428571428572, 'stop_loss': 1.3206968307495117, 'stop_acc': 0.828}\n",
      "{'epoch': 500, 'train_loss': 0.8388648629188538, 'train_acc': 0.9785714285714285, 'stop_loss': 1.237634539604187, 'stop_acc': 0.826}\n",
      "{'epoch': 600, 'train_loss': 0.7793703675270081, 'train_acc': 0.9857142857142858, 'stop_loss': 1.163687825202942, 'stop_acc': 0.844}\n",
      "{'epoch': 700, 'train_loss': 0.693644642829895, 'train_acc': 0.9714285714285714, 'stop_loss': 1.1089396476745605, 'stop_acc': 0.838}\n",
      "{'epoch': 800, 'train_loss': 0.661832332611084, 'train_acc': 0.9857142857142858, 'stop_loss': 1.065537452697754, 'stop_acc': 0.84}\n",
      "{'epoch': 900, 'train_loss': 0.6509426832199097, 'train_acc': 0.9785714285714285, 'stop_loss': 1.034210443496704, 'stop_acc': 0.844}\n",
      "{'epoch': 1000, 'train_loss': 0.5692217350006104, 'train_acc': 0.9857142857142858, 'stop_loss': 1.0011261701583862, 'stop_acc': 0.84}\n",
      "{'epoch': 1100, 'train_loss': 0.584019660949707, 'train_acc': 0.9857142857142858, 'stop_loss': 0.978095293045044, 'stop_acc': 0.838}\n",
      "{'epoch': 1200, 'train_loss': 0.5399249792098999, 'train_acc': 0.9857142857142858, 'stop_loss': 0.9634592533111572, 'stop_acc': 0.846}\n",
      "{'epoch': 1300, 'train_loss': 0.525571882724762, 'train_acc': 0.9857142857142858, 'stop_loss': 0.9438369274139404, 'stop_acc': 0.83}\n",
      "{'epoch': 1400, 'train_loss': 0.47124600410461426, 'train_acc': 0.9857142857142858, 'stop_loss': 0.9311290979385376, 'stop_acc': 0.834}\n",
      "{'epoch': 1500, 'train_loss': 0.48099929094314575, 'train_acc': 0.9928571428571429, 'stop_loss': 0.9030089974403381, 'stop_acc': 0.844}\n"
     ]
    },
    {
     "name": "stderr",
     "output_type": "stream",
     "text": [
      "2019-11-13 16:04:38: Iteration 96 of 100\n",
      "                     -------------------\n"
     ]
    },
    {
     "name": "stdout",
     "output_type": "stream",
     "text": [
      "{'epoch': 0, 'train_loss': 1.99931800365448, 'train_acc': 0.15, 'stop_loss': 1.9586572647094727, 'stop_acc': 0.68}\n",
      "{'epoch': 100, 'train_loss': 1.6413538455963135, 'train_acc': 0.9285714285714286, 'stop_loss': 1.7803665399551392, 'stop_acc': 0.796}\n",
      "{'epoch': 200, 'train_loss': 1.2542903423309326, 'train_acc': 0.9428571428571428, 'stop_loss': 1.479812502861023, 'stop_acc': 0.83}\n",
      "{'epoch': 300, 'train_loss': 1.0527379512786865, 'train_acc': 0.9571428571428572, 'stop_loss': 1.3135342597961426, 'stop_acc': 0.832}\n",
      "{'epoch': 400, 'train_loss': 0.9108424782752991, 'train_acc': 0.9714285714285714, 'stop_loss': 1.2145776748657227, 'stop_acc': 0.826}\n",
      "{'epoch': 500, 'train_loss': 0.8397276401519775, 'train_acc': 0.9571428571428572, 'stop_loss': 1.1347787380218506, 'stop_acc': 0.83}\n",
      "{'epoch': 600, 'train_loss': 0.7508421540260315, 'train_acc': 0.9785714285714285, 'stop_loss': 1.0946266651153564, 'stop_acc': 0.822}\n",
      "{'epoch': 700, 'train_loss': 0.7025496959686279, 'train_acc': 0.9785714285714285, 'stop_loss': 1.031722903251648, 'stop_acc': 0.826}\n",
      "{'epoch': 800, 'train_loss': 0.6438506841659546, 'train_acc': 0.9785714285714285, 'stop_loss': 1.0168418884277344, 'stop_acc': 0.816}\n",
      "{'epoch': 900, 'train_loss': 0.6218194961547852, 'train_acc': 0.9785714285714285, 'stop_loss': 0.9811812043190002, 'stop_acc': 0.83}\n",
      "{'epoch': 1000, 'train_loss': 0.5958296060562134, 'train_acc': 0.9857142857142858, 'stop_loss': 0.9537064433097839, 'stop_acc': 0.826}\n"
     ]
    },
    {
     "name": "stderr",
     "output_type": "stream",
     "text": [
      "2019-11-13 16:05:00: Iteration 97 of 100\n",
      "                     -------------------\n"
     ]
    },
    {
     "name": "stdout",
     "output_type": "stream",
     "text": [
      "{'epoch': 0, 'train_loss': 1.9992105960845947, 'train_acc': 0.09285714285714286, 'stop_loss': 1.9586883783340454, 'stop_acc': 0.384}\n",
      "{'epoch': 100, 'train_loss': 1.6438363790512085, 'train_acc': 0.8785714285714286, 'stop_loss': 1.8104687929153442, 'stop_acc': 0.752}\n",
      "{'epoch': 200, 'train_loss': 1.2540152072906494, 'train_acc': 0.95, 'stop_loss': 1.521064043045044, 'stop_acc': 0.812}\n",
      "{'epoch': 300, 'train_loss': 1.0584187507629395, 'train_acc': 0.9571428571428572, 'stop_loss': 1.349550724029541, 'stop_acc': 0.82}\n",
      "{'epoch': 400, 'train_loss': 0.9321267604827881, 'train_acc': 0.9714285714285714, 'stop_loss': 1.2348988056182861, 'stop_acc': 0.826}\n",
      "{'epoch': 500, 'train_loss': 0.8337829113006592, 'train_acc': 0.95, 'stop_loss': 1.1844054460525513, 'stop_acc': 0.818}\n",
      "{'epoch': 600, 'train_loss': 0.7502911686897278, 'train_acc': 0.9785714285714285, 'stop_loss': 1.0934195518493652, 'stop_acc': 0.836}\n",
      "{'epoch': 700, 'train_loss': 0.6975353956222534, 'train_acc': 0.9785714285714285, 'stop_loss': 1.0475168228149414, 'stop_acc': 0.822}\n",
      "{'epoch': 800, 'train_loss': 0.6652331948280334, 'train_acc': 0.9785714285714285, 'stop_loss': 1.007607102394104, 'stop_acc': 0.828}\n",
      "{'epoch': 900, 'train_loss': 0.6219440698623657, 'train_acc': 0.9785714285714285, 'stop_loss': 0.9953007698059082, 'stop_acc': 0.816}\n",
      "{'epoch': 1000, 'train_loss': 0.5809602737426758, 'train_acc': 0.9928571428571429, 'stop_loss': 0.9553032517433167, 'stop_acc': 0.816}\n",
      "{'epoch': 1100, 'train_loss': 0.5462501645088196, 'train_acc': 0.9714285714285714, 'stop_loss': 0.935591459274292, 'stop_acc': 0.832}\n",
      "{'epoch': 1200, 'train_loss': 0.5430099964141846, 'train_acc': 0.9857142857142858, 'stop_loss': 0.9217003583908081, 'stop_acc': 0.818}\n",
      "{'epoch': 1300, 'train_loss': 0.5181072354316711, 'train_acc': 0.9928571428571429, 'stop_loss': 0.8679048418998718, 'stop_acc': 0.834}\n"
     ]
    },
    {
     "name": "stderr",
     "output_type": "stream",
     "text": [
      "2019-11-13 16:05:26: Iteration 98 of 100\n",
      "                     -------------------\n"
     ]
    },
    {
     "name": "stdout",
     "output_type": "stream",
     "text": [
      "{'epoch': 0, 'train_loss': 1.9992412328720093, 'train_acc': 0.18571428571428572, 'stop_loss': 1.9586728811264038, 'stop_acc': 0.446}\n",
      "{'epoch': 100, 'train_loss': 1.6645593643188477, 'train_acc': 0.9, 'stop_loss': 1.8116332292556763, 'stop_acc': 0.744}\n",
      "{'epoch': 200, 'train_loss': 1.2474172115325928, 'train_acc': 0.95, 'stop_loss': 1.5142927169799805, 'stop_acc': 0.822}\n",
      "{'epoch': 300, 'train_loss': 1.0461137294769287, 'train_acc': 0.9785714285714285, 'stop_loss': 1.3405033349990845, 'stop_acc': 0.816}\n",
      "{'epoch': 400, 'train_loss': 0.9399572610855103, 'train_acc': 0.9785714285714285, 'stop_loss': 1.2266210317611694, 'stop_acc': 0.824}\n",
      "{'epoch': 500, 'train_loss': 0.8072075247764587, 'train_acc': 0.9714285714285714, 'stop_loss': 1.1494823694229126, 'stop_acc': 0.824}\n",
      "{'epoch': 600, 'train_loss': 0.7672691345214844, 'train_acc': 0.9785714285714285, 'stop_loss': 1.08279287815094, 'stop_acc': 0.828}\n",
      "{'epoch': 700, 'train_loss': 0.7046520709991455, 'train_acc': 0.9714285714285714, 'stop_loss': 1.0475457906723022, 'stop_acc': 0.828}\n",
      "{'epoch': 800, 'train_loss': 0.635229766368866, 'train_acc': 0.9857142857142858, 'stop_loss': 0.9999676942825317, 'stop_acc': 0.828}\n",
      "{'epoch': 900, 'train_loss': 0.6220301389694214, 'train_acc': 0.9857142857142858, 'stop_loss': 0.9777771830558777, 'stop_acc': 0.822}\n",
      "{'epoch': 1000, 'train_loss': 0.6041741967201233, 'train_acc': 0.9785714285714285, 'stop_loss': 0.9662895798683167, 'stop_acc': 0.824}\n",
      "{'epoch': 1100, 'train_loss': 0.5338449478149414, 'train_acc': 0.9928571428571429, 'stop_loss': 0.9370774030685425, 'stop_acc': 0.82}\n",
      "{'epoch': 1200, 'train_loss': 0.5354174971580505, 'train_acc': 0.9857142857142858, 'stop_loss': 0.9123819470405579, 'stop_acc': 0.828}\n",
      "{'epoch': 1300, 'train_loss': 0.5078771114349365, 'train_acc': 0.9857142857142858, 'stop_loss': 0.8758558034896851, 'stop_acc': 0.826}\n"
     ]
    },
    {
     "name": "stderr",
     "output_type": "stream",
     "text": [
      "2019-11-13 16:05:54: Iteration 99 of 100\n",
      "                     -------------------\n"
     ]
    },
    {
     "name": "stdout",
     "output_type": "stream",
     "text": [
      "{'epoch': 0, 'train_loss': 1.9991449117660522, 'train_acc': 0.12857142857142856, 'stop_loss': 1.9585727453231812, 'stop_acc': 0.488}\n",
      "{'epoch': 100, 'train_loss': 1.635535478591919, 'train_acc': 0.9357142857142857, 'stop_loss': 1.7945903539657593, 'stop_acc': 0.786}\n",
      "{'epoch': 200, 'train_loss': 1.2570290565490723, 'train_acc': 0.9428571428571428, 'stop_loss': 1.4937678575515747, 'stop_acc': 0.83}\n",
      "{'epoch': 300, 'train_loss': 1.0435627698898315, 'train_acc': 0.95, 'stop_loss': 1.3243427276611328, 'stop_acc': 0.828}\n",
      "{'epoch': 400, 'train_loss': 0.8925142288208008, 'train_acc': 0.9714285714285714, 'stop_loss': 1.229130506515503, 'stop_acc': 0.826}\n",
      "{'epoch': 500, 'train_loss': 0.8294668197631836, 'train_acc': 0.9785714285714285, 'stop_loss': 1.1343436241149902, 'stop_acc': 0.826}\n",
      "{'epoch': 600, 'train_loss': 0.7400991916656494, 'train_acc': 0.9714285714285714, 'stop_loss': 1.0801010131835938, 'stop_acc': 0.834}\n",
      "{'epoch': 700, 'train_loss': 0.6827170252799988, 'train_acc': 0.9714285714285714, 'stop_loss': 1.034684181213379, 'stop_acc': 0.838}\n",
      "{'epoch': 800, 'train_loss': 0.6465461254119873, 'train_acc': 0.9857142857142858, 'stop_loss': 0.9890032410621643, 'stop_acc': 0.828}\n",
      "{'epoch': 900, 'train_loss': 0.6263938546180725, 'train_acc': 0.9928571428571429, 'stop_loss': 0.9972138404846191, 'stop_acc': 0.812}\n",
      "{'epoch': 1000, 'train_loss': 0.5663968324661255, 'train_acc': 0.9928571428571429, 'stop_loss': 0.9578216075897217, 'stop_acc': 0.82}\n",
      "{'epoch': 1100, 'train_loss': 0.5759327411651611, 'train_acc': 0.9928571428571429, 'stop_loss': 0.919104814529419, 'stop_acc': 0.832}\n",
      "{'epoch': 1200, 'train_loss': 0.5224817991256714, 'train_acc': 0.9928571428571429, 'stop_loss': 0.9062427282333374, 'stop_acc': 0.826}\n",
      "{'epoch': 1300, 'train_loss': 0.5176781415939331, 'train_acc': 0.9857142857142858, 'stop_loss': 0.8793035745620728, 'stop_acc': 0.832}\n",
      "{'epoch': 1400, 'train_loss': 0.49638718366622925, 'train_acc': 0.9857142857142858, 'stop_loss': 0.924369752407074, 'stop_acc': 0.81}\n"
     ]
    },
    {
     "name": "stderr",
     "output_type": "stream",
     "text": [
      "2019-11-13 16:06:23: Iteration 100 of 100\n",
      "                     --------------------\n"
     ]
    },
    {
     "name": "stdout",
     "output_type": "stream",
     "text": [
      "{'epoch': 0, 'train_loss': 1.9993590116500854, 'train_acc': 0.17857142857142858, 'stop_loss': 1.9587417840957642, 'stop_acc': 0.514}\n",
      "{'epoch': 100, 'train_loss': 1.6472978591918945, 'train_acc': 0.8571428571428571, 'stop_loss': 1.8075532913208008, 'stop_acc': 0.694}\n",
      "{'epoch': 200, 'train_loss': 1.2879215478897095, 'train_acc': 0.9571428571428572, 'stop_loss': 1.521297812461853, 'stop_acc': 0.806}\n",
      "{'epoch': 300, 'train_loss': 1.0755529403686523, 'train_acc': 0.9642857142857143, 'stop_loss': 1.350993037223816, 'stop_acc': 0.82}\n",
      "{'epoch': 400, 'train_loss': 0.9368891716003418, 'train_acc': 0.9571428571428572, 'stop_loss': 1.2354891300201416, 'stop_acc': 0.83}\n",
      "{'epoch': 500, 'train_loss': 0.8081415295600891, 'train_acc': 0.9785714285714285, 'stop_loss': 1.1612823009490967, 'stop_acc': 0.818}\n",
      "{'epoch': 600, 'train_loss': 0.7717709541320801, 'train_acc': 0.9785714285714285, 'stop_loss': 1.090819001197815, 'stop_acc': 0.824}\n",
      "{'epoch': 700, 'train_loss': 0.7213858962059021, 'train_acc': 0.9785714285714285, 'stop_loss': 1.0739741325378418, 'stop_acc': 0.818}\n",
      "{'epoch': 800, 'train_loss': 0.6565771102905273, 'train_acc': 0.9785714285714285, 'stop_loss': 1.0146147012710571, 'stop_acc': 0.822}\n",
      "{'epoch': 900, 'train_loss': 0.6297781467437744, 'train_acc': 0.9714285714285714, 'stop_loss': 0.9986014366149902, 'stop_acc': 0.814}\n",
      "{'epoch': 1000, 'train_loss': 0.5870383977890015, 'train_acc': 1.0, 'stop_loss': 0.9500540494918823, 'stop_acc': 0.824}\n",
      "{'epoch': 1100, 'train_loss': 0.5592317581176758, 'train_acc': 0.9857142857142858, 'stop_loss': 0.9392831325531006, 'stop_acc': 0.81}\n",
      "{'epoch': 1200, 'train_loss': 0.545968770980835, 'train_acc': 0.9928571428571429, 'stop_loss': 0.897025465965271, 'stop_acc': 0.832}\n",
      "{'epoch': 1300, 'train_loss': 0.5146372318267822, 'train_acc': 0.9928571428571429, 'stop_loss': 0.9072064161300659, 'stop_acc': 0.83}\n",
      "{'epoch': 1400, 'train_loss': 0.4726843237876892, 'train_acc': 0.9857142857142858, 'stop_loss': 0.8704168796539307, 'stop_acc': 0.824}\n",
      "{'epoch': 1500, 'train_loss': 0.4716736674308777, 'train_acc': 0.9857142857142858, 'stop_loss': 0.8587151765823364, 'stop_acc': 0.826}\n"
     ]
    }
   ],
   "source": [
    "# results = []\n",
    "used_seeds = []\n",
    "niter_tot = niter_per_seed * len(seeds)\n",
    "i_tot = 0\n",
    "for seed in seeds[-40:]:\n",
    "    idx_split_args['seed'] = seed\n",
    "    for _ in range(niter_per_seed):\n",
    "        i_tot += 1\n",
    "        logging_string = f\"Iteration {i_tot} of {niter_tot}\"\n",
    "        logging.log(22, logging_string + \"\\n                     \"+ '-' * len(logging_string))\n",
    "    \n",
    "#         # tensorflow\n",
    "#         result = train_model(\n",
    "#                 name=graph_name,\n",
    "#                 model_class=PPNP,\n",
    "#                 graph=graph, \n",
    "#                 build_args=tf_model_args, \n",
    "#                 idx_split_args=idx_split_args,\n",
    "#                 stopping_args=stopping_args, \n",
    "#                 test=test, \n",
    "#                 save_result=save_result, \n",
    "#                 tf_seed=None, \n",
    "#                 print_interval=print_interval\n",
    "#         )\n",
    "\n",
    "        # pytorch\n",
    "        model, result = train_model(\n",
    "            name=graph_name,\n",
    "            model_class=PPNP,\n",
    "            graph=graph,\n",
    "            model_args=pytorch_model_args,\n",
    "            reg_lambda=reg_lambda,\n",
    "            learning_rate=learning_rate,\n",
    "            idx_split_args=idx_split_args,\n",
    "            stopping_args=stopping_args,\n",
    "            test=test,\n",
    "            torch_seed=None,\n",
    "            print_interval=print_interval\n",
    "        )\n",
    "\n",
    "        results.append({})\n",
    "        results[-1]['stopping_accuracy'] = result['stopping_acc']\n",
    "#         results[-1]['stopping_f1_score'] = result['stopping']['f1_score']\n",
    "        results[-1]['valtest_accuracy']  = result['valtest_acc']\n",
    "#         results[-1]['valtest_f1_score']  = result['valtest']['f1_score']\n",
    "#         results[-1]['runtime']           = result['runtime']\n",
    "#         results[-1]['runtime_perepoch']  = result['runtime_perepoch']\n",
    "        results[-1]['split_seed']        = seed"
   ]
  },
  {
   "cell_type": "markdown",
   "metadata": {},
   "source": [
    "# Evaluation\n",
    "\n",
    "To evaluate the data we use Pandas and Seaborn (for bootstrapping)."
   ]
  },
  {
   "cell_type": "code",
   "execution_count": 15,
   "metadata": {},
   "outputs": [],
   "source": [
    "import pandas as pd\n",
    "# import seaborn as sns"
   ]
  },
  {
   "cell_type": "code",
   "execution_count": 19,
   "metadata": {},
   "outputs": [
    {
     "data": {
      "text/plain": [
       "0.8482856773191874"
      ]
     },
     "execution_count": 19,
     "metadata": {},
     "output_type": "execute_result"
    }
   ],
   "source": [
    "result_df = pd.DataFrame(results)\n",
    "result_df.head()\n",
    "\n",
    "result_df.valtest_accuracy.mean()"
   ]
  },
  {
   "cell_type": "markdown",
   "metadata": {},
   "source": [
    "The standard deviation doesn't really say much about the uncertainty of our results and the standard error of the mean (SEM) assumes a normal distribution. So the best way to get a valid estimate for our results' uncertainty is via bootstrapping."
   ]
  },
  {
   "cell_type": "code",
   "execution_count": 13,
   "metadata": {},
   "outputs": [],
   "source": [
    "def calc_uncertainty(values: np.ndarray, n_boot: int = 1000, ci: int = 95) -> dict:\n",
    "    stats = {}\n",
    "    stats['mean'] = values.mean()\n",
    "    boots_series = sns.algorithms.bootstrap(values, func=np.mean, n_boot=n_boot)\n",
    "    stats['CI'] = sns.utils.ci(boots_series, ci)\n",
    "    stats['uncertainty'] = np.max(np.abs(stats['CI'] - stats['mean']))\n",
    "    return stats"
   ]
  },
  {
   "cell_type": "code",
   "execution_count": 14,
   "metadata": {},
   "outputs": [
    {
     "name": "stderr",
     "output_type": "stream",
     "text": [
      "/nfs/homedirs/klicpera/anaconda3/envs/graph/lib/python3.6/site-packages/scipy/stats/stats.py:1713: FutureWarning: Using a non-tuple sequence for multidimensional indexing is deprecated; use `arr[tuple(seq)]` instead of `arr[seq]`. In the future this will be interpreted as an array index, `arr[np.array(seq)]`, which will result either in an error or a different result.\n",
      "  return np.add.reduce(sorted[indexer] * weights, axis=axis) / sumval\n"
     ]
    }
   ],
   "source": [
    "stopping_acc = calc_uncertainty(result_df['stopping_accuracy'])\n",
    "stopping_f1 = calc_uncertainty(result_df['stopping_f1_score'])\n",
    "valtest_acc = calc_uncertainty(result_df['valtest_accuracy'])\n",
    "valtest_f1 = calc_uncertainty(result_df['valtest_f1_score'])\n",
    "runtime = calc_uncertainty(result_df['runtime'])\n",
    "runtime_perepoch = calc_uncertainty(result_df['runtime_perepoch'])"
   ]
  },
  {
   "cell_type": "code",
   "execution_count": 15,
   "metadata": {},
   "outputs": [
    {
     "name": "stdout",
     "output_type": "stream",
     "text": [
      "APPNP\n",
      "Early stopping: Accuracy: 84.17 ± 0.37%, F1 score: 0.8296 ± 0.0041\n",
      "Test: Accuracy: 85.05 ± 0.23%, F1 score: 0.8431 ± 0.0021\n",
      "Runtime: 45.661 ± 1.793 sec, per epoch: 32.72 ± 0.04ms\n"
     ]
    }
   ],
   "source": [
    "print(\"APPNP\\n\"\n",
    "      \"Early stopping: Accuracy: {:.2f} ± {:.2f}%, \"\n",
    "      \"F1 score: {:.4f} ± {:.4f}\\n\"\n",
    "      \"{}: Accuracy: {:.2f} ± {:.2f}%, \"\n",
    "      \"F1 score: {:.4f} ± {:.4f}\\n\"\n",
    "      \"Runtime: {:.3f} ± {:.3f} sec, per epoch: {:.2f} ± {:.2f}ms\"\n",
    "      .format(\n",
    "          stopping_acc['mean'] * 100,\n",
    "          stopping_acc['uncertainty'] * 100,\n",
    "          stopping_f1['mean'],\n",
    "          stopping_f1['uncertainty'],\n",
    "          'Test' if test else 'Validation',\n",
    "          valtest_acc['mean'] * 100,\n",
    "          valtest_acc['uncertainty'] * 100,\n",
    "          valtest_f1['mean'],\n",
    "          valtest_f1['uncertainty'],\n",
    "          runtime['mean'],\n",
    "          runtime['uncertainty'],\n",
    "          runtime_perepoch['mean'] * 1e3,\n",
    "          runtime_perepoch['uncertainty'] * 1e3,\n",
    "      ))"
   ]
  }
 ],
 "metadata": {
  "kernelspec": {
   "display_name": "Python 3",
   "language": "python",
   "name": "python3"
  },
  "language_info": {
   "codemirror_mode": {
    "name": "ipython",
    "version": 3
   },
   "file_extension": ".py",
   "mimetype": "text/x-python",
   "name": "python",
   "nbconvert_exporter": "python",
   "pygments_lexer": "ipython3",
   "version": "3.7.5"
  }
 },
 "nbformat": 4,
 "nbformat_minor": 2
}
