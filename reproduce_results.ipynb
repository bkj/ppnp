{
 "cells": [
  {
   "cell_type": "code",
   "execution_count": 1,
   "metadata": {},
   "outputs": [
    {
     "name": "stdout",
     "output_type": "stream",
     "text": [
      "WARNING:tensorflow:From /home/bjohnson/software/ppnp/ppnp/tensorflow/model.py:13: The name tf.Session is deprecated. Please use tf.compat.v1.Session instead.\n",
      "\n",
      "WARNING:tensorflow:From /home/bjohnson/software/ppnp/ppnp/tensorflow/propagation.py:7: The name tf.sparse_tensor_dense_matmul is deprecated. Please use tf.sparse.sparse_dense_matmul instead.\n",
      "\n"
     ]
    }
   ],
   "source": [
    "import logging\n",
    "import argparse\n",
    "import os\n",
    "import numpy as np\n",
    "import tensorflow as tf\n",
    "\n",
    "from ppnp.tensorflow import PPNP\n",
    "from ppnp.tensorflow.training import train_model\n",
    "from ppnp.tensorflow.earlystopping import stopping_args\n",
    "from ppnp.tensorflow.propagation import PPRExact, PPRPowerIteration\n",
    "from ppnp.data.io import load_dataset"
   ]
  },
  {
   "cell_type": "code",
   "execution_count": 2,
   "metadata": {},
   "outputs": [],
   "source": [
    "tf.logging.set_verbosity(tf.logging.WARN)\n",
    "logging.basicConfig(\n",
    "        format='%(asctime)s: %(message)s',\n",
    "        datefmt='%Y-%m-%d %H:%M:%S',\n",
    "        level=logging.INFO + 2)"
   ]
  },
  {
   "cell_type": "markdown",
   "metadata": {},
   "source": [
    "# Load dataset"
   ]
  },
  {
   "cell_type": "code",
   "execution_count": 3,
   "metadata": {},
   "outputs": [
    {
     "data": {
      "text/plain": [
       "<Undirected, unweighted and connected SparseGraph with 15962 edges (no self-loops). Data: adj_matrix (2810x2810), attr_matrix (2810x2879), labels (2810), node_names (2810), attr_names (2879), class_names (7)>"
      ]
     },
     "execution_count": 3,
     "metadata": {},
     "output_type": "execute_result"
    }
   ],
   "source": [
    "graph_name = 'cora_ml'\n",
    "graph = load_dataset(graph_name)\n",
    "graph.standardize(select_lcc=True)"
   ]
  },
  {
   "cell_type": "markdown",
   "metadata": {},
   "source": [
    "# Set up data splits"
   ]
  },
  {
   "cell_type": "markdown",
   "metadata": {},
   "source": [
    "First of all we need to decide whether to use the test or validation set. Be mindful that we can only look at the test set exactly _once_ and then can't change any hyperparameters oder model details, no matter what. Everything else would cause overfitting."
   ]
  },
  {
   "cell_type": "code",
   "execution_count": 4,
   "metadata": {},
   "outputs": [],
   "source": [
    "test = True"
   ]
  },
  {
   "cell_type": "markdown",
   "metadata": {},
   "source": [
    "These are the seeds for the dataset splits used in the paper for test/validation."
   ]
  },
  {
   "cell_type": "code",
   "execution_count": 5,
   "metadata": {},
   "outputs": [],
   "source": [
    "test_seeds = [\n",
    "        2144199730,  794209841, 2985733717, 2282690970, 1901557222,\n",
    "#         2009332812, 2266730407,  635625077, 3538425002,  960893189,\n",
    "#         497096336, 3940842554, 3594628340,  948012117, 3305901371,\n",
    "#         3644534211, 2297033685, 4092258879, 2590091101, 1694925034\n",
    "]\n",
    "val_seeds = [\n",
    "        2413340114, 3258769933, 1789234713, 2222151463, 2813247115,\n",
    "#         1920426428, 4272044734, 2092442742, 841404887, 2188879532,\n",
    "#         646784207, 1633698412, 2256863076,  374355442,  289680769,\n",
    "#         4281139389, 4263036964,  900418539,  119332950, 1628837138\n",
    "]\n",
    "\n",
    "if test:\n",
    "    seeds = test_seeds\n",
    "else:\n",
    "    seeds = val_seeds"
   ]
  },
  {
   "cell_type": "markdown",
   "metadata": {},
   "source": [
    "Now we can choose the remaining settings for the training/early stopping/validation(test) split. These are the ones chosen in the paper"
   ]
  },
  {
   "cell_type": "code",
   "execution_count": 6,
   "metadata": {},
   "outputs": [],
   "source": [
    "if graph_name == 'microsoft_academic':\n",
    "    nknown = 5000\n",
    "else:\n",
    "    nknown = 1500\n",
    "    \n",
    "idx_split_args = {'ntrain_per_class': 20, 'nstopping': 500, 'nknown': nknown}"
   ]
  },
  {
   "cell_type": "markdown",
   "metadata": {},
   "source": [
    "# Set up propagation\n",
    "\n",
    "Next we need to set up the proper pmropagation scheme. In the paper we've introduced the exact PPR propagation used in PPNP and the PPR power iteration propagation used in APPNP.\n",
    "\n",
    "We use the hyperparameters from the paper."
   ]
  },
  {
   "cell_type": "code",
   "execution_count": 7,
   "metadata": {},
   "outputs": [],
   "source": [
    "if graph_name == 'microsoft_academic':\n",
    "    alpha = 0.2\n",
    "else:\n",
    "    alpha = 0.1\n",
    "\n",
    "prop_ppnp = PPRExact(graph.adj_matrix, alpha=alpha)\n",
    "prop_appnp = PPRPowerIteration(graph.adj_matrix, alpha=alpha, niter=10)"
   ]
  },
  {
   "cell_type": "markdown",
   "metadata": {},
   "source": [
    "# Choose model hyperparameters\n",
    "\n",
    "Now we choose the hyperparameters. These are the ones used in the paper for all datasets.\n",
    "\n",
    "Note that we choose the propagation for APPNP."
   ]
  },
  {
   "cell_type": "code",
   "execution_count": 8,
   "metadata": {},
   "outputs": [],
   "source": [
    "model_args = {\n",
    "    'hiddenunits': [64],\n",
    "    'reg_lambda': 5e-3,\n",
    "    'learning_rate': 0.01,\n",
    "    'keep_prob': 0.5,\n",
    "    'propagation': prop_appnp}"
   ]
  },
  {
   "cell_type": "markdown",
   "metadata": {},
   "source": [
    "# Train model\n",
    "\n",
    "First we set the remaining settings for training."
   ]
  },
  {
   "cell_type": "code",
   "execution_count": 9,
   "metadata": {},
   "outputs": [],
   "source": [
    "# niter_per_seed = 5\n",
    "niter_per_seed = 1\n",
    "save_result = False\n",
    "print_interval = 100"
   ]
  },
  {
   "cell_type": "markdown",
   "metadata": {},
   "source": [
    "We use 20 different seeds for splitting and 5 iterations (different random initializations) per split, so we train 100 times altogether. This will take a while."
   ]
  },
  {
   "cell_type": "code",
   "execution_count": 10,
   "metadata": {},
   "outputs": [
    {
     "name": "stderr",
     "output_type": "stream",
     "text": [
      "2019-11-10 23:03:19: Iteration 1 of 5\n",
      "                     ----------------\n"
     ]
    },
    {
     "name": "stdout",
     "output_type": "stream",
     "text": [
      "WARNING:tensorflow:From /home/bjohnson/software/ppnp/ppnp/tensorflow/training.py:24: The name tf.reset_default_graph is deprecated. Please use tf.compat.v1.reset_default_graph instead.\n",
      "\n"
     ]
    },
    {
     "name": "stderr",
     "output_type": "stream",
     "text": [
      "2019-11-10 23:03:19: From /home/bjohnson/software/ppnp/ppnp/tensorflow/training.py:24: The name tf.reset_default_graph is deprecated. Please use tf.compat.v1.reset_default_graph instead.\n",
      "\n"
     ]
    },
    {
     "name": "stdout",
     "output_type": "stream",
     "text": [
      "WARNING:tensorflow:From /home/bjohnson/software/ppnp/ppnp/tensorflow/training.py:27: The name tf.set_random_seed is deprecated. Please use tf.compat.v1.set_random_seed instead.\n",
      "\n"
     ]
    },
    {
     "name": "stderr",
     "output_type": "stream",
     "text": [
      "2019-11-10 23:03:19: From /home/bjohnson/software/ppnp/ppnp/tensorflow/training.py:27: The name tf.set_random_seed is deprecated. Please use tf.compat.v1.set_random_seed instead.\n",
      "\n",
      "2019-11-10 23:03:19: Tensorflow seed: 883272321\n"
     ]
    },
    {
     "name": "stdout",
     "output_type": "stream",
     "text": [
      "WARNING:tensorflow:From /home/bjohnson/software/ppnp/ppnp/tensorflow/training.py:30: The name tf.ConfigProto is deprecated. Please use tf.compat.v1.ConfigProto instead.\n",
      "\n"
     ]
    },
    {
     "name": "stderr",
     "output_type": "stream",
     "text": [
      "2019-11-10 23:03:19: From /home/bjohnson/software/ppnp/ppnp/tensorflow/training.py:30: The name tf.ConfigProto is deprecated. Please use tf.compat.v1.ConfigProto instead.\n",
      "\n"
     ]
    },
    {
     "name": "stdout",
     "output_type": "stream",
     "text": [
      "WARNING:tensorflow:From /home/bjohnson/software/ppnp/ppnp/tensorflow/training.py:30: The name tf.GPUOptions is deprecated. Please use tf.compat.v1.GPUOptions instead.\n",
      "\n"
     ]
    },
    {
     "name": "stderr",
     "output_type": "stream",
     "text": [
      "2019-11-10 23:03:19: From /home/bjohnson/software/ppnp/ppnp/tensorflow/training.py:30: The name tf.GPUOptions is deprecated. Please use tf.compat.v1.GPUOptions instead.\n",
      "\n"
     ]
    },
    {
     "name": "stdout",
     "output_type": "stream",
     "text": [
      "WARNING:tensorflow:From /home/bjohnson/software/ppnp/ppnp/tensorflow/model.py:22: The name tf.train.create_global_step is deprecated. Please use tf.compat.v1.train.create_global_step instead.\n",
      "\n"
     ]
    },
    {
     "name": "stderr",
     "output_type": "stream",
     "text": [
      "2019-11-10 23:03:20: From /home/bjohnson/software/ppnp/ppnp/tensorflow/model.py:22: The name tf.train.create_global_step is deprecated. Please use tf.compat.v1.train.create_global_step instead.\n",
      "\n"
     ]
    },
    {
     "name": "stdout",
     "output_type": "stream",
     "text": [
      "WARNING:tensorflow:From /home/bjohnson/software/ppnp/ppnp/tensorflow/ppnp.py:38: The name tf.placeholder is deprecated. Please use tf.compat.v1.placeholder instead.\n",
      "\n"
     ]
    },
    {
     "name": "stderr",
     "output_type": "stream",
     "text": [
      "2019-11-10 23:03:20: From /home/bjohnson/software/ppnp/ppnp/tensorflow/ppnp.py:38: The name tf.placeholder is deprecated. Please use tf.compat.v1.placeholder instead.\n",
      "\n"
     ]
    },
    {
     "name": "stdout",
     "output_type": "stream",
     "text": [
      "WARNING:tensorflow:From /home/bjohnson/software/ppnp/ppnp/tensorflow/ppnp.py:48: The name tf.variable_scope is deprecated. Please use tf.compat.v1.variable_scope instead.\n",
      "\n"
     ]
    },
    {
     "name": "stderr",
     "output_type": "stream",
     "text": [
      "2019-11-10 23:03:20: From /home/bjohnson/software/ppnp/ppnp/tensorflow/ppnp.py:48: The name tf.variable_scope is deprecated. Please use tf.compat.v1.variable_scope instead.\n",
      "\n"
     ]
    },
    {
     "name": "stdout",
     "output_type": "stream",
     "text": [
      "WARNING:tensorflow:From /home/bjohnson/software/ppnp/ppnp/tensorflow/ppnp.py:17: The name tf.get_variable is deprecated. Please use tf.compat.v1.get_variable instead.\n",
      "\n"
     ]
    },
    {
     "name": "stderr",
     "output_type": "stream",
     "text": [
      "2019-11-10 23:03:20: From /home/bjohnson/software/ppnp/ppnp/tensorflow/ppnp.py:17: The name tf.get_variable is deprecated. Please use tf.compat.v1.get_variable instead.\n",
      "\n"
     ]
    },
    {
     "name": "stdout",
     "output_type": "stream",
     "text": [
      "WARNING:tensorflow:From /home/bjohnson/software/ppnp/ppnp/tensorflow/utils.py:25: calling dropout (from tensorflow.python.ops.nn_ops) with keep_prob is deprecated and will be removed in a future version.\n",
      "Instructions for updating:\n",
      "Please use `rate` instead of `keep_prob`. Rate should be set to `rate = 1 - keep_prob`.\n"
     ]
    },
    {
     "name": "stderr",
     "output_type": "stream",
     "text": [
      "2019-11-10 23:03:20: From /home/bjohnson/software/ppnp/ppnp/tensorflow/utils.py:25: calling dropout (from tensorflow.python.ops.nn_ops) with keep_prob is deprecated and will be removed in a future version.\n",
      "Instructions for updating:\n",
      "Please use `rate` instead of `keep_prob`. Rate should be set to `rate = 1 - keep_prob`.\n"
     ]
    },
    {
     "name": "stdout",
     "output_type": "stream",
     "text": [
      "WARNING:tensorflow:From /home/bjohnson/software/ppnp/ppnp/tensorflow/model.py:31: The name tf.summary.scalar is deprecated. Please use tf.compat.v1.summary.scalar instead.\n",
      "\n"
     ]
    },
    {
     "name": "stderr",
     "output_type": "stream",
     "text": [
      "2019-11-10 23:03:20: From /home/bjohnson/software/ppnp/ppnp/tensorflow/model.py:31: The name tf.summary.scalar is deprecated. Please use tf.compat.v1.summary.scalar instead.\n",
      "\n"
     ]
    },
    {
     "name": "stdout",
     "output_type": "stream",
     "text": [
      "WARNING:tensorflow:From /home/bjohnson/software/ppnp/ppnp/tensorflow/model.py:81: The name tf.train.AdamOptimizer is deprecated. Please use tf.compat.v1.train.AdamOptimizer instead.\n",
      "\n"
     ]
    },
    {
     "name": "stderr",
     "output_type": "stream",
     "text": [
      "2019-11-10 23:03:20: From /home/bjohnson/software/ppnp/ppnp/tensorflow/model.py:81: The name tf.train.AdamOptimizer is deprecated. Please use tf.compat.v1.train.AdamOptimizer instead.\n",
      "\n"
     ]
    },
    {
     "name": "stdout",
     "output_type": "stream",
     "text": [
      "WARNING:tensorflow:From /home/bjohnson/software/ppnp/ppnp/tensorflow/model.py:84: The name tf.train.get_global_step is deprecated. Please use tf.compat.v1.train.get_global_step instead.\n",
      "\n"
     ]
    },
    {
     "name": "stderr",
     "output_type": "stream",
     "text": [
      "2019-11-10 23:03:20: From /home/bjohnson/software/ppnp/ppnp/tensorflow/model.py:84: The name tf.train.get_global_step is deprecated. Please use tf.compat.v1.train.get_global_step instead.\n",
      "\n"
     ]
    },
    {
     "name": "stdout",
     "output_type": "stream",
     "text": [
      "WARNING:tensorflow:From /home/bjohnson/software/ppnp/ppnp/tensorflow/model.py:91: The name tf.summary.merge_all is deprecated. Please use tf.compat.v1.summary.merge_all instead.\n",
      "\n"
     ]
    },
    {
     "name": "stderr",
     "output_type": "stream",
     "text": [
      "2019-11-10 23:03:20: From /home/bjohnson/software/ppnp/ppnp/tensorflow/model.py:91: The name tf.summary.merge_all is deprecated. Please use tf.compat.v1.summary.merge_all instead.\n",
      "\n"
     ]
    },
    {
     "name": "stdout",
     "output_type": "stream",
     "text": [
      "WARNING:tensorflow:From /home/bjohnson/software/ppnp/ppnp/tensorflow/training.py:47: The name tf.global_variables_initializer is deprecated. Please use tf.compat.v1.global_variables_initializer instead.\n",
      "\n"
     ]
    },
    {
     "name": "stderr",
     "output_type": "stream",
     "text": [
      "2019-11-10 23:03:20: From /home/bjohnson/software/ppnp/ppnp/tensorflow/training.py:47: The name tf.global_variables_initializer is deprecated. Please use tf.compat.v1.global_variables_initializer instead.\n",
      "\n"
     ]
    },
    {
     "name": "stdout",
     "output_type": "stream",
     "text": [
      "WARNING:tensorflow:From /home/bjohnson/software/ppnp/ppnp/tensorflow/model.py:94: The name tf.trainable_variables is deprecated. Please use tf.compat.v1.trainable_variables instead.\n",
      "\n"
     ]
    },
    {
     "name": "stderr",
     "output_type": "stream",
     "text": [
      "2019-11-10 23:03:21: From /home/bjohnson/software/ppnp/ppnp/tensorflow/model.py:94: The name tf.trainable_variables is deprecated. Please use tf.compat.v1.trainable_variables instead.\n",
      "\n",
      "2019-11-10 23:03:42: Last step: 1254, best step: 902 (21.594 sec)\n",
      "2019-11-10 23:03:42: Test accuracy: 84.4%, test F1 score: 0.838\n",
      "2019-11-10 23:03:42: Iteration 2 of 5\n",
      "                     ----------------\n",
      "2019-11-10 23:03:42: Tensorflow seed: 2668586855\n",
      "2019-11-10 23:04:10: Last step: 1588, best step: 908 (27.118 sec)\n",
      "2019-11-10 23:04:10: Test accuracy: 84.1%, test F1 score: 0.832\n",
      "2019-11-10 23:04:10: Iteration 3 of 5\n",
      "                     ----------------\n",
      "2019-11-10 23:04:10: Tensorflow seed: 2515754601\n",
      "2019-11-10 23:04:38: Last step: 1599, best step: 1428 (26.615 sec)\n",
      "2019-11-10 23:04:38: Test accuracy: 86.3%, test F1 score: 0.850\n",
      "2019-11-10 23:04:38: Iteration 4 of 5\n",
      "                     ----------------\n",
      "2019-11-10 23:04:38: Tensorflow seed: 3387325190\n",
      "2019-11-10 23:05:06: Last step: 1632, best step: 1157 (27.633 sec)\n",
      "2019-11-10 23:05:06: Test accuracy: 85.5%, test F1 score: 0.847\n",
      "2019-11-10 23:05:07: Iteration 5 of 5\n",
      "                     ----------------\n",
      "2019-11-10 23:05:07: Tensorflow seed: 2524892266\n",
      "2019-11-10 23:05:32: Last step: 1462, best step: 1059 (24.603 sec)\n",
      "2019-11-10 23:05:32: Test accuracy: 86.9%, test F1 score: 0.856\n"
     ]
    }
   ],
   "source": [
    "results = []\n",
    "used_seeds = []\n",
    "niter_tot = niter_per_seed * len(seeds)\n",
    "i_tot = 0\n",
    "for seed in seeds:\n",
    "    idx_split_args['seed'] = seed\n",
    "    for _ in range(niter_per_seed):\n",
    "        i_tot += 1\n",
    "        logging_string = f\"Iteration {i_tot} of {niter_tot}\"\n",
    "        logging.log(22,\n",
    "                logging_string + \"\\n                     \"\n",
    "                + '-' * len(logging_string))\n",
    "        \n",
    "        result = train_model(\n",
    "                graph_name, PPNP, graph, model_args, idx_split_args,\n",
    "                stopping_args, test, save_result, None, print_interval)\n",
    "        \n",
    "        results.append({})\n",
    "        results[-1]['stopping_accuracy'] = result['early_stopping']['accuracy']\n",
    "        results[-1]['stopping_f1_score'] = result['early_stopping']['f1_score']\n",
    "        results[-1]['valtest_accuracy'] = result['valtest']['accuracy']\n",
    "        results[-1]['valtest_f1_score'] = result['valtest']['f1_score']\n",
    "        results[-1]['runtime'] = result['runtime']\n",
    "        results[-1]['runtime_perepoch'] = result['runtime_perepoch']\n",
    "        results[-1]['split_seed'] = seed"
   ]
  },
  {
   "cell_type": "markdown",
   "metadata": {},
   "source": [
    "# Evaluation\n",
    "\n",
    "To evaluate the data we use Pandas and Seaborn (for bootstrapping)."
   ]
  },
  {
   "cell_type": "code",
   "execution_count": 11,
   "metadata": {},
   "outputs": [],
   "source": [
    "import pandas as pd\n",
    "import seaborn as sns"
   ]
  },
  {
   "cell_type": "code",
   "execution_count": 12,
   "metadata": {},
   "outputs": [
    {
     "data": {
      "text/html": [
       "<div>\n",
       "<style scoped>\n",
       "    .dataframe tbody tr th:only-of-type {\n",
       "        vertical-align: middle;\n",
       "    }\n",
       "\n",
       "    .dataframe tbody tr th {\n",
       "        vertical-align: top;\n",
       "    }\n",
       "\n",
       "    .dataframe thead th {\n",
       "        text-align: right;\n",
       "    }\n",
       "</style>\n",
       "<table border=\"1\" class=\"dataframe\">\n",
       "  <thead>\n",
       "    <tr style=\"text-align: right;\">\n",
       "      <th></th>\n",
       "      <th>runtime</th>\n",
       "      <th>runtime_perepoch</th>\n",
       "      <th>split_seed</th>\n",
       "      <th>stopping_accuracy</th>\n",
       "      <th>stopping_f1_score</th>\n",
       "      <th>valtest_accuracy</th>\n",
       "      <th>valtest_f1_score</th>\n",
       "    </tr>\n",
       "  </thead>\n",
       "  <tbody>\n",
       "    <tr>\n",
       "      <th>0</th>\n",
       "      <td>40.217377</td>\n",
       "      <td>0.032804</td>\n",
       "      <td>2144199730</td>\n",
       "      <td>0.828</td>\n",
       "      <td>0.811714</td>\n",
       "      <td>0.848092</td>\n",
       "      <td>0.842680</td>\n",
       "    </tr>\n",
       "    <tr>\n",
       "      <th>1</th>\n",
       "      <td>44.037588</td>\n",
       "      <td>0.032645</td>\n",
       "      <td>2144199730</td>\n",
       "      <td>0.832</td>\n",
       "      <td>0.815093</td>\n",
       "      <td>0.852672</td>\n",
       "      <td>0.846459</td>\n",
       "    </tr>\n",
       "    <tr>\n",
       "      <th>2</th>\n",
       "      <td>44.529080</td>\n",
       "      <td>0.032694</td>\n",
       "      <td>2144199730</td>\n",
       "      <td>0.832</td>\n",
       "      <td>0.819265</td>\n",
       "      <td>0.838931</td>\n",
       "      <td>0.837744</td>\n",
       "    </tr>\n",
       "    <tr>\n",
       "      <th>3</th>\n",
       "      <td>45.566179</td>\n",
       "      <td>0.032571</td>\n",
       "      <td>2144199730</td>\n",
       "      <td>0.834</td>\n",
       "      <td>0.818841</td>\n",
       "      <td>0.845802</td>\n",
       "      <td>0.840604</td>\n",
       "    </tr>\n",
       "    <tr>\n",
       "      <th>4</th>\n",
       "      <td>50.411100</td>\n",
       "      <td>0.032523</td>\n",
       "      <td>2144199730</td>\n",
       "      <td>0.834</td>\n",
       "      <td>0.818171</td>\n",
       "      <td>0.855725</td>\n",
       "      <td>0.851482</td>\n",
       "    </tr>\n",
       "  </tbody>\n",
       "</table>\n",
       "</div>"
      ],
      "text/plain": [
       "     runtime  runtime_perepoch  split_seed  stopping_accuracy  \\\n",
       "0  40.217377          0.032804  2144199730              0.828   \n",
       "1  44.037588          0.032645  2144199730              0.832   \n",
       "2  44.529080          0.032694  2144199730              0.832   \n",
       "3  45.566179          0.032571  2144199730              0.834   \n",
       "4  50.411100          0.032523  2144199730              0.834   \n",
       "\n",
       "   stopping_f1_score  valtest_accuracy  valtest_f1_score  \n",
       "0           0.811714          0.848092          0.842680  \n",
       "1           0.815093          0.852672          0.846459  \n",
       "2           0.819265          0.838931          0.837744  \n",
       "3           0.818841          0.845802          0.840604  \n",
       "4           0.818171          0.855725          0.851482  "
      ]
     },
     "execution_count": 12,
     "metadata": {},
     "output_type": "execute_result"
    }
   ],
   "source": [
    "result_df = pd.DataFrame(results)\n",
    "result_df.head()"
   ]
  },
  {
   "cell_type": "markdown",
   "metadata": {},
   "source": [
    "The standard deviation doesn't really say much about the uncertainty of our results and the standard error of the mean (SEM) assumes a normal distribution. So the best way to get a valid estimate for our results' uncertainty is via bootstrapping."
   ]
  },
  {
   "cell_type": "code",
   "execution_count": 13,
   "metadata": {},
   "outputs": [],
   "source": [
    "def calc_uncertainty(values: np.ndarray, n_boot: int = 1000, ci: int = 95) -> dict:\n",
    "    stats = {}\n",
    "    stats['mean'] = values.mean()\n",
    "    boots_series = sns.algorithms.bootstrap(values, func=np.mean, n_boot=n_boot)\n",
    "    stats['CI'] = sns.utils.ci(boots_series, ci)\n",
    "    stats['uncertainty'] = np.max(np.abs(stats['CI'] - stats['mean']))\n",
    "    return stats"
   ]
  },
  {
   "cell_type": "code",
   "execution_count": 14,
   "metadata": {},
   "outputs": [
    {
     "name": "stderr",
     "output_type": "stream",
     "text": [
      "/nfs/homedirs/klicpera/anaconda3/envs/graph/lib/python3.6/site-packages/scipy/stats/stats.py:1713: FutureWarning: Using a non-tuple sequence for multidimensional indexing is deprecated; use `arr[tuple(seq)]` instead of `arr[seq]`. In the future this will be interpreted as an array index, `arr[np.array(seq)]`, which will result either in an error or a different result.\n",
      "  return np.add.reduce(sorted[indexer] * weights, axis=axis) / sumval\n"
     ]
    }
   ],
   "source": [
    "stopping_acc = calc_uncertainty(result_df['stopping_accuracy'])\n",
    "stopping_f1 = calc_uncertainty(result_df['stopping_f1_score'])\n",
    "valtest_acc = calc_uncertainty(result_df['valtest_accuracy'])\n",
    "valtest_f1 = calc_uncertainty(result_df['valtest_f1_score'])\n",
    "runtime = calc_uncertainty(result_df['runtime'])\n",
    "runtime_perepoch = calc_uncertainty(result_df['runtime_perepoch'])"
   ]
  },
  {
   "cell_type": "code",
   "execution_count": 15,
   "metadata": {},
   "outputs": [
    {
     "name": "stdout",
     "output_type": "stream",
     "text": [
      "APPNP\n",
      "Early stopping: Accuracy: 84.17 ± 0.37%, F1 score: 0.8296 ± 0.0041\n",
      "Test: Accuracy: 85.05 ± 0.23%, F1 score: 0.8431 ± 0.0021\n",
      "Runtime: 45.661 ± 1.793 sec, per epoch: 32.72 ± 0.04ms\n"
     ]
    }
   ],
   "source": [
    "print(\"APPNP\\n\"\n",
    "      \"Early stopping: Accuracy: {:.2f} ± {:.2f}%, \"\n",
    "      \"F1 score: {:.4f} ± {:.4f}\\n\"\n",
    "      \"{}: Accuracy: {:.2f} ± {:.2f}%, \"\n",
    "      \"F1 score: {:.4f} ± {:.4f}\\n\"\n",
    "      \"Runtime: {:.3f} ± {:.3f} sec, per epoch: {:.2f} ± {:.2f}ms\"\n",
    "      .format(\n",
    "          stopping_acc['mean'] * 100,\n",
    "          stopping_acc['uncertainty'] * 100,\n",
    "          stopping_f1['mean'],\n",
    "          stopping_f1['uncertainty'],\n",
    "          'Test' if test else 'Validation',\n",
    "          valtest_acc['mean'] * 100,\n",
    "          valtest_acc['uncertainty'] * 100,\n",
    "          valtest_f1['mean'],\n",
    "          valtest_f1['uncertainty'],\n",
    "          runtime['mean'],\n",
    "          runtime['uncertainty'],\n",
    "          runtime_perepoch['mean'] * 1e3,\n",
    "          runtime_perepoch['uncertainty'] * 1e3,\n",
    "      ))"
   ]
  }
 ],
 "metadata": {
  "kernelspec": {
   "display_name": "Python 3",
   "language": "python",
   "name": "python3"
  },
  "language_info": {
   "codemirror_mode": {
    "name": "ipython",
    "version": 3
   },
   "file_extension": ".py",
   "mimetype": "text/x-python",
   "name": "python",
   "nbconvert_exporter": "python",
   "pygments_lexer": "ipython3",
   "version": "3.7.5"
  }
 },
 "nbformat": 4,
 "nbformat_minor": 2
}
